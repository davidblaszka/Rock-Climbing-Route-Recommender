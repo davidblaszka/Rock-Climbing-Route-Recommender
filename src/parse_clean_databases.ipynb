{
 "cells": [
  {
   "cell_type": "code",
   "execution_count": 7,
   "metadata": {
    "collapsed": false
   },
   "outputs": [],
   "source": [
    "import requests\n",
    "from bs4 import BeautifulSoup\n",
    "import time\n",
    "from urllib import urlencode\n",
    "import pandas as pd\n",
    "from pymongo import MongoClient\n",
    "from parse_clean_store import (parse_route_page, parse_user_page)"
   ]
  },
  {
   "cell_type": "code",
   "execution_count": 3,
   "metadata": {
    "collapsed": false
   },
   "outputs": [
    {
     "data": {
      "text/html": [
       "<div>\n",
       "<table border=\"1\" class=\"dataframe\">\n",
       "  <thead>\n",
       "    <tr style=\"text-align: right;\">\n",
       "      <th></th>\n",
       "      <th>_id</th>\n",
       "      <th>html</th>\n",
       "      <th>route</th>\n",
       "      <th>url</th>\n",
       "    </tr>\n",
       "  </thead>\n",
       "  <tbody>\n",
       "    <tr>\n",
       "      <th>0</th>\n",
       "      <td>58d29f9540b4412f7b79585d</td>\n",
       "      <td>&lt;!DOCTYPE html&gt;&lt;html xmlns=\"http://www.w3.org/...</td>\n",
       "      <td>30(1) Feet of Pleasure</td>\n",
       "      <td>/v/301-feet-of-pleasure/106862592</td>\n",
       "    </tr>\n",
       "    <tr>\n",
       "      <th>1</th>\n",
       "      <td>58d29f9540b4412f7b79585f</td>\n",
       "      <td>&lt;!DOCTYPE html&gt;&lt;html xmlns=\"http://www.w3.org/...</td>\n",
       "      <td>41 Feet of Pain</td>\n",
       "      <td>/v/41-feet-of-pain/106862549</td>\n",
       "    </tr>\n",
       "    <tr>\n",
       "      <th>2</th>\n",
       "      <td>58d29f9540b4412f7b795861</td>\n",
       "      <td>&lt;!DOCTYPE html&gt;&lt;html xmlns=\"http://www.w3.org/...</td>\n",
       "      <td>5.5 Crack</td>\n",
       "      <td>/v/55-crack/108318876</td>\n",
       "    </tr>\n",
       "    <tr>\n",
       "      <th>3</th>\n",
       "      <td>58d29f9540b4412f7b795863</td>\n",
       "      <td>&lt;!DOCTYPE html&gt;&lt;html xmlns=\"http://www.w3.org/...</td>\n",
       "      <td>5.6 crack</td>\n",
       "      <td>/v/56-crack/106630563</td>\n",
       "    </tr>\n",
       "    <tr>\n",
       "      <th>4</th>\n",
       "      <td>58d29f9540b4412f7b795865</td>\n",
       "      <td>&lt;!DOCTYPE html&gt;&lt;html xmlns=\"http://www.w3.org/...</td>\n",
       "      <td>5.6 Dihedral</td>\n",
       "      <td>/v/56-dihedral/106165717</td>\n",
       "    </tr>\n",
       "  </tbody>\n",
       "</table>\n",
       "</div>"
      ],
      "text/plain": [
       "                        _id  \\\n",
       "0  58d29f9540b4412f7b79585d   \n",
       "1  58d29f9540b4412f7b79585f   \n",
       "2  58d29f9540b4412f7b795861   \n",
       "3  58d29f9540b4412f7b795863   \n",
       "4  58d29f9540b4412f7b795865   \n",
       "\n",
       "                                                html                   route  \\\n",
       "0  <!DOCTYPE html><html xmlns=\"http://www.w3.org/...  30(1) Feet of Pleasure   \n",
       "1  <!DOCTYPE html><html xmlns=\"http://www.w3.org/...         41 Feet of Pain   \n",
       "2  <!DOCTYPE html><html xmlns=\"http://www.w3.org/...               5.5 Crack   \n",
       "3  <!DOCTYPE html><html xmlns=\"http://www.w3.org/...               5.6 crack   \n",
       "4  <!DOCTYPE html><html xmlns=\"http://www.w3.org/...            5.6 Dihedral   \n",
       "\n",
       "                                 url  \n",
       "0  /v/301-feet-of-pleasure/106862592  \n",
       "1       /v/41-feet-of-pain/106862549  \n",
       "2              /v/55-crack/108318876  \n",
       "3              /v/56-crack/106630563  \n",
       "4           /v/56-dihedral/106165717  "
      ]
     },
     "execution_count": 3,
     "metadata": {},
     "output_type": "execute_result"
    }
   ],
   "source": [
    "client = MongoClient('mongodb://localhost:27017/')\n",
    "db = client.routes_collection_updated\n",
    "routes_collection = db.routes_collection\n",
    "raw_data = routes_collection.find()\n",
    "route_df = pd.DataFrame(list(raw_data))\n",
    "route_df.head()"
   ]
  },
  {
   "cell_type": "markdown",
   "metadata": {},
   "source": [
    "### parse and clean route info"
   ]
  },
  {
   "cell_type": "code",
   "execution_count": 11,
   "metadata": {
    "collapsed": false
   },
   "outputs": [
    {
     "data": {
      "text/plain": [
       "'\\ndf_routes = pd.DataFrame(dict_list)\\ndf_routes.head(50).T\\n'"
      ]
     },
     "execution_count": 11,
     "metadata": {},
     "output_type": "execute_result"
    }
   ],
   "source": [
    "dict_list = []\n",
    "_id = 0\n",
    "for html, url in zip(route_df['html'], route_df['url']):\n",
    "    route_dict = parse_route_page(_id, html)\n",
    "    route_dict['route_url'] = url # add url\n",
    "    _id += 1 # update id\n",
    "    dict_list.append(route_dict)\n",
    "\n",
    "'''\n",
    "df_routes = pd.DataFrame(dict_list)\n",
    "df_routes.head(50).T\n",
    "'''"
   ]
  },
  {
   "cell_type": "markdown",
   "metadata": {},
   "source": [
    "### store route info"
   ]
  },
  {
   "cell_type": "code",
   "execution_count": 12,
   "metadata": {
    "collapsed": false
   },
   "outputs": [
    {
     "data": {
      "text/plain": [
       "<pymongo.results.InsertManyResult at 0x7fb0211e3960>"
      ]
     },
     "execution_count": 12,
     "metadata": {},
     "output_type": "execute_result"
    }
   ],
   "source": [
    "client = MongoClient('mongodb://localhost:27017/')\n",
    "db = client.routes_updated\n",
    "routes = db.routes\n",
    "routes.insert_many(dict_list)"
   ]
  },
  {
   "cell_type": "markdown",
   "metadata": {},
   "source": [
    "### clean and store user info"
   ]
  },
  {
   "cell_type": "code",
   "execution_count": null,
   "metadata": {
    "collapsed": true
   },
   "outputs": [],
   "source": [
    "client = MongoClient('mongodb://localhost:27017/')\n",
    "db = client.users_info\n",
    "users_info = db.users_info\n",
    "raw_data = users_info.find()\n",
    "df_user_html = pd.DataFrame(list(raw_data))\n",
    "df_user_html.head()"
   ]
  },
  {
   "cell_type": "code",
   "execution_count": null,
   "metadata": {
    "collapsed": true
   },
   "outputs": [],
   "source": [
    "client = MongoClient('mongodb://localhost:27017/')\n",
    "db = client.users\n",
    "users = db.users\n",
    "_id = 0\n",
    "for html in df_user_html['html']:\n",
    "    dict_list = parse_user_page(html, _id)\n",
    "    users.insert_one(dict_list)\n",
    "    _id += 1"
   ]
  }
 ],
 "metadata": {
  "kernelspec": {
   "display_name": "Python 2",
   "language": "python",
   "name": "python2"
  },
  "language_info": {
   "codemirror_mode": {
    "name": "ipython",
    "version": 2
   },
   "file_extension": ".py",
   "mimetype": "text/x-python",
   "name": "python",
   "nbconvert_exporter": "python",
   "pygments_lexer": "ipython2",
   "version": "2.7.13"
  }
 },
 "nbformat": 4,
 "nbformat_minor": 2
}
