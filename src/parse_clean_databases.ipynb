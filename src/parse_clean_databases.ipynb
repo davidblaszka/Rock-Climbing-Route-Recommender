{
 "cells": [
  {
   "cell_type": "code",
   "execution_count": 1,
   "metadata": {
    "collapsed": false
   },
   "outputs": [],
   "source": [
    "import requests\n",
    "from bs4 import BeautifulSoup\n",
    "import time\n",
    "from urllib import urlencode\n",
    "import pandas as pd\n",
    "from pymongo import MongoClient\n",
    "from parse_clean_store import (parse_route_page, parse_user_page)"
   ]
  },
  {
   "cell_type": "code",
   "execution_count": 3,
   "metadata": {
    "collapsed": false
   },
   "outputs": [
    {
     "data": {
      "text/html": [
       "<div>\n",
       "<table border=\"1\" class=\"dataframe\">\n",
       "  <thead>\n",
       "    <tr style=\"text-align: right;\">\n",
       "      <th></th>\n",
       "      <th>_id</th>\n",
       "      <th>html</th>\n",
       "      <th>route</th>\n",
       "      <th>url</th>\n",
       "    </tr>\n",
       "  </thead>\n",
       "  <tbody>\n",
       "    <tr>\n",
       "      <th>0</th>\n",
       "      <td>58d29f9540b4412f7b79585d</td>\n",
       "      <td>&lt;!DOCTYPE html&gt;&lt;html xmlns=\"http://www.w3.org/...</td>\n",
       "      <td>30(1) Feet of Pleasure</td>\n",
       "      <td>/v/301-feet-of-pleasure/106862592</td>\n",
       "    </tr>\n",
       "    <tr>\n",
       "      <th>1</th>\n",
       "      <td>58d29f9540b4412f7b79585f</td>\n",
       "      <td>&lt;!DOCTYPE html&gt;&lt;html xmlns=\"http://www.w3.org/...</td>\n",
       "      <td>41 Feet of Pain</td>\n",
       "      <td>/v/41-feet-of-pain/106862549</td>\n",
       "    </tr>\n",
       "    <tr>\n",
       "      <th>2</th>\n",
       "      <td>58d29f9540b4412f7b795861</td>\n",
       "      <td>&lt;!DOCTYPE html&gt;&lt;html xmlns=\"http://www.w3.org/...</td>\n",
       "      <td>5.5 Crack</td>\n",
       "      <td>/v/55-crack/108318876</td>\n",
       "    </tr>\n",
       "    <tr>\n",
       "      <th>3</th>\n",
       "      <td>58d29f9540b4412f7b795863</td>\n",
       "      <td>&lt;!DOCTYPE html&gt;&lt;html xmlns=\"http://www.w3.org/...</td>\n",
       "      <td>5.6 crack</td>\n",
       "      <td>/v/56-crack/106630563</td>\n",
       "    </tr>\n",
       "    <tr>\n",
       "      <th>4</th>\n",
       "      <td>58d29f9540b4412f7b795865</td>\n",
       "      <td>&lt;!DOCTYPE html&gt;&lt;html xmlns=\"http://www.w3.org/...</td>\n",
       "      <td>5.6 Dihedral</td>\n",
       "      <td>/v/56-dihedral/106165717</td>\n",
       "    </tr>\n",
       "  </tbody>\n",
       "</table>\n",
       "</div>"
      ],
      "text/plain": [
       "                        _id  \\\n",
       "0  58d29f9540b4412f7b79585d   \n",
       "1  58d29f9540b4412f7b79585f   \n",
       "2  58d29f9540b4412f7b795861   \n",
       "3  58d29f9540b4412f7b795863   \n",
       "4  58d29f9540b4412f7b795865   \n",
       "\n",
       "                                                html                   route  \\\n",
       "0  <!DOCTYPE html><html xmlns=\"http://www.w3.org/...  30(1) Feet of Pleasure   \n",
       "1  <!DOCTYPE html><html xmlns=\"http://www.w3.org/...         41 Feet of Pain   \n",
       "2  <!DOCTYPE html><html xmlns=\"http://www.w3.org/...               5.5 Crack   \n",
       "3  <!DOCTYPE html><html xmlns=\"http://www.w3.org/...               5.6 crack   \n",
       "4  <!DOCTYPE html><html xmlns=\"http://www.w3.org/...            5.6 Dihedral   \n",
       "\n",
       "                                 url  \n",
       "0  /v/301-feet-of-pleasure/106862592  \n",
       "1       /v/41-feet-of-pain/106862549  \n",
       "2              /v/55-crack/108318876  \n",
       "3              /v/56-crack/106630563  \n",
       "4           /v/56-dihedral/106165717  "
      ]
     },
     "execution_count": 3,
     "metadata": {},
     "output_type": "execute_result"
    }
   ],
   "source": [
    "client = MongoClient('mongodb://localhost:27017/')\n",
    "db = client.routes_collection_updated\n",
    "routes_collection = db.routes_collection\n",
    "raw_data = routes_collection.find()\n",
    "route_df = pd.DataFrame(list(raw_data))\n",
    "route_df.head()"
   ]
  },
  {
   "cell_type": "markdown",
   "metadata": {},
   "source": [
    "### parse and clean route info"
   ]
  },
  {
   "cell_type": "code",
   "execution_count": 11,
   "metadata": {
    "collapsed": false
   },
   "outputs": [
    {
     "data": {
      "text/plain": [
       "'\\ndf_routes = pd.DataFrame(dict_list)\\ndf_routes.head(50).T\\n'"
      ]
     },
     "execution_count": 11,
     "metadata": {},
     "output_type": "execute_result"
    }
   ],
   "source": [
    "dict_list = []\n",
    "_id = 0\n",
    "for html, url in zip(route_df['html'], route_df['url']):\n",
    "    route_dict = parse_route_page(_id, html)\n",
    "    route_dict['route_url'] = url # add url\n",
    "    _id += 1 # update id\n",
    "    dict_list.append(route_dict)\n",
    "\n",
    "'''\n",
    "df_routes = pd.DataFrame(dict_list)\n",
    "df_routes.head(50).T\n",
    "'''"
   ]
  },
  {
   "cell_type": "markdown",
   "metadata": {},
   "source": [
    "### store route info"
   ]
  },
  {
   "cell_type": "code",
   "execution_count": 12,
   "metadata": {
    "collapsed": false
   },
   "outputs": [
    {
     "data": {
      "text/plain": [
       "<pymongo.results.InsertManyResult at 0x7fb0211e3960>"
      ]
     },
     "execution_count": 12,
     "metadata": {},
     "output_type": "execute_result"
    }
   ],
   "source": [
    "client = MongoClient('mongodb://localhost:27017/')\n",
    "db = client.routes_updated\n",
    "routes = db.routes\n",
    "routes.insert_many(dict_list)"
   ]
  },
  {
   "cell_type": "markdown",
   "metadata": {},
   "source": [
    "### clean and store user info"
   ]
  },
  {
   "cell_type": "code",
   "execution_count": null,
   "metadata": {
    "collapsed": true
   },
   "outputs": [],
   "source": [
    "client = MongoClient('mongodb://localhost:27017/')\n",
    "db = client.users_info\n",
    "users_info = db.users_info\n",
    "raw_data = users_info.find()\n",
    "df_user_html = pd.DataFrame(list(raw_data))\n",
    "df_user_html.head()"
   ]
  },
  {
   "cell_type": "code",
   "execution_count": null,
   "metadata": {
    "collapsed": true
   },
   "outputs": [],
   "source": [
    "client = MongoClient('mongodb://localhost:27017/')\n",
    "db = client.users\n",
    "users = db.users\n",
    "_id = 0\n",
    "for html in df_user_html['html']:\n",
    "    dict_list = parse_user_page(html, _id)\n",
    "    users.insert_one(dict_list)\n",
    "    _id += 1"
   ]
  },
  {
   "cell_type": "markdown",
   "metadata": {},
   "source": [
    "### create utility matrix"
   ]
  },
  {
   "cell_type": "code",
   "execution_count": 3,
   "metadata": {
    "collapsed": true
   },
   "outputs": [],
   "source": [
    "def dataframe_from_collection(collection):\n",
    "    '''covnert mongodb dataframe to pandas dataframe'''\n",
    "    raw_data = collection.find()\n",
    "    return pd.DataFrame(list(raw_data))"
   ]
  },
  {
   "cell_type": "code",
   "execution_count": 11,
   "metadata": {
    "collapsed": true
   },
   "outputs": [],
   "source": [
    "def create_utility_matrix(df_ratings, df_users, df_routes):\n",
    "    '''creates a ratings matrix with route_id,user_id, and rating'''\n",
    "    row = 0\n",
    "    df_new = pd.DataFrame(columns=['route_id','user_id','rating'])\n",
    "    for route, usernames, ratings, route_url in zip(df_ratings['route'], \n",
    "                                        df_ratings['username'],\n",
    "                                        df_ratings['rating'],\n",
    "                                        df_ratings['route_url']):\n",
    "        # match route_id\n",
    "        route_id = df_routes[df_routes['route_url'] == route_url]['id'].values\n",
    "        # skip routes that have same name until given other info\n",
    "        if len(route_id) > 1:\n",
    "            print 'route_url: ', route_url\n",
    "            continue\n",
    "        route_id = int(route_id)\n",
    "        for username, rating in zip(usernames, ratings):\n",
    "            df_new.loc[row,'route_id'] = route_id\n",
    "            # clean user_id to match\n",
    "            username =  username.encode('utf-8')\n",
    "            username = username.replace('\\xc2\\xa0', '').decode('utf-8')\n",
    "            user_id = df_users[df_users['name'] == username]['id'].values\n",
    "            if len(user_id) < 1:\n",
    "                print 'user: ', username\n",
    "                continue\n",
    "            user_id = int(user_id)\n",
    "            df_new.loc[row, 'user_id'] = user_id\n",
    "            df_new.loc[row, 'rating'] = rating\n",
    "            row += 1\n",
    "    return df_new"
   ]
  },
  {
   "cell_type": "code",
   "execution_count": 4,
   "metadata": {
    "collapsed": false
   },
   "outputs": [],
   "source": [
    "client = MongoClient('mongodb://localhost:27017/')\n",
    "db = client.ratings_collection_updated\n",
    "ratings_df = dataframe_from_collection(db.ratings_collection)\n",
    "\n",
    "db = client.users\n",
    "df_users = dataframe_from_collection(db.users)\n",
    "users_df = df_users[['name', 'id']]\n",
    "\n",
    "db = client.routes_updated\n",
    "df_routes = dataframe_from_collection(db.routes)\n",
    "routes_df = df_routes[['name', 'id', 'route_url']]"
   ]
  },
  {
   "cell_type": "code",
   "execution_count": 8,
   "metadata": {
    "collapsed": false
   },
   "outputs": [
    {
     "data": {
      "text/html": [
       "<div>\n",
       "<table border=\"1\" class=\"dataframe\">\n",
       "  <thead>\n",
       "    <tr style=\"text-align: right;\">\n",
       "      <th></th>\n",
       "      <th>name</th>\n",
       "      <th>id</th>\n",
       "      <th>route_url</th>\n",
       "    </tr>\n",
       "  </thead>\n",
       "  <tbody>\n",
       "    <tr>\n",
       "      <th>7</th>\n",
       "      <td>A</td>\n",
       "      <td>7</td>\n",
       "      <td>/v/a/108164257</td>\n",
       "    </tr>\n",
       "    <tr>\n",
       "      <th>659</th>\n",
       "      <td>A</td>\n",
       "      <td>659</td>\n",
       "      <td>/v/a/111824585</td>\n",
       "    </tr>\n",
       "    <tr>\n",
       "      <th>660</th>\n",
       "      <td>A</td>\n",
       "      <td>660</td>\n",
       "      <td>/v/a/111824768</td>\n",
       "    </tr>\n",
       "  </tbody>\n",
       "</table>\n",
       "</div>"
      ],
      "text/plain": [
       "    name   id       route_url\n",
       "7      A    7  /v/a/108164257\n",
       "659    A  659  /v/a/111824585\n",
       "660    A  660  /v/a/111824768"
      ]
     },
     "execution_count": 8,
     "metadata": {},
     "output_type": "execute_result"
    }
   ],
   "source": [
    "routes_df[routes_df['name'] == 'A']"
   ]
  },
  {
   "cell_type": "code",
   "execution_count": 10,
   "metadata": {
    "collapsed": false
   },
   "outputs": [
    {
     "data": {
      "text/plain": [
       "array([7])"
      ]
     },
     "execution_count": 10,
     "metadata": {},
     "output_type": "execute_result"
    }
   ],
   "source": [
    "routes_df[routes_df['route_url'] == '/v/a/108164257']['id'].values"
   ]
  },
  {
   "cell_type": "markdown",
   "metadata": {},
   "source": [
    "### check for route dupliates and drop"
   ]
  },
  {
   "cell_type": "code",
   "execution_count": 13,
   "metadata": {
    "collapsed": false
   },
   "outputs": [
    {
     "data": {
      "text/plain": [
       "(37, 3)"
      ]
     },
     "execution_count": 13,
     "metadata": {},
     "output_type": "execute_result"
    }
   ],
   "source": [
    "routes_df[routes_df.duplicated(subset=['route_url'])].shape"
   ]
  },
  {
   "cell_type": "code",
   "execution_count": 17,
   "metadata": {
    "collapsed": false
   },
   "outputs": [],
   "source": [
    "routes_df_dedup = routes_df.drop_duplicates(subset=['route_url'])"
   ]
  },
  {
   "cell_type": "code",
   "execution_count": 18,
   "metadata": {
    "collapsed": false
   },
   "outputs": [],
   "source": [
    "# create utility matrix\n",
    "df = create_utility_matrix(ratings_df, users_df, routes_df_dedup)"
   ]
  },
  {
   "cell_type": "code",
   "execution_count": 19,
   "metadata": {
    "collapsed": false
   },
   "outputs": [
    {
     "data": {
      "text/html": [
       "<div>\n",
       "<table border=\"1\" class=\"dataframe\">\n",
       "  <thead>\n",
       "    <tr style=\"text-align: right;\">\n",
       "      <th></th>\n",
       "      <th>route_id</th>\n",
       "      <th>user_id</th>\n",
       "      <th>rating</th>\n",
       "    </tr>\n",
       "  </thead>\n",
       "  <tbody>\n",
       "    <tr>\n",
       "      <th>0</th>\n",
       "      <td>0</td>\n",
       "      <td>36</td>\n",
       "      <td>1</td>\n",
       "    </tr>\n",
       "    <tr>\n",
       "      <th>1</th>\n",
       "      <td>1</td>\n",
       "      <td>36</td>\n",
       "      <td>1</td>\n",
       "    </tr>\n",
       "    <tr>\n",
       "      <th>2</th>\n",
       "      <td>2</td>\n",
       "      <td>394</td>\n",
       "      <td>1</td>\n",
       "    </tr>\n",
       "    <tr>\n",
       "      <th>3</th>\n",
       "      <td>2</td>\n",
       "      <td>1972</td>\n",
       "      <td>1</td>\n",
       "    </tr>\n",
       "    <tr>\n",
       "      <th>4</th>\n",
       "      <td>2</td>\n",
       "      <td>1625</td>\n",
       "      <td>1</td>\n",
       "    </tr>\n",
       "  </tbody>\n",
       "</table>\n",
       "</div>"
      ],
      "text/plain": [
       "  route_id user_id rating\n",
       "0        0      36      1\n",
       "1        1      36      1\n",
       "2        2     394      1\n",
       "3        2    1972      1\n",
       "4        2    1625      1"
      ]
     },
     "execution_count": 19,
     "metadata": {},
     "output_type": "execute_result"
    }
   ],
   "source": [
    "df.head()"
   ]
  },
  {
   "cell_type": "code",
   "execution_count": 20,
   "metadata": {
    "collapsed": false
   },
   "outputs": [
    {
     "data": {
      "text/plain": [
       "(29892, 3)"
      ]
     },
     "execution_count": 20,
     "metadata": {},
     "output_type": "execute_result"
    }
   ],
   "source": [
    "df.shape"
   ]
  },
  {
   "cell_type": "markdown",
   "metadata": {},
   "source": [
    "### save to database"
   ]
  },
  {
   "cell_type": "code",
   "execution_count": 21,
   "metadata": {
    "collapsed": true
   },
   "outputs": [],
   "source": [
    "# save to database\n",
    "db = client.utility_matrix\n",
    "for d in df.to_dict(orient='record'):\n",
    "    db.utility_matrix.insert_one(d)"
   ]
  },
  {
   "cell_type": "code",
   "execution_count": null,
   "metadata": {
    "collapsed": true
   },
   "outputs": [],
   "source": []
  }
 ],
 "metadata": {
  "kernelspec": {
   "display_name": "Python 2",
   "language": "python",
   "name": "python2"
  },
  "language_info": {
   "codemirror_mode": {
    "name": "ipython",
    "version": 2
   },
   "file_extension": ".py",
   "mimetype": "text/x-python",
   "name": "python",
   "nbconvert_exporter": "python",
   "pygments_lexer": "ipython2",
   "version": "2.7.13"
  }
 },
 "nbformat": 4,
 "nbformat_minor": 2
}
