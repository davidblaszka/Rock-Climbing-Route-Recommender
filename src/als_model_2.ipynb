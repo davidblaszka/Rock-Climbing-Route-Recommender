{
 "cells": [
  {
   "cell_type": "code",
   "execution_count": 1,
   "metadata": {
    "collapsed": false
   },
   "outputs": [],
   "source": [
    "from pymongo import MongoClient\n",
    "import pandas as pd\n",
    "from create_ratings_matrix import (create_utility_matrix, dataframe_from_collection)\n",
    "from bs4 import BeautifulSoup\n",
    "import json\n",
    "import numpy as np\n",
    "%load_ext autoreload\n",
    "%autoreload 2\n",
    "import matplotlib.pyplot as plt\n",
    "%matplotlib inline\n",
    "from ggplot import *"
   ]
  },
  {
   "cell_type": "code",
   "execution_count": 2,
   "metadata": {
    "collapsed": true
   },
   "outputs": [],
   "source": [
    "import pyspark\n",
    "from pyspark.sql.types import *\n",
    "from pyspark.ml.tuning import TrainValidationSplit\n",
    "from pyspark.ml.recommendation import ALS, ALSModel\n",
    "from pyspark.ml.evaluation import RegressionEvaluator"
   ]
  },
  {
   "cell_type": "code",
   "execution_count": 3,
   "metadata": {
    "collapsed": false
   },
   "outputs": [
    {
     "data": {
      "text/plain": [
       "(<pyspark.sql.session.SparkSession at 0x7fa46de15d90>,\n",
       " <pyspark.context.SparkContext at 0x7fa49ac7d8d0>)"
      ]
     },
     "execution_count": 3,
     "metadata": {},
     "output_type": "execute_result"
    }
   ],
   "source": [
    "# Build our Spark Session and Context\n",
    "spark = pyspark.sql.SparkSession.builder.getOrCreate()\n",
    "sc = spark.sparkContext\n",
    "spark, sc"
   ]
  },
  {
   "cell_type": "code",
   "execution_count": 6,
   "metadata": {
    "collapsed": true
   },
   "outputs": [],
   "source": [
    "client = MongoClient('mongodb://localhost:27017/')\n",
    "db = client.utility_matrix\n",
    "raw_data = db.utility_matrix.find()\n",
    "ratings_df_pd = pd.DataFrame(list(raw_data))\n",
    "ratings_df_pd = ratings_df_pd.drop('_id', axis = 1)"
   ]
  },
  {
   "cell_type": "code",
   "execution_count": 7,
   "metadata": {
    "collapsed": false
   },
   "outputs": [
    {
     "data": {
      "text/html": [
       "<div>\n",
       "<table border=\"1\" class=\"dataframe\">\n",
       "  <thead>\n",
       "    <tr style=\"text-align: right;\">\n",
       "      <th></th>\n",
       "      <th>rating</th>\n",
       "      <th>route_id</th>\n",
       "      <th>user_id</th>\n",
       "    </tr>\n",
       "  </thead>\n",
       "  <tbody>\n",
       "    <tr>\n",
       "      <th>0</th>\n",
       "      <td>1</td>\n",
       "      <td>0</td>\n",
       "      <td>36</td>\n",
       "    </tr>\n",
       "    <tr>\n",
       "      <th>1</th>\n",
       "      <td>1</td>\n",
       "      <td>1</td>\n",
       "      <td>36</td>\n",
       "    </tr>\n",
       "    <tr>\n",
       "      <th>2</th>\n",
       "      <td>1</td>\n",
       "      <td>2</td>\n",
       "      <td>394</td>\n",
       "    </tr>\n",
       "    <tr>\n",
       "      <th>3</th>\n",
       "      <td>1</td>\n",
       "      <td>2</td>\n",
       "      <td>1972</td>\n",
       "    </tr>\n",
       "    <tr>\n",
       "      <th>4</th>\n",
       "      <td>1</td>\n",
       "      <td>2</td>\n",
       "      <td>1625</td>\n",
       "    </tr>\n",
       "  </tbody>\n",
       "</table>\n",
       "</div>"
      ],
      "text/plain": [
       "   rating  route_id  user_id\n",
       "0       1         0       36\n",
       "1       1         1       36\n",
       "2       1         2      394\n",
       "3       1         2     1972\n",
       "4       1         2     1625"
      ]
     },
     "execution_count": 7,
     "metadata": {},
     "output_type": "execute_result"
    }
   ],
   "source": [
    "ratings_df_pd.head()"
   ]
  },
  {
   "cell_type": "code",
   "execution_count": 8,
   "metadata": {
    "collapsed": false
   },
   "outputs": [],
   "source": [
    "# client = MongoClient('mongodb://localhost:27017/')\n",
    "# db = client.ratings\n",
    "# ratings_df_pd = pd.DataFrame(list(db.ratings.find())).drop(\"_id\", axis=1)"
   ]
  },
  {
   "cell_type": "code",
   "execution_count": 9,
   "metadata": {
    "collapsed": false
   },
   "outputs": [
    {
     "data": {
      "text/plain": [
       "(29892, 3)"
      ]
     },
     "execution_count": 9,
     "metadata": {},
     "output_type": "execute_result"
    }
   ],
   "source": [
    "ratings_df_pd.shape"
   ]
  },
  {
   "cell_type": "code",
   "execution_count": 10,
   "metadata": {
    "collapsed": false
   },
   "outputs": [],
   "source": [
    "# Convert to a Spark DataFrame\n",
    "ratings_df = spark.createDataFrame(ratings_df_pd)"
   ]
  },
  {
   "cell_type": "code",
   "execution_count": 11,
   "metadata": {
    "collapsed": false
   },
   "outputs": [
    {
     "data": {
      "text/plain": [
       "DataFrame[rating: bigint, route_id: bigint, user_id: bigint]"
      ]
     },
     "execution_count": 11,
     "metadata": {},
     "output_type": "execute_result"
    }
   ],
   "source": [
    "# Check to see we built the DataFrame\n",
    "ratings_df"
   ]
  },
  {
   "cell_type": "code",
   "execution_count": 12,
   "metadata": {
    "collapsed": false
   },
   "outputs": [
    {
     "name": "stdout",
     "output_type": "stream",
     "text": [
      "+------+--------+-------+\n",
      "|rating|route_id|user_id|\n",
      "+------+--------+-------+\n",
      "|     1|       0|     36|\n",
      "|     1|       1|     36|\n",
      "|     1|       2|    394|\n",
      "|     1|       2|   1972|\n",
      "|     1|       2|   1625|\n",
      "+------+--------+-------+\n",
      "only showing top 5 rows\n",
      "\n"
     ]
    }
   ],
   "source": [
    "# Take a look at the entries in the DataFrame\n",
    "ratings_df.show(5)"
   ]
  },
  {
   "cell_type": "code",
   "execution_count": 13,
   "metadata": {
    "collapsed": true
   },
   "outputs": [],
   "source": [
    "train, test = ratings_df.randomSplit([0.8, 0.2], seed=427471138)"
   ]
  },
  {
   "cell_type": "code",
   "execution_count": 14,
   "metadata": {
    "collapsed": false
   },
   "outputs": [
    {
     "data": {
      "text/plain": [
       "(23856, 6036)"
      ]
     },
     "execution_count": 14,
     "metadata": {},
     "output_type": "execute_result"
    }
   ],
   "source": [
    "# Check to see our split worked\n",
    "train.count(), test.count()"
   ]
  },
  {
   "cell_type": "code",
   "execution_count": 15,
   "metadata": {
    "collapsed": false
   },
   "outputs": [],
   "source": [
    "als_model = ALS(userCol='route_id',\n",
    "                itemCol='user_id',\n",
    "                ratingCol='rating',\n",
    "                nonnegative=True,\n",
    "                regParam=0.1,\n",
    "                rank=10\n",
    "               )"
   ]
  },
  {
   "cell_type": "code",
   "execution_count": 16,
   "metadata": {
    "collapsed": false
   },
   "outputs": [],
   "source": [
    "recommender = als_model.fit(train)"
   ]
  },
  {
   "cell_type": "markdown",
   "metadata": {},
   "source": [
    "### save spark model"
   ]
  },
  {
   "cell_type": "code",
   "execution_count": 18,
   "metadata": {
    "collapsed": true
   },
   "outputs": [],
   "source": [
    "path = '/home/david/work/project/Rock-Climbing-Route-Recommender/src/alsmodel'"
   ]
  },
  {
   "cell_type": "code",
   "execution_count": 19,
   "metadata": {
    "collapsed": false
   },
   "outputs": [],
   "source": [
    "recommender.save(path)"
   ]
  },
  {
   "cell_type": "code",
   "execution_count": 20,
   "metadata": {
    "collapsed": false
   },
   "outputs": [],
   "source": [
    "recommender = ALSModel.load(path)"
   ]
  },
  {
   "cell_type": "code",
   "execution_count": 14,
   "metadata": {
    "collapsed": false
   },
   "outputs": [
    {
     "name": "stdout",
     "output_type": "stream",
     "text": [
      "+--------+-------+----------+\n",
      "|route_id|user_id|prediction|\n",
      "+--------+-------+----------+\n",
      "|       1|    500| 0.7332639|\n",
      "+--------+-------+----------+\n",
      "\n"
     ]
    }
   ],
   "source": [
    "# test on new user\n",
    "# Build a single row DataFrame\n",
    "data = [(1, 500)]\n",
    "columns = ('route_id', 'user_id')\n",
    "one_row_spark_df = spark.createDataFrame(data, columns)\n",
    "# Get the recommender's prediction\n",
    "recommender.transform(one_row_spark_df).show()"
   ]
  },
  {
   "cell_type": "code",
   "execution_count": 15,
   "metadata": {
    "collapsed": false
   },
   "outputs": [],
   "source": [
    "# Build a single row DataFrame\n",
    "data = pd.DataFrame(columns=['route_id', 'user_id'])\n",
    "data['user_id'] = np.ones(ratings_df_pd['route_id'].shape,dtype=int).tolist()\n",
    "data['route_id'] = ratings_df_pd['route_id'].tolist()\n",
    "one_row_spark_df = spark.createDataFrame(data)\n",
    "pred = recommender.transform(one_row_spark_df).toPandas()"
   ]
  },
  {
   "cell_type": "code",
   "execution_count": 16,
   "metadata": {
    "collapsed": false
   },
   "outputs": [
    {
     "data": {
      "text/html": [
       "<div>\n",
       "<table border=\"1\" class=\"dataframe\">\n",
       "  <thead>\n",
       "    <tr style=\"text-align: right;\">\n",
       "      <th></th>\n",
       "      <th>route_id</th>\n",
       "      <th>user_id</th>\n",
       "      <th>prediction</th>\n",
       "    </tr>\n",
       "  </thead>\n",
       "  <tbody>\n",
       "    <tr>\n",
       "      <th>5050</th>\n",
       "      <td>1978</td>\n",
       "      <td>1</td>\n",
       "      <td>4.438352</td>\n",
       "    </tr>\n",
       "    <tr>\n",
       "      <th>24650</th>\n",
       "      <td>702</td>\n",
       "      <td>1</td>\n",
       "      <td>4.438352</td>\n",
       "    </tr>\n",
       "    <tr>\n",
       "      <th>26707</th>\n",
       "      <td>2538</td>\n",
       "      <td>1</td>\n",
       "      <td>4.438352</td>\n",
       "    </tr>\n",
       "    <tr>\n",
       "      <th>10939</th>\n",
       "      <td>3369</td>\n",
       "      <td>1</td>\n",
       "      <td>4.438352</td>\n",
       "    </tr>\n",
       "    <tr>\n",
       "      <th>18245</th>\n",
       "      <td>3202</td>\n",
       "      <td>1</td>\n",
       "      <td>4.438352</td>\n",
       "    </tr>\n",
       "  </tbody>\n",
       "</table>\n",
       "</div>"
      ],
      "text/plain": [
       "       route_id  user_id  prediction\n",
       "5050       1978        1    4.438352\n",
       "24650       702        1    4.438352\n",
       "26707      2538        1    4.438352\n",
       "10939      3369        1    4.438352\n",
       "18245      3202        1    4.438352"
      ]
     },
     "execution_count": 16,
     "metadata": {},
     "output_type": "execute_result"
    }
   ],
   "source": [
    "pred.sort_values('prediction', ascending=False).head()"
   ]
  },
  {
   "cell_type": "code",
   "execution_count": 17,
   "metadata": {
    "collapsed": false
   },
   "outputs": [
    {
     "name": "stdout",
     "output_type": "stream",
     "text": [
      "+--------+-------+\n",
      "|route_id|user_id|\n",
      "+--------+-------+\n",
      "|       0|      1|\n",
      "|       1|      1|\n",
      "|       2|      1|\n",
      "|       2|      1|\n",
      "|       2|      1|\n",
      "|       2|      1|\n",
      "|       3|      1|\n",
      "|       3|      1|\n",
      "|       3|      1|\n",
      "|       3|      1|\n",
      "|       3|      1|\n",
      "|       3|      1|\n",
      "|       3|      1|\n",
      "|       3|      1|\n",
      "|       3|      1|\n",
      "|       3|      1|\n",
      "|       3|      1|\n",
      "|       3|      1|\n",
      "|       3|      1|\n",
      "|       3|      1|\n",
      "+--------+-------+\n",
      "only showing top 20 rows\n",
      "\n"
     ]
    }
   ],
   "source": [
    "# Check that it worked\n",
    "one_row_spark_df.show()"
   ]
  },
  {
   "cell_type": "code",
   "execution_count": 18,
   "metadata": {
    "collapsed": true
   },
   "outputs": [],
   "source": [
    "# Get the factors for user 1 and route 100\n",
    "user_factor_df = recommender.userFactors.filter('id = 1')\n",
    "item_factor_df = recommender.itemFactors.filter('id = 100')"
   ]
  },
  {
   "cell_type": "code",
   "execution_count": 19,
   "metadata": {
    "collapsed": false
   },
   "outputs": [],
   "source": [
    "user_factors = user_factor_df.collect()[0]['features']\n",
    "item_factors = item_factor_df.collect()[0]['features']"
   ]
  },
  {
   "cell_type": "code",
   "execution_count": 20,
   "metadata": {
    "collapsed": false
   },
   "outputs": [
    {
     "data": {
      "text/plain": [
       "0.63321010523572374"
      ]
     },
     "execution_count": 20,
     "metadata": {},
     "output_type": "execute_result"
    }
   ],
   "source": [
    "# Manually (sorta) calculate the predicted rating\n",
    "np.dot(user_factors, item_factors)"
   ]
  },
  {
   "cell_type": "code",
   "execution_count": 21,
   "metadata": {
    "collapsed": false
   },
   "outputs": [
    {
     "name": "stdout",
     "output_type": "stream",
     "text": [
      "+--------+-------+----------+\n",
      "|route_id|user_id|prediction|\n",
      "+--------+-------+----------+\n",
      "|     148|      1| 0.7865597|\n",
      "|     463|      1| 0.5858344|\n",
      "|     463|      1| 0.5858344|\n",
      "|     463|      1| 0.5858344|\n",
      "|     463|      1| 0.5858344|\n",
      "|     463|      1| 0.5858344|\n",
      "|     463|      1| 0.5858344|\n",
      "|     471|      1| 1.3029544|\n",
      "|     471|      1| 1.3029544|\n",
      "|     471|      1| 1.3029544|\n",
      "|     471|      1| 1.3029544|\n",
      "|     471|      1| 1.3029544|\n",
      "|     471|      1| 1.3029544|\n",
      "|     471|      1| 1.3029544|\n",
      "|     471|      1| 1.3029544|\n",
      "|     471|      1| 1.3029544|\n",
      "|     471|      1| 1.3029544|\n",
      "|     471|      1| 1.3029544|\n",
      "|     471|      1| 1.3029544|\n",
      "|     471|      1| 1.3029544|\n",
      "+--------+-------+----------+\n",
      "only showing top 20 rows\n",
      "\n"
     ]
    }
   ],
   "source": [
    "# Get the recommender's prediction\n",
    "recommender.transform(one_row_spark_df).show()"
   ]
  },
  {
   "cell_type": "code",
   "execution_count": 22,
   "metadata": {
    "collapsed": false
   },
   "outputs": [
    {
     "name": "stdout",
     "output_type": "stream",
     "text": [
      "+---+--------------------+\n",
      "| id|            features|\n",
      "+---+--------------------+\n",
      "|  0|[0.06774085, 0.08...|\n",
      "| 10|[0.36928573, 0.00...|\n",
      "| 20|[0.5476689, 0.745...|\n",
      "| 30|[0.75599134, 0.84...|\n",
      "| 50|[0.45170158, 0.10...|\n",
      "| 60|[0.28742635, 0.32...|\n",
      "| 70|[0.75862956, 0.37...|\n",
      "| 80|[0.3829174, 1.002...|\n",
      "| 90|[0.5150635, 0.472...|\n",
      "|110|[0.32709587, 0.37...|\n",
      "|120|[0.46764067, 0.32...|\n",
      "|140|[0.29996014, 0.29...|\n",
      "|150|[0.0, 0.04115509,...|\n",
      "|160|[0.11061484, 0.0,...|\n",
      "|170|[0.29387653, 0.37...|\n",
      "|180|[0.88746965, 0.31...|\n",
      "|190|[0.5150635, 0.472...|\n",
      "|200|[0.0, 0.26063898,...|\n",
      "|210|[0.5150635, 0.472...|\n",
      "|220|[0.5150635, 0.472...|\n",
      "+---+--------------------+\n",
      "only showing top 20 rows\n",
      "\n"
     ]
    }
   ],
   "source": [
    "# Let's take a look all the user factors\n",
    "recommender.userFactors.show()"
   ]
  },
  {
   "cell_type": "code",
   "execution_count": 21,
   "metadata": {
    "collapsed": false
   },
   "outputs": [],
   "source": [
    "# Make predictions for the whole test set\n",
    "predictions = recommender.transform(test)"
   ]
  },
  {
   "cell_type": "code",
   "execution_count": 16,
   "metadata": {
    "collapsed": false
   },
   "outputs": [
    {
     "data": {
      "text/plain": [
       "pyspark.ml.recommendation.ALSModel"
      ]
     },
     "execution_count": 16,
     "metadata": {},
     "output_type": "execute_result"
    }
   ],
   "source": [
    "type(recommender)"
   ]
  },
  {
   "cell_type": "code",
   "execution_count": 22,
   "metadata": {
    "collapsed": true
   },
   "outputs": [],
   "source": [
    "# Dump the predictions to Pandas DataFrames to make our final calculations easier\n",
    "predictions_df = predictions.toPandas()\n",
    "train_df = train.toPandas()"
   ]
  },
  {
   "cell_type": "code",
   "execution_count": 23,
   "metadata": {
    "collapsed": true
   },
   "outputs": [],
   "source": [
    "# Fill any missing values with the mean rating\n",
    "# There are multiple things you could fill with, this is just one example\n",
    "predictions_df = predictions.toPandas().fillna(train_df['rating'].mean())"
   ]
  },
  {
   "cell_type": "code",
   "execution_count": 24,
   "metadata": {
    "collapsed": true
   },
   "outputs": [],
   "source": [
    "predictions_df['squared_error'] = (predictions_df['rating'] - predictions_df['prediction'])**2"
   ]
  },
  {
   "cell_type": "code",
   "execution_count": 25,
   "metadata": {
    "collapsed": false
   },
   "outputs": [
    {
     "data": {
      "text/html": [
       "<div>\n",
       "<table border=\"1\" class=\"dataframe\">\n",
       "  <thead>\n",
       "    <tr style=\"text-align: right;\">\n",
       "      <th></th>\n",
       "      <th>rating</th>\n",
       "      <th>route_id</th>\n",
       "      <th>user_id</th>\n",
       "      <th>prediction</th>\n",
       "      <th>squared_error</th>\n",
       "    </tr>\n",
       "  </thead>\n",
       "  <tbody>\n",
       "    <tr>\n",
       "      <th>count</th>\n",
       "      <td>6036.000000</td>\n",
       "      <td>6036.000000</td>\n",
       "      <td>6036.000000</td>\n",
       "      <td>6036.000000</td>\n",
       "      <td>6.036000e+03</td>\n",
       "    </tr>\n",
       "    <tr>\n",
       "      <th>mean</th>\n",
       "      <td>2.714546</td>\n",
       "      <td>1671.271703</td>\n",
       "      <td>986.509940</td>\n",
       "      <td>2.541349</td>\n",
       "      <td>5.190103e-01</td>\n",
       "    </tr>\n",
       "    <tr>\n",
       "      <th>std</th>\n",
       "      <td>0.906861</td>\n",
       "      <td>992.891254</td>\n",
       "      <td>575.235577</td>\n",
       "      <td>0.719278</td>\n",
       "      <td>8.308775e-01</td>\n",
       "    </tr>\n",
       "    <tr>\n",
       "      <th>min</th>\n",
       "      <td>0.000000</td>\n",
       "      <td>2.000000</td>\n",
       "      <td>0.000000</td>\n",
       "      <td>0.000000</td>\n",
       "      <td>6.508003e-10</td>\n",
       "    </tr>\n",
       "    <tr>\n",
       "      <th>25%</th>\n",
       "      <td>2.000000</td>\n",
       "      <td>842.000000</td>\n",
       "      <td>501.000000</td>\n",
       "      <td>2.048946</td>\n",
       "      <td>5.039951e-02</td>\n",
       "    </tr>\n",
       "    <tr>\n",
       "      <th>50%</th>\n",
       "      <td>3.000000</td>\n",
       "      <td>1569.000000</td>\n",
       "      <td>949.000000</td>\n",
       "      <td>2.611411</td>\n",
       "      <td>2.110865e-01</td>\n",
       "    </tr>\n",
       "    <tr>\n",
       "      <th>75%</th>\n",
       "      <td>3.000000</td>\n",
       "      <td>2430.000000</td>\n",
       "      <td>1457.000000</td>\n",
       "      <td>3.019686</td>\n",
       "      <td>6.232248e-01</td>\n",
       "    </tr>\n",
       "    <tr>\n",
       "      <th>max</th>\n",
       "      <td>4.000000</td>\n",
       "      <td>3725.000000</td>\n",
       "      <td>2068.000000</td>\n",
       "      <td>4.738192</td>\n",
       "      <td>1.600000e+01</td>\n",
       "    </tr>\n",
       "  </tbody>\n",
       "</table>\n",
       "</div>"
      ],
      "text/plain": [
       "            rating     route_id      user_id   prediction  squared_error\n",
       "count  6036.000000  6036.000000  6036.000000  6036.000000   6.036000e+03\n",
       "mean      2.714546  1671.271703   986.509940     2.541349   5.190103e-01\n",
       "std       0.906861   992.891254   575.235577     0.719278   8.308775e-01\n",
       "min       0.000000     2.000000     0.000000     0.000000   6.508003e-10\n",
       "25%       2.000000   842.000000   501.000000     2.048946   5.039951e-02\n",
       "50%       3.000000  1569.000000   949.000000     2.611411   2.110865e-01\n",
       "75%       3.000000  2430.000000  1457.000000     3.019686   6.232248e-01\n",
       "max       4.000000  3725.000000  2068.000000     4.738192   1.600000e+01"
      ]
     },
     "execution_count": 25,
     "metadata": {},
     "output_type": "execute_result"
    }
   ],
   "source": [
    "predictions_df.describe()"
   ]
  },
  {
   "cell_type": "code",
   "execution_count": 26,
   "metadata": {
    "collapsed": false
   },
   "outputs": [
    {
     "data": {
      "text/plain": [
       "0.72042371350744439"
      ]
     },
     "execution_count": 26,
     "metadata": {},
     "output_type": "execute_result"
    }
   ],
   "source": [
    "# Calculate RMSE\n",
    "np.sqrt(sum(predictions_df['squared_error']) / len(predictions_df))"
   ]
  },
  {
   "cell_type": "code",
   "execution_count": 30,
   "metadata": {
    "collapsed": false
   },
   "outputs": [
    {
     "data": {
      "image/png": "[encoded data removed]",
      "text/plain": [
       "<matplotlib.figure.Figure at 0x7fbc33d07d50>"
      ]
     },
     "metadata": {},
     "output_type": "display_data"
    }
   ],
   "source": [
    "# Create array of predictions for violinplot\n",
    "data = [predictions_df['prediction'][predictions_df['rating'] == rating] for rating in range(1, 5)]\n",
    "\n",
    "fig, ax = plt.subplots(1, figsize=(12,12))\n",
    "ax.violinplot(data, range(1,5), showmeans=True)\n",
    "ax.set_xlabel('True Ratings')\n",
    "ax.set_ylabel('Predicted Ratings')\n",
    "ax.set_title('True vs. ALS Recommender Predicted Ratings')\n",
    "plt.show()"
   ]
  },
  {
   "cell_type": "code",
   "execution_count": 143,
   "metadata": {
    "collapsed": false
   },
   "outputs": [],
   "source": [
    "fig.savefig('violin.jpg')"
   ]
  },
  {
   "cell_type": "code",
   "execution_count": 33,
   "metadata": {
    "collapsed": false
   },
   "outputs": [
    {
     "data": {
      "text/html": [
       "<div>\n",
       "<table border=\"1\" class=\"dataframe\">\n",
       "  <thead>\n",
       "    <tr style=\"text-align: right;\">\n",
       "      <th></th>\n",
       "      <th>rating</th>\n",
       "      <th>route_id</th>\n",
       "      <th>user_id</th>\n",
       "      <th>prediction</th>\n",
       "      <th>squared_error</th>\n",
       "    </tr>\n",
       "  </thead>\n",
       "  <tbody>\n",
       "    <tr>\n",
       "      <th>0</th>\n",
       "      <td>1</td>\n",
       "      <td>0</td>\n",
       "      <td>0</td>\n",
       "      <td>1.0</td>\n",
       "      <td>0.0</td>\n",
       "    </tr>\n",
       "    <tr>\n",
       "      <th>1</th>\n",
       "      <td>1</td>\n",
       "      <td>1</td>\n",
       "      <td>0</td>\n",
       "      <td>1.0</td>\n",
       "      <td>0.0</td>\n",
       "    </tr>\n",
       "  </tbody>\n",
       "</table>\n",
       "</div>"
      ],
      "text/plain": [
       "   rating  route_id  user_id  prediction  squared_error\n",
       "0       1         0        0         1.0            0.0\n",
       "1       1         1        0         1.0            0.0"
      ]
     },
     "execution_count": 33,
     "metadata": {},
     "output_type": "execute_result"
    }
   ],
   "source": [
    "# see comparision to just average rating\n",
    "test_df = test.toPandas()\n",
    "test_df['prediction'] = train_df['rating'].mean()\n",
    "test_df['squared_error'] = (test_df['rating'] - test_df['prediction'])**2\n",
    "test_df.head()"
   ]
  },
  {
   "cell_type": "code",
   "execution_count": 34,
   "metadata": {
    "collapsed": false
   },
   "outputs": [
    {
     "data": {
      "text/plain": [
       "0.0"
      ]
     },
     "execution_count": 34,
     "metadata": {},
     "output_type": "execute_result"
    }
   ],
   "source": [
    "# Calculate RMSE\n",
    "np.sqrt(sum(test_df['squared_error']) / len(test_df))"
   ]
  },
  {
   "cell_type": "code",
   "execution_count": 41,
   "metadata": {
    "collapsed": false
   },
   "outputs": [
    {
     "data": {
      "text/plain": [
       "nan"
      ]
     },
     "execution_count": 41,
     "metadata": {},
     "output_type": "execute_result"
    }
   ],
   "source": [
    "# see comparision to average rating per route\n",
    "test_df = test.toPandas()\n",
    "for route_id in test_df['route_id']:\n",
    "    test_df['prediction'] = train_df[train_df['route_id']==route_id]['rating'].mean()\n",
    "test_df['squared_error'] = (test_df['rating'] - test_df['prediction'])**2\n",
    "# Calculate RMSE\n",
    "np.sqrt(sum(test_df['squared_error']) / len(test_df))"
   ]
  },
  {
   "cell_type": "code",
   "execution_count": null,
   "metadata": {
    "collapsed": true
   },
   "outputs": [],
   "source": []
  },
  {
   "cell_type": "code",
   "execution_count": null,
   "metadata": {
    "collapsed": true
   },
   "outputs": [],
   "source": []
  },
  {
   "cell_type": "code",
   "execution_count": 41,
   "metadata": {
    "collapsed": false
   },
   "outputs": [
    {
     "name": "stdout",
     "output_type": "stream",
     "text": [
      "+--------+-----+------+----------+\n",
      "|username|route|rating|prediction|\n",
      "+--------+-----+------+----------+\n",
      "|   66666|  955|     4|       NaN|\n",
      "|   66666|  684|     3|       NaN|\n",
      "|   66666| 1704|     4|       NaN|\n",
      "|   66666| 3473|     4|       NaN|\n",
      "+--------+-----+------+----------+\n",
      "\n"
     ]
    }
   ],
   "source": [
    "def get_route_list():\n",
    "    client = MongoClient('mongodb://localhost:27017/')\n",
    "    db = client.ratings_collection\n",
    "    ratings_collection = db.ratings_collection\n",
    "    collection = ratings_collection.find({\"route\": {'$exists' : True }})\n",
    "    route_list = [d['route'].encode('utf-8').lower() for d in list(collection)]\n",
    "    return route_list\n",
    "\n",
    "def find_routes_in_list(routes, ratings):\n",
    "    route_list = get_route_list()\n",
    "    # drop caps\n",
    "    routes = routes\n",
    "    routes_numeric = []\n",
    "    for route in routes:\n",
    "        if route.lower() not in route_list:\n",
    "            # remove from ratings and routes\n",
    "            ratings.pop(routes.index(route))\n",
    "            routes.remove(route)\n",
    "        else:\n",
    "            routes_numeric.append(route_list.index(route.lower()))\n",
    "    return routes_numeric, ratings\n",
    "\n",
    "def build_dataframe(routes, ratings):\n",
    "    routes, ratings = find_routes_in_list(routes, ratings)\n",
    "    # make up username\n",
    "    data = [(66666, route, rating) for route, rating in zip(routes, ratings)]\n",
    "    columns = ('username', 'route', 'rating')\n",
    "    return spark.createDataFrame(data, columns)\n",
    "\n",
    "routes = ['godzilla', 'Aires', 'Breakfast of Champions', 'cultureshock','bendsdsd']\n",
    "ratings = [4,3,4,4,3]\n",
    "predict_df = build_dataframe(routes, ratings)\n",
    "recommender.transform(predict_df).show()"
   ]
  },
  {
   "cell_type": "code",
   "execution_count": null,
   "metadata": {
    "collapsed": true
   },
   "outputs": [],
   "source": []
  },
  {
   "cell_type": "code",
   "execution_count": null,
   "metadata": {
    "collapsed": true
   },
   "outputs": [],
   "source": []
  },
  {
   "cell_type": "code",
   "execution_count": null,
   "metadata": {
    "collapsed": true
   },
   "outputs": [],
   "source": []
  },
  {
   "cell_type": "code",
   "execution_count": null,
   "metadata": {
    "collapsed": true
   },
   "outputs": [],
   "source": []
  }
 ],
 "metadata": {
  "kernelspec": {
   "display_name": "Python 2",
   "language": "python",
   "name": "python2"
  },
  "language_info": {
   "codemirror_mode": {
    "name": "ipython",
    "version": 2
   },
   "file_extension": ".py",
   "mimetype": "text/x-python",
   "name": "python",
   "nbconvert_exporter": "python",
   "pygments_lexer": "ipython2",
   "version": "2.7.13"
  }
 },
 "nbformat": 4,
 "nbformat_minor": 2
}
