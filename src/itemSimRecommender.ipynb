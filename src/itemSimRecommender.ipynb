{
 "cells": [
  {
   "cell_type": "code",
   "execution_count": 6,
   "metadata": {
    "collapsed": true
   },
   "outputs": [],
   "source": [
    "import pandas as pd\n",
    "import numpy as np\n",
    "from sklearn.metrics import pairwise_distances\n",
    "from scipy.spatial.distance import cosine\n",
    "from sklearn.preprocessing import normalize"
   ]
  },
  {
   "cell_type": "code",
   "execution_count": 3,
   "metadata": {
    "collapsed": false
   },
   "outputs": [
    {
     "data": {
      "text/html": [
       "<div>\n",
       "<table border=\"1\" class=\"dataframe\">\n",
       "  <thead>\n",
       "    <tr style=\"text-align: right;\">\n",
       "      <th></th>\n",
       "      <th>id</th>\n",
       "      <th>Aid</th>\n",
       "      <th>Alpine</th>\n",
       "      <th>Boulder</th>\n",
       "      <th>Ice</th>\n",
       "      <th>Mixed</th>\n",
       "      <th>Sport</th>\n",
       "      <th>TR</th>\n",
       "      <th>Trad</th>\n",
       "      <th>height</th>\n",
       "      <th>...</th>\n",
       "      <th>area_World WallaAreas</th>\n",
       "      <th>area_Write-off RockaAreas</th>\n",
       "      <th>area_Wu Wei WallaAreas</th>\n",
       "      <th>area_Wu-Tang WallaAreas</th>\n",
       "      <th>area_XY Crag (Chromosome Cracks)aAreas</th>\n",
       "      <th>area_Zappa WallaAreas</th>\n",
       "      <th>area_Zeke's Trail BouldersaAreas</th>\n",
       "      <th>area_Zeke's WallaAreas</th>\n",
       "      <th>area_Zig Zag WallaAreas</th>\n",
       "      <th>num_reviews</th>\n",
       "    </tr>\n",
       "  </thead>\n",
       "  <tbody>\n",
       "    <tr>\n",
       "      <th>0</th>\n",
       "      <td>0</td>\n",
       "      <td>0</td>\n",
       "      <td>0</td>\n",
       "      <td>0</td>\n",
       "      <td>0</td>\n",
       "      <td>0</td>\n",
       "      <td>0</td>\n",
       "      <td>0</td>\n",
       "      <td>1</td>\n",
       "      <td>41.0</td>\n",
       "      <td>...</td>\n",
       "      <td>0</td>\n",
       "      <td>0</td>\n",
       "      <td>0</td>\n",
       "      <td>0</td>\n",
       "      <td>0</td>\n",
       "      <td>0</td>\n",
       "      <td>0</td>\n",
       "      <td>0</td>\n",
       "      <td>0</td>\n",
       "      <td>1</td>\n",
       "    </tr>\n",
       "    <tr>\n",
       "      <th>1</th>\n",
       "      <td>1</td>\n",
       "      <td>0</td>\n",
       "      <td>0</td>\n",
       "      <td>0</td>\n",
       "      <td>0</td>\n",
       "      <td>0</td>\n",
       "      <td>0</td>\n",
       "      <td>0</td>\n",
       "      <td>1</td>\n",
       "      <td>41.0</td>\n",
       "      <td>...</td>\n",
       "      <td>0</td>\n",
       "      <td>0</td>\n",
       "      <td>0</td>\n",
       "      <td>0</td>\n",
       "      <td>0</td>\n",
       "      <td>0</td>\n",
       "      <td>0</td>\n",
       "      <td>0</td>\n",
       "      <td>0</td>\n",
       "      <td>1</td>\n",
       "    </tr>\n",
       "    <tr>\n",
       "      <th>2</th>\n",
       "      <td>2</td>\n",
       "      <td>0</td>\n",
       "      <td>0</td>\n",
       "      <td>0</td>\n",
       "      <td>0</td>\n",
       "      <td>0</td>\n",
       "      <td>0</td>\n",
       "      <td>1</td>\n",
       "      <td>1</td>\n",
       "      <td>35.0</td>\n",
       "      <td>...</td>\n",
       "      <td>0</td>\n",
       "      <td>0</td>\n",
       "      <td>0</td>\n",
       "      <td>0</td>\n",
       "      <td>0</td>\n",
       "      <td>0</td>\n",
       "      <td>0</td>\n",
       "      <td>0</td>\n",
       "      <td>0</td>\n",
       "      <td>4</td>\n",
       "    </tr>\n",
       "    <tr>\n",
       "      <th>3</th>\n",
       "      <td>3</td>\n",
       "      <td>0</td>\n",
       "      <td>0</td>\n",
       "      <td>0</td>\n",
       "      <td>0</td>\n",
       "      <td>0</td>\n",
       "      <td>0</td>\n",
       "      <td>1</td>\n",
       "      <td>1</td>\n",
       "      <td>85.0</td>\n",
       "      <td>...</td>\n",
       "      <td>0</td>\n",
       "      <td>0</td>\n",
       "      <td>0</td>\n",
       "      <td>0</td>\n",
       "      <td>0</td>\n",
       "      <td>0</td>\n",
       "      <td>0</td>\n",
       "      <td>0</td>\n",
       "      <td>0</td>\n",
       "      <td>4</td>\n",
       "    </tr>\n",
       "    <tr>\n",
       "      <th>4</th>\n",
       "      <td>4</td>\n",
       "      <td>0</td>\n",
       "      <td>0</td>\n",
       "      <td>0</td>\n",
       "      <td>0</td>\n",
       "      <td>0</td>\n",
       "      <td>0</td>\n",
       "      <td>1</td>\n",
       "      <td>1</td>\n",
       "      <td>30.0</td>\n",
       "      <td>...</td>\n",
       "      <td>0</td>\n",
       "      <td>0</td>\n",
       "      <td>0</td>\n",
       "      <td>0</td>\n",
       "      <td>0</td>\n",
       "      <td>0</td>\n",
       "      <td>0</td>\n",
       "      <td>0</td>\n",
       "      <td>0</td>\n",
       "      <td>4</td>\n",
       "    </tr>\n",
       "  </tbody>\n",
       "</table>\n",
       "<p>5 rows × 702 columns</p>\n",
       "</div>"
      ],
      "text/plain": [
       "   id  Aid  Alpine  Boulder  Ice  Mixed  Sport  TR  Trad  height     ...       \\\n",
       "0   0    0       0        0    0      0      0   0     1    41.0     ...        \n",
       "1   1    0       0        0    0      0      0   0     1    41.0     ...        \n",
       "2   2    0       0        0    0      0      0   1     1    35.0     ...        \n",
       "3   3    0       0        0    0      0      0   1     1    85.0     ...        \n",
       "4   4    0       0        0    0      0      0   1     1    30.0     ...        \n",
       "\n",
       "   area_World WallaAreas  area_Write-off RockaAreas  area_Wu Wei WallaAreas  \\\n",
       "0                      0                          0                       0   \n",
       "1                      0                          0                       0   \n",
       "2                      0                          0                       0   \n",
       "3                      0                          0                       0   \n",
       "4                      0                          0                       0   \n",
       "\n",
       "   area_Wu-Tang WallaAreas  area_XY Crag (Chromosome Cracks)aAreas  \\\n",
       "0                        0                                       0   \n",
       "1                        0                                       0   \n",
       "2                        0                                       0   \n",
       "3                        0                                       0   \n",
       "4                        0                                       0   \n",
       "\n",
       "   area_Zappa WallaAreas  area_Zeke's Trail BouldersaAreas  \\\n",
       "0                      0                                 0   \n",
       "1                      0                                 0   \n",
       "2                      0                                 0   \n",
       "3                      0                                 0   \n",
       "4                      0                                 0   \n",
       "\n",
       "   area_Zeke's WallaAreas  area_Zig Zag WallaAreas  num_reviews  \n",
       "0                       0                        0            1  \n",
       "1                       0                        0            1  \n",
       "2                       0                        0            4  \n",
       "3                       0                        0            4  \n",
       "4                       0                        0            4  \n",
       "\n",
       "[5 rows x 702 columns]"
      ]
     },
     "execution_count": 3,
     "metadata": {},
     "output_type": "execute_result"
    }
   ],
   "source": [
    "# load data frame from csv\n",
    "routes_df = pd.read_csv(\"routes_df.csv\", sep='\\t').drop('Unnamed: 0', axis=1)\n",
    "routes_df.head()"
   ]
  },
  {
   "cell_type": "code",
   "execution_count": 4,
   "metadata": {
    "collapsed": true
   },
   "outputs": [],
   "source": [
    "route_id = routes_df['id']\n",
    "routes_df = routes_df.drop('id', axis=1)"
   ]
  },
  {
   "cell_type": "code",
   "execution_count": 5,
   "metadata": {
    "collapsed": false
   },
   "outputs": [
    {
     "name": "stdout",
     "output_type": "stream",
     "text": [
      "<class 'pandas.core.frame.DataFrame'>\n",
      "RangeIndex: 3727 entries, 0 to 3726\n",
      "Columns: 701 entries, Aid to num_reviews\n",
      "dtypes: float64(2), int64(699)\n",
      "memory usage: 19.9 MB\n"
     ]
    }
   ],
   "source": [
    "routes_df.info()\n"
   ]
  },
  {
   "cell_type": "markdown",
   "metadata": {},
   "source": [
    "### Normalize data"
   ]
  },
  {
   "cell_type": "code",
   "execution_count": 7,
   "metadata": {
    "collapsed": true
   },
   "outputs": [],
   "source": [
    "items_mat = np.array(list(routes_df.values)).astype(float)"
   ]
  },
  {
   "cell_type": "code",
   "execution_count": 9,
   "metadata": {
    "collapsed": true
   },
   "outputs": [],
   "source": [
    "items_mat_norm = normalize(items_mat)"
   ]
  },
  {
   "cell_type": "markdown",
   "metadata": {},
   "source": [
    "### get similiar routes"
   ]
  },
  {
   "cell_type": "code",
   "execution_count": 10,
   "metadata": {
    "collapsed": false
   },
   "outputs": [
    {
     "data": {
      "text/plain": [
       "array([2086,  554,   44, 2658, 1705, 1200, 1244, 3627,  199, 1163])"
      ]
     },
     "execution_count": 10,
     "metadata": {},
     "output_type": "execute_result"
    }
   ],
   "source": [
    "cos_sim = 1-pairwise_distances(items_mat, metric=\"cosine\")\n",
    "n = 10\n",
    "index = 956 # id for Godzilla\n",
    "arr = cos_sim[index]\n",
    "similar_routes = np.asarray(route_id)[arr.argsort()[-(n+1):][::-1][1:]]\n",
    "similar_routes"
   ]
  },
  {
   "cell_type": "code",
   "execution_count": null,
   "metadata": {
    "collapsed": true
   },
   "outputs": [],
   "source": []
  }
 ],
 "metadata": {
  "kernelspec": {
   "display_name": "Python 2",
   "language": "python",
   "name": "python2"
  },
  "language_info": {
   "codemirror_mode": {
    "name": "ipython",
    "version": 2
   },
   "file_extension": ".py",
   "mimetype": "text/x-python",
   "name": "python",
   "nbconvert_exporter": "python",
   "pygments_lexer": "ipython2",
   "version": "2.7.13"
  }
 },
 "nbformat": 4,
 "nbformat_minor": 2
}
