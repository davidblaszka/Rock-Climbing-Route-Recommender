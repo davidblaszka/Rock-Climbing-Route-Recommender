{
 "cells": [
  {
   "cell_type": "code",
   "execution_count": null,
   "metadata": {
    "collapsed": true
   },
   "outputs": [],
   "source": [
    "import requests\n",
    "from bs4 import BeautifulSoup\n",
    "import time\n",
    "from urllib import urlencode\n",
    "import selenium.webdriver\n",
    "import pandas as pd\n",
    "import random\n",
    "from pymongo import MongoClient\n",
    "import json"
   ]
  },
  {
   "cell_type": "code",
   "execution_count": 19,
   "metadata": {
    "collapsed": true
   },
   "outputs": [],
   "source": [
    "def search_mnt_project(url,  browser, delay=3):\n",
    "    '''Pulls page content and returns it'''\n",
    "    browser.get(url)\n",
    "    # make delay more random\n",
    "    delay = random.randint(2, 6)\n",
    "    time.sleep(delay)  # Wait a few seconds before getting the HTML source\n",
    "    return browser.page_source"
   ]
  },
  {
   "cell_type": "code",
   "execution_count": 20,
   "metadata": {
    "collapsed": true
   },
   "outputs": [],
   "source": [
    "def soup_maker(url):\n",
    "    '''Opens up selenium webdriver and returns soup'''\n",
    "    browser = selenium.webdriver.Firefox()\n",
    "    html = search_mnt_project(url,browser)\n",
    "    browser.quit()\n",
    "    soup = BeautifulSoup(html, 'html.parser')\n",
    "    return soup"
   ]
  },
  {
   "cell_type": "code",
   "execution_count": 23,
   "metadata": {
    "collapsed": true
   },
   "outputs": [],
   "source": [
    "def find_table_urls(table_tag, href_list):\n",
    "    '''\n",
    "     Pulls route urls from table\n",
    "    '''\n",
    "    for t in table_tag:\n",
    "        for row in t.findAll('tr'):\n",
    "            stars = row.findAll('td')[1].find('span',{'class': 'small textLight'})\n",
    "            # stop if not review\n",
    "            if stars != None:\n",
    "                if str(stars.text) == ' (0)':\n",
    "                    continue\n",
    "            a = row.findAll('td')[0].find('a', href=True)\n",
    "            if a != None:\n",
    "                href_list.append(a.get('href'))\n",
    "    return href_list"
   ]
  },
  {
   "cell_type": "code",
   "execution_count": 33,
   "metadata": {
    "collapsed": true
   },
   "outputs": [],
   "source": [
    "def find_route_urls(query, route_href_list):\n",
    "    '''\n",
    "    INPUT\n",
    "        - url - a page url \n",
    "        - route_href_list - list of href's for routes\n",
    "    OUTPUT\n",
    "        - route_href_list - list of href's for routes\n",
    "        - soup - the html for the given page\n",
    "    '''\n",
    "    url = \"https://www.mountainproject.com%s\" % query\n",
    "    soup = soup_maker(url)\n",
    "    table_tag = soup.select('table.objectList')\n",
    "    product_tags = soup.select('div.search-result-gridview-item')\n",
    "    route_href_list = find_table_urls(table_tag, route_href_list)\n",
    "    return route_href_list, soup"
   ]
  },
  {
   "cell_type": "code",
   "execution_count": 37,
   "metadata": {
    "collapsed": false
   },
   "outputs": [],
   "source": [
    "def all_route_urls(start_url):\n",
    "    '''\n",
    "    find all route urls\n",
    "    INPUT\n",
    "        - start_url - first url to go to\n",
    "    OUTPUT\n",
    "        - route_href_list - list off all the route's urls\n",
    "    '''\n",
    "    # make empty list to fill with route page urls\n",
    "    route_href_list = [] \n",
    "    route_href_list, soup = find_route_urls(start_url, route_href_list)\n",
    "    # click next page\n",
    "    page_url = ''\n",
    "    while page_url is not None:\n",
    "        for a in soup.find('td', {'align': 'right'}).findAll('a',href=True):\n",
    "            if 'Next' in a.text:\n",
    "                page_url = a.get('href')\n",
    "                break\n",
    "            else:\n",
    "                page_url = False\n",
    "        if page_url == False:\n",
    "            page_url = None\n",
    "            break\n",
    "        route_href_list, soup = find_route_urls(page_url, route_href_list)\n",
    "    return route_href_list"
   ]
  },
  {
   "cell_type": "code",
   "execution_count": 41,
   "metadata": {
    "collapsed": false
   },
   "outputs": [],
   "source": [
    "def scrape_route_page(query):\n",
    "    '''\n",
    "    INPUT\n",
    "        - query     \n",
    "    OUTPUT\n",
    "    \n",
    "    '''\n",
    "    url = \"https://www.mountainproject.com%s\" % query\n",
    "    soup = soup_maker(url)\n",
    "    page_tag = soup.find('div', {'id':'rspCol800'})\n",
    "    # make route dict\n",
    "    route_dict = {}\n",
    "    route_dict['name'] = page_tag.find('span', {'itemprop':'itemreviewed'}).text\n",
    "    route_dict['grade'] = page_tag.find('span', {'class':'rateYDS'}).text\n",
    "    route_stars_text = soup.find('span', {'id':'starSummaryText'}).text.split('Average: ')\n",
    "    route_dict['average_rating'] = route_stars_text[1][:3]\n",
    "    # convert to string from unicode\n",
    "    star_url = str(soup.find('span', {'id':'starSummaryText'}).find('a', href=True).get('href'))\n",
    "    \n",
    "    for i, td in enumerate(page_tag.find('table').findAll('td')): \n",
    "        if td.text.split(':')[0] == 'Type':\n",
    "            route_dict['type'] = page_tag.find('table').findAll('td')[i+1].text\n",
    "        elif td.text.split(':')[0] == 'Original':\n",
    "            route_dict['original_grade'] = page_tag.find('table').findAll('td')[i+1].text\n",
    "        elif td.text.split(':')[0] == 'FA':\n",
    "            fa = str(page_tag.find('table').findAll('td')[i+1].text)\n",
    "            route_dict['FA'] = fa\n",
    "        elif td.text.split(':')[0] == 'Season':\n",
    "            season = page_tag.find('table').findAll('td')[i+1].text\n",
    "            route_dict['season'] = season\n",
    "        elif td.text.split(':')[0] == 'Page Views':\n",
    "            route_dict['page_views'] = page_tag.find('table').findAll('td')[i+1].text\n",
    "        elif td.text.split(':')[0] == 'Submitted By':\n",
    "            route_dict['submitted_by'] = page_tag.find('table').findAll('td')[i+1].text\n",
    "            \n",
    "    return star_url, route_dict"
   ]
  },
  {
   "cell_type": "code",
   "execution_count": 42,
   "metadata": {
    "collapsed": true
   },
   "outputs": [],
   "source": [
    "def scrape_ratings_by_user(query, route_name):\n",
    "    rating_dict = {'route_name': route_name, 'username': [], 'rating':[]}\n",
    "    url = \"https://www.mountainproject.com%s\" % query\n",
    "    soup = soup_maker(url)\n",
    "    table_tag = soup.findAll('table')\n",
    "    # the 4th table is the one with star votes\n",
    "    for row in table_tag[3].findAll('tr'):\n",
    "        for i, column in enumerate(row.findAll('td')):\n",
    "            if i % 2 == 0:\n",
    "                rating_dict['username'].append(column.text) # username\n",
    "                user_url = str(column.find('a', href=True).get('href')) #query for user url\n",
    "            if i % 2 == 1:\n",
    "                rating_dict['rating'].append(int(column.text.split('Html(')[1][0]) - 1) # number of stars\n",
    "    return user_url, rating_dict"
   ]
  },
  {
   "cell_type": "code",
   "execution_count": 58,
   "metadata": {
    "collapsed": true
   },
   "outputs": [],
   "source": [
    "def scrape_user(query):\n",
    "    '''returns user info'''\n",
    "    url = \"https://www.mountainproject.com%s\" % query\n",
    "    soup = soup_maker(url)\n",
    "    # make user dict\n",
    "    user_dict = {}\n",
    "    user_dict['name'] = str(soup.find('h1').text)\n",
    "    side_bar = soup.select('div.roundedBottom')[0].text.split('\\n') # side bar\n",
    "    user_dict['member_since'] = side_bar[3].split('Since: ')[1]\n",
    "    user_dict['last_vist'] = side_bar[4].split('Visit: ')[1]\n",
    "    user_dict['point_rank'] = side_bar[9].split('Rank: # ')[1]\n",
    "    user_dict['total_points'] = side_bar[10].split('Points: ')[1].replace(',', '')\n",
    "    user_dict['compliments'] = side_bar[11].split(' Compliments')[0]\n",
    "    \n",
    "    for item in soup.find('div',{'class': 'personalData'}).text.split('\\n'):\n",
    "        if 'Personal' in item:\n",
    "            user_dict['personal'] = item.split('Personal: ')[1]\n",
    "        elif 'Favorite Climbs:' in item:\n",
    "            user_dict['favorite_climbs'] = item.split('Favorite Climbs: ')[1]\n",
    "        elif 'Other Interests:' in item:\n",
    "            user_dict['other_interests'] = item.split('Other Interests: ')[1]\n",
    "        elif 'Likes to climb:' in item:\n",
    "            user_dict['likes_to_climb'] = item.split('Likes to climb: ')[1]\n",
    "        elif 'Trad:' in item:\n",
    "            user_dict['trad'] = item.split('Trad:')[1]\n",
    "        elif 'Sport:' in item:\n",
    "            user_dict['sport'] = item.split('Sport:')[1]\n",
    "        elif 'Aid:' in item:\n",
    "            user_dict['aid'] = item.split('Aid:')[1]\n",
    "        elif 'Ice:' in item:\n",
    "            user_dict['ice'] = item.split('Ice:')[1]\n",
    "    return user_dict"
   ]
  },
  {
   "cell_type": "code",
   "execution_count": 59,
   "metadata": {
    "collapsed": true
   },
   "outputs": [],
   "source": [
    "def add_to_route_database(route_dict):\n",
    "    client = MongoClient('mongodb://localhost:27017/')\n",
    "    db = client.routes\n",
    "    routes = db.routes\n",
    "    routes.insert_one(route_dict)"
   ]
  },
  {
   "cell_type": "code",
   "execution_count": 53,
   "metadata": {
    "collapsed": true
   },
   "outputs": [],
   "source": [
    "def add_to_rating_database(rating_dict):\n",
    "    client = MongoClient('mongodb://localhost:27017/')\n",
    "    db = client.ratings\n",
    "    ratings = db.ratings\n",
    "    ratings.insert_one(rating_dict)"
   ]
  },
  {
   "cell_type": "code",
   "execution_count": 54,
   "metadata": {
    "collapsed": true
   },
   "outputs": [],
   "source": [
    "def add_to_user_database(user_dict):\n",
    "    client = MongoClient('mongodb://localhost:27017/')\n",
    "    db = client.users\n",
    "    users = db.users\n",
    "    users.insert_one(user_dict)"
   ]
  },
  {
   "cell_type": "code",
   "execution_count": null,
   "metadata": {
    "collapsed": true
   },
   "outputs": [],
   "source": [
    "washington_route_url = '''/scripts/Search.php?searchType=\n",
    "            routeFinder&minVotes=0&selectedIds=105708966&type=rock&diffMinrock=\n",
    "            800&diffMinboulder=20000&diffMinaid=70000&diffMinice=30000&diffMinmixed=\n",
    "            50000&diffMaxrock=12400&diffMaxboulder=21400&diffMaxaid=75260&diffMaxice=\n",
    "            38500&diffMaxmixed=60000&is_trad_climb=1&is_sport_climb=1&is_top_rope=\n",
    "            1&stars=0&pitches=0&sort1=area&sort2=rating'''\n",
    "# returns all route urls\n",
    "route_urls = all_route_urls(washington_route_url)"
   ]
  },
  {
   "cell_type": "code",
   "execution_count": 60,
   "metadata": {
    "collapsed": false
   },
   "outputs": [
    {
     "ename": "IndexError",
     "evalue": "list index out of range",
     "output_type": "error",
     "traceback": [
      "\u001b[0;31m---------------------------------------------------------------------------\u001b[0m",
      "\u001b[0;31mIndexError\u001b[0m                                Traceback (most recent call last)",
      "\u001b[0;32m<ipython-input-60-9067328280f1>\u001b[0m in \u001b[0;36m<module>\u001b[0;34m()\u001b[0m\n\u001b[1;32m      5\u001b[0m     \u001b[0muser_url\u001b[0m\u001b[0;34m,\u001b[0m \u001b[0mrating_dict\u001b[0m \u001b[0;34m=\u001b[0m \u001b[0mscrape_ratings_by_user\u001b[0m\u001b[0;34m(\u001b[0m\u001b[0mstar_url\u001b[0m\u001b[0;34m,\u001b[0m \u001b[0mroute_dict\u001b[0m\u001b[0;34m[\u001b[0m\u001b[0;34m'name'\u001b[0m\u001b[0;34m]\u001b[0m\u001b[0;34m)\u001b[0m\u001b[0;34m\u001b[0m\u001b[0m\n\u001b[1;32m      6\u001b[0m     \u001b[0madd_to_rating_database\u001b[0m\u001b[0;34m(\u001b[0m\u001b[0mrating_dict\u001b[0m\u001b[0;34m)\u001b[0m\u001b[0;34m\u001b[0m\u001b[0m\n\u001b[0;32m----> 7\u001b[0;31m     \u001b[0muser_dict\u001b[0m \u001b[0;34m=\u001b[0m \u001b[0mscrape_user\u001b[0m\u001b[0;34m(\u001b[0m\u001b[0muser_url\u001b[0m\u001b[0;34m)\u001b[0m\u001b[0;34m\u001b[0m\u001b[0m\n\u001b[0m\u001b[1;32m      8\u001b[0m     \u001b[0madd_to_user_database\u001b[0m\u001b[0;34m(\u001b[0m\u001b[0muser_dict\u001b[0m\u001b[0;34m)\u001b[0m\u001b[0;34m\u001b[0m\u001b[0m\n",
      "\u001b[0;32m<ipython-input-58-6c77bd2cd0bb>\u001b[0m in \u001b[0;36mscrape_user\u001b[0;34m(query)\u001b[0m\n\u001b[1;32m     15\u001b[0m     \u001b[0;32mfor\u001b[0m \u001b[0mitem\u001b[0m \u001b[0;32min\u001b[0m \u001b[0msoup\u001b[0m\u001b[0;34m.\u001b[0m\u001b[0mfind\u001b[0m\u001b[0;34m(\u001b[0m\u001b[0;34m'div'\u001b[0m\u001b[0;34m,\u001b[0m\u001b[0;34m{\u001b[0m\u001b[0;34m'class'\u001b[0m\u001b[0;34m:\u001b[0m \u001b[0;34m'personalData'\u001b[0m\u001b[0;34m}\u001b[0m\u001b[0;34m)\u001b[0m\u001b[0;34m.\u001b[0m\u001b[0mtext\u001b[0m\u001b[0;34m.\u001b[0m\u001b[0msplit\u001b[0m\u001b[0;34m(\u001b[0m\u001b[0;34m'\\n'\u001b[0m\u001b[0;34m)\u001b[0m\u001b[0;34m:\u001b[0m\u001b[0;34m\u001b[0m\u001b[0m\n\u001b[1;32m     16\u001b[0m         \u001b[0;32mif\u001b[0m \u001b[0;34m'Personal'\u001b[0m \u001b[0;32min\u001b[0m \u001b[0mitem\u001b[0m\u001b[0;34m:\u001b[0m\u001b[0;34m\u001b[0m\u001b[0m\n\u001b[0;32m---> 17\u001b[0;31m             \u001b[0muser_dict\u001b[0m\u001b[0;34m[\u001b[0m\u001b[0;34m'personal'\u001b[0m\u001b[0;34m]\u001b[0m \u001b[0;34m=\u001b[0m \u001b[0mitem\u001b[0m\u001b[0;34m.\u001b[0m\u001b[0msplit\u001b[0m\u001b[0;34m(\u001b[0m\u001b[0;34m'Personal: '\u001b[0m\u001b[0;34m)\u001b[0m\u001b[0;34m[\u001b[0m\u001b[0;36m1\u001b[0m\u001b[0;34m]\u001b[0m\u001b[0;34m\u001b[0m\u001b[0m\n\u001b[0m\u001b[1;32m     18\u001b[0m         \u001b[0;32melif\u001b[0m \u001b[0;34m'Favorite Climbs:'\u001b[0m \u001b[0;32min\u001b[0m \u001b[0mitem\u001b[0m\u001b[0;34m:\u001b[0m\u001b[0;34m\u001b[0m\u001b[0m\n\u001b[1;32m     19\u001b[0m             \u001b[0muser_dict\u001b[0m\u001b[0;34m[\u001b[0m\u001b[0;34m'favorite_climbs'\u001b[0m\u001b[0;34m]\u001b[0m \u001b[0;34m=\u001b[0m \u001b[0mitem\u001b[0m\u001b[0;34m.\u001b[0m\u001b[0msplit\u001b[0m\u001b[0;34m(\u001b[0m\u001b[0;34m'Favorite Climbs: '\u001b[0m\u001b[0;34m)\u001b[0m\u001b[0;34m[\u001b[0m\u001b[0;36m1\u001b[0m\u001b[0;34m]\u001b[0m\u001b[0;34m\u001b[0m\u001b[0m\n",
      "\u001b[0;31mIndexError\u001b[0m: list index out of range"
     ]
    }
   ],
   "source": [
    "star_urls = []\n",
    "for i, quary in enumerate(route_urls):\n",
    "    star_url, route_dict = scrape_route_page(quary) # updates route_df and return star_url\n",
    "    add_to_route_database(route_dict)\n",
    "    user_url, rating_dict = scrape_ratings_by_user(star_url, route_dict['name'])\n",
    "    add_to_rating_database(rating_dict)\n",
    "    user_dict = scrape_user(user_url)\n",
    "    add_to_user_database(user_dict)"
   ]
  },
  {
   "cell_type": "code",
   "execution_count": 50,
   "metadata": {
    "collapsed": false
   },
   "outputs": [
    {
     "data": {
      "text/plain": [
       "dict"
      ]
     },
     "execution_count": 50,
     "metadata": {},
     "output_type": "execute_result"
    }
   ],
   "source": [
    "type(rating_dict)"
   ]
  },
  {
   "cell_type": "code",
   "execution_count": 89,
   "metadata": {
    "collapsed": false
   },
   "outputs": [
    {
     "data": {
      "text/html": [
       "<div>\n",
       "<table border=\"1\" class=\"dataframe\">\n",
       "  <thead>\n",
       "    <tr style=\"text-align: right;\">\n",
       "      <th></th>\n",
       "      <th>FA</th>\n",
       "      <th>_id</th>\n",
       "      <th>grade</th>\n",
       "      <th>name</th>\n",
       "      <th>original_grade</th>\n",
       "      <th>page_views</th>\n",
       "      <th>season</th>\n",
       "      <th>stars</th>\n",
       "      <th>submitted_by</th>\n",
       "      <th>type</th>\n",
       "    </tr>\n",
       "  </thead>\n",
       "  <tbody>\n",
       "    <tr>\n",
       "      <th>0</th>\n",
       "      <td></td>\n",
       "      <td>58c7249740b44128791b7e3a</td>\n",
       "      <td>YDS: 5.7</td>\n",
       "      <td>5.7</td>\n",
       "      <td>YDS: 5.7  French: 5a  Ewbanks: 15  UIAA: V+  ...</td>\n",
       "      <td>317</td>\n",
       "      <td>[]</td>\n",
       "      <td>2 s</td>\n",
       "      <td>Keenan Waeschle on Mar 31, 2010</td>\n",
       "      <td>Sport, 40'</td>\n",
       "    </tr>\n",
       "    <tr>\n",
       "      <th>1</th>\n",
       "      <td></td>\n",
       "      <td>58c724a140b44128791b7e3b</td>\n",
       "      <td>YDS: 5.8</td>\n",
       "      <td>5.8</td>\n",
       "      <td>YDS: 5.8  French: 5b  Ewbanks: 16  UIAA: VI- ...</td>\n",
       "      <td>253</td>\n",
       "      <td>[]</td>\n",
       "      <td>1.5</td>\n",
       "      <td>Keenan Waeschle on Mar 31, 2010</td>\n",
       "      <td>Sport, 40'</td>\n",
       "    </tr>\n",
       "    <tr>\n",
       "      <th>2</th>\n",
       "      <td></td>\n",
       "      <td>58c724ad40b44128791b7e3c</td>\n",
       "      <td>YDS: Easy 5th</td>\n",
       "      <td>Brothers Traverse</td>\n",
       "      <td>YDS: Easy 5th  French: 1+  Ewbanks: 3  UIAA: ...</td>\n",
       "      <td>4,643</td>\n",
       "      <td>spring</td>\n",
       "      <td>3 s</td>\n",
       "      <td>Eric Fjellanger on Jul 20, 2009</td>\n",
       "      <td>Trad, Alpine</td>\n",
       "    </tr>\n",
       "    <tr>\n",
       "      <th>3</th>\n",
       "      <td></td>\n",
       "      <td>58c724b840b44128791b7e3d</td>\n",
       "      <td>YDS: Easy 5th</td>\n",
       "      <td>South Corner</td>\n",
       "      <td>YDS: Easy 5th  French: 1+  Ewbanks: 3  UIAA: ...</td>\n",
       "      <td>200</td>\n",
       "      <td>[]</td>\n",
       "      <td>2.5</td>\n",
       "      <td>Matt. B. on Sep 13, 2015</td>\n",
       "      <td>Trad, Alpine, 2 pitches, 150',  Grade II</td>\n",
       "    </tr>\n",
       "    <tr>\n",
       "      <th>4</th>\n",
       "      <td>1965 Arnie &amp; Diane Bloomer</td>\n",
       "      <td>58c724c240b44128791b7e3e</td>\n",
       "      <td>YDS: 3rd</td>\n",
       "      <td>Honeymoon Route</td>\n",
       "      <td>YDS: 3rd  French: 1-  Ewbanks: 1  UIAA: I  ZA...</td>\n",
       "      <td>11</td>\n",
       "      <td>[]</td>\n",
       "      <td>2 s</td>\n",
       "      <td>JeremyJ on Mar 3, 2017</td>\n",
       "      <td>Trad, Alpine</td>\n",
       "    </tr>\n",
       "    <tr>\n",
       "      <th>5</th>\n",
       "      <td>?</td>\n",
       "      <td>58c724cd40b44128791b7e3f</td>\n",
       "      <td>YDS: 5.10a</td>\n",
       "      <td>The Dinner Plate</td>\n",
       "      <td>YDS: 5.10a  French: 6a  Ewbanks: 18  UIAA: VI...</td>\n",
       "      <td>839</td>\n",
       "      <td>[]</td>\n",
       "      <td>3 s</td>\n",
       "      <td>Joshua Dreher on Sep 28, 2010</td>\n",
       "      <td>Sport, 190'</td>\n",
       "    </tr>\n",
       "    <tr>\n",
       "      <th>6</th>\n",
       "      <td></td>\n",
       "      <td>58c726b740b44128791b7e43</td>\n",
       "      <td>YDS: 5.7</td>\n",
       "      <td>5.7</td>\n",
       "      <td>YDS: 5.7  French: 5a  Ewbanks: 15  UIAA: V+  ...</td>\n",
       "      <td>317</td>\n",
       "      <td>[]</td>\n",
       "      <td>2 s</td>\n",
       "      <td>Keenan Waeschle on Mar 31, 2010</td>\n",
       "      <td>Sport, 40'</td>\n",
       "    </tr>\n",
       "    <tr>\n",
       "      <th>7</th>\n",
       "      <td></td>\n",
       "      <td>58c726c140b44128791b7e44</td>\n",
       "      <td>YDS: 5.8</td>\n",
       "      <td>5.8</td>\n",
       "      <td>YDS: 5.8  French: 5b  Ewbanks: 16  UIAA: VI- ...</td>\n",
       "      <td>253</td>\n",
       "      <td>[]</td>\n",
       "      <td>1.5</td>\n",
       "      <td>Keenan Waeschle on Mar 31, 2010</td>\n",
       "      <td>Sport, 40'</td>\n",
       "    </tr>\n",
       "    <tr>\n",
       "      <th>8</th>\n",
       "      <td></td>\n",
       "      <td>58c726cc40b44128791b7e45</td>\n",
       "      <td>YDS: Easy 5th</td>\n",
       "      <td>Brothers Traverse</td>\n",
       "      <td>YDS: Easy 5th  French: 1+  Ewbanks: 3  UIAA: ...</td>\n",
       "      <td>4,643</td>\n",
       "      <td>spring</td>\n",
       "      <td>3 s</td>\n",
       "      <td>Eric Fjellanger on Jul 20, 2009</td>\n",
       "      <td>Trad, Alpine</td>\n",
       "    </tr>\n",
       "    <tr>\n",
       "      <th>9</th>\n",
       "      <td></td>\n",
       "      <td>58c726d740b44128791b7e46</td>\n",
       "      <td>YDS: Easy 5th</td>\n",
       "      <td>South Corner</td>\n",
       "      <td>YDS: Easy 5th  French: 1+  Ewbanks: 3  UIAA: ...</td>\n",
       "      <td>200</td>\n",
       "      <td>[]</td>\n",
       "      <td>2.5</td>\n",
       "      <td>Matt. B. on Sep 13, 2015</td>\n",
       "      <td>Trad, Alpine, 2 pitches, 150',  Grade II</td>\n",
       "    </tr>\n",
       "    <tr>\n",
       "      <th>10</th>\n",
       "      <td>1965 Arnie &amp; Diane Bloomer</td>\n",
       "      <td>58c726e140b44128791b7e47</td>\n",
       "      <td>YDS: 3rd</td>\n",
       "      <td>Honeymoon Route</td>\n",
       "      <td>YDS: 3rd  French: 1-  Ewbanks: 1  UIAA: I  ZA...</td>\n",
       "      <td>11</td>\n",
       "      <td>[]</td>\n",
       "      <td>2 s</td>\n",
       "      <td>JeremyJ on Mar 3, 2017</td>\n",
       "      <td>Trad, Alpine</td>\n",
       "    </tr>\n",
       "    <tr>\n",
       "      <th>11</th>\n",
       "      <td></td>\n",
       "      <td>58c726ec40b44128791b7e48</td>\n",
       "      <td>YDS: 5.10a</td>\n",
       "      <td>The Dinner Plate</td>\n",
       "      <td>YDS: 5.10a  French: 6a  Ewbanks: 18  UIAA: VI...</td>\n",
       "      <td>839</td>\n",
       "      <td>[]</td>\n",
       "      <td>3 s</td>\n",
       "      <td>Joshua Dreher on Sep 28, 2010</td>\n",
       "      <td>Sport, 190'</td>\n",
       "    </tr>\n",
       "    <tr>\n",
       "      <th>12</th>\n",
       "      <td></td>\n",
       "      <td>58c7277c40b44128791b7e4c</td>\n",
       "      <td>YDS: 5.7</td>\n",
       "      <td>5.7</td>\n",
       "      <td>YDS: 5.7  French: 5a  Ewbanks: 15  UIAA: V+  ...</td>\n",
       "      <td>317</td>\n",
       "      <td>[]</td>\n",
       "      <td>2 s</td>\n",
       "      <td>Keenan Waeschle on Mar 31, 2010</td>\n",
       "      <td>Sport, 40'</td>\n",
       "    </tr>\n",
       "    <tr>\n",
       "      <th>13</th>\n",
       "      <td></td>\n",
       "      <td>58c7278640b44128791b7e4e</td>\n",
       "      <td>YDS: 5.8</td>\n",
       "      <td>5.8</td>\n",
       "      <td>YDS: 5.8  French: 5b  Ewbanks: 16  UIAA: VI- ...</td>\n",
       "      <td>253</td>\n",
       "      <td>[]</td>\n",
       "      <td>1.5</td>\n",
       "      <td>Keenan Waeschle on Mar 31, 2010</td>\n",
       "      <td>Sport, 40'</td>\n",
       "    </tr>\n",
       "    <tr>\n",
       "      <th>14</th>\n",
       "      <td></td>\n",
       "      <td>58c7279140b44128791b7e50</td>\n",
       "      <td>YDS: Easy 5th</td>\n",
       "      <td>Brothers Traverse</td>\n",
       "      <td>YDS: Easy 5th  French: 1+  Ewbanks: 3  UIAA: ...</td>\n",
       "      <td>4,643</td>\n",
       "      <td>spring</td>\n",
       "      <td>3 s</td>\n",
       "      <td>Eric Fjellanger on Jul 20, 2009</td>\n",
       "      <td>Trad, Alpine</td>\n",
       "    </tr>\n",
       "    <tr>\n",
       "      <th>15</th>\n",
       "      <td></td>\n",
       "      <td>58c7279b40b44128791b7e52</td>\n",
       "      <td>YDS: Easy 5th</td>\n",
       "      <td>South Corner</td>\n",
       "      <td>YDS: Easy 5th  French: 1+  Ewbanks: 3  UIAA: ...</td>\n",
       "      <td>200</td>\n",
       "      <td>[]</td>\n",
       "      <td>2.5</td>\n",
       "      <td>Matt. B. on Sep 13, 2015</td>\n",
       "      <td>Trad, Alpine, 2 pitches, 150',  Grade II</td>\n",
       "    </tr>\n",
       "    <tr>\n",
       "      <th>16</th>\n",
       "      <td>1965 Arnie &amp; Diane Bloomer</td>\n",
       "      <td>58c727a540b44128791b7e54</td>\n",
       "      <td>YDS: 3rd</td>\n",
       "      <td>Honeymoon Route</td>\n",
       "      <td>YDS: 3rd  French: 1-  Ewbanks: 1  UIAA: I  ZA...</td>\n",
       "      <td>11</td>\n",
       "      <td>[]</td>\n",
       "      <td>2 s</td>\n",
       "      <td>JeremyJ on Mar 3, 2017</td>\n",
       "      <td>Trad, Alpine</td>\n",
       "    </tr>\n",
       "    <tr>\n",
       "      <th>17</th>\n",
       "      <td></td>\n",
       "      <td>58c727b040b44128791b7e56</td>\n",
       "      <td>YDS: 5.10a</td>\n",
       "      <td>The Dinner Plate</td>\n",
       "      <td>YDS: 5.10a  French: 6a  Ewbanks: 18  UIAA: VI...</td>\n",
       "      <td>839</td>\n",
       "      <td>[]</td>\n",
       "      <td>3 s</td>\n",
       "      <td>Joshua Dreher on Sep 28, 2010</td>\n",
       "      <td>Sport, 190'</td>\n",
       "    </tr>\n",
       "    <tr>\n",
       "      <th>18</th>\n",
       "      <td></td>\n",
       "      <td>58c7289f40b44128791b7e5a</td>\n",
       "      <td>YDS: 5.7</td>\n",
       "      <td>5.7</td>\n",
       "      <td>YDS: 5.7  French: 5a  Ewbanks: 15  UIAA: V+  ...</td>\n",
       "      <td>317</td>\n",
       "      <td>[]</td>\n",
       "      <td>2 s</td>\n",
       "      <td>Keenan Waeschle on Mar 31, 2010</td>\n",
       "      <td>Sport, 40'</td>\n",
       "    </tr>\n",
       "    <tr>\n",
       "      <th>19</th>\n",
       "      <td></td>\n",
       "      <td>58c728aa40b44128791b7e5c</td>\n",
       "      <td>YDS: 5.8</td>\n",
       "      <td>5.8</td>\n",
       "      <td>YDS: 5.8  French: 5b  Ewbanks: 16  UIAA: VI- ...</td>\n",
       "      <td>253</td>\n",
       "      <td>[]</td>\n",
       "      <td>1.5</td>\n",
       "      <td>Keenan Waeschle on Mar 31, 2010</td>\n",
       "      <td>Sport, 40'</td>\n",
       "    </tr>\n",
       "    <tr>\n",
       "      <th>20</th>\n",
       "      <td></td>\n",
       "      <td>58c728b540b44128791b7e5e</td>\n",
       "      <td>YDS: Easy 5th</td>\n",
       "      <td>Brothers Traverse</td>\n",
       "      <td>YDS: Easy 5th  French: 1+  Ewbanks: 3  UIAA: ...</td>\n",
       "      <td>4,643</td>\n",
       "      <td>spring</td>\n",
       "      <td>3 s</td>\n",
       "      <td>Eric Fjellanger on Jul 20, 2009</td>\n",
       "      <td>Trad, Alpine</td>\n",
       "    </tr>\n",
       "    <tr>\n",
       "      <th>21</th>\n",
       "      <td></td>\n",
       "      <td>58c728c040b44128791b7e60</td>\n",
       "      <td>YDS: Easy 5th</td>\n",
       "      <td>South Corner</td>\n",
       "      <td>YDS: Easy 5th  French: 1+  Ewbanks: 3  UIAA: ...</td>\n",
       "      <td>200</td>\n",
       "      <td>[]</td>\n",
       "      <td>2.5</td>\n",
       "      <td>Matt. B. on Sep 13, 2015</td>\n",
       "      <td>Trad, Alpine, 2 pitches, 150',  Grade II</td>\n",
       "    </tr>\n",
       "    <tr>\n",
       "      <th>22</th>\n",
       "      <td>1965 Arnie &amp; Diane Bloomer</td>\n",
       "      <td>58c728cb40b44128791b7e62</td>\n",
       "      <td>YDS: 3rd</td>\n",
       "      <td>Honeymoon Route</td>\n",
       "      <td>YDS: 3rd  French: 1-  Ewbanks: 1  UIAA: I  ZA...</td>\n",
       "      <td>11</td>\n",
       "      <td>[]</td>\n",
       "      <td>2 s</td>\n",
       "      <td>JeremyJ on Mar 3, 2017</td>\n",
       "      <td>Trad, Alpine</td>\n",
       "    </tr>\n",
       "    <tr>\n",
       "      <th>23</th>\n",
       "      <td></td>\n",
       "      <td>58c728d540b44128791b7e64</td>\n",
       "      <td>YDS: 5.10a</td>\n",
       "      <td>The Dinner Plate</td>\n",
       "      <td>YDS: 5.10a  French: 6a  Ewbanks: 18  UIAA: VI...</td>\n",
       "      <td>839</td>\n",
       "      <td>[]</td>\n",
       "      <td>3 s</td>\n",
       "      <td>Joshua Dreher on Sep 28, 2010</td>\n",
       "      <td>Sport, 190'</td>\n",
       "    </tr>\n",
       "    <tr>\n",
       "      <th>24</th>\n",
       "      <td></td>\n",
       "      <td>58c728e040b44128791b7e66</td>\n",
       "      <td>YDS: 5.10c</td>\n",
       "      <td>El Nino La Nina</td>\n",
       "      <td>YDS: 5.10c  French: 6b  Ewbanks: 20  UIAA: VI...</td>\n",
       "      <td>505</td>\n",
       "      <td>[]</td>\n",
       "      <td>2 s</td>\n",
       "      <td>Joshua Dreher on Sep 30, 2010</td>\n",
       "      <td>Sport</td>\n",
       "    </tr>\n",
       "    <tr>\n",
       "      <th>25</th>\n",
       "      <td>Josh Dreher/Jerod Henning</td>\n",
       "      <td>58c728ea40b44128791b7e68</td>\n",
       "      <td>YDS: 5.11+</td>\n",
       "      <td>B.I.D.A.W.A.</td>\n",
       "      <td>YDS: 5.11+  French: 7a  Ewbanks: 24  UIAA: VI...</td>\n",
       "      <td>42</td>\n",
       "      <td>[]</td>\n",
       "      <td>2 s</td>\n",
       "      <td>Joshua Dreher on Sep 28, 2010</td>\n",
       "      <td>Sport</td>\n",
       "    </tr>\n",
       "    <tr>\n",
       "      <th>26</th>\n",
       "      <td></td>\n",
       "      <td>58c728f540b44128791b7e6a</td>\n",
       "      <td>YDS: 5.5</td>\n",
       "      <td>Smocke Monster</td>\n",
       "      <td>YDS: 5.5  French: 4b  Ewbanks: 13  UIAA: IV+ ...</td>\n",
       "      <td>43</td>\n",
       "      <td>[]</td>\n",
       "      <td>2 s</td>\n",
       "      <td>Bruce MacLachlan on Aug 18, 2012</td>\n",
       "      <td>TR, 1 pitch</td>\n",
       "    </tr>\n",
       "    <tr>\n",
       "      <th>27</th>\n",
       "      <td></td>\n",
       "      <td>58c728ff40b44128791b7e6c</td>\n",
       "      <td>YDS: 5.5</td>\n",
       "      <td>Mr Pointy</td>\n",
       "      <td>YDS: 5.5  French: 4b  Ewbanks: 13  UIAA: IV+ ...</td>\n",
       "      <td>44</td>\n",
       "      <td>[]</td>\n",
       "      <td>2 s</td>\n",
       "      <td>Bruce MacLachlan on Aug 18, 2012</td>\n",
       "      <td>TR, 1 pitch</td>\n",
       "    </tr>\n",
       "    <tr>\n",
       "      <th>28</th>\n",
       "      <td></td>\n",
       "      <td>58c7290a40b44128791b7e6e</td>\n",
       "      <td>YDS: 5.6</td>\n",
       "      <td>Wrapped in plastic</td>\n",
       "      <td>YDS: 5.6  French: 4c  Ewbanks: 14  UIAA: V  Z...</td>\n",
       "      <td>105</td>\n",
       "      <td>[]</td>\n",
       "      <td>2 s</td>\n",
       "      <td>Bruce MacLachlan on Aug 18, 2012</td>\n",
       "      <td>TR, 1 pitch</td>\n",
       "    </tr>\n",
       "    <tr>\n",
       "      <th>29</th>\n",
       "      <td></td>\n",
       "      <td>58c7291440b44128791b7e70</td>\n",
       "      <td>YDS: 5.6</td>\n",
       "      <td>Swedgin!</td>\n",
       "      <td>YDS: 5.6  French: 4c  Ewbanks: 14  UIAA: V  Z...</td>\n",
       "      <td>39</td>\n",
       "      <td>[]</td>\n",
       "      <td>2 s</td>\n",
       "      <td>Bruce MacLachlan on Aug 18, 2012</td>\n",
       "      <td>TR, 1 pitch</td>\n",
       "    </tr>\n",
       "    <tr>\n",
       "      <th>30</th>\n",
       "      <td></td>\n",
       "      <td>58c7291f40b44128791b7e72</td>\n",
       "      <td>YDS: 5.6</td>\n",
       "      <td>Don't call me Shirley</td>\n",
       "      <td>YDS: 5.6  French: 4c  Ewbanks: 14  UIAA: V  Z...</td>\n",
       "      <td>41</td>\n",
       "      <td>[]</td>\n",
       "      <td>2 s</td>\n",
       "      <td>Bruce MacLachlan on Aug 18, 2012</td>\n",
       "      <td>TR, 1 pitch</td>\n",
       "    </tr>\n",
       "    <tr>\n",
       "      <th>31</th>\n",
       "      <td></td>\n",
       "      <td>58c7292a40b44128791b7e74</td>\n",
       "      <td>YDS: 5.6</td>\n",
       "      <td>Wu!</td>\n",
       "      <td>YDS: 5.6  French: 4c  Ewbanks: 14  UIAA: V  Z...</td>\n",
       "      <td>29</td>\n",
       "      <td>[]</td>\n",
       "      <td>2 s</td>\n",
       "      <td>Bruce MacLachlan on Aug 18, 2012</td>\n",
       "      <td>TR, 1 pitch</td>\n",
       "    </tr>\n",
       "    <tr>\n",
       "      <th>32</th>\n",
       "      <td></td>\n",
       "      <td>58c7293540b44128791b7e76</td>\n",
       "      <td>YDS: 5.7</td>\n",
       "      <td>These aren't the droids you're looking for</td>\n",
       "      <td>YDS: 5.7  French: 5a  Ewbanks: 15  UIAA: V+  ...</td>\n",
       "      <td>292</td>\n",
       "      <td>[]</td>\n",
       "      <td>3 s</td>\n",
       "      <td>Bruce MacLachlan on Aug 18, 2012</td>\n",
       "      <td>TR, 1 pitch</td>\n",
       "    </tr>\n",
       "    <tr>\n",
       "      <th>33</th>\n",
       "      <td></td>\n",
       "      <td>58c7293f40b44128791b7e78</td>\n",
       "      <td>YDS: 5.8</td>\n",
       "      <td>Sebacean Heat Delirium</td>\n",
       "      <td>YDS: 5.8  French: 5b  Ewbanks: 16  UIAA: VI- ...</td>\n",
       "      <td>283</td>\n",
       "      <td>[]</td>\n",
       "      <td>3 s</td>\n",
       "      <td>Bruce MacLachlan on Aug 18, 2012</td>\n",
       "      <td>TR, 1 pitch</td>\n",
       "    </tr>\n",
       "    <tr>\n",
       "      <th>34</th>\n",
       "      <td></td>\n",
       "      <td>58c7294a40b44128791b7e7a</td>\n",
       "      <td>YDS: 5.8</td>\n",
       "      <td>Crags of the Nephilim</td>\n",
       "      <td>YDS: 5.8  French: 5b  Ewbanks: 16  UIAA: VI- ...</td>\n",
       "      <td>60</td>\n",
       "      <td>[]</td>\n",
       "      <td>2 s</td>\n",
       "      <td>Bruce MacLachlan on Aug 20, 2012</td>\n",
       "      <td>TR, 1 pitch</td>\n",
       "    </tr>\n",
       "    <tr>\n",
       "      <th>35</th>\n",
       "      <td>Colwell, Page, Renfro, Sande, White, 1983</td>\n",
       "      <td>58c7295540b44128791b7e7c</td>\n",
       "      <td>YDS: 5.0</td>\n",
       "      <td>Route 2</td>\n",
       "      <td>YDS: 5.0  French: 2-  Ewbanks: 4  UIAA: I  ZA...</td>\n",
       "      <td>193</td>\n",
       "      <td>June-September</td>\n",
       "      <td>OK</td>\n",
       "      <td>Matt Stewart on Aug 4, 2015</td>\n",
       "      <td>Trad, 2 pitches, 300',  Grade II</td>\n",
       "    </tr>\n",
       "  </tbody>\n",
       "</table>\n",
       "</div>"
      ],
      "text/plain": [
       "                                           FA                       _id  \\\n",
       "0                                              58c7249740b44128791b7e3a   \n",
       "1                                              58c724a140b44128791b7e3b   \n",
       "2                                              58c724ad40b44128791b7e3c   \n",
       "3                                              58c724b840b44128791b7e3d   \n",
       "4                  1965 Arnie & Diane Bloomer  58c724c240b44128791b7e3e   \n",
       "5                                           ?  58c724cd40b44128791b7e3f   \n",
       "6                                              58c726b740b44128791b7e43   \n",
       "7                                              58c726c140b44128791b7e44   \n",
       "8                                              58c726cc40b44128791b7e45   \n",
       "9                                              58c726d740b44128791b7e46   \n",
       "10                 1965 Arnie & Diane Bloomer  58c726e140b44128791b7e47   \n",
       "11                                             58c726ec40b44128791b7e48   \n",
       "12                                             58c7277c40b44128791b7e4c   \n",
       "13                                             58c7278640b44128791b7e4e   \n",
       "14                                             58c7279140b44128791b7e50   \n",
       "15                                             58c7279b40b44128791b7e52   \n",
       "16                 1965 Arnie & Diane Bloomer  58c727a540b44128791b7e54   \n",
       "17                                             58c727b040b44128791b7e56   \n",
       "18                                             58c7289f40b44128791b7e5a   \n",
       "19                                             58c728aa40b44128791b7e5c   \n",
       "20                                             58c728b540b44128791b7e5e   \n",
       "21                                             58c728c040b44128791b7e60   \n",
       "22                 1965 Arnie & Diane Bloomer  58c728cb40b44128791b7e62   \n",
       "23                                             58c728d540b44128791b7e64   \n",
       "24                                             58c728e040b44128791b7e66   \n",
       "25                  Josh Dreher/Jerod Henning  58c728ea40b44128791b7e68   \n",
       "26                                             58c728f540b44128791b7e6a   \n",
       "27                                             58c728ff40b44128791b7e6c   \n",
       "28                                             58c7290a40b44128791b7e6e   \n",
       "29                                             58c7291440b44128791b7e70   \n",
       "30                                             58c7291f40b44128791b7e72   \n",
       "31                                             58c7292a40b44128791b7e74   \n",
       "32                                             58c7293540b44128791b7e76   \n",
       "33                                             58c7293f40b44128791b7e78   \n",
       "34                                             58c7294a40b44128791b7e7a   \n",
       "35  Colwell, Page, Renfro, Sande, White, 1983  58c7295540b44128791b7e7c   \n",
       "\n",
       "             grade                                        name  \\\n",
       "0         YDS: 5.7                                         5.7   \n",
       "1         YDS: 5.8                                         5.8   \n",
       "2    YDS: Easy 5th                           Brothers Traverse   \n",
       "3    YDS: Easy 5th                                South Corner   \n",
       "4         YDS: 3rd                             Honeymoon Route   \n",
       "5       YDS: 5.10a                            The Dinner Plate   \n",
       "6         YDS: 5.7                                         5.7   \n",
       "7         YDS: 5.8                                         5.8   \n",
       "8    YDS: Easy 5th                           Brothers Traverse   \n",
       "9    YDS: Easy 5th                                South Corner   \n",
       "10        YDS: 3rd                             Honeymoon Route   \n",
       "11      YDS: 5.10a                            The Dinner Plate   \n",
       "12        YDS: 5.7                                         5.7   \n",
       "13        YDS: 5.8                                         5.8   \n",
       "14   YDS: Easy 5th                           Brothers Traverse   \n",
       "15   YDS: Easy 5th                                South Corner   \n",
       "16        YDS: 3rd                             Honeymoon Route   \n",
       "17      YDS: 5.10a                            The Dinner Plate   \n",
       "18        YDS: 5.7                                         5.7   \n",
       "19        YDS: 5.8                                         5.8   \n",
       "20   YDS: Easy 5th                           Brothers Traverse   \n",
       "21   YDS: Easy 5th                                South Corner   \n",
       "22        YDS: 3rd                             Honeymoon Route   \n",
       "23      YDS: 5.10a                            The Dinner Plate   \n",
       "24      YDS: 5.10c                             El Nino La Nina   \n",
       "25      YDS: 5.11+                                B.I.D.A.W.A.   \n",
       "26        YDS: 5.5                              Smocke Monster   \n",
       "27        YDS: 5.5                                   Mr Pointy   \n",
       "28        YDS: 5.6                          Wrapped in plastic   \n",
       "29        YDS: 5.6                                    Swedgin!   \n",
       "30        YDS: 5.6                       Don't call me Shirley   \n",
       "31        YDS: 5.6                                         Wu!   \n",
       "32        YDS: 5.7  These aren't the droids you're looking for   \n",
       "33        YDS: 5.8                      Sebacean Heat Delirium   \n",
       "34        YDS: 5.8                       Crags of the Nephilim   \n",
       "35        YDS: 5.0                                     Route 2   \n",
       "\n",
       "                                       original_grade page_views  \\\n",
       "0    YDS: 5.7  French: 5a  Ewbanks: 15  UIAA: V+  ...        317   \n",
       "1    YDS: 5.8  French: 5b  Ewbanks: 16  UIAA: VI- ...        253   \n",
       "2    YDS: Easy 5th  French: 1+  Ewbanks: 3  UIAA: ...      4,643   \n",
       "3    YDS: Easy 5th  French: 1+  Ewbanks: 3  UIAA: ...        200   \n",
       "4    YDS: 3rd  French: 1-  Ewbanks: 1  UIAA: I  ZA...         11   \n",
       "5    YDS: 5.10a  French: 6a  Ewbanks: 18  UIAA: VI...        839   \n",
       "6    YDS: 5.7  French: 5a  Ewbanks: 15  UIAA: V+  ...        317   \n",
       "7    YDS: 5.8  French: 5b  Ewbanks: 16  UIAA: VI- ...        253   \n",
       "8    YDS: Easy 5th  French: 1+  Ewbanks: 3  UIAA: ...      4,643   \n",
       "9    YDS: Easy 5th  French: 1+  Ewbanks: 3  UIAA: ...        200   \n",
       "10   YDS: 3rd  French: 1-  Ewbanks: 1  UIAA: I  ZA...         11   \n",
       "11   YDS: 5.10a  French: 6a  Ewbanks: 18  UIAA: VI...        839   \n",
       "12   YDS: 5.7  French: 5a  Ewbanks: 15  UIAA: V+  ...        317   \n",
       "13   YDS: 5.8  French: 5b  Ewbanks: 16  UIAA: VI- ...        253   \n",
       "14   YDS: Easy 5th  French: 1+  Ewbanks: 3  UIAA: ...      4,643   \n",
       "15   YDS: Easy 5th  French: 1+  Ewbanks: 3  UIAA: ...        200   \n",
       "16   YDS: 3rd  French: 1-  Ewbanks: 1  UIAA: I  ZA...         11   \n",
       "17   YDS: 5.10a  French: 6a  Ewbanks: 18  UIAA: VI...        839   \n",
       "18   YDS: 5.7  French: 5a  Ewbanks: 15  UIAA: V+  ...        317   \n",
       "19   YDS: 5.8  French: 5b  Ewbanks: 16  UIAA: VI- ...        253   \n",
       "20   YDS: Easy 5th  French: 1+  Ewbanks: 3  UIAA: ...      4,643   \n",
       "21   YDS: Easy 5th  French: 1+  Ewbanks: 3  UIAA: ...        200   \n",
       "22   YDS: 3rd  French: 1-  Ewbanks: 1  UIAA: I  ZA...         11   \n",
       "23   YDS: 5.10a  French: 6a  Ewbanks: 18  UIAA: VI...        839   \n",
       "24   YDS: 5.10c  French: 6b  Ewbanks: 20  UIAA: VI...        505   \n",
       "25   YDS: 5.11+  French: 7a  Ewbanks: 24  UIAA: VI...         42   \n",
       "26   YDS: 5.5  French: 4b  Ewbanks: 13  UIAA: IV+ ...         43   \n",
       "27   YDS: 5.5  French: 4b  Ewbanks: 13  UIAA: IV+ ...         44   \n",
       "28   YDS: 5.6  French: 4c  Ewbanks: 14  UIAA: V  Z...        105   \n",
       "29   YDS: 5.6  French: 4c  Ewbanks: 14  UIAA: V  Z...         39   \n",
       "30   YDS: 5.6  French: 4c  Ewbanks: 14  UIAA: V  Z...         41   \n",
       "31   YDS: 5.6  French: 4c  Ewbanks: 14  UIAA: V  Z...         29   \n",
       "32   YDS: 5.7  French: 5a  Ewbanks: 15  UIAA: V+  ...        292   \n",
       "33   YDS: 5.8  French: 5b  Ewbanks: 16  UIAA: VI- ...        283   \n",
       "34   YDS: 5.8  French: 5b  Ewbanks: 16  UIAA: VI- ...         60   \n",
       "35   YDS: 5.0  French: 2-  Ewbanks: 4  UIAA: I  ZA...        193   \n",
       "\n",
       "            season stars                      submitted_by  \\\n",
       "0               []   2 s   Keenan Waeschle on Mar 31, 2010   \n",
       "1               []   1.5   Keenan Waeschle on Mar 31, 2010   \n",
       "2           spring   3 s   Eric Fjellanger on Jul 20, 2009   \n",
       "3               []   2.5          Matt. B. on Sep 13, 2015   \n",
       "4               []   2 s            JeremyJ on Mar 3, 2017   \n",
       "5               []   3 s     Joshua Dreher on Sep 28, 2010   \n",
       "6               []   2 s   Keenan Waeschle on Mar 31, 2010   \n",
       "7               []   1.5   Keenan Waeschle on Mar 31, 2010   \n",
       "8           spring   3 s   Eric Fjellanger on Jul 20, 2009   \n",
       "9               []   2.5          Matt. B. on Sep 13, 2015   \n",
       "10              []   2 s            JeremyJ on Mar 3, 2017   \n",
       "11              []   3 s     Joshua Dreher on Sep 28, 2010   \n",
       "12              []   2 s   Keenan Waeschle on Mar 31, 2010   \n",
       "13              []   1.5   Keenan Waeschle on Mar 31, 2010   \n",
       "14          spring   3 s   Eric Fjellanger on Jul 20, 2009   \n",
       "15              []   2.5          Matt. B. on Sep 13, 2015   \n",
       "16              []   2 s            JeremyJ on Mar 3, 2017   \n",
       "17              []   3 s     Joshua Dreher on Sep 28, 2010   \n",
       "18              []   2 s   Keenan Waeschle on Mar 31, 2010   \n",
       "19              []   1.5   Keenan Waeschle on Mar 31, 2010   \n",
       "20          spring   3 s   Eric Fjellanger on Jul 20, 2009   \n",
       "21              []   2.5          Matt. B. on Sep 13, 2015   \n",
       "22              []   2 s            JeremyJ on Mar 3, 2017   \n",
       "23              []   3 s     Joshua Dreher on Sep 28, 2010   \n",
       "24              []   2 s     Joshua Dreher on Sep 30, 2010   \n",
       "25              []   2 s     Joshua Dreher on Sep 28, 2010   \n",
       "26              []   2 s  Bruce MacLachlan on Aug 18, 2012   \n",
       "27              []   2 s  Bruce MacLachlan on Aug 18, 2012   \n",
       "28              []   2 s  Bruce MacLachlan on Aug 18, 2012   \n",
       "29              []   2 s  Bruce MacLachlan on Aug 18, 2012   \n",
       "30              []   2 s  Bruce MacLachlan on Aug 18, 2012   \n",
       "31              []   2 s  Bruce MacLachlan on Aug 18, 2012   \n",
       "32              []   3 s  Bruce MacLachlan on Aug 18, 2012   \n",
       "33              []   3 s  Bruce MacLachlan on Aug 18, 2012   \n",
       "34              []   2 s  Bruce MacLachlan on Aug 20, 2012   \n",
       "35  June-September   OK        Matt Stewart on Aug 4, 2015   \n",
       "\n",
       "                                        type  \n",
       "0                                 Sport, 40'  \n",
       "1                                 Sport, 40'  \n",
       "2                               Trad, Alpine  \n",
       "3   Trad, Alpine, 2 pitches, 150',  Grade II  \n",
       "4                               Trad, Alpine  \n",
       "5                                Sport, 190'  \n",
       "6                                 Sport, 40'  \n",
       "7                                 Sport, 40'  \n",
       "8                               Trad, Alpine  \n",
       "9   Trad, Alpine, 2 pitches, 150',  Grade II  \n",
       "10                              Trad, Alpine  \n",
       "11                               Sport, 190'  \n",
       "12                                Sport, 40'  \n",
       "13                                Sport, 40'  \n",
       "14                              Trad, Alpine  \n",
       "15  Trad, Alpine, 2 pitches, 150',  Grade II  \n",
       "16                              Trad, Alpine  \n",
       "17                               Sport, 190'  \n",
       "18                                Sport, 40'  \n",
       "19                                Sport, 40'  \n",
       "20                              Trad, Alpine  \n",
       "21  Trad, Alpine, 2 pitches, 150',  Grade II  \n",
       "22                              Trad, Alpine  \n",
       "23                               Sport, 190'  \n",
       "24                                     Sport  \n",
       "25                                     Sport  \n",
       "26                               TR, 1 pitch  \n",
       "27                               TR, 1 pitch  \n",
       "28                               TR, 1 pitch  \n",
       "29                               TR, 1 pitch  \n",
       "30                               TR, 1 pitch  \n",
       "31                               TR, 1 pitch  \n",
       "32                               TR, 1 pitch  \n",
       "33                               TR, 1 pitch  \n",
       "34                               TR, 1 pitch  \n",
       "35          Trad, 2 pitches, 300',  Grade II  "
      ]
     },
     "execution_count": 89,
     "metadata": {},
     "output_type": "execute_result"
    }
   ],
   "source": [
    "client = MongoClient('mongodb://localhost:27017/')\n",
    "db = client.route_info\n",
    "route_info = db.route_info\n",
    "raw_data = route_info.find()\n",
    "df = pd.DataFrame(list(raw_data))\n",
    "df.head(100)"
   ]
  },
  {
   "cell_type": "code",
   "execution_count": null,
   "metadata": {
    "collapsed": true
   },
   "outputs": [],
   "source": []
  },
  {
   "cell_type": "code",
   "execution_count": null,
   "metadata": {
    "collapsed": true
   },
   "outputs": [],
   "source": []
  },
  {
   "cell_type": "code",
   "execution_count": null,
   "metadata": {
    "collapsed": true
   },
   "outputs": [],
   "source": []
  },
  {
   "cell_type": "code",
   "execution_count": 87,
   "metadata": {
    "collapsed": false
   },
   "outputs": [
    {
     "name": "stdout",
     "output_type": "stream",
     "text": [
      "The autoreload extension is already loaded. To reload it, use:\n",
      "  %reload_ext autoreload\n"
     ]
    }
   ],
   "source": [
    "import requests\n",
    "from bs4 import BeautifulSoup\n",
    "import time\n",
    "from urllib import urlencode\n",
    "import selenium.webdriver\n",
    "import random\n",
    "from pymongo import MongoClient\n",
    "import json\n",
    "import boto3\n",
    "from route_url_scraper import (search_route_page, \n",
    "                               all_route_urls, \n",
    "                               scrape_route_page,\n",
    "                               scrape_ratings_by_user,\n",
    "                               scrape_user)\n",
    "from store_in_database import (add_to_route_html_database,\n",
    "                               add_to_rating_database,\n",
    "                               add_to_user_html_database,\n",
    "                               add_route_link_database)\n",
    "%load_ext autoreload\n",
    "%autoreload 2"
   ]
  },
  {
   "cell_type": "code",
   "execution_count": 48,
   "metadata": {
    "collapsed": true
   },
   "outputs": [],
   "source": [
    "client = MongoClient('mongodb://localhost:27017/')\n",
    "db = client.route_url\n",
    "route_url = db.route_url\n",
    "route_url_dict = route_url.find()"
   ]
  },
  {
   "cell_type": "code",
   "execution_count": 49,
   "metadata": {
    "collapsed": false
   },
   "outputs": [],
   "source": [
    "route_href_list = list(route_url_dict)[0]['route_urls']"
   ]
  },
  {
   "cell_type": "code",
   "execution_count": 47,
   "metadata": {
    "collapsed": false
   },
   "outputs": [
    {
     "data": {
      "text/plain": [
       "s3.Object(bucket_name='rockclimbingrecommender', key='ThrowAwayZach')"
      ]
     },
     "execution_count": 47,
     "metadata": {},
     "output_type": "execute_result"
    }
   ],
   "source": [
    "aws = boto3.resource('s3')\n",
    "ww_all = aws.Bucket('rockclimbingrecommender')\n",
    "ww_all.put_object(Body='Zach',Key=\"ThrowAwayZach\")"
   ]
  },
  {
   "cell_type": "code",
   "execution_count": 88,
   "metadata": {
    "collapsed": false
   },
   "outputs": [
    {
     "ename": "KeyboardInterrupt",
     "evalue": "",
     "output_type": "error",
     "traceback": [
      "\u001b[0;31m---------------------------------------------------------------------------\u001b[0m",
      "\u001b[0;31mKeyboardInterrupt\u001b[0m                         Traceback (most recent call last)",
      "\u001b[0;32m<ipython-input-88-ae4b4de0c097>\u001b[0m in \u001b[0;36m<module>\u001b[0;34m()\u001b[0m\n\u001b[1;32m     11\u001b[0m     \u001b[0madd_to_route_html_database\u001b[0m\u001b[0;34m(\u001b[0m\u001b[0mroute_html_dict\u001b[0m\u001b[0;34m)\u001b[0m\u001b[0;34m\u001b[0m\u001b[0m\n\u001b[1;32m     12\u001b[0m \u001b[0;34m\u001b[0m\u001b[0m\n\u001b[0;32m---> 13\u001b[0;31m     \u001b[0muser_url\u001b[0m\u001b[0;34m,\u001b[0m \u001b[0mrating_dict\u001b[0m \u001b[0;34m=\u001b[0m \u001b[0mscrape_ratings_by_user\u001b[0m\u001b[0;34m(\u001b[0m\u001b[0mstar_url\u001b[0m\u001b[0;34m,\u001b[0m \u001b[0mbrowser\u001b[0m\u001b[0;34m)\u001b[0m\u001b[0;34m\u001b[0m\u001b[0m\n\u001b[0m\u001b[1;32m     14\u001b[0m     \u001b[0;31m#key = 'route_rating_by_user/' + route_name\u001b[0m\u001b[0;34m\u001b[0m\u001b[0;34m\u001b[0m\u001b[0m\n\u001b[1;32m     15\u001b[0m     \u001b[0;31m#ww_all.put_object(Metadata=rating_dict, Key=key)\u001b[0m\u001b[0;34m\u001b[0m\u001b[0;34m\u001b[0m\u001b[0m\n",
      "\u001b[0;32m/home/david/work/project/Rock-Climbing-Route-Recommender/src/route_url_scraper.py\u001b[0m in \u001b[0;36mscrape_ratings_by_user\u001b[0;34m(query, browser)\u001b[0m\n\u001b[1;32m    100\u001b[0m     \u001b[0mrating_dict\u001b[0m \u001b[0;34m=\u001b[0m \u001b[0;34m{\u001b[0m\u001b[0;34m'username'\u001b[0m\u001b[0;34m:\u001b[0m \u001b[0;34m[\u001b[0m\u001b[0;34m]\u001b[0m\u001b[0;34m,\u001b[0m \u001b[0;34m'rating'\u001b[0m\u001b[0;34m:\u001b[0m \u001b[0;34m[\u001b[0m\u001b[0;34m]\u001b[0m\u001b[0;34m}\u001b[0m\u001b[0;34m\u001b[0m\u001b[0m\n\u001b[1;32m    101\u001b[0m     \u001b[0murl\u001b[0m \u001b[0;34m=\u001b[0m \u001b[0;34m\"https://www.mountainproject.com%s\"\u001b[0m \u001b[0;34m%\u001b[0m \u001b[0mquery\u001b[0m\u001b[0;34m\u001b[0m\u001b[0m\n\u001b[0;32m--> 102\u001b[0;31m     \u001b[0mhtml\u001b[0m \u001b[0;34m=\u001b[0m \u001b[0mget_html\u001b[0m\u001b[0;34m(\u001b[0m\u001b[0murl\u001b[0m\u001b[0;34m,\u001b[0m \u001b[0mbrowser\u001b[0m\u001b[0;34m)\u001b[0m\u001b[0;34m\u001b[0m\u001b[0m\n\u001b[0m\u001b[1;32m    103\u001b[0m     \u001b[0msoup\u001b[0m \u001b[0;34m=\u001b[0m \u001b[0mBeautifulSoup\u001b[0m\u001b[0;34m(\u001b[0m\u001b[0mhtml\u001b[0m\u001b[0;34m,\u001b[0m \u001b[0;34m'html.parser'\u001b[0m\u001b[0;34m)\u001b[0m\u001b[0;34m\u001b[0m\u001b[0m\n\u001b[1;32m    104\u001b[0m     \u001b[0mtable_tag\u001b[0m \u001b[0;34m=\u001b[0m \u001b[0msoup\u001b[0m\u001b[0;34m.\u001b[0m\u001b[0mfindAll\u001b[0m\u001b[0;34m(\u001b[0m\u001b[0;34m'table'\u001b[0m\u001b[0;34m)\u001b[0m\u001b[0;34m\u001b[0m\u001b[0m\n",
      "\u001b[0;32m/home/david/work/project/Rock-Climbing-Route-Recommender/src/route_url_scraper.py\u001b[0m in \u001b[0;36mget_html\u001b[0;34m(url, browser, delay)\u001b[0m\n\u001b[1;32m     12\u001b[0m     \u001b[0;31m# make delay more random\u001b[0m\u001b[0;34m\u001b[0m\u001b[0;34m\u001b[0m\u001b[0m\n\u001b[1;32m     13\u001b[0m     \u001b[0mdelay\u001b[0m \u001b[0;34m=\u001b[0m \u001b[0mrandom\u001b[0m\u001b[0;34m.\u001b[0m\u001b[0mrandint\u001b[0m\u001b[0;34m(\u001b[0m\u001b[0;36m2\u001b[0m\u001b[0;34m,\u001b[0m \u001b[0;36m6\u001b[0m\u001b[0;34m)\u001b[0m\u001b[0;34m\u001b[0m\u001b[0m\n\u001b[0;32m---> 14\u001b[0;31m     \u001b[0mtime\u001b[0m\u001b[0;34m.\u001b[0m\u001b[0msleep\u001b[0m\u001b[0;34m(\u001b[0m\u001b[0mdelay\u001b[0m\u001b[0;34m)\u001b[0m  \u001b[0;31m# Wait a few seconds before getting the HTML source\u001b[0m\u001b[0;34m\u001b[0m\u001b[0m\n\u001b[0m\u001b[1;32m     15\u001b[0m     \u001b[0;32mreturn\u001b[0m \u001b[0mbrowser\u001b[0m\u001b[0;34m.\u001b[0m\u001b[0mpage_source\u001b[0m\u001b[0;34m\u001b[0m\u001b[0m\n\u001b[1;32m     16\u001b[0m \u001b[0;34m\u001b[0m\u001b[0m\n",
      "\u001b[0;31mKeyboardInterrupt\u001b[0m: "
     ]
    }
   ],
   "source": [
    "browser = selenium.webdriver.PhantomJS()#Firefox()\n",
    "aws = boto3.resource('s3')\n",
    "ww_all = aws.Bucket('rockclimbingrecommender')\n",
    "for route_href in route_href_list:\n",
    "    star_url, route_html, route_name = scrape_route_page(route_href, browser)\n",
    "    #key = 'routes/' + route_name\n",
    "    #ww_all.put_object(Body=route_html, Key= key)\n",
    "    #route_name_utf8 = route_name.encode(\"utf-8\")\n",
    "    #route_html_utf8 = route_html.encode(\"utf-8\")\n",
    "    route_html_dict = {'route': route_name, 'html': route_html}\n",
    "    add_to_route_html_database(route_html_dict)\n",
    "    \n",
    "    user_url, rating_dict = scrape_ratings_by_user(star_url, browser)\n",
    "    #key = 'route_rating_by_user/' + route_name\n",
    "    #ww_all.put_object(Metadata=rating_dict, Key=key)\n",
    "    rating_dict['route'] = route_name\n",
    "    add_to_rating_database(rating_dict)\n",
    "    \n",
    "    user_html, user_name = scrape_user(user_url, browser)\n",
    "    #user_html_utf8 = user_html.encode(\"utf-8\")\n",
    "    #key = 'users/' + user_name\n",
    "    #ww_all.put_object(Body=user_html, Key=key)\n",
    "    user_html_dict = {'username': user_name, 'html': user_html}\n",
    "    add_to_user_html_database(user_html_dict)\n",
    "browser.quit()"
   ]
  },
  {
   "cell_type": "code",
   "execution_count": 89,
   "metadata": {
    "collapsed": false
   },
   "outputs": [
    {
     "data": {
      "text/plain": [
       "u'/v/damnation-crack/105809780'"
      ]
     },
     "execution_count": 89,
     "metadata": {},
     "output_type": "execute_result"
    }
   ],
   "source": [
    "route_href"
   ]
  },
  {
   "cell_type": "code",
   "execution_count": 92,
   "metadata": {
    "collapsed": false
   },
   "outputs": [
    {
     "data": {
      "text/plain": [
       "834"
      ]
     },
     "execution_count": 92,
     "metadata": {},
     "output_type": "execute_result"
    }
   ],
   "source": [
    "route_href_list.index(route_href)"
   ]
  },
  {
   "cell_type": "code",
   "execution_count": 97,
   "metadata": {
    "collapsed": false
   },
   "outputs": [
    {
     "ename": "KeyboardInterrupt",
     "evalue": "",
     "output_type": "error",
     "traceback": [
      "\u001b[0;31m---------------------------------------------------------------------------\u001b[0m",
      "\u001b[0;31mKeyboardInterrupt\u001b[0m                         Traceback (most recent call last)",
      "\u001b[0;32m<ipython-input-97-c8bd3088e42d>\u001b[0m in \u001b[0;36m<module>\u001b[0;34m()\u001b[0m\n\u001b[1;32m      3\u001b[0m \u001b[0mww_all\u001b[0m \u001b[0;34m=\u001b[0m \u001b[0maws\u001b[0m\u001b[0;34m.\u001b[0m\u001b[0mBucket\u001b[0m\u001b[0;34m(\u001b[0m\u001b[0;34m'rockclimbingrecommender'\u001b[0m\u001b[0;34m)\u001b[0m\u001b[0;34m\u001b[0m\u001b[0m\n\u001b[1;32m      4\u001b[0m \u001b[0;32mfor\u001b[0m \u001b[0mroute_href\u001b[0m \u001b[0;32min\u001b[0m \u001b[0mroute_href_list\u001b[0m\u001b[0;34m[\u001b[0m\u001b[0;36m834\u001b[0m\u001b[0;34m:\u001b[0m\u001b[0;34m]\u001b[0m\u001b[0;34m:\u001b[0m\u001b[0;34m\u001b[0m\u001b[0m\n\u001b[0;32m----> 5\u001b[0;31m     \u001b[0mstar_url\u001b[0m\u001b[0;34m,\u001b[0m \u001b[0mroute_html\u001b[0m\u001b[0;34m,\u001b[0m \u001b[0mroute_name\u001b[0m \u001b[0;34m=\u001b[0m \u001b[0mscrape_route_page\u001b[0m\u001b[0;34m(\u001b[0m\u001b[0mroute_href\u001b[0m\u001b[0;34m,\u001b[0m \u001b[0mbrowser\u001b[0m\u001b[0;34m)\u001b[0m\u001b[0;34m\u001b[0m\u001b[0m\n\u001b[0m\u001b[1;32m      6\u001b[0m     \u001b[0;31m#key = 'routes/' + route_name\u001b[0m\u001b[0;34m\u001b[0m\u001b[0;34m\u001b[0m\u001b[0m\n\u001b[1;32m      7\u001b[0m     \u001b[0;31m#ww_all.put_object(Body=route_html, Key= key)\u001b[0m\u001b[0;34m\u001b[0m\u001b[0;34m\u001b[0m\u001b[0m\n",
      "\u001b[0;32m/home/david/work/project/Rock-Climbing-Route-Recommender/src/route_url_scraper.py\u001b[0m in \u001b[0;36mscrape_route_page\u001b[0;34m(query, browser)\u001b[0m\n\u001b[1;32m     83\u001b[0m     '''\n\u001b[1;32m     84\u001b[0m     \u001b[0murl\u001b[0m \u001b[0;34m=\u001b[0m \u001b[0;34m\"https://www.mountainproject.com%s\"\u001b[0m \u001b[0;34m%\u001b[0m \u001b[0mquery\u001b[0m\u001b[0;34m\u001b[0m\u001b[0m\n\u001b[0;32m---> 85\u001b[0;31m     \u001b[0mhtml\u001b[0m \u001b[0;34m=\u001b[0m \u001b[0mget_html\u001b[0m\u001b[0;34m(\u001b[0m\u001b[0murl\u001b[0m\u001b[0;34m,\u001b[0m \u001b[0mbrowser\u001b[0m\u001b[0;34m)\u001b[0m\u001b[0;34m\u001b[0m\u001b[0m\n\u001b[0m\u001b[1;32m     86\u001b[0m     \u001b[0msoup\u001b[0m \u001b[0;34m=\u001b[0m \u001b[0mBeautifulSoup\u001b[0m\u001b[0;34m(\u001b[0m\u001b[0mhtml\u001b[0m\u001b[0;34m,\u001b[0m \u001b[0;34m'html.parser'\u001b[0m\u001b[0;34m)\u001b[0m\u001b[0;34m\u001b[0m\u001b[0m\n\u001b[1;32m     87\u001b[0m     \u001b[0;31m# convert to string from unicode\u001b[0m\u001b[0;34m\u001b[0m\u001b[0;34m\u001b[0m\u001b[0m\n",
      "\u001b[0;32m/home/david/work/project/Rock-Climbing-Route-Recommender/src/route_url_scraper.py\u001b[0m in \u001b[0;36mget_html\u001b[0;34m(url, browser, delay)\u001b[0m\n\u001b[1;32m     12\u001b[0m     \u001b[0;31m# make delay more random\u001b[0m\u001b[0;34m\u001b[0m\u001b[0;34m\u001b[0m\u001b[0m\n\u001b[1;32m     13\u001b[0m     \u001b[0mdelay\u001b[0m \u001b[0;34m=\u001b[0m \u001b[0mrandom\u001b[0m\u001b[0;34m.\u001b[0m\u001b[0mrandint\u001b[0m\u001b[0;34m(\u001b[0m\u001b[0;36m2\u001b[0m\u001b[0;34m,\u001b[0m \u001b[0;36m6\u001b[0m\u001b[0;34m)\u001b[0m\u001b[0;34m\u001b[0m\u001b[0m\n\u001b[0;32m---> 14\u001b[0;31m     \u001b[0mtime\u001b[0m\u001b[0;34m.\u001b[0m\u001b[0msleep\u001b[0m\u001b[0;34m(\u001b[0m\u001b[0mdelay\u001b[0m\u001b[0;34m)\u001b[0m  \u001b[0;31m# Wait a few seconds before getting the HTML source\u001b[0m\u001b[0;34m\u001b[0m\u001b[0m\n\u001b[0m\u001b[1;32m     15\u001b[0m     \u001b[0;32mreturn\u001b[0m \u001b[0mbrowser\u001b[0m\u001b[0;34m.\u001b[0m\u001b[0mpage_source\u001b[0m\u001b[0;34m\u001b[0m\u001b[0m\n\u001b[1;32m     16\u001b[0m \u001b[0;34m\u001b[0m\u001b[0m\n",
      "\u001b[0;31mKeyboardInterrupt\u001b[0m: "
     ]
    }
   ],
   "source": [
    "browser = selenium.webdriver.PhantomJS()#Firefox()\n",
    "aws = boto3.resource('s3')\n",
    "ww_all = aws.Bucket('rockclimbingrecommender')\n",
    "for route_href in route_href_list[834:]:\n",
    "    star_url, route_html, route_name = scrape_route_page(route_href, browser)\n",
    "    #key = 'routes/' + route_name\n",
    "    #ww_all.put_object(Body=route_html, Key= key)\n",
    "    #route_name_utf8 = route_name.encode(\"utf-8\")\n",
    "    #route_html_utf8 = route_html.encode(\"utf-8\")\n",
    "    route_html_dict = {'route': route_name, 'html': route_html}\n",
    "    add_to_route_html_database(route_html_dict)\n",
    "    \n",
    "    user_url, rating_dict = scrape_ratings_by_user(star_url, browser)\n",
    "    #key = 'route_rating_by_user/' + route_name\n",
    "    #ww_all.put_object(Metadata=rating_dict, Key=key)\n",
    "    rating_dict['route'] = route_name\n",
    "    add_to_rating_database(rating_dict)\n",
    "    \n",
    "    user_html, user_name = scrape_user(user_url, browser)\n",
    "    #user_html_utf8 = user_html.encode(\"utf-8\")\n",
    "    #key = 'users/' + user_name\n",
    "    #ww_all.put_object(Body=user_html, Key=key)\n",
    "    user_html_dict = {'username': user_name, 'html': user_html}\n",
    "    add_to_user_html_database(user_html_dict)\n",
    "browser.quit()"
   ]
  },
  {
   "cell_type": "code",
   "execution_count": 98,
   "metadata": {
    "collapsed": false
   },
   "outputs": [
    {
     "data": {
      "text/plain": [
       "u'/v/like-honey/106918228'"
      ]
     },
     "execution_count": 98,
     "metadata": {},
     "output_type": "execute_result"
    }
   ],
   "source": [
    "route_href"
   ]
  },
  {
   "cell_type": "code",
   "execution_count": 99,
   "metadata": {
    "collapsed": false
   },
   "outputs": [
    {
     "data": {
      "text/plain": [
       "3559"
      ]
     },
     "execution_count": 99,
     "metadata": {},
     "output_type": "execute_result"
    }
   ],
   "source": [
    "route_href_list.index(route_href)"
   ]
  },
  {
   "cell_type": "code",
   "execution_count": 100,
   "metadata": {
    "collapsed": false
   },
   "outputs": [
    {
     "data": {
      "text/plain": [
       "3744"
      ]
     },
     "execution_count": 100,
     "metadata": {},
     "output_type": "execute_result"
    }
   ],
   "source": [
    "len(route_href_list)"
   ]
  },
  {
   "cell_type": "code",
   "execution_count": 101,
   "metadata": {
    "collapsed": false
   },
   "outputs": [
    {
     "ename": "AttributeError",
     "evalue": "'NoneType' object has no attribute 'find'",
     "output_type": "error",
     "traceback": [
      "\u001b[0;31m---------------------------------------------------------------------------\u001b[0m",
      "\u001b[0;31mAttributeError\u001b[0m                            Traceback (most recent call last)",
      "\u001b[0;32m<ipython-input-101-783c5c823ad3>\u001b[0m in \u001b[0;36m<module>\u001b[0;34m()\u001b[0m\n\u001b[1;32m      3\u001b[0m \u001b[0mww_all\u001b[0m \u001b[0;34m=\u001b[0m \u001b[0maws\u001b[0m\u001b[0;34m.\u001b[0m\u001b[0mBucket\u001b[0m\u001b[0;34m(\u001b[0m\u001b[0;34m'rockclimbingrecommender'\u001b[0m\u001b[0;34m)\u001b[0m\u001b[0;34m\u001b[0m\u001b[0m\n\u001b[1;32m      4\u001b[0m \u001b[0;32mfor\u001b[0m \u001b[0mroute_href\u001b[0m \u001b[0;32min\u001b[0m \u001b[0mroute_href_list\u001b[0m\u001b[0;34m[\u001b[0m\u001b[0;36m3559\u001b[0m\u001b[0;34m:\u001b[0m\u001b[0;34m]\u001b[0m\u001b[0;34m:\u001b[0m\u001b[0;34m\u001b[0m\u001b[0m\n\u001b[0;32m----> 5\u001b[0;31m     \u001b[0mstar_url\u001b[0m\u001b[0;34m,\u001b[0m \u001b[0mroute_html\u001b[0m\u001b[0;34m,\u001b[0m \u001b[0mroute_name\u001b[0m \u001b[0;34m=\u001b[0m \u001b[0mscrape_route_page\u001b[0m\u001b[0;34m(\u001b[0m\u001b[0mroute_href\u001b[0m\u001b[0;34m,\u001b[0m \u001b[0mbrowser\u001b[0m\u001b[0;34m)\u001b[0m\u001b[0;34m\u001b[0m\u001b[0m\n\u001b[0m\u001b[1;32m      6\u001b[0m     \u001b[0;31m#key = 'routes/' + route_name\u001b[0m\u001b[0;34m\u001b[0m\u001b[0;34m\u001b[0m\u001b[0m\n\u001b[1;32m      7\u001b[0m     \u001b[0;31m#ww_all.put_object(Body=route_html, Key= key)\u001b[0m\u001b[0;34m\u001b[0m\u001b[0;34m\u001b[0m\u001b[0m\n",
      "\u001b[0;32m/home/david/work/project/Rock-Climbing-Route-Recommender/src/route_url_scraper.py\u001b[0m in \u001b[0;36mscrape_route_page\u001b[0;34m(query, browser)\u001b[0m\n\u001b[1;32m     86\u001b[0m     \u001b[0msoup\u001b[0m \u001b[0;34m=\u001b[0m \u001b[0mBeautifulSoup\u001b[0m\u001b[0;34m(\u001b[0m\u001b[0mhtml\u001b[0m\u001b[0;34m,\u001b[0m \u001b[0;34m'html.parser'\u001b[0m\u001b[0;34m)\u001b[0m\u001b[0;34m\u001b[0m\u001b[0m\n\u001b[1;32m     87\u001b[0m     \u001b[0;31m# convert to string from unicode\u001b[0m\u001b[0;34m\u001b[0m\u001b[0;34m\u001b[0m\u001b[0m\n\u001b[0;32m---> 88\u001b[0;31m     star_url = str(soup.find('span', {'id': 'starSummaryText'}).\\\n\u001b[0m\u001b[1;32m     89\u001b[0m \t\t\t\tfind('a', href=True).get('href'))\n\u001b[1;32m     90\u001b[0m     \u001b[0mpage_tag\u001b[0m \u001b[0;34m=\u001b[0m \u001b[0msoup\u001b[0m\u001b[0;34m.\u001b[0m\u001b[0mfind\u001b[0m\u001b[0;34m(\u001b[0m\u001b[0;34m'div'\u001b[0m\u001b[0;34m,\u001b[0m \u001b[0;34m{\u001b[0m\u001b[0;34m'id'\u001b[0m\u001b[0;34m:\u001b[0m \u001b[0;34m'rspCol800'\u001b[0m\u001b[0;34m}\u001b[0m\u001b[0;34m)\u001b[0m\u001b[0;34m\u001b[0m\u001b[0m\n",
      "\u001b[0;31mAttributeError\u001b[0m: 'NoneType' object has no attribute 'find'"
     ]
    }
   ],
   "source": [
    "browser = selenium.webdriver.PhantomJS()#Firefox()\n",
    "aws = boto3.resource('s3')\n",
    "ww_all = aws.Bucket('rockclimbingrecommender')\n",
    "for route_href in route_href_list[3559:]:\n",
    "    star_url, route_html, route_name = scrape_route_page(route_href, browser)\n",
    "    #key = 'routes/' + route_name\n",
    "    #ww_all.put_object(Body=route_html, Key= key)\n",
    "    #route_name_utf8 = route_name.encode(\"utf-8\")\n",
    "    #route_html_utf8 = route_html.encode(\"utf-8\")\n",
    "    route_html_dict = {'route': route_name, 'html': route_html}\n",
    "    add_to_route_html_database(route_html_dict)\n",
    "    \n",
    "    user_url, rating_dict = scrape_ratings_by_user(star_url, browser)\n",
    "    #key = 'route_rating_by_user/' + route_name\n",
    "    #ww_all.put_object(Metadata=rating_dict, Key=key)\n",
    "    rating_dict['route'] = route_name\n",
    "    add_to_rating_database(rating_dict)\n",
    "    \n",
    "    user_html, user_name = scrape_user(user_url, browser)\n",
    "    #user_html_utf8 = user_html.encode(\"utf-8\")\n",
    "    #key = 'users/' + user_name\n",
    "    #ww_all.put_object(Body=user_html, Key=key)\n",
    "    user_html_dict = {'username': user_name, 'html': user_html}\n",
    "    # check if name in database before storing\n",
    "    add_to_user_html_database(user_html_dict)\n",
    "browser.quit()"
   ]
  },
  {
   "cell_type": "code",
   "execution_count": 103,
   "metadata": {
    "collapsed": false
   },
   "outputs": [
    {
     "data": {
      "text/plain": [
       "3726"
      ]
     },
     "execution_count": 103,
     "metadata": {},
     "output_type": "execute_result"
    }
   ],
   "source": [
    "route_href_list.index(route_href)"
   ]
  },
  {
   "cell_type": "code",
   "execution_count": 4,
   "metadata": {
    "collapsed": true
   },
   "outputs": [],
   "source": [
    "client = MongoClient('mongodb://localhost:27017/')\n",
    "db = client.route_html_collection"
   ]
  },
  {
   "cell_type": "code",
   "execution_count": 7,
   "metadata": {
    "collapsed": false
   },
   "outputs": [
    {
     "data": {
      "text/html": [
       "<div>\n",
       "<table border=\"1\" class=\"dataframe\">\n",
       "  <thead>\n",
       "    <tr style=\"text-align: right;\">\n",
       "      <th></th>\n",
       "      <th>_id</th>\n",
       "      <th>html</th>\n",
       "      <th>route</th>\n",
       "    </tr>\n",
       "  </thead>\n",
       "  <tbody>\n",
       "    <tr>\n",
       "      <th>0</th>\n",
       "      <td>58c8ab2240b44102a84b016d</td>\n",
       "      <td>&lt;!DOCTYPE html&gt;&lt;html xmlns=\"http://www.w3.org/...</td>\n",
       "      <td>Crystal Ship</td>\n",
       "    </tr>\n",
       "    <tr>\n",
       "      <th>1</th>\n",
       "      <td>58c8ab3140b44102a84b0173</td>\n",
       "      <td>&lt;!DOCTYPE html&gt;&lt;html xmlns=\"http://www.w3.org/...</td>\n",
       "      <td>Cutting Teeth</td>\n",
       "    </tr>\n",
       "    <tr>\n",
       "      <th>2</th>\n",
       "      <td>58c8ab4240b44102a84b0179</td>\n",
       "      <td>&lt;!DOCTYPE html&gt;&lt;html xmlns=\"http://www.w3.org/...</td>\n",
       "      <td>D</td>\n",
       "    </tr>\n",
       "    <tr>\n",
       "      <th>3</th>\n",
       "      <td>58c8ab4a40b44102a84b017f</td>\n",
       "      <td>&lt;!DOCTYPE html&gt;&lt;html xmlns=\"http://www.w3.org/...</td>\n",
       "      <td>Dad's Nuts</td>\n",
       "    </tr>\n",
       "    <tr>\n",
       "      <th>4</th>\n",
       "      <td>58c8ab5540b44102a84b0185</td>\n",
       "      <td>&lt;!DOCTYPE html&gt;&lt;html xmlns=\"http://www.w3.org/...</td>\n",
       "      <td>Damnation Crack</td>\n",
       "    </tr>\n",
       "    <tr>\n",
       "      <th>5</th>\n",
       "      <td>58c8c58940b44102a84b0187</td>\n",
       "      <td>&lt;!DOCTYPE html&gt;&lt;html xmlns=\"http://www.w3.org/...</td>\n",
       "      <td>Damnation Crack</td>\n",
       "    </tr>\n",
       "    <tr>\n",
       "      <th>6</th>\n",
       "      <td>58c8c59840b44102a84b018d</td>\n",
       "      <td>&lt;!DOCTYPE html&gt;&lt;html xmlns=\"http://www.w3.org/...</td>\n",
       "      <td>Day Tripper</td>\n",
       "    </tr>\n",
       "    <tr>\n",
       "      <th>7</th>\n",
       "      <td>58c8c5a540b44102a84b0193</td>\n",
       "      <td>&lt;!DOCTYPE html&gt;&lt;html xmlns=\"http://www.w3.org/...</td>\n",
       "      <td>Death By Jenga</td>\n",
       "    </tr>\n",
       "    <tr>\n",
       "      <th>8</th>\n",
       "      <td>58c8c5b440b44102a84b0199</td>\n",
       "      <td>&lt;!DOCTYPE html&gt;&lt;html xmlns=\"http://www.w3.org/...</td>\n",
       "      <td>Deception Crack</td>\n",
       "    </tr>\n",
       "    <tr>\n",
       "      <th>9</th>\n",
       "      <td>58c8c5c140b44102a84b019f</td>\n",
       "      <td>&lt;!DOCTYPE html&gt;&lt;html xmlns=\"http://www.w3.org/...</td>\n",
       "      <td>Delayed Adolescence</td>\n",
       "    </tr>\n",
       "  </tbody>\n",
       "</table>\n",
       "</div>"
      ],
      "text/plain": [
       "                        _id  \\\n",
       "0  58c8ab2240b44102a84b016d   \n",
       "1  58c8ab3140b44102a84b0173   \n",
       "2  58c8ab4240b44102a84b0179   \n",
       "3  58c8ab4a40b44102a84b017f   \n",
       "4  58c8ab5540b44102a84b0185   \n",
       "5  58c8c58940b44102a84b0187   \n",
       "6  58c8c59840b44102a84b018d   \n",
       "7  58c8c5a540b44102a84b0193   \n",
       "8  58c8c5b440b44102a84b0199   \n",
       "9  58c8c5c140b44102a84b019f   \n",
       "\n",
       "                                                html                route  \n",
       "0  <!DOCTYPE html><html xmlns=\"http://www.w3.org/...         Crystal Ship  \n",
       "1  <!DOCTYPE html><html xmlns=\"http://www.w3.org/...        Cutting Teeth  \n",
       "2  <!DOCTYPE html><html xmlns=\"http://www.w3.org/...                    D  \n",
       "3  <!DOCTYPE html><html xmlns=\"http://www.w3.org/...           Dad's Nuts  \n",
       "4  <!DOCTYPE html><html xmlns=\"http://www.w3.org/...      Damnation Crack  \n",
       "5  <!DOCTYPE html><html xmlns=\"http://www.w3.org/...      Damnation Crack  \n",
       "6  <!DOCTYPE html><html xmlns=\"http://www.w3.org/...          Day Tripper  \n",
       "7  <!DOCTYPE html><html xmlns=\"http://www.w3.org/...       Death By Jenga  \n",
       "8  <!DOCTYPE html><html xmlns=\"http://www.w3.org/...      Deception Crack  \n",
       "9  <!DOCTYPE html><html xmlns=\"http://www.w3.org/...  Delayed Adolescence  "
      ]
     },
     "execution_count": 7,
     "metadata": {},
     "output_type": "execute_result"
    }
   ],
   "source": [
    "route_html_list = list(db.route_html_collection.find())\n",
    "pd.DataFrame(route_html_list[830:840])"
   ]
  },
  {
   "cell_type": "code",
   "execution_count": null,
   "metadata": {
    "collapsed": true
   },
   "outputs": [],
   "source": [
    "pd.DataFrame(route_html_list[3558:3560])"
   ]
  }
 ],
 "metadata": {
  "anaconda-cloud": {},
  "kernelspec": {
   "display_name": "Python 2",
   "language": "python",
   "name": "python2"
  },
  "language_info": {
   "codemirror_mode": {
    "name": "ipython",
    "version": 2
   },
   "file_extension": ".py",
   "mimetype": "text/x-python",
   "name": "python",
   "nbconvert_exporter": "python",
   "pygments_lexer": "ipython2",
   "version": "2.7.13"
  }
 },
 "nbformat": 4,
 "nbformat_minor": 2
}
