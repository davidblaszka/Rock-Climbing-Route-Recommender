{
 "cells": [
  {
   "cell_type": "code",
   "execution_count": 20,
   "metadata": {
    "collapsed": true
   },
   "outputs": [],
   "source": [
    "from pymongo import MongoClient\n",
    "import pandas as pd\n",
    "from sklearn.ensemble import GradientBoostingRegressor\n",
    "from sklearn.model_selection import train_test_split\n",
    "from sklearn.metrics import mean_squared_error\n",
    "import numpy as np\n",
    "import matplotlib.pyplot as plt\n",
    "%matplotlib inline\n",
    "from ggplot import *\n",
    "from sklearn.externals import joblib"
   ]
  },
  {
   "cell_type": "code",
   "execution_count": 7,
   "metadata": {
    "collapsed": true
   },
   "outputs": [],
   "source": [
    "import pyspark\n",
    "from pyspark.sql.types import *\n",
    "from pyspark.ml.tuning import TrainValidationSplit\n",
    "from pyspark.ml.recommendation import ALS, ALSModel\n",
    "from pyspark.ml.evaluation import RegressionEvaluator"
   ]
  },
  {
   "cell_type": "code",
   "execution_count": 8,
   "metadata": {
    "collapsed": false
   },
   "outputs": [
    {
     "data": {
      "text/plain": [
       "(<pyspark.sql.session.SparkSession at 0x7f8b5f4167d0>,\n",
       " <pyspark.context.SparkContext at 0x7f8b8c7cc8d0>)"
      ]
     },
     "execution_count": 8,
     "metadata": {},
     "output_type": "execute_result"
    }
   ],
   "source": [
    "# Build our Spark Session and Context\n",
    "spark = pyspark.sql.SparkSession.builder.getOrCreate()\n",
    "sc = spark.sparkContext\n",
    "spark, sc"
   ]
  },
  {
   "cell_type": "code",
   "execution_count": 11,
   "metadata": {
    "collapsed": true
   },
   "outputs": [],
   "source": [
    "# load data frame from csv\n",
    "routes_df = pd.read_csv(\"routes_df.csv\", sep='\\t').drop('Unnamed: 0', axis=1)\n",
    "users_df = pd.read_csv(\"users_df.csv\", sep='\\t').drop('Unnamed: 0', axis=1)"
   ]
  },
  {
   "cell_type": "code",
   "execution_count": 16,
   "metadata": {
    "collapsed": false
   },
   "outputs": [
    {
     "data": {
      "text/html": [
       "<div>\n",
       "<table border=\"1\" class=\"dataframe\">\n",
       "  <thead>\n",
       "    <tr style=\"text-align: right;\">\n",
       "      <th></th>\n",
       "      <th>age</th>\n",
       "      <th>compliments</th>\n",
       "      <th>likes_gym</th>\n",
       "      <th>likes_sport</th>\n",
       "      <th>likes_tr</th>\n",
       "      <th>likes_trad</th>\n",
       "      <th>member_since</th>\n",
       "      <th>point_rank</th>\n",
       "      <th>total_points</th>\n",
       "      <th>aid_follows_ C0</th>\n",
       "      <th>...</th>\n",
       "      <th>state_ or</th>\n",
       "      <th>state_ pa</th>\n",
       "      <th>state_ ri</th>\n",
       "      <th>state_ tx</th>\n",
       "      <th>state_ ut</th>\n",
       "      <th>state_ va</th>\n",
       "      <th>state_ wa</th>\n",
       "      <th>state_ wy</th>\n",
       "      <th>male</th>\n",
       "      <th>female</th>\n",
       "    </tr>\n",
       "  </thead>\n",
       "  <tbody>\n",
       "    <tr>\n",
       "      <th>0</th>\n",
       "      <td>30.0</td>\n",
       "      <td>0</td>\n",
       "      <td>1</td>\n",
       "      <td>1</td>\n",
       "      <td>1</td>\n",
       "      <td>1</td>\n",
       "      <td>2006-12-12</td>\n",
       "      <td>691.0</td>\n",
       "      <td>990</td>\n",
       "      <td>0</td>\n",
       "      <td>...</td>\n",
       "      <td>0</td>\n",
       "      <td>0</td>\n",
       "      <td>0</td>\n",
       "      <td>0</td>\n",
       "      <td>0</td>\n",
       "      <td>0</td>\n",
       "      <td>0</td>\n",
       "      <td>0</td>\n",
       "      <td>1</td>\n",
       "      <td>0</td>\n",
       "    </tr>\n",
       "  </tbody>\n",
       "</table>\n",
       "<p>1 rows × 599 columns</p>\n",
       "</div>"
      ],
      "text/plain": [
       "    age  compliments  likes_gym  likes_sport  likes_tr  likes_trad  \\\n",
       "0  30.0            0          1            1         1           1   \n",
       "\n",
       "  member_since  point_rank  total_points  aid_follows_ C0   ...    state_ or  \\\n",
       "0   2006-12-12       691.0           990                0   ...            0   \n",
       "\n",
       "   state_ pa  state_ ri  state_ tx  state_ ut  state_ va  state_ wa  \\\n",
       "0          0          0          0          0          0          0   \n",
       "\n",
       "   state_ wy  male  female  \n",
       "0          0     1       0  \n",
       "\n",
       "[1 rows x 599 columns]"
      ]
     },
     "execution_count": 16,
     "metadata": {},
     "output_type": "execute_result"
    }
   ],
   "source": [
    "# using blake herrington because he's an author of climbing books\n",
    "user_info = users_df[users_df['name'] == 'blakeherrington']\n",
    "user_info = user_info.reset_index().drop(['index', 'name', 'id'], axis=1)\n",
    "user_info.head()"
   ]
  },
  {
   "cell_type": "markdown",
   "metadata": {},
   "source": [
    "## AlS model predictions"
   ]
  },
  {
   "cell_type": "code",
   "execution_count": 14,
   "metadata": {
    "collapsed": false
   },
   "outputs": [],
   "source": [
    "data = pd.DataFrame(columns=['route_id', 'user_id'])\n",
    "data['user_id'] = (0 * routes_df['id']) + 560 \n",
    "data['route_id'] = routes_df['id']\n",
    "one_row_spark_df = spark.createDataFrame(data)"
   ]
  },
  {
   "cell_type": "code",
   "execution_count": 15,
   "metadata": {
    "collapsed": false
   },
   "outputs": [],
   "source": [
    "path = '/home/david/work/project/Rock-Climbing-Route-Recommender/src/alsmodel2'\n",
    "recommender = ALSModel.load(path)"
   ]
  },
  {
   "cell_type": "code",
   "execution_count": 17,
   "metadata": {
    "collapsed": false
   },
   "outputs": [
    {
     "name": "stdout",
     "output_type": "stream",
     "text": [
      "+--------+-------+----------+\n",
      "|route_id|user_id|prediction|\n",
      "+--------+-------+----------+\n",
      "|       0|    560|0.66706514|\n",
      "|       1|    560|0.66706514|\n",
      "|       2|    560| 1.0090904|\n",
      "|       3|    560|  2.061585|\n",
      "|       4|    560| 1.3083812|\n",
      "|       5|    560| 1.7657901|\n",
      "|       6|    560| 1.4877522|\n",
      "|       7|    560| 2.1482205|\n",
      "|       8|    560| 0.9607993|\n",
      "|       9|    560| 3.2223313|\n",
      "|      10|    560| 1.4838066|\n",
      "|      11|    560|  2.020525|\n",
      "|      12|    560|  1.420278|\n",
      "|      13|    560|       NaN|\n",
      "|      14|    560| 1.2512287|\n",
      "|      15|    560| 2.1482205|\n",
      "|      16|    560| 1.5004058|\n",
      "|      17|    560| 1.7346239|\n",
      "|      18|    560| 2.7071037|\n",
      "|      19|    560|       NaN|\n",
      "+--------+-------+----------+\n",
      "only showing top 20 rows\n",
      "\n"
     ]
    }
   ],
   "source": [
    "# Get the recommender's prediction\n",
    "recs = recommender.transform(one_row_spark_df)\n",
    "recs.show()"
   ]
  },
  {
   "cell_type": "markdown",
   "metadata": {},
   "source": [
    "## Gradient Boosting Predictions"
   ]
  },
  {
   "cell_type": "code",
   "execution_count": 22,
   "metadata": {
    "collapsed": false
   },
   "outputs": [],
   "source": [
    "gb = joblib.load('../pickle/gb_model.pkl') "
   ]
  },
  {
   "cell_type": "code",
   "execution_count": 23,
   "metadata": {
    "collapsed": false
   },
   "outputs": [],
   "source": [
    "gb_predictions = []\n",
    "for route_id in routes_df['id']:\n",
    "    df1 = routes_df[routes_df['id'] == route_id]\n",
    "    df1 = df1.reset_index().drop(['index', 'id'], axis=1)\n",
    "    df1 = user_info.join(df1).drop('member_since', axis=1)\n",
    "    gb_predictions.append(gb.predict(df1))"
   ]
  },
  {
   "cell_type": "code",
   "execution_count": 25,
   "metadata": {
    "collapsed": false
   },
   "outputs": [
    {
     "data": {
      "text/html": [
       "<div>\n",
       "<table border=\"1\" class=\"dataframe\">\n",
       "  <thead>\n",
       "    <tr style=\"text-align: right;\">\n",
       "      <th></th>\n",
       "      <th>route_id</th>\n",
       "      <th>user_id</th>\n",
       "      <th>prediction</th>\n",
       "      <th>weighted</th>\n",
       "      <th>weighted2</th>\n",
       "    </tr>\n",
       "  </thead>\n",
       "  <tbody>\n",
       "    <tr>\n",
       "      <th>3369</th>\n",
       "      <td>3369</td>\n",
       "      <td>560</td>\n",
       "      <td>4.296441</td>\n",
       "      <td>4.111942</td>\n",
       "      <td>4.380576</td>\n",
       "    </tr>\n",
       "    <tr>\n",
       "      <th>595</th>\n",
       "      <td>595</td>\n",
       "      <td>560</td>\n",
       "      <td>4.296441</td>\n",
       "      <td>3.931984</td>\n",
       "      <td>4.066301</td>\n",
       "    </tr>\n",
       "    <tr>\n",
       "      <th>3390</th>\n",
       "      <td>3390</td>\n",
       "      <td>560</td>\n",
       "      <td>3.834976</td>\n",
       "      <td>3.746004</td>\n",
       "      <td>4.014638</td>\n",
       "    </tr>\n",
       "    <tr>\n",
       "      <th>1978</th>\n",
       "      <td>1978</td>\n",
       "      <td>560</td>\n",
       "      <td>4.296441</td>\n",
       "      <td>3.954001</td>\n",
       "      <td>4.001407</td>\n",
       "    </tr>\n",
       "    <tr>\n",
       "      <th>1384</th>\n",
       "      <td>1384</td>\n",
       "      <td>560</td>\n",
       "      <td>4.146386</td>\n",
       "      <td>3.871374</td>\n",
       "      <td>3.987256</td>\n",
       "    </tr>\n",
       "    <tr>\n",
       "      <th>2538</th>\n",
       "      <td>2538</td>\n",
       "      <td>560</td>\n",
       "      <td>4.296441</td>\n",
       "      <td>3.957066</td>\n",
       "      <td>3.983403</td>\n",
       "    </tr>\n",
       "  </tbody>\n",
       "</table>\n",
       "</div>"
      ],
      "text/plain": [
       "      route_id  user_id  prediction  weighted  weighted2\n",
       "3369      3369      560    4.296441  4.111942   4.380576\n",
       "595        595      560    4.296441  3.931984   4.066301\n",
       "3390      3390      560    3.834976  3.746004   4.014638\n",
       "1978      1978      560    4.296441  3.954001   4.001407\n",
       "1384      1384      560    4.146386  3.871374   3.987256\n",
       "2538      2538      560    4.296441  3.957066   3.983403"
      ]
     },
     "execution_count": 25,
     "metadata": {},
     "output_type": "execute_result"
    }
   ],
   "source": [
    "recs_df = recs.toPandas().drop_duplicates(subset='route_id')\n",
    "recs_df['weighted'] = (0.8 * recs_df['prediction']) + (0.2 * pd.DataFrame(gb_predictions)[0])\n",
    "# weight based on model \n",
    "weight1 = 0.16161616161616163\n",
    "normalized_rating_count = routes_df['num_reviews'] / float(routes_df['num_reviews'].max())\n",
    "recs_df['weighted2'] = recs_df['weighted'] + (weight1 * normalized_rating_count).tolist()\n",
    "recs_df.sort_values('weighted2', ascending=False).head(6)"
   ]
  },
  {
   "cell_type": "code",
   "execution_count": null,
   "metadata": {
    "collapsed": true
   },
   "outputs": [],
   "source": []
  },
  {
   "cell_type": "code",
   "execution_count": null,
   "metadata": {
    "collapsed": true
   },
   "outputs": [],
   "source": []
  },
  {
   "cell_type": "code",
   "execution_count": null,
   "metadata": {
    "collapsed": true
   },
   "outputs": [],
   "source": []
  }
 ],
 "metadata": {
  "kernelspec": {
   "display_name": "Python 2",
   "language": "python",
   "name": "python2"
  },
  "language_info": {
   "codemirror_mode": {
    "name": "ipython",
    "version": 2
   },
   "file_extension": ".py",
   "mimetype": "text/x-python",
   "name": "python",
   "nbconvert_exporter": "python",
   "pygments_lexer": "ipython2",
   "version": "2.7.13"
  }
 },
 "nbformat": 4,
 "nbformat_minor": 2
}
