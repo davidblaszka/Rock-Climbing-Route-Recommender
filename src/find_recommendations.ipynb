{
 "cells": [
  {
   "cell_type": "code",
   "execution_count": 1,
   "metadata": {
    "collapsed": true
   },
   "outputs": [],
   "source": [
    "from pymongo import MongoClient\n",
    "import pandas as pd\n",
    "from sklearn.ensemble import GradientBoostingRegressor\n",
    "from sklearn.model_selection import train_test_split\n",
    "from sklearn.metrics import mean_squared_error\n",
    "import numpy as np\n",
    "import matplotlib.pyplot as plt\n",
    "%matplotlib inline\n",
    "from ggplot import *\n",
    "from sklearn.externals import joblib"
   ]
  },
  {
   "cell_type": "code",
   "execution_count": 2,
   "metadata": {
    "collapsed": true
   },
   "outputs": [],
   "source": [
    "import pyspark\n",
    "from pyspark.sql.types import *\n",
    "from pyspark.ml.tuning import TrainValidationSplit\n",
    "from pyspark.ml.recommendation import ALS, ALSModel\n",
    "from pyspark.ml.evaluation import RegressionEvaluator"
   ]
  },
  {
   "cell_type": "code",
   "execution_count": 3,
   "metadata": {
    "collapsed": false
   },
   "outputs": [
    {
     "data": {
      "text/plain": [
       "(<pyspark.sql.session.SparkSession at 0x7ff20fd8a950>,\n",
       " <pyspark.context.SparkContext at 0x7ff20fccd910>)"
      ]
     },
     "execution_count": 3,
     "metadata": {},
     "output_type": "execute_result"
    }
   ],
   "source": [
    "# Build our Spark Session and Context\n",
    "spark = pyspark.sql.SparkSession.builder.getOrCreate()\n",
    "sc = spark.sparkContext\n",
    "spark, sc"
   ]
  },
  {
   "cell_type": "code",
   "execution_count": 4,
   "metadata": {
    "collapsed": false
   },
   "outputs": [],
   "source": [
    "# load data frame from csv\n",
    "routes_df = pd.read_csv(\"routes_df.csv\", sep='\\t').drop('Unnamed: 0', axis=1)\n",
    "users_df = pd.read_csv(\"users_df.csv\", sep='\\t').drop('Unnamed: 0', axis=1)"
   ]
  },
  {
   "cell_type": "code",
   "execution_count": 5,
   "metadata": {
    "collapsed": false
   },
   "outputs": [
    {
     "data": {
      "text/html": [
       "<div>\n",
       "<table border=\"1\" class=\"dataframe\">\n",
       "  <thead>\n",
       "    <tr style=\"text-align: right;\">\n",
       "      <th></th>\n",
       "      <th>age</th>\n",
       "      <th>compliments</th>\n",
       "      <th>likes_gym</th>\n",
       "      <th>likes_sport</th>\n",
       "      <th>likes_tr</th>\n",
       "      <th>likes_trad</th>\n",
       "      <th>member_since</th>\n",
       "      <th>point_rank</th>\n",
       "      <th>total_points</th>\n",
       "      <th>aid_follows_ C0</th>\n",
       "      <th>...</th>\n",
       "      <th>state_ or</th>\n",
       "      <th>state_ pa</th>\n",
       "      <th>state_ ri</th>\n",
       "      <th>state_ tx</th>\n",
       "      <th>state_ ut</th>\n",
       "      <th>state_ va</th>\n",
       "      <th>state_ wa</th>\n",
       "      <th>state_ wy</th>\n",
       "      <th>male</th>\n",
       "      <th>female</th>\n",
       "    </tr>\n",
       "  </thead>\n",
       "  <tbody>\n",
       "    <tr>\n",
       "      <th>0</th>\n",
       "      <td>30.0</td>\n",
       "      <td>0</td>\n",
       "      <td>1</td>\n",
       "      <td>1</td>\n",
       "      <td>1</td>\n",
       "      <td>1</td>\n",
       "      <td>2006-12-12</td>\n",
       "      <td>691.0</td>\n",
       "      <td>990</td>\n",
       "      <td>0</td>\n",
       "      <td>...</td>\n",
       "      <td>0</td>\n",
       "      <td>0</td>\n",
       "      <td>0</td>\n",
       "      <td>0</td>\n",
       "      <td>0</td>\n",
       "      <td>0</td>\n",
       "      <td>0</td>\n",
       "      <td>0</td>\n",
       "      <td>1</td>\n",
       "      <td>0</td>\n",
       "    </tr>\n",
       "  </tbody>\n",
       "</table>\n",
       "<p>1 rows × 599 columns</p>\n",
       "</div>"
      ],
      "text/plain": [
       "    age  compliments  likes_gym  likes_sport  likes_tr  likes_trad  \\\n",
       "0  30.0            0          1            1         1           1   \n",
       "\n",
       "  member_since  point_rank  total_points  aid_follows_ C0   ...    state_ or  \\\n",
       "0   2006-12-12       691.0           990                0   ...            0   \n",
       "\n",
       "   state_ pa  state_ ri  state_ tx  state_ ut  state_ va  state_ wa  \\\n",
       "0          0          0          0          0          0          0   \n",
       "\n",
       "   state_ wy  male  female  \n",
       "0          0     1       0  \n",
       "\n",
       "[1 rows x 599 columns]"
      ]
     },
     "execution_count": 5,
     "metadata": {},
     "output_type": "execute_result"
    }
   ],
   "source": [
    "# using blake herrington because he's an author of climbing books\n",
    "user_info = users_df[users_df['name'] == 'blakeherrington']\n",
    "user_info = user_info.reset_index().drop(['index', 'name', 'id'], axis=1)\n",
    "user_info.head()"
   ]
  },
  {
   "cell_type": "markdown",
   "metadata": {},
   "source": [
    "## AlS model predictions"
   ]
  },
  {
   "cell_type": "code",
   "execution_count": 6,
   "metadata": {
    "collapsed": false
   },
   "outputs": [],
   "source": [
    "data = pd.DataFrame(columns=['route_id', 'user_id'])\n",
    "data['user_id'] = (0 * routes_df['id']) + 560 \n",
    "data['route_id'] = routes_df['id']\n",
    "one_row_spark_df = spark.createDataFrame(data)"
   ]
  },
  {
   "cell_type": "code",
   "execution_count": 7,
   "metadata": {
    "collapsed": false
   },
   "outputs": [],
   "source": [
    "path = '../data/alsmodel_val'\n",
    "recommender = ALSModel.load(path)"
   ]
  },
  {
   "cell_type": "code",
   "execution_count": 8,
   "metadata": {
    "collapsed": false
   },
   "outputs": [
    {
     "name": "stdout",
     "output_type": "stream",
     "text": [
      "+--------+-------+----------+\n",
      "|route_id|user_id|prediction|\n",
      "+--------+-------+----------+\n",
      "|       0|    560| 0.7462977|\n",
      "|       1|    560| 0.7462977|\n",
      "|       2|    560| 1.2191802|\n",
      "|       3|    560| 2.0401955|\n",
      "|       4|    560| 1.4703317|\n",
      "|       5|    560| 1.7931719|\n",
      "|       6|    560| 1.4951665|\n",
      "|       7|    560| 2.2380855|\n",
      "|       8|    560|0.99331856|\n",
      "|       9|    560| 3.3571277|\n",
      "|      10|    560|   1.67003|\n",
      "|      11|    560| 2.1294944|\n",
      "|      12|    560| 1.3065122|\n",
      "|      13|    560|       NaN|\n",
      "|      14|    560| 1.5387775|\n",
      "|      15|    560| 2.2380855|\n",
      "|      16|    560|  1.282417|\n",
      "|      17|    560| 1.6528205|\n",
      "|      18|    560| 2.7041388|\n",
      "|      19|    560|       NaN|\n",
      "+--------+-------+----------+\n",
      "only showing top 20 rows\n",
      "\n"
     ]
    }
   ],
   "source": [
    "# Get the recommender's prediction\n",
    "recs = recommender.transform(one_row_spark_df)\n",
    "recs.show()"
   ]
  },
  {
   "cell_type": "markdown",
   "metadata": {},
   "source": [
    "## Gradient Boosting Predictions"
   ]
  },
  {
   "cell_type": "code",
   "execution_count": 12,
   "metadata": {
    "collapsed": false
   },
   "outputs": [],
   "source": [
    "gb = joblib.load('../pickle/gb_model_val.pkl') "
   ]
  },
  {
   "cell_type": "code",
   "execution_count": 13,
   "metadata": {
    "collapsed": false
   },
   "outputs": [],
   "source": [
    "gb_predictions = []\n",
    "for route_id in routes_df['id']:\n",
    "    df1 = routes_df[routes_df['id'] == route_id]\n",
    "    df1 = df1.reset_index().drop(['index', 'id'], axis=1)\n",
    "    df1 = user_info.join(df1).drop('member_since', axis=1)\n",
    "    gb_predictions.append(gb.predict(df1))"
   ]
  },
  {
   "cell_type": "code",
   "execution_count": 14,
   "metadata": {
    "collapsed": false
   },
   "outputs": [
    {
     "data": {
      "text/html": [
       "<div>\n",
       "<table border=\"1\" class=\"dataframe\">\n",
       "  <thead>\n",
       "    <tr style=\"text-align: right;\">\n",
       "      <th></th>\n",
       "      <th>route_id</th>\n",
       "      <th>user_id</th>\n",
       "      <th>prediction</th>\n",
       "      <th>weighted</th>\n",
       "      <th>weighted2</th>\n",
       "    </tr>\n",
       "  </thead>\n",
       "  <tbody>\n",
       "    <tr>\n",
       "      <th>3370</th>\n",
       "      <td>3370</td>\n",
       "      <td>560</td>\n",
       "      <td>4.476171</td>\n",
       "      <td>4.060048</td>\n",
       "      <td>4.146356</td>\n",
       "    </tr>\n",
       "    <tr>\n",
       "      <th>1979</th>\n",
       "      <td>1979</td>\n",
       "      <td>560</td>\n",
       "      <td>4.476171</td>\n",
       "      <td>4.071746</td>\n",
       "      <td>4.086977</td>\n",
       "    </tr>\n",
       "    <tr>\n",
       "      <th>1022</th>\n",
       "      <td>1022</td>\n",
       "      <td>560</td>\n",
       "      <td>4.476171</td>\n",
       "      <td>4.079655</td>\n",
       "      <td>4.085578</td>\n",
       "    </tr>\n",
       "    <tr>\n",
       "      <th>595</th>\n",
       "      <td>595</td>\n",
       "      <td>560</td>\n",
       "      <td>4.476171</td>\n",
       "      <td>4.001966</td>\n",
       "      <td>4.045120</td>\n",
       "    </tr>\n",
       "    <tr>\n",
       "      <th>2539</th>\n",
       "      <td>2539</td>\n",
       "      <td>560</td>\n",
       "      <td>4.476171</td>\n",
       "      <td>4.027430</td>\n",
       "      <td>4.035891</td>\n",
       "    </tr>\n",
       "    <tr>\n",
       "      <th>3588</th>\n",
       "      <td>3588</td>\n",
       "      <td>560</td>\n",
       "      <td>4.150783</td>\n",
       "      <td>3.896087</td>\n",
       "      <td>3.900318</td>\n",
       "    </tr>\n",
       "  </tbody>\n",
       "</table>\n",
       "</div>"
      ],
      "text/plain": [
       "      route_id  user_id  prediction  weighted  weighted2\n",
       "3370      3370      560    4.476171  4.060048   4.146356\n",
       "1979      1979      560    4.476171  4.071746   4.086977\n",
       "1022      1022      560    4.476171  4.079655   4.085578\n",
       "595        595      560    4.476171  4.001966   4.045120\n",
       "2539      2539      560    4.476171  4.027430   4.035891\n",
       "3588      3588      560    4.150783  3.896087   3.900318"
      ]
     },
     "execution_count": 14,
     "metadata": {},
     "output_type": "execute_result"
    }
   ],
   "source": [
    "recs_df = recs.toPandas().drop_duplicates(subset='route_id')\n",
    "recs_df['weighted'] = (0.8 * recs_df['prediction']) + (0.2 * pd.DataFrame(gb_predictions)[0])\n",
    "# weight based on model \n",
    "weight1 = 0.16161616161616163\n",
    "normalized_rating_count = routes_df['num_reviews'] / float(routes_df['num_reviews'].max())\n",
    "recs_df['weighted2'] = recs_df['weighted'] + (weight1 * normalized_rating_count).tolist()\n",
    "recs_df.sort_values('weighted2', ascending=False).head(6)"
   ]
  },
  {
   "cell_type": "code",
   "execution_count": null,
   "metadata": {
    "collapsed": true
   },
   "outputs": [],
   "source": []
  },
  {
   "cell_type": "code",
   "execution_count": null,
   "metadata": {
    "collapsed": true
   },
   "outputs": [],
   "source": []
  },
  {
   "cell_type": "code",
   "execution_count": null,
   "metadata": {
    "collapsed": true
   },
   "outputs": [],
   "source": []
  }
 ],
 "metadata": {
  "anaconda-cloud": {},
  "kernelspec": {
   "display_name": "Python 2",
   "language": "python",
   "name": "python2"
  },
  "language_info": {
   "codemirror_mode": {
    "name": "ipython",
    "version": 2
   },
   "file_extension": ".py",
   "mimetype": "text/x-python",
   "name": "python",
   "nbconvert_exporter": "python",
   "pygments_lexer": "ipython2",
   "version": "2.7.13"
  }
 },
 "nbformat": 4,
 "nbformat_minor": 2
}
