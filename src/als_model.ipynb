{
 "cells": [
  {
   "cell_type": "code",
   "execution_count": 3,
   "metadata": {
    "collapsed": false
   },
   "outputs": [
    {
     "name": "stdout",
     "output_type": "stream",
     "text": [
      "The autoreload extension is already loaded. To reload it, use:\n",
      "  %reload_ext autoreload\n"
     ]
    }
   ],
   "source": [
    "from pymongo import MongoClient\n",
    "import pandas as pd\n",
    "from parse_clean_store import (parse_route_page, parse_user, create_ratings_matrix)\n",
    "from bs4 import BeautifulSoup\n",
    "import json\n",
    "import numpy as np\n",
    "%load_ext autoreload\n",
    "%autoreload 2\n",
    "import matplotlib.pyplot as plt\n",
    "%matplotlib inline\n",
    "from ggplot import *"
   ]
  },
  {
   "cell_type": "code",
   "execution_count": 4,
   "metadata": {
    "collapsed": true
   },
   "outputs": [],
   "source": [
    "import pyspark\n",
    "from pyspark.sql.types import *\n",
    "from pyspark.ml.tuning import TrainValidationSplit\n",
    "from pyspark.ml.recommendation import ALS, ALSModel\n",
    "from pyspark.ml.evaluation import RegressionEvaluator"
   ]
  },
  {
   "cell_type": "code",
   "execution_count": 5,
   "metadata": {
    "collapsed": false
   },
   "outputs": [
    {
     "data": {
      "text/plain": [
       "(<pyspark.sql.session.SparkSession at 0x7f7e97fd75d0>,\n",
       " <pyspark.context.SparkContext at 0x7f7e97efd610>)"
      ]
     },
     "execution_count": 5,
     "metadata": {},
     "output_type": "execute_result"
    }
   ],
   "source": [
    "# Build our Spark Session and Context\n",
    "spark = pyspark.sql.SparkSession.builder.getOrCreate()\n",
    "sc = spark.sparkContext\n",
    "spark, sc"
   ]
  },
  {
   "cell_type": "code",
   "execution_count": 57,
   "metadata": {
    "collapsed": false
   },
   "outputs": [
    {
     "data": {
      "text/html": [
       "<div>\n",
       "<table border=\"1\" class=\"dataframe\">\n",
       "  <thead>\n",
       "    <tr style=\"text-align: right;\">\n",
       "      <th></th>\n",
       "      <th>_id</th>\n",
       "      <th>rating</th>\n",
       "      <th>route</th>\n",
       "      <th>username</th>\n",
       "    </tr>\n",
       "  </thead>\n",
       "  <tbody>\n",
       "    <tr>\n",
       "      <th>0</th>\n",
       "      <td>58c87f8c40b44102a84aedfb</td>\n",
       "      <td>[1]</td>\n",
       "      <td>30(1) Feet of Pleasure</td>\n",
       "      <td>[adam winslow ]</td>\n",
       "    </tr>\n",
       "    <tr>\n",
       "      <th>1</th>\n",
       "      <td>58c87f9d40b44102a84aee01</td>\n",
       "      <td>[1]</td>\n",
       "      <td>41 Feet of Pain</td>\n",
       "      <td>[adam winslow ]</td>\n",
       "    </tr>\n",
       "    <tr>\n",
       "      <th>2</th>\n",
       "      <td>58c87fac40b44102a84aee07</td>\n",
       "      <td>[1, 1, 1, 1]</td>\n",
       "      <td>5.5 Crack</td>\n",
       "      <td>[CHopwood , Trevor. , Rickedge , Oscar Edge ]</td>\n",
       "    </tr>\n",
       "    <tr>\n",
       "      <th>3</th>\n",
       "      <td>58c87fb440b44102a84aee0d</td>\n",
       "      <td>[3, 3, 3, 2, 2, 2, 2, 2, 2, 2, 2, 2, 2, 2, 2, ...</td>\n",
       "      <td>5.6 crack</td>\n",
       "      <td>[Bianca P , Sandeep Kumar , Mike Brady , Tom B...</td>\n",
       "    </tr>\n",
       "    <tr>\n",
       "      <th>4</th>\n",
       "      <td>58c87fbf40b44102a84aee13</td>\n",
       "      <td>[2, 2, 2, 2, 1, 1, 1, 1, 1]</td>\n",
       "      <td>5.6 Dihedral</td>\n",
       "      <td>[Jason Killgore , sqwirll , Dave Leydet , fort...</td>\n",
       "    </tr>\n",
       "  </tbody>\n",
       "</table>\n",
       "</div>"
      ],
      "text/plain": [
       "                        _id  \\\n",
       "0  58c87f8c40b44102a84aedfb   \n",
       "1  58c87f9d40b44102a84aee01   \n",
       "2  58c87fac40b44102a84aee07   \n",
       "3  58c87fb440b44102a84aee0d   \n",
       "4  58c87fbf40b44102a84aee13   \n",
       "\n",
       "                                              rating                   route  \\\n",
       "0                                                [1]  30(1) Feet of Pleasure   \n",
       "1                                                [1]         41 Feet of Pain   \n",
       "2                                       [1, 1, 1, 1]               5.5 Crack   \n",
       "3  [3, 3, 3, 2, 2, 2, 2, 2, 2, 2, 2, 2, 2, 2, 2, ...               5.6 crack   \n",
       "4                        [2, 2, 2, 2, 1, 1, 1, 1, 1]            5.6 Dihedral   \n",
       "\n",
       "                                            username  \n",
       "0                                    [adam winslow ]  \n",
       "1                                    [adam winslow ]  \n",
       "2      [CHopwood , Trevor. , Rickedge , Oscar Edge ]  \n",
       "3  [Bianca P , Sandeep Kumar , Mike Brady , Tom B...  \n",
       "4  [Jason Killgore , sqwirll , Dave Leydet , fort...  "
      ]
     },
     "execution_count": 57,
     "metadata": {},
     "output_type": "execute_result"
    }
   ],
   "source": [
    "client = MongoClient('mongodb://localhost:27017/')\n",
    "db = client.ratings_collection\n",
    "ratings_collection = db.ratings_collection\n",
    "raw_data = ratings_collection.find()\n",
    "df_ratings = pd.DataFrame(list(raw_data))\n",
    "df_ratings.head()"
   ]
  },
  {
   "cell_type": "code",
   "execution_count": 104,
   "metadata": {
    "collapsed": false
   },
   "outputs": [
    {
     "data": {
      "text/html": [
       "<div>\n",
       "<table border=\"1\" class=\"dataframe\">\n",
       "  <thead>\n",
       "    <tr style=\"text-align: right;\">\n",
       "      <th></th>\n",
       "      <th>route_id</th>\n",
       "      <th>user_id</th>\n",
       "      <th>rating</th>\n",
       "    </tr>\n",
       "  </thead>\n",
       "  <tbody>\n",
       "    <tr>\n",
       "      <th>0</th>\n",
       "      <td>0</td>\n",
       "      <td>0</td>\n",
       "      <td>1</td>\n",
       "    </tr>\n",
       "    <tr>\n",
       "      <th>1</th>\n",
       "      <td>1</td>\n",
       "      <td>0</td>\n",
       "      <td>1</td>\n",
       "    </tr>\n",
       "    <tr>\n",
       "      <th>2</th>\n",
       "      <td>2</td>\n",
       "      <td>1</td>\n",
       "      <td>1</td>\n",
       "    </tr>\n",
       "    <tr>\n",
       "      <th>3</th>\n",
       "      <td>2</td>\n",
       "      <td>2</td>\n",
       "      <td>1</td>\n",
       "    </tr>\n",
       "    <tr>\n",
       "      <th>4</th>\n",
       "      <td>2</td>\n",
       "      <td>3</td>\n",
       "      <td>1</td>\n",
       "    </tr>\n",
       "  </tbody>\n",
       "</table>\n",
       "</div>"
      ],
      "text/plain": [
       "  route_id user_id rating\n",
       "0        0       0      1\n",
       "1        1       0      1\n",
       "2        2       1      1\n",
       "3        2       2      1\n",
       "4        2       3      1"
      ]
     },
     "execution_count": 104,
     "metadata": {},
     "output_type": "execute_result"
    }
   ],
   "source": [
    "ratings_df_pd = create_ratings_matrix(df_ratings)\n",
    "ratings_df_pd.head()"
   ]
  },
  {
   "cell_type": "code",
   "execution_count": 107,
   "metadata": {
    "collapsed": true
   },
   "outputs": [],
   "source": [
    "df =ratings_df_pd"
   ]
  },
  {
   "cell_type": "code",
   "execution_count": 118,
   "metadata": {
    "collapsed": false
   },
   "outputs": [
    {
     "data": {
      "text/plain": [
       "<pymongo.results.InsertManyResult at 0x7f7e94f54dc0>"
      ]
     },
     "execution_count": 118,
     "metadata": {},
     "output_type": "execute_result"
    }
   ],
   "source": [
    "# save to mongodb\n",
    "client = MongoClient('mongodb://localhost:27017/')\n",
    "db = client.ratings\n",
    "ratings = db.ratings\n",
    "ratings_df_pd.to_json(orient='records')\n",
    "list_dict = json.loads(ratings_df_pd.to_json(orient='records'))\n",
    "ratings.insert_many(list_dict)"
   ]
  },
  {
   "cell_type": "code",
   "execution_count": 126,
   "metadata": {
    "collapsed": false
   },
   "outputs": [],
   "source": [
    "client = MongoClient('mongodb://localhost:27017/')\n",
    "db = client.ratings\n",
    "ratings_df_pd = pd.DataFrame(list(db.ratings.find())).drop(\"_id\", axis=1)"
   ]
  },
  {
   "cell_type": "code",
   "execution_count": 127,
   "metadata": {
    "collapsed": false
   },
   "outputs": [
    {
     "data": {
      "text/plain": [
       "(29770, 3)"
      ]
     },
     "execution_count": 127,
     "metadata": {},
     "output_type": "execute_result"
    }
   ],
   "source": [
    "ratings_df_pd.shape"
   ]
  },
  {
   "cell_type": "code",
   "execution_count": 128,
   "metadata": {
    "collapsed": false
   },
   "outputs": [],
   "source": [
    "# Convert to a Spark DataFrame\n",
    "ratings_df = spark.createDataFrame(ratings_df_pd)"
   ]
  },
  {
   "cell_type": "code",
   "execution_count": 129,
   "metadata": {
    "collapsed": false
   },
   "outputs": [
    {
     "data": {
      "text/plain": [
       "DataFrame[rating: bigint, route_id: bigint, user_id: bigint]"
      ]
     },
     "execution_count": 129,
     "metadata": {},
     "output_type": "execute_result"
    }
   ],
   "source": [
    "# Check to see we built the DataFrame\n",
    "ratings_df"
   ]
  },
  {
   "cell_type": "code",
   "execution_count": 130,
   "metadata": {
    "collapsed": false
   },
   "outputs": [
    {
     "name": "stdout",
     "output_type": "stream",
     "text": [
      "+------+--------+-------+\n",
      "|rating|route_id|user_id|\n",
      "+------+--------+-------+\n",
      "|     1|       0|      0|\n",
      "|     1|       1|      0|\n",
      "|     1|       2|      1|\n",
      "|     1|       2|      2|\n",
      "|     1|       2|      3|\n",
      "+------+--------+-------+\n",
      "only showing top 5 rows\n",
      "\n"
     ]
    }
   ],
   "source": [
    "# Take a look at the entries in the DataFrame\n",
    "ratings_df.show(5)"
   ]
  },
  {
   "cell_type": "code",
   "execution_count": 112,
   "metadata": {
    "collapsed": true
   },
   "outputs": [],
   "source": [
    "train, test = ratings_df.randomSplit([0.8, 0.2], seed=427471138)"
   ]
  },
  {
   "cell_type": "code",
   "execution_count": 113,
   "metadata": {
    "collapsed": false
   },
   "outputs": [
    {
     "data": {
      "text/plain": [
       "(3, 2)"
      ]
     },
     "execution_count": 113,
     "metadata": {},
     "output_type": "execute_result"
    }
   ],
   "source": [
    "# Check to see our split worked\n",
    "train.count(), test.count()"
   ]
  },
  {
   "cell_type": "code",
   "execution_count": 64,
   "metadata": {
    "collapsed": true
   },
   "outputs": [],
   "source": [
    "als_model = ALS(userCol='route_id',\n",
    "                itemCol='user_id',\n",
    "                ratingCol='rating',\n",
    "                nonnegative=True,\n",
    "                regParam=0.1,\n",
    "                rank=10\n",
    "               )"
   ]
  },
  {
   "cell_type": "code",
   "execution_count": 65,
   "metadata": {
    "collapsed": false
   },
   "outputs": [],
   "source": [
    "recommender = als_model.fit(train)"
   ]
  },
  {
   "cell_type": "code",
   "execution_count": 14,
   "metadata": {
    "collapsed": true
   },
   "outputs": [],
   "source": [
    "path = '/home/david/work/project/Rock-Climbing-Route-Recommender/src/alsmodel'"
   ]
  },
  {
   "cell_type": "code",
   "execution_count": 15,
   "metadata": {
    "collapsed": false
   },
   "outputs": [
    {
     "ename": "NameError",
     "evalue": "name 'recommender' is not defined",
     "output_type": "error",
     "traceback": [
      "\u001b[0;31m---------------------------------------------------------------------------\u001b[0m",
      "\u001b[0;31mNameError\u001b[0m                                 Traceback (most recent call last)",
      "\u001b[0;32m<ipython-input-15-f1dcd472853e>\u001b[0m in \u001b[0;36m<module>\u001b[0;34m()\u001b[0m\n\u001b[0;32m----> 1\u001b[0;31m \u001b[0mrecommender\u001b[0m\u001b[0;34m.\u001b[0m\u001b[0msave\u001b[0m\u001b[0;34m(\u001b[0m\u001b[0mpath\u001b[0m\u001b[0;34m)\u001b[0m\u001b[0;34m\u001b[0m\u001b[0m\n\u001b[0m",
      "\u001b[0;31mNameError\u001b[0m: name 'recommender' is not defined"
     ]
    }
   ],
   "source": [
    "recommender.save(path)"
   ]
  },
  {
   "cell_type": "code",
   "execution_count": 66,
   "metadata": {
    "collapsed": false
   },
   "outputs": [],
   "source": [
    "recommender = ALSModel.load(path)"
   ]
  },
  {
   "cell_type": "code",
   "execution_count": 67,
   "metadata": {
    "collapsed": false
   },
   "outputs": [
    {
     "name": "stdout",
     "output_type": "stream",
     "text": [
      "+--------+-------+----------+\n",
      "|route_id|user_id|prediction|\n",
      "+--------+-------+----------+\n",
      "|       1|    500|0.49262786|\n",
      "+--------+-------+----------+\n",
      "\n"
     ]
    }
   ],
   "source": [
    "# test on new user\n",
    "# Build a single row DataFrame\n",
    "data = [(1, 500)]\n",
    "columns = ('route_id', 'user_id')\n",
    "one_row_spark_df = spark.createDataFrame(data, columns)\n",
    "# Get the recommender's prediction\n",
    "recommender.transform(one_row_spark_df).show()"
   ]
  },
  {
   "cell_type": "code",
   "execution_count": 68,
   "metadata": {
    "collapsed": false
   },
   "outputs": [],
   "source": [
    "# Build a single row DataFrame\n",
    "data = pd.DataFrame(columns=['route_id', 'user_id'])\n",
    "data['user_id'] = np.ones(ratings_df_pd['route_id'].shape,dtype=int).tolist()\n",
    "data['route_id'] = ratings_df_pd['route_id'].tolist()\n",
    "one_row_spark_df = spark.createDataFrame(data)\n",
    "pred = recommender.transform(one_row_spark_df).toPandas()"
   ]
  },
  {
   "cell_type": "code",
   "execution_count": 69,
   "metadata": {
    "collapsed": false
   },
   "outputs": [
    {
     "data": {
      "text/html": [
       "<div>\n",
       "<table border=\"1\" class=\"dataframe\">\n",
       "  <thead>\n",
       "    <tr style=\"text-align: right;\">\n",
       "      <th></th>\n",
       "      <th>route_id</th>\n",
       "      <th>user_id</th>\n",
       "      <th>prediction</th>\n",
       "    </tr>\n",
       "  </thead>\n",
       "  <tbody>\n",
       "    <tr>\n",
       "      <th>23664</th>\n",
       "      <td>2639</td>\n",
       "      <td>1</td>\n",
       "      <td>3.486598</td>\n",
       "    </tr>\n",
       "    <tr>\n",
       "      <th>23667</th>\n",
       "      <td>2639</td>\n",
       "      <td>1</td>\n",
       "      <td>3.486598</td>\n",
       "    </tr>\n",
       "    <tr>\n",
       "      <th>23660</th>\n",
       "      <td>2639</td>\n",
       "      <td>1</td>\n",
       "      <td>3.486598</td>\n",
       "    </tr>\n",
       "    <tr>\n",
       "      <th>23661</th>\n",
       "      <td>2639</td>\n",
       "      <td>1</td>\n",
       "      <td>3.486598</td>\n",
       "    </tr>\n",
       "    <tr>\n",
       "      <th>23662</th>\n",
       "      <td>2639</td>\n",
       "      <td>1</td>\n",
       "      <td>3.486598</td>\n",
       "    </tr>\n",
       "  </tbody>\n",
       "</table>\n",
       "</div>"
      ],
      "text/plain": [
       "       route_id  user_id  prediction\n",
       "23664      2639        1    3.486598\n",
       "23667      2639        1    3.486598\n",
       "23660      2639        1    3.486598\n",
       "23661      2639        1    3.486598\n",
       "23662      2639        1    3.486598"
      ]
     },
     "execution_count": 69,
     "metadata": {},
     "output_type": "execute_result"
    }
   ],
   "source": [
    "pred.sort_values('prediction', ascending=False).head()"
   ]
  },
  {
   "cell_type": "code",
   "execution_count": 70,
   "metadata": {
    "collapsed": false
   },
   "outputs": [
    {
     "name": "stdout",
     "output_type": "stream",
     "text": [
      "+--------+-------+\n",
      "|route_id|user_id|\n",
      "+--------+-------+\n",
      "|       0|      1|\n",
      "|       1|      1|\n",
      "|       2|      1|\n",
      "|       2|      1|\n",
      "|       2|      1|\n",
      "|       2|      1|\n",
      "|       3|      1|\n",
      "|       3|      1|\n",
      "|       3|      1|\n",
      "|       3|      1|\n",
      "|       3|      1|\n",
      "|       3|      1|\n",
      "|       3|      1|\n",
      "|       3|      1|\n",
      "|       3|      1|\n",
      "|       3|      1|\n",
      "|       3|      1|\n",
      "|       3|      1|\n",
      "|       3|      1|\n",
      "|       3|      1|\n",
      "+--------+-------+\n",
      "only showing top 20 rows\n",
      "\n"
     ]
    }
   ],
   "source": [
    "# Check that it worked\n",
    "one_row_spark_df.show()"
   ]
  },
  {
   "cell_type": "code",
   "execution_count": 71,
   "metadata": {
    "collapsed": true
   },
   "outputs": [],
   "source": [
    "# Get the factors for user 1 and route 100\n",
    "user_factor_df = recommender.userFactors.filter('id = 1')\n",
    "item_factor_df = recommender.itemFactors.filter('id = 100')"
   ]
  },
  {
   "cell_type": "code",
   "execution_count": 72,
   "metadata": {
    "collapsed": false
   },
   "outputs": [],
   "source": [
    "user_factors = user_factor_df.collect()[0]['features']\n",
    "item_factors = item_factor_df.collect()[0]['features']"
   ]
  },
  {
   "cell_type": "code",
   "execution_count": 73,
   "metadata": {
    "collapsed": false
   },
   "outputs": [
    {
     "data": {
      "text/plain": [
       "0.71798355074396636"
      ]
     },
     "execution_count": 73,
     "metadata": {},
     "output_type": "execute_result"
    }
   ],
   "source": [
    "# Manually (sorta) calculate the predicted rating\n",
    "np.dot(user_factors, item_factors)"
   ]
  },
  {
   "cell_type": "code",
   "execution_count": 74,
   "metadata": {
    "collapsed": false
   },
   "outputs": [
    {
     "name": "stdout",
     "output_type": "stream",
     "text": [
      "+--------+-------+----------+\n",
      "|route_id|user_id|prediction|\n",
      "+--------+-------+----------+\n",
      "|       0|      1|       NaN|\n",
      "|       1|      1|0.61440986|\n",
      "|       2|      1|0.94786185|\n",
      "|       2|      1|0.94786185|\n",
      "|       2|      1|0.94786185|\n",
      "|       2|      1|0.94786185|\n",
      "|       3|      1| 1.7534399|\n",
      "|       3|      1| 1.7534399|\n",
      "|       3|      1| 1.7534399|\n",
      "|       3|      1| 1.7534399|\n",
      "|       3|      1| 1.7534399|\n",
      "|       3|      1| 1.7534399|\n",
      "|       3|      1| 1.7534399|\n",
      "|       3|      1| 1.7534399|\n",
      "|       3|      1| 1.7534399|\n",
      "|       3|      1| 1.7534399|\n",
      "|       3|      1| 1.7534399|\n",
      "|       3|      1| 1.7534399|\n",
      "|       3|      1| 1.7534399|\n",
      "|       3|      1| 1.7534399|\n",
      "+--------+-------+----------+\n",
      "only showing top 20 rows\n",
      "\n"
     ]
    }
   ],
   "source": [
    "# Get the recommender's prediction\n",
    "recommender.transform(one_row_spark_df).show()"
   ]
  },
  {
   "cell_type": "code",
   "execution_count": 75,
   "metadata": {
    "collapsed": false
   },
   "outputs": [
    {
     "name": "stdout",
     "output_type": "stream",
     "text": [
      "+---+--------------------+\n",
      "| id|            features|\n",
      "+---+--------------------+\n",
      "| 10|[0.08819726, 0.62...|\n",
      "| 20|[0.46378946, 0.19...|\n",
      "| 30|[0.6151641, 0.0, ...|\n",
      "| 40|[0.34406647, 0.33...|\n",
      "| 50|[0.0, 1.2258581, ...|\n",
      "| 60|[0.25804183, 0.36...|\n",
      "| 70|[0.30531475, 0.38...|\n",
      "| 80|[0.34970313, 0.60...|\n",
      "| 90|[0.15161109, 0.46...|\n",
      "|100|[0.34406647, 0.33...|\n",
      "|110|[0.5062833, 0.450...|\n",
      "|120|[0.27724603, 0.36...|\n",
      "|130|[0.26220086, 0.0,...|\n",
      "|140|[0.7070087, 0.231...|\n",
      "|150|[0.18852422, 0.14...|\n",
      "|160|[0.37174568, 0.16...|\n",
      "|170|[0.6958353, 0.136...|\n",
      "|180|[0.525305, 0.3258...|\n",
      "|200|[0.18795294, 0.22...|\n",
      "|210|[0.34406647, 0.33...|\n",
      "+---+--------------------+\n",
      "only showing top 20 rows\n",
      "\n"
     ]
    }
   ],
   "source": [
    "# Let's take a look all the user factors\n",
    "recommender.userFactors.show()"
   ]
  },
  {
   "cell_type": "code",
   "execution_count": 76,
   "metadata": {
    "collapsed": false
   },
   "outputs": [],
   "source": [
    "# Make predictions for the whole test set\n",
    "predictions = recommender.transform(test)"
   ]
  },
  {
   "cell_type": "code",
   "execution_count": 77,
   "metadata": {
    "collapsed": false
   },
   "outputs": [
    {
     "data": {
      "text/plain": [
       "pyspark.ml.recommendation.ALSModel"
      ]
     },
     "execution_count": 77,
     "metadata": {},
     "output_type": "execute_result"
    }
   ],
   "source": [
    "type(recommender)"
   ]
  },
  {
   "cell_type": "code",
   "execution_count": 78,
   "metadata": {
    "collapsed": true
   },
   "outputs": [],
   "source": [
    "# Dump the predictions to Pandas DataFrames to make our final calculations easier\n",
    "predictions_df = predictions.toPandas()\n",
    "train_df = train.toPandas()"
   ]
  },
  {
   "cell_type": "code",
   "execution_count": 79,
   "metadata": {
    "collapsed": true
   },
   "outputs": [],
   "source": [
    "# Fill any missing values with the mean rating\n",
    "# There are multiple things you could fill with, this is just one example\n",
    "predictions_df = predictions.toPandas().fillna(train_df['rating'].mean())"
   ]
  },
  {
   "cell_type": "code",
   "execution_count": 80,
   "metadata": {
    "collapsed": true
   },
   "outputs": [],
   "source": [
    "predictions_df['squared_error'] = (predictions_df['rating'] - predictions_df['prediction'])**2"
   ]
  },
  {
   "cell_type": "code",
   "execution_count": 81,
   "metadata": {
    "collapsed": false
   },
   "outputs": [
    {
     "data": {
      "text/html": [
       "<div>\n",
       "<table border=\"1\" class=\"dataframe\">\n",
       "  <thead>\n",
       "    <tr style=\"text-align: right;\">\n",
       "      <th></th>\n",
       "      <th>route_id</th>\n",
       "      <th>user_id</th>\n",
       "      <th>rating</th>\n",
       "      <th>prediction</th>\n",
       "      <th>squared_error</th>\n",
       "    </tr>\n",
       "  </thead>\n",
       "  <tbody>\n",
       "    <tr>\n",
       "      <th>count</th>\n",
       "      <td>6014.000000</td>\n",
       "      <td>6014.000000</td>\n",
       "      <td>6014.000000</td>\n",
       "      <td>6014.000000</td>\n",
       "      <td>6.014000e+03</td>\n",
       "    </tr>\n",
       "    <tr>\n",
       "      <th>mean</th>\n",
       "      <td>1680.289657</td>\n",
       "      <td>513.121383</td>\n",
       "      <td>2.733788</td>\n",
       "      <td>2.529509</td>\n",
       "      <td>5.286648e-01</td>\n",
       "    </tr>\n",
       "    <tr>\n",
       "      <th>std</th>\n",
       "      <td>998.657426</td>\n",
       "      <td>498.921735</td>\n",
       "      <td>0.895950</td>\n",
       "      <td>0.711748</td>\n",
       "      <td>8.046094e-01</td>\n",
       "    </tr>\n",
       "    <tr>\n",
       "      <th>min</th>\n",
       "      <td>0.000000</td>\n",
       "      <td>0.000000</td>\n",
       "      <td>0.000000</td>\n",
       "      <td>0.000000</td>\n",
       "      <td>1.892482e-08</td>\n",
       "    </tr>\n",
       "    <tr>\n",
       "      <th>25%</th>\n",
       "      <td>842.000000</td>\n",
       "      <td>110.000000</td>\n",
       "      <td>2.000000</td>\n",
       "      <td>2.039620</td>\n",
       "      <td>5.930804e-02</td>\n",
       "    </tr>\n",
       "    <tr>\n",
       "      <th>50%</th>\n",
       "      <td>1578.500000</td>\n",
       "      <td>353.500000</td>\n",
       "      <td>3.000000</td>\n",
       "      <td>2.603309</td>\n",
       "      <td>2.240751e-01</td>\n",
       "    </tr>\n",
       "    <tr>\n",
       "      <th>75%</th>\n",
       "      <td>2481.000000</td>\n",
       "      <td>759.000000</td>\n",
       "      <td>3.000000</td>\n",
       "      <td>3.013358</td>\n",
       "      <td>6.288728e-01</td>\n",
       "    </tr>\n",
       "    <tr>\n",
       "      <th>max</th>\n",
       "      <td>3724.000000</td>\n",
       "      <td>2065.000000</td>\n",
       "      <td>4.000000</td>\n",
       "      <td>5.026344</td>\n",
       "      <td>1.085748e+01</td>\n",
       "    </tr>\n",
       "  </tbody>\n",
       "</table>\n",
       "</div>"
      ],
      "text/plain": [
       "          route_id      user_id       rating   prediction  squared_error\n",
       "count  6014.000000  6014.000000  6014.000000  6014.000000   6.014000e+03\n",
       "mean   1680.289657   513.121383     2.733788     2.529509   5.286648e-01\n",
       "std     998.657426   498.921735     0.895950     0.711748   8.046094e-01\n",
       "min       0.000000     0.000000     0.000000     0.000000   1.892482e-08\n",
       "25%     842.000000   110.000000     2.000000     2.039620   5.930804e-02\n",
       "50%    1578.500000   353.500000     3.000000     2.603309   2.240751e-01\n",
       "75%    2481.000000   759.000000     3.000000     3.013358   6.288728e-01\n",
       "max    3724.000000  2065.000000     4.000000     5.026344   1.085748e+01"
      ]
     },
     "execution_count": 81,
     "metadata": {},
     "output_type": "execute_result"
    }
   ],
   "source": [
    "predictions_df.describe()"
   ]
  },
  {
   "cell_type": "code",
   "execution_count": 82,
   "metadata": {
    "collapsed": false
   },
   "outputs": [
    {
     "data": {
      "text/plain": [
       "0.7270933846403661"
      ]
     },
     "execution_count": 82,
     "metadata": {},
     "output_type": "execute_result"
    }
   ],
   "source": [
    "# Calculate RMSE\n",
    "np.sqrt(sum(predictions_df['squared_error']) / len(predictions_df))"
   ]
  },
  {
   "cell_type": "code",
   "execution_count": 141,
   "metadata": {
    "collapsed": false
   },
   "outputs": [
    {
     "data": {
      "image/png": "[encoded data removed]",
      "text/plain": [
       "<matplotlib.figure.Figure at 0x7f7e627cefd0>"
      ]
     },
     "metadata": {},
     "output_type": "display_data"
    }
   ],
   "source": [
    "# Create array of predictions for violinplot\n",
    "data = [predictions_df['prediction'][predictions_df['rating'] == rating] for rating in range(1, 5)]\n",
    "\n",
    "fig, ax = plt.subplots(1, figsize=(12,12))\n",
    "ax.violinplot(data, range(1,5), showmeans=True)\n",
    "ax.set_xlabel('True Ratings')\n",
    "ax.set_ylabel('Predicted Ratings')\n",
    "ax.set_title('True vs. ALS Recommender Predicted Ratings')\n",
    "plt.show()"
   ]
  },
  {
   "cell_type": "code",
   "execution_count": 143,
   "metadata": {
    "collapsed": false
   },
   "outputs": [],
   "source": [
    "fig.savefig('violin.jpg')"
   ]
  },
  {
   "cell_type": "code",
   "execution_count": 33,
   "metadata": {
    "collapsed": false
   },
   "outputs": [
    {
     "data": {
      "text/html": [
       "<div>\n",
       "<table border=\"1\" class=\"dataframe\">\n",
       "  <thead>\n",
       "    <tr style=\"text-align: right;\">\n",
       "      <th></th>\n",
       "      <th>rating</th>\n",
       "      <th>route_id</th>\n",
       "      <th>user_id</th>\n",
       "      <th>prediction</th>\n",
       "      <th>squared_error</th>\n",
       "    </tr>\n",
       "  </thead>\n",
       "  <tbody>\n",
       "    <tr>\n",
       "      <th>0</th>\n",
       "      <td>1</td>\n",
       "      <td>0</td>\n",
       "      <td>0</td>\n",
       "      <td>1.0</td>\n",
       "      <td>0.0</td>\n",
       "    </tr>\n",
       "    <tr>\n",
       "      <th>1</th>\n",
       "      <td>1</td>\n",
       "      <td>1</td>\n",
       "      <td>0</td>\n",
       "      <td>1.0</td>\n",
       "      <td>0.0</td>\n",
       "    </tr>\n",
       "  </tbody>\n",
       "</table>\n",
       "</div>"
      ],
      "text/plain": [
       "   rating  route_id  user_id  prediction  squared_error\n",
       "0       1         0        0         1.0            0.0\n",
       "1       1         1        0         1.0            0.0"
      ]
     },
     "execution_count": 33,
     "metadata": {},
     "output_type": "execute_result"
    }
   ],
   "source": [
    "# see comparision to just average rating\n",
    "test_df = test.toPandas()\n",
    "test_df['prediction'] = train_df['rating'].mean()\n",
    "test_df['squared_error'] = (test_df['rating'] - test_df['prediction'])**2\n",
    "test_df.head()"
   ]
  },
  {
   "cell_type": "code",
   "execution_count": 34,
   "metadata": {
    "collapsed": false
   },
   "outputs": [
    {
     "data": {
      "text/plain": [
       "0.0"
      ]
     },
     "execution_count": 34,
     "metadata": {},
     "output_type": "execute_result"
    }
   ],
   "source": [
    "# Calculate RMSE\n",
    "np.sqrt(sum(test_df['squared_error']) / len(test_df))"
   ]
  },
  {
   "cell_type": "code",
   "execution_count": 41,
   "metadata": {
    "collapsed": false
   },
   "outputs": [
    {
     "data": {
      "text/plain": [
       "nan"
      ]
     },
     "execution_count": 41,
     "metadata": {},
     "output_type": "execute_result"
    }
   ],
   "source": [
    "# see comparision to average rating per route\n",
    "test_df = test.toPandas()\n",
    "for route_id in test_df['route_id']:\n",
    "    test_df['prediction'] = train_df[train_df['route_id']==route_id]['rating'].mean()\n",
    "test_df['squared_error'] = (test_df['rating'] - test_df['prediction'])**2\n",
    "# Calculate RMSE\n",
    "np.sqrt(sum(test_df['squared_error']) / len(test_df))"
   ]
  },
  {
   "cell_type": "code",
   "execution_count": null,
   "metadata": {
    "collapsed": true
   },
   "outputs": [],
   "source": []
  },
  {
   "cell_type": "code",
   "execution_count": null,
   "metadata": {
    "collapsed": true
   },
   "outputs": [],
   "source": []
  },
  {
   "cell_type": "code",
   "execution_count": 41,
   "metadata": {
    "collapsed": false
   },
   "outputs": [
    {
     "name": "stdout",
     "output_type": "stream",
     "text": [
      "+--------+-----+------+----------+\n",
      "|username|route|rating|prediction|\n",
      "+--------+-----+------+----------+\n",
      "|   66666|  955|     4|       NaN|\n",
      "|   66666|  684|     3|       NaN|\n",
      "|   66666| 1704|     4|       NaN|\n",
      "|   66666| 3473|     4|       NaN|\n",
      "+--------+-----+------+----------+\n",
      "\n"
     ]
    }
   ],
   "source": [
    "def get_route_list():\n",
    "    client = MongoClient('mongodb://localhost:27017/')\n",
    "    db = client.ratings_collection\n",
    "    ratings_collection = db.ratings_collection\n",
    "    collection = ratings_collection.find({\"route\": {'$exists' : True }})\n",
    "    route_list = [d['route'].encode('utf-8').lower() for d in list(collection)]\n",
    "    return route_list\n",
    "\n",
    "def find_routes_in_list(routes, ratings):\n",
    "    route_list = get_route_list()\n",
    "    # drop caps\n",
    "    routes = routes\n",
    "    routes_numeric = []\n",
    "    for route in routes:\n",
    "        if route.lower() not in route_list:\n",
    "            # remove from ratings and routes\n",
    "            ratings.pop(routes.index(route))\n",
    "            routes.remove(route)\n",
    "        else:\n",
    "            routes_numeric.append(route_list.index(route.lower()))\n",
    "    return routes_numeric, ratings\n",
    "\n",
    "def build_dataframe(routes, ratings):\n",
    "    routes, ratings = find_routes_in_list(routes, ratings)\n",
    "    # make up username\n",
    "    data = [(66666, route, rating) for route, rating in zip(routes, ratings)]\n",
    "    columns = ('username', 'route', 'rating')\n",
    "    return spark.createDataFrame(data, columns)\n",
    "\n",
    "routes = ['godzilla', 'Aires', 'Breakfast of Champions', 'cultureshock','bendsdsd']\n",
    "ratings = [4,3,4,4,3]\n",
    "predict_df = build_dataframe(routes, ratings)\n",
    "recommender.transform(predict_df).show()"
   ]
  },
  {
   "cell_type": "code",
   "execution_count": null,
   "metadata": {
    "collapsed": true
   },
   "outputs": [],
   "source": []
  }
 ],
 "metadata": {
  "kernelspec": {
   "display_name": "Python 2",
   "language": "python",
   "name": "python2"
  },
  "language_info": {
   "codemirror_mode": {
    "name": "ipython",
    "version": 2
   },
   "file_extension": ".py",
   "mimetype": "text/x-python",
   "name": "python",
   "nbconvert_exporter": "python",
   "pygments_lexer": "ipython2",
   "version": "2.7.13"
  }
 },
 "nbformat": 4,
 "nbformat_minor": 2
}
