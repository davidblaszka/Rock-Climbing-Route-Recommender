{
 "cells": [
  {
   "cell_type": "code",
   "execution_count": 1,
   "metadata": {
    "collapsed": false
   },
   "outputs": [],
   "source": [
    "from pymongo import MongoClient\n",
    "import pandas as pd\n",
    "from parse_clean_store import (parse_route_page, parse_user)\n",
    "from bs4 import BeautifulSoup\n",
    "from matrix_recommender_prep import (clean_ratings, cold_start, update_df)\n",
    "import numpy as np\n",
    "%load_ext autoreload\n",
    "%autoreload 2\n",
    "import matplotlib.pyplot as plt\n",
    "%matplotlib inline"
   ]
  },
  {
   "cell_type": "code",
   "execution_count": 34,
   "metadata": {
    "collapsed": true
   },
   "outputs": [],
   "source": [
    "import pyspark\n",
    "from pyspark.sql.types import *\n",
    "from pyspark.ml.tuning import TrainValidationSplit\n",
    "from pyspark.ml.recommendation import ALS, ALSModel\n",
    "from pyspark.ml.evaluation import RegressionEvaluator"
   ]
  },
  {
   "cell_type": "code",
   "execution_count": 35,
   "metadata": {
    "collapsed": false
   },
   "outputs": [
    {
     "data": {
      "text/plain": [
       "(<pyspark.sql.session.SparkSession at 0x7fa4c45c5750>,\n",
       " <pyspark.context.SparkContext at 0x7fa4f19738d0>)"
      ]
     },
     "execution_count": 35,
     "metadata": {},
     "output_type": "execute_result"
    }
   ],
   "source": [
    "# Build our Spark Session and Context\n",
    "spark = pyspark.sql.SparkSession.builder.getOrCreate()\n",
    "sc = spark.sparkContext\n",
    "spark, sc"
   ]
  },
  {
   "cell_type": "code",
   "execution_count": 2,
   "metadata": {
    "collapsed": false
   },
   "outputs": [
    {
     "data": {
      "text/html": [
       "<div>\n",
       "<table border=\"1\" class=\"dataframe\">\n",
       "  <thead>\n",
       "    <tr style=\"text-align: right;\">\n",
       "      <th></th>\n",
       "      <th>_id</th>\n",
       "      <th>rating</th>\n",
       "      <th>route</th>\n",
       "      <th>username</th>\n",
       "    </tr>\n",
       "  </thead>\n",
       "  <tbody>\n",
       "    <tr>\n",
       "      <th>0</th>\n",
       "      <td>58c87f8c40b44102a84aedfb</td>\n",
       "      <td>[1]</td>\n",
       "      <td>30(1) Feet of Pleasure</td>\n",
       "      <td>[adam winslow ]</td>\n",
       "    </tr>\n",
       "    <tr>\n",
       "      <th>1</th>\n",
       "      <td>58c87f9d40b44102a84aee01</td>\n",
       "      <td>[1]</td>\n",
       "      <td>41 Feet of Pain</td>\n",
       "      <td>[adam winslow ]</td>\n",
       "    </tr>\n",
       "    <tr>\n",
       "      <th>2</th>\n",
       "      <td>58c87fac40b44102a84aee07</td>\n",
       "      <td>[1, 1, 1, 1]</td>\n",
       "      <td>5.5 Crack</td>\n",
       "      <td>[CHopwood , Trevor. , Rickedge , Oscar Edge ]</td>\n",
       "    </tr>\n",
       "    <tr>\n",
       "      <th>3</th>\n",
       "      <td>58c87fb440b44102a84aee0d</td>\n",
       "      <td>[3, 3, 3, 2, 2, 2, 2, 2, 2, 2, 2, 2, 2, 2, 2, ...</td>\n",
       "      <td>5.6 crack</td>\n",
       "      <td>[Bianca P , Sandeep Kumar , Mike Brady , Tom B...</td>\n",
       "    </tr>\n",
       "    <tr>\n",
       "      <th>4</th>\n",
       "      <td>58c87fbf40b44102a84aee13</td>\n",
       "      <td>[2, 2, 2, 2, 1, 1, 1, 1, 1]</td>\n",
       "      <td>5.6 Dihedral</td>\n",
       "      <td>[Jason Killgore , sqwirll , Dave Leydet , fort...</td>\n",
       "    </tr>\n",
       "  </tbody>\n",
       "</table>\n",
       "</div>"
      ],
      "text/plain": [
       "                        _id  \\\n",
       "0  58c87f8c40b44102a84aedfb   \n",
       "1  58c87f9d40b44102a84aee01   \n",
       "2  58c87fac40b44102a84aee07   \n",
       "3  58c87fb440b44102a84aee0d   \n",
       "4  58c87fbf40b44102a84aee13   \n",
       "\n",
       "                                              rating                   route  \\\n",
       "0                                                [1]  30(1) Feet of Pleasure   \n",
       "1                                                [1]         41 Feet of Pain   \n",
       "2                                       [1, 1, 1, 1]               5.5 Crack   \n",
       "3  [3, 3, 3, 2, 2, 2, 2, 2, 2, 2, 2, 2, 2, 2, 2, ...               5.6 crack   \n",
       "4                        [2, 2, 2, 2, 1, 1, 1, 1, 1]            5.6 Dihedral   \n",
       "\n",
       "                                            username  \n",
       "0                                    [adam winslow ]  \n",
       "1                                    [adam winslow ]  \n",
       "2      [CHopwood , Trevor. , Rickedge , Oscar Edge ]  \n",
       "3  [Bianca P , Sandeep Kumar , Mike Brady , Tom B...  \n",
       "4  [Jason Killgore , sqwirll , Dave Leydet , fort...  "
      ]
     },
     "execution_count": 2,
     "metadata": {},
     "output_type": "execute_result"
    }
   ],
   "source": [
    "client = MongoClient('mongodb://localhost:27017/')\n",
    "db = client.ratings_collection\n",
    "ratings_collection = db.ratings_collection\n",
    "raw_data = ratings_collection.find()\n",
    "df_ratings = pd.DataFrame(list(raw_data))\n",
    "df_ratings.head()"
   ]
  },
  {
   "cell_type": "code",
   "execution_count": 93,
   "metadata": {
    "collapsed": false
   },
   "outputs": [
    {
     "ename": "ValueError",
     "evalue": "too many values to unpack",
     "output_type": "error",
     "traceback": [
      "\u001b[0;31m---------------------------------------------------------------------------\u001b[0m",
      "\u001b[0;31mValueError\u001b[0m                                Traceback (most recent call last)",
      "\u001b[0;32m<ipython-input-93-840bdb53ffdd>\u001b[0m in \u001b[0;36m<module>\u001b[0;34m()\u001b[0m\n\u001b[0;32m----> 1\u001b[0;31m \u001b[0mratings_df_pd\u001b[0m\u001b[0;34m,\u001b[0m \u001b[0m_\u001b[0m \u001b[0;34m=\u001b[0m \u001b[0mupdate_df\u001b[0m\u001b[0;34m(\u001b[0m\u001b[0mdf_ratings\u001b[0m\u001b[0;34m)\u001b[0m\u001b[0;34m\u001b[0m\u001b[0m\n\u001b[0m\u001b[1;32m      2\u001b[0m \u001b[0mratings_df_pd\u001b[0m\u001b[0;34m.\u001b[0m\u001b[0mhead\u001b[0m\u001b[0;34m(\u001b[0m\u001b[0;34m)\u001b[0m\u001b[0;34m\u001b[0m\u001b[0m\n",
      "\u001b[0;31mValueError\u001b[0m: too many values to unpack"
     ]
    }
   ],
   "source": [
    "ratings_df_pd, _ = update_df(df_ratings)\n",
    "ratings_df_pd.head()"
   ]
  },
  {
   "cell_type": "code",
   "execution_count": 32,
   "metadata": {
    "collapsed": false
   },
   "outputs": [],
   "source": [
    "# Convert to a Spark DataFrame\n",
    "ratings_df = spark.createDataFrame(ratings_df_pd)"
   ]
  },
  {
   "cell_type": "code",
   "execution_count": 11,
   "metadata": {
    "collapsed": false
   },
   "outputs": [
    {
     "data": {
      "text/plain": [
       "DataFrame[username: bigint, route: bigint, rating: bigint]"
      ]
     },
     "execution_count": 11,
     "metadata": {},
     "output_type": "execute_result"
    }
   ],
   "source": [
    "# Check to see we built the DataFrame\n",
    "ratings_df"
   ]
  },
  {
   "cell_type": "code",
   "execution_count": 12,
   "metadata": {
    "collapsed": false
   },
   "outputs": [
    {
     "name": "stdout",
     "output_type": "stream",
     "text": [
      "+--------+-----+------+\n",
      "|username|route|rating|\n",
      "+--------+-----+------+\n",
      "|    1705|   28|     1|\n",
      "|    1705|   29|     1|\n",
      "|     281|   34|     1|\n",
      "|    1620|   34|     1|\n",
      "|    1346|   34|     1|\n",
      "+--------+-----+------+\n",
      "only showing top 5 rows\n",
      "\n"
     ]
    }
   ],
   "source": [
    "# Take a look at the entries in the DataFrame\n",
    "ratings_df.show(5)"
   ]
  },
  {
   "cell_type": "code",
   "execution_count": 43,
   "metadata": {
    "collapsed": true
   },
   "outputs": [],
   "source": [
    "train, test = ratings_df.randomSplit([0.8, 0.2], seed=427471138)"
   ]
  },
  {
   "cell_type": "code",
   "execution_count": 14,
   "metadata": {
    "collapsed": false
   },
   "outputs": [
    {
     "data": {
      "text/plain": [
       "(23756, 6014)"
      ]
     },
     "execution_count": 14,
     "metadata": {},
     "output_type": "execute_result"
    }
   ],
   "source": [
    "# Check to see our split worked\n",
    "train.count(), test.count()"
   ]
  },
  {
   "cell_type": "code",
   "execution_count": 15,
   "metadata": {
    "collapsed": true
   },
   "outputs": [],
   "source": [
    "als_model = ALS(userCol='username',\n",
    "                itemCol='route',\n",
    "                ratingCol='rating',\n",
    "                nonnegative=True,\n",
    "                regParam=0.1,\n",
    "                rank=10\n",
    "               )"
   ]
  },
  {
   "cell_type": "code",
   "execution_count": 16,
   "metadata": {
    "collapsed": false
   },
   "outputs": [],
   "source": [
    "recommender = als_model.fit(train)"
   ]
  },
  {
   "cell_type": "code",
   "execution_count": 37,
   "metadata": {
    "collapsed": true
   },
   "outputs": [],
   "source": [
    "path = '/home/david/work/project/Rock-Climbing-Route-Recommender/src/alsmodel'"
   ]
  },
  {
   "cell_type": "code",
   "execution_count": 18,
   "metadata": {
    "collapsed": false
   },
   "outputs": [],
   "source": [
    "recommender.save(path)"
   ]
  },
  {
   "cell_type": "code",
   "execution_count": 38,
   "metadata": {
    "collapsed": false
   },
   "outputs": [],
   "source": [
    "recommender = ALSModel.load(path)"
   ]
  },
  {
   "cell_type": "code",
   "execution_count": 21,
   "metadata": {
    "collapsed": true
   },
   "outputs": [],
   "source": [
    "# Build a single row DataFrame\n",
    "data = [(1, 100)]\n",
    "columns = ('username', 'route')\n",
    "one_row_spark_df = spark.createDataFrame(data, columns)"
   ]
  },
  {
   "cell_type": "code",
   "execution_count": 22,
   "metadata": {
    "collapsed": false
   },
   "outputs": [
    {
     "name": "stdout",
     "output_type": "stream",
     "text": [
      "+--------+-----+\n",
      "|username|route|\n",
      "+--------+-----+\n",
      "|       1|  100|\n",
      "+--------+-----+\n",
      "\n"
     ]
    }
   ],
   "source": [
    "# Check that it worked\n",
    "one_row_spark_df.show()"
   ]
  },
  {
   "cell_type": "code",
   "execution_count": 23,
   "metadata": {
    "collapsed": true
   },
   "outputs": [],
   "source": [
    "# Get the factors for user 1 and route 100\n",
    "user_factor_df = recommender.userFactors.filter('id = 1')\n",
    "item_factor_df = recommender.itemFactors.filter('id = 100')"
   ]
  },
  {
   "cell_type": "code",
   "execution_count": 24,
   "metadata": {
    "collapsed": true
   },
   "outputs": [],
   "source": [
    "user_factors = user_factor_df.collect()[0]['features']\n",
    "item_factors = item_factor_df.collect()[0]['features']"
   ]
  },
  {
   "cell_type": "code",
   "execution_count": 25,
   "metadata": {
    "collapsed": false
   },
   "outputs": [
    {
     "data": {
      "text/plain": [
       "2.2541360503189787"
      ]
     },
     "execution_count": 25,
     "metadata": {},
     "output_type": "execute_result"
    }
   ],
   "source": [
    "# Manually (sorta) calculate the predicted rating\n",
    "np.dot(user_factors, item_factors)"
   ]
  },
  {
   "cell_type": "code",
   "execution_count": 26,
   "metadata": {
    "collapsed": false
   },
   "outputs": [
    {
     "name": "stdout",
     "output_type": "stream",
     "text": [
      "+--------+-----+----------+\n",
      "|username|route|prediction|\n",
      "+--------+-----+----------+\n",
      "|       1|  100|  2.254136|\n",
      "+--------+-----+----------+\n",
      "\n"
     ]
    }
   ],
   "source": [
    "# Get the recommender's prediction\n",
    "recommender.transform(one_row_spark_df).show()"
   ]
  },
  {
   "cell_type": "code",
   "execution_count": 27,
   "metadata": {
    "collapsed": false
   },
   "outputs": [
    {
     "name": "stdout",
     "output_type": "stream",
     "text": [
      "+---+--------------------+\n",
      "| id|            features|\n",
      "+---+--------------------+\n",
      "|  5|[0.940962, 0.1725...|\n",
      "| 15|[0.52034414, 0.01...|\n",
      "| 25|[0.9974378, 0.0, ...|\n",
      "| 35|[0.49017465, 0.68...|\n",
      "| 45|[0.5604168, 0.280...|\n",
      "| 55|[0.30448154, 0.73...|\n",
      "| 65|[0.65507495, 0.37...|\n",
      "| 75|[1.5325257, 0.532...|\n",
      "| 85|[0.9759228, 0.378...|\n",
      "|105|[0.39770216, 0.18...|\n",
      "|115|[0.8308178, 0.798...|\n",
      "|125|[0.4698225, 0.026...|\n",
      "|135|[0.0062884125, 0....|\n",
      "|145|[0.69312584, 0.12...|\n",
      "|155|[0.53147763, 0.43...|\n",
      "|165|[0.47684115, 0.30...|\n",
      "|175|[0.63305855, 0.12...|\n",
      "|185|[0.61809736, 0.77...|\n",
      "|195|[0.13990396, 0.08...|\n",
      "|205|[0.053322148, 0.1...|\n",
      "+---+--------------------+\n",
      "only showing top 20 rows\n",
      "\n"
     ]
    }
   ],
   "source": [
    "# Let's take a look all the user factors\n",
    "recommender.userFactors.show()"
   ]
  },
  {
   "cell_type": "code",
   "execution_count": 44,
   "metadata": {
    "collapsed": false
   },
   "outputs": [],
   "source": [
    "# Make predictions for the whole test set\n",
    "predictions = recommender.transform(test)"
   ]
  },
  {
   "cell_type": "code",
   "execution_count": 45,
   "metadata": {
    "collapsed": false
   },
   "outputs": [
    {
     "data": {
      "text/plain": [
       "pyspark.ml.recommendation.ALSModel"
      ]
     },
     "execution_count": 45,
     "metadata": {},
     "output_type": "execute_result"
    }
   ],
   "source": [
    "type(recommender)"
   ]
  },
  {
   "cell_type": "code",
   "execution_count": 46,
   "metadata": {
    "collapsed": true
   },
   "outputs": [],
   "source": [
    "# Dump the predictions to Pandas DataFrames to make our final calculations easier\n",
    "predictions_df = predictions.toPandas()\n",
    "train_df = train.toPandas()"
   ]
  },
  {
   "cell_type": "code",
   "execution_count": 56,
   "metadata": {
    "collapsed": true
   },
   "outputs": [],
   "source": [
    "# Fill any missing values with the mean rating\n",
    "# There are multiple things you could fill with, this is just one example\n",
    "predictions_df = predictions.toPandas().fillna(train_df['rating'].mean())"
   ]
  },
  {
   "cell_type": "code",
   "execution_count": 57,
   "metadata": {
    "collapsed": true
   },
   "outputs": [],
   "source": [
    "predictions_df['squared_error'] = (predictions_df['rating'] - predictions_df['prediction'])**2"
   ]
  },
  {
   "cell_type": "code",
   "execution_count": 49,
   "metadata": {
    "collapsed": false
   },
   "outputs": [
    {
     "data": {
      "text/html": [
       "<div>\n",
       "<table border=\"1\" class=\"dataframe\">\n",
       "  <thead>\n",
       "    <tr style=\"text-align: right;\">\n",
       "      <th></th>\n",
       "      <th>username</th>\n",
       "      <th>route</th>\n",
       "      <th>rating</th>\n",
       "      <th>prediction</th>\n",
       "      <th>squared_error</th>\n",
       "    </tr>\n",
       "  </thead>\n",
       "  <tbody>\n",
       "    <tr>\n",
       "      <th>count</th>\n",
       "      <td>6014.000000</td>\n",
       "      <td>6014.000000</td>\n",
       "      <td>6014.000000</td>\n",
       "      <td>6014.000000</td>\n",
       "      <td>6.014000e+03</td>\n",
       "    </tr>\n",
       "    <tr>\n",
       "      <th>mean</th>\n",
       "      <td>1060.730961</td>\n",
       "      <td>1783.611074</td>\n",
       "      <td>2.703026</td>\n",
       "      <td>2.538594</td>\n",
       "      <td>5.056158e-01</td>\n",
       "    </tr>\n",
       "    <tr>\n",
       "      <th>std</th>\n",
       "      <td>599.803735</td>\n",
       "      <td>1002.985254</td>\n",
       "      <td>0.899730</td>\n",
       "      <td>0.690687</td>\n",
       "      <td>8.298224e-01</td>\n",
       "    </tr>\n",
       "    <tr>\n",
       "      <th>min</th>\n",
       "      <td>0.000000</td>\n",
       "      <td>0.000000</td>\n",
       "      <td>0.000000</td>\n",
       "      <td>0.000000</td>\n",
       "      <td>3.356547e-07</td>\n",
       "    </tr>\n",
       "    <tr>\n",
       "      <th>25%</th>\n",
       "      <td>568.000000</td>\n",
       "      <td>899.250000</td>\n",
       "      <td>2.000000</td>\n",
       "      <td>2.051087</td>\n",
       "      <td>5.462727e-02</td>\n",
       "    </tr>\n",
       "    <tr>\n",
       "      <th>50%</th>\n",
       "      <td>1069.000000</td>\n",
       "      <td>1805.000000</td>\n",
       "      <td>3.000000</td>\n",
       "      <td>2.597881</td>\n",
       "      <td>2.069278e-01</td>\n",
       "    </tr>\n",
       "    <tr>\n",
       "      <th>75%</th>\n",
       "      <td>1619.750000</td>\n",
       "      <td>2668.000000</td>\n",
       "      <td>3.000000</td>\n",
       "      <td>2.995571</td>\n",
       "      <td>5.722123e-01</td>\n",
       "    </tr>\n",
       "    <tr>\n",
       "      <th>max</th>\n",
       "      <td>2064.000000</td>\n",
       "      <td>3557.000000</td>\n",
       "      <td>4.000000</td>\n",
       "      <td>4.765341</td>\n",
       "      <td>1.600000e+01</td>\n",
       "    </tr>\n",
       "  </tbody>\n",
       "</table>\n",
       "</div>"
      ],
      "text/plain": [
       "          username        route       rating   prediction  squared_error\n",
       "count  6014.000000  6014.000000  6014.000000  6014.000000   6.014000e+03\n",
       "mean   1060.730961  1783.611074     2.703026     2.538594   5.056158e-01\n",
       "std     599.803735  1002.985254     0.899730     0.690687   8.298224e-01\n",
       "min       0.000000     0.000000     0.000000     0.000000   3.356547e-07\n",
       "25%     568.000000   899.250000     2.000000     2.051087   5.462727e-02\n",
       "50%    1069.000000  1805.000000     3.000000     2.597881   2.069278e-01\n",
       "75%    1619.750000  2668.000000     3.000000     2.995571   5.722123e-01\n",
       "max    2064.000000  3557.000000     4.000000     4.765341   1.600000e+01"
      ]
     },
     "execution_count": 49,
     "metadata": {},
     "output_type": "execute_result"
    }
   ],
   "source": [
    "predictions_df.describe()"
   ]
  },
  {
   "cell_type": "code",
   "execution_count": 50,
   "metadata": {
    "collapsed": false
   },
   "outputs": [
    {
     "data": {
      "text/plain": [
       "0.71106669501393183"
      ]
     },
     "execution_count": 50,
     "metadata": {},
     "output_type": "execute_result"
    }
   ],
   "source": [
    "# Calculate RMSE\n",
    "np.sqrt(sum(predictions_df['squared_error']) / len(predictions_df))"
   ]
  },
  {
   "cell_type": "code",
   "execution_count": 51,
   "metadata": {
    "collapsed": false
   },
   "outputs": [
    {
     "data": {
      "text/html": [
       "<div>\n",
       "<table border=\"1\" class=\"dataframe\">\n",
       "  <thead>\n",
       "    <tr style=\"text-align: right;\">\n",
       "      <th></th>\n",
       "      <th>username</th>\n",
       "      <th>route</th>\n",
       "      <th>rating</th>\n",
       "      <th>prediction</th>\n",
       "      <th>squared_error</th>\n",
       "    </tr>\n",
       "  </thead>\n",
       "  <tbody>\n",
       "    <tr>\n",
       "      <th>0</th>\n",
       "      <td>0</td>\n",
       "      <td>20</td>\n",
       "      <td>2</td>\n",
       "      <td>2.712283</td>\n",
       "      <td>0.507347</td>\n",
       "    </tr>\n",
       "    <tr>\n",
       "      <th>1</th>\n",
       "      <td>8</td>\n",
       "      <td>124</td>\n",
       "      <td>3</td>\n",
       "      <td>2.712283</td>\n",
       "      <td>0.082781</td>\n",
       "    </tr>\n",
       "    <tr>\n",
       "      <th>2</th>\n",
       "      <td>8</td>\n",
       "      <td>167</td>\n",
       "      <td>2</td>\n",
       "      <td>2.712283</td>\n",
       "      <td>0.507347</td>\n",
       "    </tr>\n",
       "    <tr>\n",
       "      <th>3</th>\n",
       "      <td>8</td>\n",
       "      <td>396</td>\n",
       "      <td>2</td>\n",
       "      <td>2.712283</td>\n",
       "      <td>0.507347</td>\n",
       "    </tr>\n",
       "    <tr>\n",
       "      <th>4</th>\n",
       "      <td>8</td>\n",
       "      <td>1214</td>\n",
       "      <td>3</td>\n",
       "      <td>2.712283</td>\n",
       "      <td>0.082781</td>\n",
       "    </tr>\n",
       "  </tbody>\n",
       "</table>\n",
       "</div>"
      ],
      "text/plain": [
       "   username  route  rating  prediction  squared_error\n",
       "0         0     20       2    2.712283       0.507347\n",
       "1         8    124       3    2.712283       0.082781\n",
       "2         8    167       2    2.712283       0.507347\n",
       "3         8    396       2    2.712283       0.507347\n",
       "4         8   1214       3    2.712283       0.082781"
      ]
     },
     "execution_count": 51,
     "metadata": {},
     "output_type": "execute_result"
    }
   ],
   "source": [
    "# see comparision to just average rating\n",
    "test_df = test.toPandas()\n",
    "test_df['prediction'] = train_df['rating'].mean()\n",
    "test_df['squared_error'] = (test_df['rating'] - test_df['prediction'])**2\n",
    "test_df.head()"
   ]
  },
  {
   "cell_type": "code",
   "execution_count": 52,
   "metadata": {
    "collapsed": false
   },
   "outputs": [
    {
     "data": {
      "text/plain": [
       "0.8997025214334432"
      ]
     },
     "execution_count": 52,
     "metadata": {},
     "output_type": "execute_result"
    }
   ],
   "source": [
    "# Calculate RMSE\n",
    "np.sqrt(sum(test_df['squared_error']) / len(test_df))"
   ]
  },
  {
   "cell_type": "code",
   "execution_count": 53,
   "metadata": {
    "collapsed": false
   },
   "outputs": [
    {
     "data": {
      "text/plain": [
       "1.1417639315072918"
      ]
     },
     "execution_count": 53,
     "metadata": {},
     "output_type": "execute_result"
    }
   ],
   "source": [
    "# see comparision to average rating per route\n",
    "test_df = test.toPandas()\n",
    "for route in test_df['route']:\n",
    "    test_df['prediction'] = train_df[train_df['route']==route]['rating'].mean()\n",
    "test_df['squared_error'] = (test_df['rating'] - test_df['prediction'])**2\n",
    "# Calculate RMSE\n",
    "np.sqrt(sum(test_df['squared_error']) / len(test_df))"
   ]
  },
  {
   "cell_type": "code",
   "execution_count": null,
   "metadata": {
    "collapsed": true
   },
   "outputs": [],
   "source": []
  },
  {
   "cell_type": "code",
   "execution_count": null,
   "metadata": {
    "collapsed": true
   },
   "outputs": [],
   "source": []
  },
  {
   "cell_type": "code",
   "execution_count": 58,
   "metadata": {
    "collapsed": false
   },
   "outputs": [
    {
     "data": {
      "image/png": "[encoded data removed]",
      "text/plain": [
       "<matplotlib.figure.Figure at 0x7fa4aaa22a50>"
      ]
     },
     "metadata": {},
     "output_type": "display_data"
    }
   ],
   "source": [
    "# Create array of predictions for violinplot\n",
    "data = [predictions_df['prediction'][predictions_df['rating'] == rating] for rating in range(1, 4)]\n",
    "plt.violinplot(data, range(1,4), showmeans=True)\n",
    "plt.xlabel('True Ratings')\n",
    "plt.ylabel('Predicted Ratings')\n",
    "plt.title('True vs. ALS Recommender Predicted Ratings')\n",
    "plt.show()"
   ]
  },
  {
   "cell_type": "code",
   "execution_count": 41,
   "metadata": {
    "collapsed": false
   },
   "outputs": [
    {
     "name": "stdout",
     "output_type": "stream",
     "text": [
      "+--------+-----+------+----------+\n",
      "|username|route|rating|prediction|\n",
      "+--------+-----+------+----------+\n",
      "|   66666|  955|     4|       NaN|\n",
      "|   66666|  684|     3|       NaN|\n",
      "|   66666| 1704|     4|       NaN|\n",
      "|   66666| 3473|     4|       NaN|\n",
      "+--------+-----+------+----------+\n",
      "\n"
     ]
    }
   ],
   "source": [
    "def get_route_list():\n",
    "    client = MongoClient('mongodb://localhost:27017/')\n",
    "    db = client.ratings_collection\n",
    "    ratings_collection = db.ratings_collection\n",
    "    collection = ratings_collection.find({\"route\": {'$exists' : True }})\n",
    "    route_list = [d['route'].encode('utf-8').lower() for d in list(collection)]\n",
    "    return route_list\n",
    "\n",
    "def find_routes_in_list(routes, ratings):\n",
    "    route_list = get_route_list()\n",
    "    # drop caps\n",
    "    routes = routes\n",
    "    routes_numeric = []\n",
    "    for route in routes:\n",
    "        if route.lower() not in route_list:\n",
    "            # remove from ratings and routes\n",
    "            ratings.pop(routes.index(route))\n",
    "            routes.remove(route)\n",
    "        else:\n",
    "            routes_numeric.append(route_list.index(route.lower()))\n",
    "    return routes_numeric, ratings\n",
    "\n",
    "def build_dataframe(routes, ratings):\n",
    "    routes, ratings = find_routes_in_list(routes, ratings)\n",
    "    # make up username\n",
    "    data = [(66666, route, rating) for route, rating in zip(routes, ratings)]\n",
    "    columns = ('username', 'route', 'rating')\n",
    "    return spark.createDataFrame(data, columns)\n",
    "\n",
    "routes = ['godzilla', 'Aires', 'Breakfast of Champions', 'cultureshock','bendsdsd']\n",
    "ratings = [4,3,4,4,3]\n",
    "predict_df = build_dataframe(routes, ratings)\n",
    "recommender.transform(predict_df).show()"
   ]
  },
  {
   "cell_type": "code",
   "execution_count": 80,
   "metadata": {
    "collapsed": false
   },
   "outputs": [
    {
     "data": {
      "text/html": [
       "<div>\n",
       "<table border=\"1\" class=\"dataframe\">\n",
       "  <thead>\n",
       "    <tr style=\"text-align: right;\">\n",
       "      <th></th>\n",
       "      <th>username</th>\n",
       "      <th>route</th>\n",
       "      <th>prediction</th>\n",
       "    </tr>\n",
       "  </thead>\n",
       "  <tbody>\n",
       "    <tr>\n",
       "      <th>0</th>\n",
       "      <td>1303</td>\n",
       "      <td>955</td>\n",
       "      <td>1.822063</td>\n",
       "    </tr>\n",
       "    <tr>\n",
       "      <th>1</th>\n",
       "      <td>1303</td>\n",
       "      <td>684</td>\n",
       "      <td>2.712283</td>\n",
       "    </tr>\n",
       "    <tr>\n",
       "      <th>2</th>\n",
       "      <td>1303</td>\n",
       "      <td>1704</td>\n",
       "      <td>0.961419</td>\n",
       "    </tr>\n",
       "    <tr>\n",
       "      <th>3</th>\n",
       "      <td>1303</td>\n",
       "      <td>3473</td>\n",
       "      <td>2.286073</td>\n",
       "    </tr>\n",
       "  </tbody>\n",
       "</table>\n",
       "</div>"
      ],
      "text/plain": [
       "   username  route  prediction\n",
       "0      1303    955    1.822063\n",
       "1      1303    684    2.712283\n",
       "2      1303   1704    0.961419\n",
       "3      1303   3473    2.286073"
      ]
     },
     "execution_count": 80,
     "metadata": {},
     "output_type": "execute_result"
    }
   ],
   "source": [
    "def get_route_list():\n",
    "    client = MongoClient('mongodb://localhost:27017/')\n",
    "    db = client.ratings_collection\n",
    "    ratings_collection = db.ratings_collection\n",
    "    collection = ratings_collection.find({\"route\": {'$exists' : True }})\n",
    "    route_list = [d['route'].encode('utf-8').lower() for d in list(collection)]\n",
    "    return route_list\n",
    "\n",
    "def find_routes_in_list(routes):\n",
    "    route_list = get_route_list()\n",
    "    # drop caps\n",
    "    routes = routes\n",
    "    routes_numeric = []\n",
    "    for route in routes:\n",
    "        if route.lower() not in route_list:\n",
    "            # remove from ratings and routes\n",
    "            routes.remove(route)\n",
    "        else:\n",
    "            routes_numeric.append(route_list.index(route.lower()))\n",
    "    return routes_numeric\n",
    "\n",
    "def build_dataframe(routes, user):\n",
    "    routes = find_routes_in_list(routes)\n",
    "    # make up username\n",
    "    data = [(1303, route) for route in routes]\n",
    "    columns = ('username', 'route')\n",
    "    return spark.createDataFrame(data, columns)\n",
    "\n",
    "routes = ['godzilla', 'Aires', 'Breakfast of Champions', 'cultureshock','bendsdsd']\n",
    "predict_df = build_dataframe(routes, ratings)\n",
    "recommender.transform(predict_df).toPandas().fillna(train_df['rating'].mean())"
   ]
  },
  {
   "cell_type": "code",
   "execution_count": 136,
   "metadata": {
    "collapsed": false
   },
   "outputs": [
    {
     "data": {
      "text/html": [
       "<div>\n",
       "<table border=\"1\" class=\"dataframe\">\n",
       "  <thead>\n",
       "    <tr style=\"text-align: right;\">\n",
       "      <th></th>\n",
       "      <th>username</th>\n",
       "      <th>route</th>\n",
       "      <th>rating</th>\n",
       "    </tr>\n",
       "  </thead>\n",
       "  <tbody>\n",
       "    <tr>\n",
       "      <th>10744</th>\n",
       "      <td>1059</td>\n",
       "      <td>1514</td>\n",
       "      <td>3</td>\n",
       "    </tr>\n",
       "    <tr>\n",
       "      <th>10745</th>\n",
       "      <td>2061</td>\n",
       "      <td>1514</td>\n",
       "      <td>3</td>\n",
       "    </tr>\n",
       "    <tr>\n",
       "      <th>10746</th>\n",
       "      <td>493</td>\n",
       "      <td>1514</td>\n",
       "      <td>3</td>\n",
       "    </tr>\n",
       "    <tr>\n",
       "      <th>10747</th>\n",
       "      <td>1783</td>\n",
       "      <td>1514</td>\n",
       "      <td>3</td>\n",
       "    </tr>\n",
       "    <tr>\n",
       "      <th>10748</th>\n",
       "      <td>1105</td>\n",
       "      <td>1514</td>\n",
       "      <td>3</td>\n",
       "    </tr>\n",
       "    <tr>\n",
       "      <th>10749</th>\n",
       "      <td>1278</td>\n",
       "      <td>1514</td>\n",
       "      <td>3</td>\n",
       "    </tr>\n",
       "    <tr>\n",
       "      <th>10750</th>\n",
       "      <td>669</td>\n",
       "      <td>1514</td>\n",
       "      <td>2</td>\n",
       "    </tr>\n",
       "    <tr>\n",
       "      <th>10751</th>\n",
       "      <td>1127</td>\n",
       "      <td>1514</td>\n",
       "      <td>2</td>\n",
       "    </tr>\n",
       "    <tr>\n",
       "      <th>10752</th>\n",
       "      <td>1008</td>\n",
       "      <td>1514</td>\n",
       "      <td>2</td>\n",
       "    </tr>\n",
       "    <tr>\n",
       "      <th>10753</th>\n",
       "      <td>332</td>\n",
       "      <td>1514</td>\n",
       "      <td>2</td>\n",
       "    </tr>\n",
       "    <tr>\n",
       "      <th>10754</th>\n",
       "      <td>186</td>\n",
       "      <td>1514</td>\n",
       "      <td>2</td>\n",
       "    </tr>\n",
       "    <tr>\n",
       "      <th>10755</th>\n",
       "      <td>1264</td>\n",
       "      <td>1514</td>\n",
       "      <td>2</td>\n",
       "    </tr>\n",
       "    <tr>\n",
       "      <th>10756</th>\n",
       "      <td>263</td>\n",
       "      <td>1514</td>\n",
       "      <td>2</td>\n",
       "    </tr>\n",
       "    <tr>\n",
       "      <th>10757</th>\n",
       "      <td>735</td>\n",
       "      <td>1514</td>\n",
       "      <td>2</td>\n",
       "    </tr>\n",
       "    <tr>\n",
       "      <th>10758</th>\n",
       "      <td>1613</td>\n",
       "      <td>1514</td>\n",
       "      <td>2</td>\n",
       "    </tr>\n",
       "    <tr>\n",
       "      <th>10759</th>\n",
       "      <td>321</td>\n",
       "      <td>1514</td>\n",
       "      <td>2</td>\n",
       "    </tr>\n",
       "    <tr>\n",
       "      <th>10760</th>\n",
       "      <td>2015</td>\n",
       "      <td>1514</td>\n",
       "      <td>2</td>\n",
       "    </tr>\n",
       "    <tr>\n",
       "      <th>10761</th>\n",
       "      <td>1069</td>\n",
       "      <td>1514</td>\n",
       "      <td>2</td>\n",
       "    </tr>\n",
       "    <tr>\n",
       "      <th>10762</th>\n",
       "      <td>1440</td>\n",
       "      <td>1514</td>\n",
       "      <td>2</td>\n",
       "    </tr>\n",
       "    <tr>\n",
       "      <th>10763</th>\n",
       "      <td>584</td>\n",
       "      <td>1514</td>\n",
       "      <td>2</td>\n",
       "    </tr>\n",
       "    <tr>\n",
       "      <th>10764</th>\n",
       "      <td>708</td>\n",
       "      <td>1514</td>\n",
       "      <td>2</td>\n",
       "    </tr>\n",
       "    <tr>\n",
       "      <th>10765</th>\n",
       "      <td>1080</td>\n",
       "      <td>1514</td>\n",
       "      <td>2</td>\n",
       "    </tr>\n",
       "    <tr>\n",
       "      <th>10766</th>\n",
       "      <td>770</td>\n",
       "      <td>1514</td>\n",
       "      <td>2</td>\n",
       "    </tr>\n",
       "    <tr>\n",
       "      <th>10767</th>\n",
       "      <td>1833</td>\n",
       "      <td>1514</td>\n",
       "      <td>2</td>\n",
       "    </tr>\n",
       "    <tr>\n",
       "      <th>10768</th>\n",
       "      <td>1986</td>\n",
       "      <td>1514</td>\n",
       "      <td>2</td>\n",
       "    </tr>\n",
       "    <tr>\n",
       "      <th>10769</th>\n",
       "      <td>1373</td>\n",
       "      <td>1514</td>\n",
       "      <td>2</td>\n",
       "    </tr>\n",
       "    <tr>\n",
       "      <th>10770</th>\n",
       "      <td>1665</td>\n",
       "      <td>1514</td>\n",
       "      <td>2</td>\n",
       "    </tr>\n",
       "    <tr>\n",
       "      <th>10771</th>\n",
       "      <td>1811</td>\n",
       "      <td>1514</td>\n",
       "      <td>2</td>\n",
       "    </tr>\n",
       "    <tr>\n",
       "      <th>10772</th>\n",
       "      <td>390</td>\n",
       "      <td>1514</td>\n",
       "      <td>2</td>\n",
       "    </tr>\n",
       "    <tr>\n",
       "      <th>10773</th>\n",
       "      <td>495</td>\n",
       "      <td>1514</td>\n",
       "      <td>2</td>\n",
       "    </tr>\n",
       "    <tr>\n",
       "      <th>10774</th>\n",
       "      <td>147</td>\n",
       "      <td>1514</td>\n",
       "      <td>2</td>\n",
       "    </tr>\n",
       "    <tr>\n",
       "      <th>10775</th>\n",
       "      <td>281</td>\n",
       "      <td>1514</td>\n",
       "      <td>1</td>\n",
       "    </tr>\n",
       "    <tr>\n",
       "      <th>10776</th>\n",
       "      <td>1090</td>\n",
       "      <td>1514</td>\n",
       "      <td>1</td>\n",
       "    </tr>\n",
       "    <tr>\n",
       "      <th>10777</th>\n",
       "      <td>1751</td>\n",
       "      <td>1514</td>\n",
       "      <td>1</td>\n",
       "    </tr>\n",
       "    <tr>\n",
       "      <th>10778</th>\n",
       "      <td>795</td>\n",
       "      <td>1514</td>\n",
       "      <td>0</td>\n",
       "    </tr>\n",
       "  </tbody>\n",
       "</table>\n",
       "</div>"
      ],
      "text/plain": [
       "       username  route rating\n",
       "10744      1059   1514      3\n",
       "10745      2061   1514      3\n",
       "10746       493   1514      3\n",
       "10747      1783   1514      3\n",
       "10748      1105   1514      3\n",
       "10749      1278   1514      3\n",
       "10750       669   1514      2\n",
       "10751      1127   1514      2\n",
       "10752      1008   1514      2\n",
       "10753       332   1514      2\n",
       "10754       186   1514      2\n",
       "10755      1264   1514      2\n",
       "10756       263   1514      2\n",
       "10757       735   1514      2\n",
       "10758      1613   1514      2\n",
       "10759       321   1514      2\n",
       "10760      2015   1514      2\n",
       "10761      1069   1514      2\n",
       "10762      1440   1514      2\n",
       "10763       584   1514      2\n",
       "10764       708   1514      2\n",
       "10765      1080   1514      2\n",
       "10766       770   1514      2\n",
       "10767      1833   1514      2\n",
       "10768      1986   1514      2\n",
       "10769      1373   1514      2\n",
       "10770      1665   1514      2\n",
       "10771      1811   1514      2\n",
       "10772       390   1514      2\n",
       "10773       495   1514      2\n",
       "10774       147   1514      2\n",
       "10775       281   1514      1\n",
       "10776      1090   1514      1\n",
       "10777      1751   1514      1\n",
       "10778       795   1514      0"
      ]
     },
     "execution_count": 136,
     "metadata": {},
     "output_type": "execute_result"
    }
   ],
   "source": [
    "ratings_df_pd[ratings_df_pd['route'] == 1514]"
   ]
  },
  {
   "cell_type": "code",
   "execution_count": 166,
   "metadata": {
    "collapsed": false
   },
   "outputs": [],
   "source": [
    "def update_df(df):\n",
    "    row = 0\n",
    "    username_list = []\n",
    "    route_list = df['route'].unique().tolist()\n",
    "    df_new = pd.DataFrame(columns=['username','route','rating'])\n",
    "    for route, usernames, ratings in zip(df['route'], \n",
    "                                        df['username'],\n",
    "                                        df['rating']):\n",
    "        row += 1\n",
    "        for username, rating in zip(usernames, ratings):\n",
    "            if username.encode('utf-8') not in username_list:\n",
    "                username_list.append(username.encode('utf-8'))\n",
    "            row += 1\n",
    "            df_new.loc[row, 'username'] = username.encode('utf-8')\n",
    "            df_new.loc[row, 'rating'] = rating\n",
    "            df_new.loc[row, 'route'] = route_list.index(route)\n",
    "    # convert to catagorical the numerical\n",
    "    df_new['username'] = df_new['username'].astype('category').cat.codes\n",
    "    return df_new, username_list, route_list\n",
    "\n",
    "df_new, username_list, routes = update_df(df_ratings)"
   ]
  },
  {
   "cell_type": "code",
   "execution_count": 169,
   "metadata": {
    "collapsed": false
   },
   "outputs": [
    {
     "data": {
      "text/plain": [
       "926"
      ]
     },
     "execution_count": 169,
     "metadata": {},
     "output_type": "execute_result"
    }
   ],
   "source": [
    "routes.index('Godzilla')"
   ]
  },
  {
   "cell_type": "code",
   "execution_count": 170,
   "metadata": {
    "collapsed": false
   },
   "outputs": [
    {
     "data": {
      "text/html": [
       "<div>\n",
       "<table border=\"1\" class=\"dataframe\">\n",
       "  <thead>\n",
       "    <tr style=\"text-align: right;\">\n",
       "      <th></th>\n",
       "      <th>username</th>\n",
       "      <th>route</th>\n",
       "      <th>rating</th>\n",
       "    </tr>\n",
       "  </thead>\n",
       "  <tbody>\n",
       "    <tr>\n",
       "      <th>9472</th>\n",
       "      <td>1016</td>\n",
       "      <td>926</td>\n",
       "      <td>4</td>\n",
       "    </tr>\n",
       "    <tr>\n",
       "      <th>9473</th>\n",
       "      <td>1388</td>\n",
       "      <td>926</td>\n",
       "      <td>4</td>\n",
       "    </tr>\n",
       "    <tr>\n",
       "      <th>9474</th>\n",
       "      <td>916</td>\n",
       "      <td>926</td>\n",
       "      <td>4</td>\n",
       "    </tr>\n",
       "    <tr>\n",
       "      <th>9475</th>\n",
       "      <td>802</td>\n",
       "      <td>926</td>\n",
       "      <td>4</td>\n",
       "    </tr>\n",
       "    <tr>\n",
       "      <th>9476</th>\n",
       "      <td>118</td>\n",
       "      <td>926</td>\n",
       "      <td>4</td>\n",
       "    </tr>\n",
       "    <tr>\n",
       "      <th>9477</th>\n",
       "      <td>1160</td>\n",
       "      <td>926</td>\n",
       "      <td>4</td>\n",
       "    </tr>\n",
       "    <tr>\n",
       "      <th>9478</th>\n",
       "      <td>1871</td>\n",
       "      <td>926</td>\n",
       "      <td>4</td>\n",
       "    </tr>\n",
       "    <tr>\n",
       "      <th>9479</th>\n",
       "      <td>1879</td>\n",
       "      <td>926</td>\n",
       "      <td>4</td>\n",
       "    </tr>\n",
       "    <tr>\n",
       "      <th>9480</th>\n",
       "      <td>182</td>\n",
       "      <td>926</td>\n",
       "      <td>4</td>\n",
       "    </tr>\n",
       "    <tr>\n",
       "      <th>9481</th>\n",
       "      <td>671</td>\n",
       "      <td>926</td>\n",
       "      <td>4</td>\n",
       "    </tr>\n",
       "    <tr>\n",
       "      <th>9482</th>\n",
       "      <td>2023</td>\n",
       "      <td>926</td>\n",
       "      <td>4</td>\n",
       "    </tr>\n",
       "    <tr>\n",
       "      <th>9483</th>\n",
       "      <td>198</td>\n",
       "      <td>926</td>\n",
       "      <td>4</td>\n",
       "    </tr>\n",
       "    <tr>\n",
       "      <th>9484</th>\n",
       "      <td>1454</td>\n",
       "      <td>926</td>\n",
       "      <td>4</td>\n",
       "    </tr>\n",
       "    <tr>\n",
       "      <th>9485</th>\n",
       "      <td>1795</td>\n",
       "      <td>926</td>\n",
       "      <td>4</td>\n",
       "    </tr>\n",
       "    <tr>\n",
       "      <th>9486</th>\n",
       "      <td>81</td>\n",
       "      <td>926</td>\n",
       "      <td>4</td>\n",
       "    </tr>\n",
       "    <tr>\n",
       "      <th>9487</th>\n",
       "      <td>1773</td>\n",
       "      <td>926</td>\n",
       "      <td>4</td>\n",
       "    </tr>\n",
       "    <tr>\n",
       "      <th>9488</th>\n",
       "      <td>568</td>\n",
       "      <td>926</td>\n",
       "      <td>4</td>\n",
       "    </tr>\n",
       "    <tr>\n",
       "      <th>9489</th>\n",
       "      <td>336</td>\n",
       "      <td>926</td>\n",
       "      <td>4</td>\n",
       "    </tr>\n",
       "    <tr>\n",
       "      <th>9490</th>\n",
       "      <td>1877</td>\n",
       "      <td>926</td>\n",
       "      <td>4</td>\n",
       "    </tr>\n",
       "    <tr>\n",
       "      <th>9491</th>\n",
       "      <td>1864</td>\n",
       "      <td>926</td>\n",
       "      <td>4</td>\n",
       "    </tr>\n",
       "    <tr>\n",
       "      <th>9492</th>\n",
       "      <td>743</td>\n",
       "      <td>926</td>\n",
       "      <td>4</td>\n",
       "    </tr>\n",
       "    <tr>\n",
       "      <th>9493</th>\n",
       "      <td>1487</td>\n",
       "      <td>926</td>\n",
       "      <td>4</td>\n",
       "    </tr>\n",
       "    <tr>\n",
       "      <th>9494</th>\n",
       "      <td>1867</td>\n",
       "      <td>926</td>\n",
       "      <td>4</td>\n",
       "    </tr>\n",
       "    <tr>\n",
       "      <th>9495</th>\n",
       "      <td>578</td>\n",
       "      <td>926</td>\n",
       "      <td>4</td>\n",
       "    </tr>\n",
       "    <tr>\n",
       "      <th>9496</th>\n",
       "      <td>1331</td>\n",
       "      <td>926</td>\n",
       "      <td>4</td>\n",
       "    </tr>\n",
       "    <tr>\n",
       "      <th>9497</th>\n",
       "      <td>799</td>\n",
       "      <td>926</td>\n",
       "      <td>4</td>\n",
       "    </tr>\n",
       "    <tr>\n",
       "      <th>9498</th>\n",
       "      <td>359</td>\n",
       "      <td>926</td>\n",
       "      <td>4</td>\n",
       "    </tr>\n",
       "    <tr>\n",
       "      <th>9499</th>\n",
       "      <td>1495</td>\n",
       "      <td>926</td>\n",
       "      <td>4</td>\n",
       "    </tr>\n",
       "    <tr>\n",
       "      <th>9500</th>\n",
       "      <td>1441</td>\n",
       "      <td>926</td>\n",
       "      <td>4</td>\n",
       "    </tr>\n",
       "    <tr>\n",
       "      <th>9501</th>\n",
       "      <td>516</td>\n",
       "      <td>926</td>\n",
       "      <td>4</td>\n",
       "    </tr>\n",
       "    <tr>\n",
       "      <th>...</th>\n",
       "      <td>...</td>\n",
       "      <td>...</td>\n",
       "      <td>...</td>\n",
       "    </tr>\n",
       "    <tr>\n",
       "      <th>9697</th>\n",
       "      <td>180</td>\n",
       "      <td>926</td>\n",
       "      <td>3</td>\n",
       "    </tr>\n",
       "    <tr>\n",
       "      <th>9698</th>\n",
       "      <td>731</td>\n",
       "      <td>926</td>\n",
       "      <td>3</td>\n",
       "    </tr>\n",
       "    <tr>\n",
       "      <th>9699</th>\n",
       "      <td>1326</td>\n",
       "      <td>926</td>\n",
       "      <td>3</td>\n",
       "    </tr>\n",
       "    <tr>\n",
       "      <th>9700</th>\n",
       "      <td>1325</td>\n",
       "      <td>926</td>\n",
       "      <td>3</td>\n",
       "    </tr>\n",
       "    <tr>\n",
       "      <th>9701</th>\n",
       "      <td>847</td>\n",
       "      <td>926</td>\n",
       "      <td>3</td>\n",
       "    </tr>\n",
       "    <tr>\n",
       "      <th>9702</th>\n",
       "      <td>1830</td>\n",
       "      <td>926</td>\n",
       "      <td>3</td>\n",
       "    </tr>\n",
       "    <tr>\n",
       "      <th>9703</th>\n",
       "      <td>408</td>\n",
       "      <td>926</td>\n",
       "      <td>3</td>\n",
       "    </tr>\n",
       "    <tr>\n",
       "      <th>9704</th>\n",
       "      <td>1813</td>\n",
       "      <td>926</td>\n",
       "      <td>3</td>\n",
       "    </tr>\n",
       "    <tr>\n",
       "      <th>9705</th>\n",
       "      <td>831</td>\n",
       "      <td>926</td>\n",
       "      <td>3</td>\n",
       "    </tr>\n",
       "    <tr>\n",
       "      <th>9706</th>\n",
       "      <td>1145</td>\n",
       "      <td>926</td>\n",
       "      <td>3</td>\n",
       "    </tr>\n",
       "    <tr>\n",
       "      <th>9707</th>\n",
       "      <td>662</td>\n",
       "      <td>926</td>\n",
       "      <td>3</td>\n",
       "    </tr>\n",
       "    <tr>\n",
       "      <th>9708</th>\n",
       "      <td>1613</td>\n",
       "      <td>926</td>\n",
       "      <td>3</td>\n",
       "    </tr>\n",
       "    <tr>\n",
       "      <th>9709</th>\n",
       "      <td>298</td>\n",
       "      <td>926</td>\n",
       "      <td>3</td>\n",
       "    </tr>\n",
       "    <tr>\n",
       "      <th>9710</th>\n",
       "      <td>964</td>\n",
       "      <td>926</td>\n",
       "      <td>3</td>\n",
       "    </tr>\n",
       "    <tr>\n",
       "      <th>9711</th>\n",
       "      <td>2021</td>\n",
       "      <td>926</td>\n",
       "      <td>3</td>\n",
       "    </tr>\n",
       "    <tr>\n",
       "      <th>9712</th>\n",
       "      <td>688</td>\n",
       "      <td>926</td>\n",
       "      <td>3</td>\n",
       "    </tr>\n",
       "    <tr>\n",
       "      <th>9713</th>\n",
       "      <td>344</td>\n",
       "      <td>926</td>\n",
       "      <td>3</td>\n",
       "    </tr>\n",
       "    <tr>\n",
       "      <th>9714</th>\n",
       "      <td>1269</td>\n",
       "      <td>926</td>\n",
       "      <td>3</td>\n",
       "    </tr>\n",
       "    <tr>\n",
       "      <th>9715</th>\n",
       "      <td>448</td>\n",
       "      <td>926</td>\n",
       "      <td>3</td>\n",
       "    </tr>\n",
       "    <tr>\n",
       "      <th>9716</th>\n",
       "      <td>491</td>\n",
       "      <td>926</td>\n",
       "      <td>3</td>\n",
       "    </tr>\n",
       "    <tr>\n",
       "      <th>9717</th>\n",
       "      <td>788</td>\n",
       "      <td>926</td>\n",
       "      <td>3</td>\n",
       "    </tr>\n",
       "    <tr>\n",
       "      <th>9718</th>\n",
       "      <td>583</td>\n",
       "      <td>926</td>\n",
       "      <td>3</td>\n",
       "    </tr>\n",
       "    <tr>\n",
       "      <th>9719</th>\n",
       "      <td>438</td>\n",
       "      <td>926</td>\n",
       "      <td>2</td>\n",
       "    </tr>\n",
       "    <tr>\n",
       "      <th>9720</th>\n",
       "      <td>1811</td>\n",
       "      <td>926</td>\n",
       "      <td>2</td>\n",
       "    </tr>\n",
       "    <tr>\n",
       "      <th>9721</th>\n",
       "      <td>705</td>\n",
       "      <td>926</td>\n",
       "      <td>2</td>\n",
       "    </tr>\n",
       "    <tr>\n",
       "      <th>9722</th>\n",
       "      <td>2057</td>\n",
       "      <td>926</td>\n",
       "      <td>2</td>\n",
       "    </tr>\n",
       "    <tr>\n",
       "      <th>9723</th>\n",
       "      <td>1509</td>\n",
       "      <td>926</td>\n",
       "      <td>2</td>\n",
       "    </tr>\n",
       "    <tr>\n",
       "      <th>9724</th>\n",
       "      <td>878</td>\n",
       "      <td>926</td>\n",
       "      <td>2</td>\n",
       "    </tr>\n",
       "    <tr>\n",
       "      <th>9725</th>\n",
       "      <td>316</td>\n",
       "      <td>926</td>\n",
       "      <td>2</td>\n",
       "    </tr>\n",
       "    <tr>\n",
       "      <th>9726</th>\n",
       "      <td>370</td>\n",
       "      <td>926</td>\n",
       "      <td>1</td>\n",
       "    </tr>\n",
       "  </tbody>\n",
       "</table>\n",
       "<p>255 rows × 3 columns</p>\n",
       "</div>"
      ],
      "text/plain": [
       "      username route rating\n",
       "9472      1016   926      4\n",
       "9473      1388   926      4\n",
       "9474       916   926      4\n",
       "9475       802   926      4\n",
       "9476       118   926      4\n",
       "9477      1160   926      4\n",
       "9478      1871   926      4\n",
       "9479      1879   926      4\n",
       "9480       182   926      4\n",
       "9481       671   926      4\n",
       "9482      2023   926      4\n",
       "9483       198   926      4\n",
       "9484      1454   926      4\n",
       "9485      1795   926      4\n",
       "9486        81   926      4\n",
       "9487      1773   926      4\n",
       "9488       568   926      4\n",
       "9489       336   926      4\n",
       "9490      1877   926      4\n",
       "9491      1864   926      4\n",
       "9492       743   926      4\n",
       "9493      1487   926      4\n",
       "9494      1867   926      4\n",
       "9495       578   926      4\n",
       "9496      1331   926      4\n",
       "9497       799   926      4\n",
       "9498       359   926      4\n",
       "9499      1495   926      4\n",
       "9500      1441   926      4\n",
       "9501       516   926      4\n",
       "...        ...   ...    ...\n",
       "9697       180   926      3\n",
       "9698       731   926      3\n",
       "9699      1326   926      3\n",
       "9700      1325   926      3\n",
       "9701       847   926      3\n",
       "9702      1830   926      3\n",
       "9703       408   926      3\n",
       "9704      1813   926      3\n",
       "9705       831   926      3\n",
       "9706      1145   926      3\n",
       "9707       662   926      3\n",
       "9708      1613   926      3\n",
       "9709       298   926      3\n",
       "9710       964   926      3\n",
       "9711      2021   926      3\n",
       "9712       688   926      3\n",
       "9713       344   926      3\n",
       "9714      1269   926      3\n",
       "9715       448   926      3\n",
       "9716       491   926      3\n",
       "9717       788   926      3\n",
       "9718       583   926      3\n",
       "9719       438   926      2\n",
       "9720      1811   926      2\n",
       "9721       705   926      2\n",
       "9722      2057   926      2\n",
       "9723      1509   926      2\n",
       "9724       878   926      2\n",
       "9725       316   926      2\n",
       "9726       370   926      1\n",
       "\n",
       "[255 rows x 3 columns]"
      ]
     },
     "execution_count": 170,
     "metadata": {},
     "output_type": "execute_result"
    }
   ],
   "source": [
    "df_new[df_new['route'] == 926]"
   ]
  },
  {
   "cell_type": "code",
   "execution_count": null,
   "metadata": {
    "collapsed": true
   },
   "outputs": [],
   "source": []
  }
 ],
 "metadata": {
  "kernelspec": {
   "display_name": "Python 2",
   "language": "python",
   "name": "python2"
  },
  "language_info": {
   "codemirror_mode": {
    "name": "ipython",
    "version": 2
   },
   "file_extension": ".py",
   "mimetype": "text/x-python",
   "name": "python",
   "nbconvert_exporter": "python",
   "pygments_lexer": "ipython2",
   "version": "2.7.13"
  }
 },
 "nbformat": 4,
 "nbformat_minor": 2
}
