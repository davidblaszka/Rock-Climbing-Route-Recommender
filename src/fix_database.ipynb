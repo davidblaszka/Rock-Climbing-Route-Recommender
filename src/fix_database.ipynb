{
 "cells": [
  {
   "cell_type": "code",
   "execution_count": 1,
   "metadata": {
    "collapsed": true
   },
   "outputs": [],
   "source": [
    "import pandas as pd\n",
    "from pymongo import MongoClient"
   ]
  },
  {
   "cell_type": "code",
   "execution_count": 2,
   "metadata": {
    "collapsed": true
   },
   "outputs": [],
   "source": [
    "client = MongoClient()\n",
    "db = client.redpointer"
   ]
  },
  {
   "cell_type": "code",
   "execution_count": 4,
   "metadata": {
    "collapsed": false
   },
   "outputs": [],
   "source": [
    "db = client.routes_updated\n",
    "routes = db.routes"
   ]
  },
  {
   "cell_type": "code",
   "execution_count": 5,
   "metadata": {
    "collapsed": true
   },
   "outputs": [],
   "source": [
    "db = client.users\n",
    "users = db.users"
   ]
  },
  {
   "cell_type": "code",
   "execution_count": 10,
   "metadata": {
    "collapsed": false
   },
   "outputs": [],
   "source": [
    "routes_df = pd.DataFrame(list(routes.find()))"
   ]
  },
  {
   "cell_type": "code",
   "execution_count": 11,
   "metadata": {
    "collapsed": false
   },
   "outputs": [
    {
     "data": {
      "text/html": [
       "<div>\n",
       "<table border=\"1\" class=\"dataframe\">\n",
       "  <thead>\n",
       "    <tr style=\"text-align: right;\">\n",
       "      <th></th>\n",
       "      <th>Aid</th>\n",
       "      <th>Alpine</th>\n",
       "      <th>Boulder</th>\n",
       "      <th>FA</th>\n",
       "      <th>Ice</th>\n",
       "      <th>Mixed</th>\n",
       "      <th>Sport</th>\n",
       "      <th>TR</th>\n",
       "      <th>Trad</th>\n",
       "      <th>_id</th>\n",
       "      <th>...</th>\n",
       "      <th>id</th>\n",
       "      <th>name</th>\n",
       "      <th>original_grade</th>\n",
       "      <th>page_views</th>\n",
       "      <th>pitches</th>\n",
       "      <th>route_url</th>\n",
       "      <th>season</th>\n",
       "      <th>submitted_by</th>\n",
       "      <th>submitted_on</th>\n",
       "      <th>uiaa</th>\n",
       "    </tr>\n",
       "  </thead>\n",
       "  <tbody>\n",
       "    <tr>\n",
       "      <th>0</th>\n",
       "      <td>0</td>\n",
       "      <td>0</td>\n",
       "      <td>0</td>\n",
       "      <td>Adam Winslow, Bill Coe, Kyle Silverman 3/20/09</td>\n",
       "      <td>0</td>\n",
       "      <td>0</td>\n",
       "      <td>0</td>\n",
       "      <td>0</td>\n",
       "      <td>1</td>\n",
       "      <td>58d4599740b441389904258b</td>\n",
       "      <td>...</td>\n",
       "      <td>0</td>\n",
       "      <td>30(1) Feet of Pleasure</td>\n",
       "      <td>5.6</td>\n",
       "      <td>588</td>\n",
       "      <td>1.0</td>\n",
       "      <td>/v/301-feet-of-pleasure/106862592</td>\n",
       "      <td>NaN</td>\n",
       "      <td>adam winslow</td>\n",
       "      <td>Aug 18, 2010</td>\n",
       "      <td>NaN</td>\n",
       "    </tr>\n",
       "    <tr>\n",
       "      <th>1</th>\n",
       "      <td>0</td>\n",
       "      <td>0</td>\n",
       "      <td>0</td>\n",
       "      <td>Adam Winslow, Ujahn Davisson, Bill Coe, Jim Op...</td>\n",
       "      <td>0</td>\n",
       "      <td>0</td>\n",
       "      <td>0</td>\n",
       "      <td>0</td>\n",
       "      <td>1</td>\n",
       "      <td>58d4599740b441389904258c</td>\n",
       "      <td>...</td>\n",
       "      <td>1</td>\n",
       "      <td>41 Feet of Pain</td>\n",
       "      <td>5.5</td>\n",
       "      <td>642</td>\n",
       "      <td>1.0</td>\n",
       "      <td>/v/41-feet-of-pain/106862549</td>\n",
       "      <td>NaN</td>\n",
       "      <td>adam winslow</td>\n",
       "      <td>Aug 18, 2010</td>\n",
       "      <td>NaN</td>\n",
       "    </tr>\n",
       "    <tr>\n",
       "      <th>2</th>\n",
       "      <td>0</td>\n",
       "      <td>0</td>\n",
       "      <td>0</td>\n",
       "      <td>?</td>\n",
       "      <td>0</td>\n",
       "      <td>0</td>\n",
       "      <td>0</td>\n",
       "      <td>1</td>\n",
       "      <td>1</td>\n",
       "      <td>58d4599740b441389904258d</td>\n",
       "      <td>...</td>\n",
       "      <td>2</td>\n",
       "      <td>5.5 Crack</td>\n",
       "      <td>5.5</td>\n",
       "      <td>176</td>\n",
       "      <td>NaN</td>\n",
       "      <td>/v/55-crack/108318876</td>\n",
       "      <td>Afternoon shade</td>\n",
       "      <td>CHopwood</td>\n",
       "      <td>Sep 2, 2013</td>\n",
       "      <td>NaN</td>\n",
       "    </tr>\n",
       "    <tr>\n",
       "      <th>3</th>\n",
       "      <td>0</td>\n",
       "      <td>0</td>\n",
       "      <td>0</td>\n",
       "      <td></td>\n",
       "      <td>0</td>\n",
       "      <td>0</td>\n",
       "      <td>0</td>\n",
       "      <td>1</td>\n",
       "      <td>1</td>\n",
       "      <td>58d4599740b441389904258e</td>\n",
       "      <td>...</td>\n",
       "      <td>3</td>\n",
       "      <td>5.6 crack</td>\n",
       "      <td>5.6</td>\n",
       "      <td>1263</td>\n",
       "      <td>1.0</td>\n",
       "      <td>/v/56-crack/106630563</td>\n",
       "      <td>NaN</td>\n",
       "      <td>Tom Bath</td>\n",
       "      <td>Dec 16, 2009</td>\n",
       "      <td>NaN</td>\n",
       "    </tr>\n",
       "    <tr>\n",
       "      <th>4</th>\n",
       "      <td>0</td>\n",
       "      <td>0</td>\n",
       "      <td>0</td>\n",
       "      <td>Unknown</td>\n",
       "      <td>0</td>\n",
       "      <td>0</td>\n",
       "      <td>0</td>\n",
       "      <td>1</td>\n",
       "      <td>1</td>\n",
       "      <td>58d4599740b441389904258f</td>\n",
       "      <td>...</td>\n",
       "      <td>4</td>\n",
       "      <td>5.6 Dihedral</td>\n",
       "      <td>5.6</td>\n",
       "      <td>678</td>\n",
       "      <td>1.0</td>\n",
       "      <td>/v/56-dihedral/106165717</td>\n",
       "      <td>NaN</td>\n",
       "      <td>chrishar Hargarten</td>\n",
       "      <td>May 19, 2008</td>\n",
       "      <td>NaN</td>\n",
       "    </tr>\n",
       "  </tbody>\n",
       "</table>\n",
       "<p>5 rows × 24 columns</p>\n",
       "</div>"
      ],
      "text/plain": [
       "   Aid  Alpine  Boulder                                                 FA  \\\n",
       "0    0       0        0     Adam Winslow, Bill Coe, Kyle Silverman 3/20/09   \n",
       "1    0       0        0  Adam Winslow, Ujahn Davisson, Bill Coe, Jim Op...   \n",
       "2    0       0        0                                                  ?   \n",
       "3    0       0        0                                                      \n",
       "4    0       0        0                                            Unknown   \n",
       "\n",
       "   Ice  Mixed  Sport  TR  Trad                       _id ...  id  \\\n",
       "0    0      0      0   0     1  58d4599740b441389904258b ...   0   \n",
       "1    0      0      0   0     1  58d4599740b441389904258c ...   1   \n",
       "2    0      0      0   1     1  58d4599740b441389904258d ...   2   \n",
       "3    0      0      0   1     1  58d4599740b441389904258e ...   3   \n",
       "4    0      0      0   1     1  58d4599740b441389904258f ...   4   \n",
       "\n",
       "                     name original_grade  page_views  pitches  \\\n",
       "0  30(1) Feet of Pleasure          5.6           588      1.0   \n",
       "1         41 Feet of Pain          5.5           642      1.0   \n",
       "2               5.5 Crack          5.5           176      NaN   \n",
       "3               5.6 crack          5.6          1263      1.0   \n",
       "4            5.6 Dihedral          5.6           678      1.0   \n",
       "\n",
       "                           route_url           season        submitted_by  \\\n",
       "0  /v/301-feet-of-pleasure/106862592              NaN        adam winslow   \n",
       "1       /v/41-feet-of-pain/106862549              NaN        adam winslow   \n",
       "2              /v/55-crack/108318876  Afternoon shade            CHopwood   \n",
       "3              /v/56-crack/106630563              NaN            Tom Bath   \n",
       "4           /v/56-dihedral/106165717              NaN  chrishar Hargarten   \n",
       "\n",
       "   submitted_on uiaa  \n",
       "0  Aug 18, 2010  NaN  \n",
       "1  Aug 18, 2010  NaN  \n",
       "2   Sep 2, 2013  NaN  \n",
       "3  Dec 16, 2009  NaN  \n",
       "4  May 19, 2008  NaN  \n",
       "\n",
       "[5 rows x 24 columns]"
      ]
     },
     "execution_count": 11,
     "metadata": {},
     "output_type": "execute_result"
    }
   ],
   "source": [
    "routes_df.head()"
   ]
  },
  {
   "cell_type": "code",
   "execution_count": 12,
   "metadata": {
    "collapsed": true
   },
   "outputs": [],
   "source": [
    "users_df = pd.DataFrame(list(users.find()))"
   ]
  },
  {
   "cell_type": "code",
   "execution_count": 13,
   "metadata": {
    "collapsed": false
   },
   "outputs": [
    {
     "data": {
      "text/html": [
       "<div>\n",
       "<table border=\"1\" class=\"dataframe\">\n",
       "  <thead>\n",
       "    <tr style=\"text-align: right;\">\n",
       "      <th></th>\n",
       "      <th>_id</th>\n",
       "      <th>age</th>\n",
       "      <th>aid_follows</th>\n",
       "      <th>aid_leads</th>\n",
       "      <th>city</th>\n",
       "      <th>compliments</th>\n",
       "      <th>favorite_climbs</th>\n",
       "      <th>female</th>\n",
       "      <th>ice_follows</th>\n",
       "      <th>ice_leads</th>\n",
       "      <th>...</th>\n",
       "      <th>member_since</th>\n",
       "      <th>name</th>\n",
       "      <th>other_interests</th>\n",
       "      <th>point_rank</th>\n",
       "      <th>sport_follows</th>\n",
       "      <th>sport_lead</th>\n",
       "      <th>state</th>\n",
       "      <th>total_points</th>\n",
       "      <th>trad_follows</th>\n",
       "      <th>trad_lead</th>\n",
       "    </tr>\n",
       "  </thead>\n",
       "  <tbody>\n",
       "    <tr>\n",
       "      <th>0</th>\n",
       "      <td>58d1912840b4417fa4b16db4</td>\n",
       "      <td>NaN</td>\n",
       "      <td>NaN</td>\n",
       "      <td>NaN</td>\n",
       "      <td>NaN</td>\n",
       "      <td>0</td>\n",
       "      <td>leading trad is rad</td>\n",
       "      <td>NaN</td>\n",
       "      <td>NaN</td>\n",
       "      <td>NaN</td>\n",
       "      <td>...</td>\n",
       "      <td>Nov 13, 2010</td>\n",
       "      <td>-Jeremy Nelson</td>\n",
       "      <td>none specified</td>\n",
       "      <td>2570.0</td>\n",
       "      <td>NaN</td>\n",
       "      <td>NaN</td>\n",
       "      <td>NaN</td>\n",
       "      <td>223</td>\n",
       "      <td>NaN</td>\n",
       "      <td>NaN</td>\n",
       "    </tr>\n",
       "    <tr>\n",
       "      <th>1</th>\n",
       "      <td>58d1912840b4417fa4b16db5</td>\n",
       "      <td>NaN</td>\n",
       "      <td>NaN</td>\n",
       "      <td>NaN</td>\n",
       "      <td>Seattle</td>\n",
       "      <td>1</td>\n",
       "      <td>high mountain woody, fridge left, easy in an ...</td>\n",
       "      <td>0.0</td>\n",
       "      <td>NaN</td>\n",
       "      <td>NaN</td>\n",
       "      <td>...</td>\n",
       "      <td>May 8, 2011</td>\n",
       "      <td>1694kyle Bonnet</td>\n",
       "      <td>Beer, Led Zeppelin, Food</td>\n",
       "      <td>6523.0</td>\n",
       "      <td>6b</td>\n",
       "      <td>6a</td>\n",
       "      <td>wa</td>\n",
       "      <td>50</td>\n",
       "      <td>5c</td>\n",
       "      <td>5a</td>\n",
       "    </tr>\n",
       "    <tr>\n",
       "      <th>2</th>\n",
       "      <td>58d1912840b4417fa4b16db6</td>\n",
       "      <td>NaN</td>\n",
       "      <td>C5</td>\n",
       "      <td>C3</td>\n",
       "      <td>Hawaii</td>\n",
       "      <td>10</td>\n",
       "      <td>none specified</td>\n",
       "      <td>0.0</td>\n",
       "      <td>NaN</td>\n",
       "      <td>NaN</td>\n",
       "      <td>...</td>\n",
       "      <td>Feb 2, 2009</td>\n",
       "      <td>20 kN</td>\n",
       "      <td>none specified</td>\n",
       "      <td>601.0</td>\n",
       "      <td>6b</td>\n",
       "      <td>6b</td>\n",
       "      <td>hi</td>\n",
       "      <td>1123</td>\n",
       "      <td>6b</td>\n",
       "      <td>5c</td>\n",
       "    </tr>\n",
       "    <tr>\n",
       "      <th>3</th>\n",
       "      <td>58d1912840b4417fa4b16db7</td>\n",
       "      <td>33.0</td>\n",
       "      <td>NaN</td>\n",
       "      <td>NaN</td>\n",
       "      <td>Corvallis</td>\n",
       "      <td>0</td>\n",
       "      <td>outer space</td>\n",
       "      <td>0.0</td>\n",
       "      <td>NaN</td>\n",
       "      <td>NaN</td>\n",
       "      <td>...</td>\n",
       "      <td>May 26, 2010</td>\n",
       "      <td>419</td>\n",
       "      <td>Male Nursing</td>\n",
       "      <td>1439.0</td>\n",
       "      <td>NaN</td>\n",
       "      <td>NaN</td>\n",
       "      <td>co</td>\n",
       "      <td>465</td>\n",
       "      <td>NaN</td>\n",
       "      <td>NaN</td>\n",
       "    </tr>\n",
       "    <tr>\n",
       "      <th>4</th>\n",
       "      <td>58d1912840b4417fa4b16db8</td>\n",
       "      <td>NaN</td>\n",
       "      <td>NaN</td>\n",
       "      <td>NaN</td>\n",
       "      <td>NaN</td>\n",
       "      <td>0</td>\n",
       "      <td>none specified</td>\n",
       "      <td>NaN</td>\n",
       "      <td>NaN</td>\n",
       "      <td>NaN</td>\n",
       "      <td>...</td>\n",
       "      <td>Sep 3, 2006</td>\n",
       "      <td>8jimi8</td>\n",
       "      <td>none specified</td>\n",
       "      <td>4969.0</td>\n",
       "      <td>NaN</td>\n",
       "      <td>NaN</td>\n",
       "      <td>NaN</td>\n",
       "      <td>80</td>\n",
       "      <td>NaN</td>\n",
       "      <td>NaN</td>\n",
       "    </tr>\n",
       "  </tbody>\n",
       "</table>\n",
       "<p>5 rows × 26 columns</p>\n",
       "</div>"
      ],
      "text/plain": [
       "                        _id   age aid_follows aid_leads         city  \\\n",
       "0  58d1912840b4417fa4b16db4   NaN         NaN       NaN          NaN   \n",
       "1  58d1912840b4417fa4b16db5   NaN         NaN       NaN      Seattle   \n",
       "2  58d1912840b4417fa4b16db6   NaN          C5        C3       Hawaii   \n",
       "3  58d1912840b4417fa4b16db7  33.0         NaN       NaN    Corvallis   \n",
       "4  58d1912840b4417fa4b16db8   NaN         NaN       NaN          NaN   \n",
       "\n",
       "   compliments                                    favorite_climbs  female  \\\n",
       "0            0                                leading trad is rad     NaN   \n",
       "1            1   high mountain woody, fridge left, easy in an ...     0.0   \n",
       "2           10                                     none specified     0.0   \n",
       "3            0                                        outer space     0.0   \n",
       "4            0                                     none specified     NaN   \n",
       "\n",
       "  ice_follows ice_leads    ...      member_since             name  \\\n",
       "0         NaN       NaN    ...      Nov 13, 2010   -Jeremy Nelson   \n",
       "1         NaN       NaN    ...       May 8, 2011  1694kyle Bonnet   \n",
       "2         NaN       NaN    ...       Feb 2, 2009            20 kN   \n",
       "3         NaN       NaN    ...      May 26, 2010              419   \n",
       "4         NaN       NaN    ...       Sep 3, 2006           8jimi8   \n",
       "\n",
       "             other_interests  point_rank  sport_follows  sport_lead state  \\\n",
       "0             none specified      2570.0            NaN         NaN   NaN   \n",
       "1   Beer, Led Zeppelin, Food      6523.0             6b          6a    wa   \n",
       "2             none specified       601.0             6b          6b    hi   \n",
       "3               Male Nursing      1439.0            NaN         NaN    co   \n",
       "4             none specified      4969.0            NaN         NaN   NaN   \n",
       "\n",
       "  total_points trad_follows  trad_lead  \n",
       "0          223          NaN        NaN  \n",
       "1           50           5c         5a  \n",
       "2         1123           6b         5c  \n",
       "3          465          NaN        NaN  \n",
       "4           80          NaN        NaN  \n",
       "\n",
       "[5 rows x 26 columns]"
      ]
     },
     "execution_count": 13,
     "metadata": {},
     "output_type": "execute_result"
    }
   ],
   "source": [
    "users_df.head()"
   ]
  },
  {
   "cell_type": "code",
   "execution_count": 20,
   "metadata": {
    "collapsed": false
   },
   "outputs": [
    {
     "data": {
      "text/plain": [
       "<pymongo.results.InsertManyResult at 0x7f687e5400a0>"
      ]
     },
     "execution_count": 20,
     "metadata": {},
     "output_type": "execute_result"
    }
   ],
   "source": [
    "client = MongoClient()\n",
    "db = client.redpointer\n",
    "db.routes.insert_many(list(routes.find()))"
   ]
  },
  {
   "cell_type": "code",
   "execution_count": 21,
   "metadata": {
    "collapsed": false
   },
   "outputs": [
    {
     "data": {
      "text/plain": [
       "<pymongo.results.InsertManyResult at 0x7f687e540af0>"
      ]
     },
     "execution_count": 21,
     "metadata": {},
     "output_type": "execute_result"
    }
   ],
   "source": [
    "client = MongoClient()\n",
    "db = client.redpointer\n",
    "db.users.insert_many(list(users.find()))"
   ]
  },
  {
   "cell_type": "code",
   "execution_count": 23,
   "metadata": {
    "collapsed": false
   },
   "outputs": [
    {
     "data": {
      "text/plain": [
       "0     -Jeremy Nelson\n",
       "1    1694kyle Bonnet\n",
       "2              20 kN\n",
       "3                419\n",
       "4             8jimi8\n",
       "Name: name, dtype: object"
      ]
     },
     "execution_count": 23,
     "metadata": {},
     "output_type": "execute_result"
    }
   ],
   "source": [
    "pd.DataFrame(list(db.users.find())).head()['name']"
   ]
  },
  {
   "cell_type": "code",
   "execution_count": null,
   "metadata": {
    "collapsed": true
   },
   "outputs": [],
   "source": []
  }
 ],
 "metadata": {
  "kernelspec": {
   "display_name": "Python 2",
   "language": "python",
   "name": "python2"
  },
  "language_info": {
   "codemirror_mode": {
    "name": "ipython",
    "version": 2
   },
   "file_extension": ".py",
   "mimetype": "text/x-python",
   "name": "python",
   "nbconvert_exporter": "python",
   "pygments_lexer": "ipython2",
   "version": "2.7.13"
  }
 },
 "nbformat": 4,
 "nbformat_minor": 2
}
