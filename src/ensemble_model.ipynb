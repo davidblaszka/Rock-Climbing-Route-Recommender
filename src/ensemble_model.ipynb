{
 "cells": [
  {
   "cell_type": "code",
   "execution_count": 2,
   "metadata": {
    "collapsed": false
   },
   "outputs": [],
   "source": [
    "from pymongo import MongoClient\n",
    "import pandas as pd\n",
    "from sklearn.ensemble import GradientBoostingRegressor\n",
    "from sklearn.model_selection import train_test_split\n",
    "from sklearn.metrics import mean_squared_error\n",
    "import numpy as np\n",
    "import matplotlib.pyplot as plt\n",
    "%matplotlib inline\n",
    "from ggplot import *"
   ]
  },
  {
   "cell_type": "code",
   "execution_count": 3,
   "metadata": {
    "collapsed": true
   },
   "outputs": [],
   "source": [
    "import pyspark\n",
    "from pyspark.sql.types import *\n",
    "from pyspark.ml.tuning import TrainValidationSplit\n",
    "from pyspark.ml.recommendation import ALS, ALSModel\n",
    "from pyspark.ml.evaluation import RegressionEvaluator"
   ]
  },
  {
   "cell_type": "code",
   "execution_count": 4,
   "metadata": {
    "collapsed": false
   },
   "outputs": [
    {
     "data": {
      "text/plain": [
       "(<pyspark.sql.session.SparkSession at 0x7f12c5db61d0>,\n",
       " <pyspark.context.SparkContext at 0x7f12fd208950>)"
      ]
     },
     "execution_count": 4,
     "metadata": {},
     "output_type": "execute_result"
    }
   ],
   "source": [
    "# Build our Spark Session and Context\n",
    "spark = pyspark.sql.SparkSession.builder.getOrCreate()\n",
    "sc = spark.sparkContext\n",
    "spark, sc"
   ]
  },
  {
   "cell_type": "markdown",
   "metadata": {},
   "source": [
    "### load utility matrix"
   ]
  },
  {
   "cell_type": "code",
   "execution_count": 7,
   "metadata": {
    "collapsed": false
   },
   "outputs": [],
   "source": [
    "# load data frame from csv\n",
    "data_df = pd.read_csv(\"model_df.csv\", sep='\\t')\n",
    "\n",
    "# drop duplicates\n",
    "data_df = data_df.drop_duplicates(subset=['route_id', 'user_id'])\n",
    "\n",
    "y_data = data_df[['route_id', 'user_id','rating']]\n",
    "x_data = data_df.drop(['rating', 'route_id', 'user_id', 'member_since', 'Unnamed: 0'], axis=1)\n",
    "\n",
    "X_train, X_test, y_train, y_test = train_test_split(x_data, y_data, random_state=42)"
   ]
  },
  {
   "cell_type": "code",
   "execution_count": 8,
   "metadata": {
    "collapsed": true
   },
   "outputs": [],
   "source": [
    "# Convert to a Spark DataFrame\n",
    "y_train_spark = spark.createDataFrame(y_train)\n",
    "y_test_spark = spark.createDataFrame(y_test)"
   ]
  },
  {
   "cell_type": "code",
   "execution_count": 6,
   "metadata": {
    "collapsed": false
   },
   "outputs": [
    {
     "name": "stdout",
     "output_type": "stream",
     "text": [
      "+--------+-------+------+\n",
      "|route_id|user_id|rating|\n",
      "+--------+-------+------+\n",
      "|     370|    932|     3|\n",
      "|     988|   1289|     2|\n",
      "|    1519|    973|     3|\n",
      "|    2014|   1669|     3|\n",
      "|    1455|   1923|     4|\n",
      "|     684|   1094|     2|\n",
      "|    3609|    399|     2|\n",
      "|    1497|   1647|     3|\n",
      "|     982|    658|     3|\n",
      "|    2091|   1660|     3|\n",
      "|    3060|   1849|     3|\n",
      "|    3245|   1017|     3|\n",
      "|     798|   1148|     2|\n",
      "|    1512|    917|     3|\n",
      "|    1519|    641|     3|\n",
      "|      26|   1134|     3|\n",
      "|    1280|    472|     2|\n",
      "|    2014|    614|     2|\n",
      "|    1688|    218|     2|\n",
      "|    1200|    925|     4|\n",
      "+--------+-------+------+\n",
      "only showing top 20 rows\n",
      "\n"
     ]
    }
   ],
   "source": [
    "y_train_spark.show()"
   ]
  },
  {
   "cell_type": "code",
   "execution_count": 5,
   "metadata": {
    "collapsed": true
   },
   "outputs": [],
   "source": [
    "path = 'alsmodel'"
   ]
  },
  {
   "cell_type": "markdown",
   "metadata": {},
   "source": [
    "### save model"
   ]
  },
  {
   "cell_type": "code",
   "execution_count": 9,
   "metadata": {
    "collapsed": false
   },
   "outputs": [],
   "source": [
    "als_model = ALS(userCol='user_id',\n",
    "                itemCol='route_id',\n",
    "                ratingCol='rating',\n",
    "                nonnegative=True,\n",
    "                regParam=0.1,\n",
    "                rank=10\n",
    "               )\n",
    "recommender = als_model.fit(y_train_spark)"
   ]
  },
  {
   "cell_type": "code",
   "execution_count": 12,
   "metadata": {
    "collapsed": false
   },
   "outputs": [],
   "source": [
    "recommender.save(path)"
   ]
  },
  {
   "cell_type": "markdown",
   "metadata": {
    "collapsed": true
   },
   "source": [
    "### load als model"
   ]
  },
  {
   "cell_type": "code",
   "execution_count": 9,
   "metadata": {
    "collapsed": false
   },
   "outputs": [],
   "source": [
    "recommender = ALSModel.load(path)"
   ]
  },
  {
   "cell_type": "code",
   "execution_count": 9,
   "metadata": {
    "collapsed": true
   },
   "outputs": [],
   "source": [
    "# Make predictions for the whole test set\n",
    "predictions = recommender.transform(y_test_spark)"
   ]
  },
  {
   "cell_type": "code",
   "execution_count": 10,
   "metadata": {
    "collapsed": true
   },
   "outputs": [],
   "source": [
    "# Dump the predictions to Pandas DataFrames to make our final calculations easier\n",
    "predictions_df = predictions.toPandas()"
   ]
  },
  {
   "cell_type": "code",
   "execution_count": 49,
   "metadata": {
    "collapsed": false
   },
   "outputs": [
    {
     "name": "stdout",
     "output_type": "stream",
     "text": [
      "0.727068214556\n"
     ]
    },
    {
     "data": {
      "image/png": "[encoded data removed]",
      "text/plain": [
       "<matplotlib.figure.Figure at 0x7f01a3275dd0>"
      ]
     },
     "metadata": {},
     "output_type": "display_data"
    }
   ],
   "source": [
    "# Fill any missing values with the mean rating\n",
    "# There are multiple things you could fill with, this is just one example\n",
    "predictions_df = predictions.toPandas().fillna(y_train['rating'].mean())\n",
    "\n",
    "predictions_df['squared_error'] = (predictions_df['rating'] - predictions_df['prediction'])**2\n",
    "\n",
    "# Calculate RMSE\n",
    "print np.sqrt(sum(predictions_df['squared_error']) / len(predictions_df))\n",
    "\n",
    "# Create array of predictions for violinplot\n",
    "data = [predictions_df['prediction'][predictions_df['rating'] == rating] for rating in range(1, 5)]\n",
    "\n",
    "fig, ax = plt.subplots(1, figsize=(12,12))\n",
    "ax.violinplot(data, range(1,5), showmeans=True)\n",
    "ax.set_xlabel('True Ratings')\n",
    "ax.set_ylabel('Predicted Ratings')\n",
    "ax.set_title('True vs. ALS Recommender Predicted Ratings')\n",
    "plt.show()\n",
    "\n",
    "fig.savefig('../data/images/violin_als.jpg')"
   ]
  },
  {
   "cell_type": "markdown",
   "metadata": {},
   "source": [
    "### grab gradient boosting pickle model"
   ]
  },
  {
   "cell_type": "code",
   "execution_count": 93,
   "metadata": {
    "collapsed": false
   },
   "outputs": [],
   "source": [
    "from sklearn.externals import joblib\n",
    "gb = joblib.load('../pickle/gb_model.pkl') \n",
    "gb_predict = gb.predict(X_test)"
   ]
  },
  {
   "cell_type": "code",
   "execution_count": 94,
   "metadata": {
    "collapsed": false
   },
   "outputs": [],
   "source": [
    "feat_imp = gb.feature_importances_\n",
    "feat_scores = pd.DataFrame({'Fraction of Samples Affected' : gb.feature_importances_},\n",
    "                           index=X_test.columns)"
   ]
  },
  {
   "cell_type": "code",
   "execution_count": 23,
   "metadata": {
    "collapsed": false
   },
   "outputs": [],
   "source": [
    "feat_scores_lim = feat_scores.sort_values(by='Fraction of Samples Affected', ascending=False).head(10)"
   ]
  },
  {
   "cell_type": "code",
   "execution_count": 24,
   "metadata": {
    "collapsed": false
   },
   "outputs": [
    {
     "data": {
      "image/png": "[encoded data removed]",
      "text/plain": [
       "<matplotlib.figure.Figure at 0x7f01a50c4090>"
      ]
     },
     "metadata": {},
     "output_type": "display_data"
    }
   ],
   "source": [
    "feat_scores_lim.plot(kind='barh', color='red', title= 'Feature Importance')\n",
    "plt.savefig('../data/images/gb_features.jpg')"
   ]
  },
  {
   "cell_type": "markdown",
   "metadata": {},
   "source": [
    "### fill nulls with gb model prediction"
   ]
  },
  {
   "cell_type": "code",
   "execution_count": 42,
   "metadata": {
    "collapsed": true
   },
   "outputs": [],
   "source": [
    "predictions_df = predictions.toPandas()"
   ]
  },
  {
   "cell_type": "code",
   "execution_count": 43,
   "metadata": {
    "collapsed": false
   },
   "outputs": [],
   "source": [
    "null_ind = pd.isnull(predictions_df).any(1).nonzero()[0]"
   ]
  },
  {
   "cell_type": "code",
   "execution_count": 44,
   "metadata": {
    "collapsed": false
   },
   "outputs": [],
   "source": [
    "predictions_df.ix[null_ind, 'prediction'] = gb_predict[null_ind]"
   ]
  },
  {
   "cell_type": "code",
   "execution_count": 45,
   "metadata": {
    "collapsed": false
   },
   "outputs": [
    {
     "data": {
      "text/html": [
       "<div>\n",
       "<table border=\"1\" class=\"dataframe\">\n",
       "  <thead>\n",
       "    <tr style=\"text-align: right;\">\n",
       "      <th></th>\n",
       "      <th>route_id</th>\n",
       "      <th>user_id</th>\n",
       "      <th>rating</th>\n",
       "      <th>prediction</th>\n",
       "    </tr>\n",
       "  </thead>\n",
       "  <tbody>\n",
       "    <tr>\n",
       "      <th>0</th>\n",
       "      <td>1644</td>\n",
       "      <td>471</td>\n",
       "      <td>4</td>\n",
       "      <td>3.682827</td>\n",
       "    </tr>\n",
       "    <tr>\n",
       "      <th>1</th>\n",
       "      <td>1348</td>\n",
       "      <td>471</td>\n",
       "      <td>2</td>\n",
       "      <td>3.420109</td>\n",
       "    </tr>\n",
       "    <tr>\n",
       "      <th>2</th>\n",
       "      <td>2332</td>\n",
       "      <td>471</td>\n",
       "      <td>4</td>\n",
       "      <td>1.812155</td>\n",
       "    </tr>\n",
       "    <tr>\n",
       "      <th>3</th>\n",
       "      <td>2766</td>\n",
       "      <td>471</td>\n",
       "      <td>2</td>\n",
       "      <td>2.723631</td>\n",
       "    </tr>\n",
       "    <tr>\n",
       "      <th>4</th>\n",
       "      <td>1966</td>\n",
       "      <td>833</td>\n",
       "      <td>3</td>\n",
       "      <td>2.673659</td>\n",
       "    </tr>\n",
       "    <tr>\n",
       "      <th>5</th>\n",
       "      <td>684</td>\n",
       "      <td>833</td>\n",
       "      <td>3</td>\n",
       "      <td>2.665126</td>\n",
       "    </tr>\n",
       "    <tr>\n",
       "      <th>6</th>\n",
       "      <td>1834</td>\n",
       "      <td>1238</td>\n",
       "      <td>3</td>\n",
       "      <td>3.883815</td>\n",
       "    </tr>\n",
       "    <tr>\n",
       "      <th>7</th>\n",
       "      <td>1498</td>\n",
       "      <td>1238</td>\n",
       "      <td>2</td>\n",
       "      <td>3.117351</td>\n",
       "    </tr>\n",
       "    <tr>\n",
       "      <th>8</th>\n",
       "      <td>478</td>\n",
       "      <td>1238</td>\n",
       "      <td>2</td>\n",
       "      <td>3.838965</td>\n",
       "    </tr>\n",
       "    <tr>\n",
       "      <th>9</th>\n",
       "      <td>414</td>\n",
       "      <td>1591</td>\n",
       "      <td>1</td>\n",
       "      <td>2.123469</td>\n",
       "    </tr>\n",
       "    <tr>\n",
       "      <th>10</th>\n",
       "      <td>1395</td>\n",
       "      <td>1645</td>\n",
       "      <td>3</td>\n",
       "      <td>2.511935</td>\n",
       "    </tr>\n",
       "    <tr>\n",
       "      <th>11</th>\n",
       "      <td>1884</td>\n",
       "      <td>1645</td>\n",
       "      <td>2</td>\n",
       "      <td>2.001848</td>\n",
       "    </tr>\n",
       "    <tr>\n",
       "      <th>12</th>\n",
       "      <td>2027</td>\n",
       "      <td>1645</td>\n",
       "      <td>4</td>\n",
       "      <td>3.049961</td>\n",
       "    </tr>\n",
       "    <tr>\n",
       "      <th>13</th>\n",
       "      <td>1939</td>\n",
       "      <td>1645</td>\n",
       "      <td>3</td>\n",
       "      <td>2.403487</td>\n",
       "    </tr>\n",
       "    <tr>\n",
       "      <th>14</th>\n",
       "      <td>2466</td>\n",
       "      <td>1645</td>\n",
       "      <td>4</td>\n",
       "      <td>3.143229</td>\n",
       "    </tr>\n",
       "    <tr>\n",
       "      <th>15</th>\n",
       "      <td>435</td>\n",
       "      <td>1645</td>\n",
       "      <td>2</td>\n",
       "      <td>2.506733</td>\n",
       "    </tr>\n",
       "    <tr>\n",
       "      <th>16</th>\n",
       "      <td>1590</td>\n",
       "      <td>1645</td>\n",
       "      <td>2</td>\n",
       "      <td>2.552940</td>\n",
       "    </tr>\n",
       "    <tr>\n",
       "      <th>17</th>\n",
       "      <td>2410</td>\n",
       "      <td>1645</td>\n",
       "      <td>3</td>\n",
       "      <td>2.925631</td>\n",
       "    </tr>\n",
       "  </tbody>\n",
       "</table>\n",
       "</div>"
      ],
      "text/plain": [
       "    route_id  user_id  rating  prediction\n",
       "0       1644      471       4    3.682827\n",
       "1       1348      471       2    3.420109\n",
       "2       2332      471       4    1.812155\n",
       "3       2766      471       2    2.723631\n",
       "4       1966      833       3    2.673659\n",
       "5        684      833       3    2.665126\n",
       "6       1834     1238       3    3.883815\n",
       "7       1498     1238       2    3.117351\n",
       "8        478     1238       2    3.838965\n",
       "9        414     1591       1    2.123469\n",
       "10      1395     1645       3    2.511935\n",
       "11      1884     1645       2    2.001848\n",
       "12      2027     1645       4    3.049961\n",
       "13      1939     1645       3    2.403487\n",
       "14      2466     1645       4    3.143229\n",
       "15       435     1645       2    2.506733\n",
       "16      1590     1645       2    2.552940\n",
       "17      2410     1645       3    2.925631"
      ]
     },
     "execution_count": 45,
     "metadata": {},
     "output_type": "execute_result"
    }
   ],
   "source": [
    "predictions_df.head(18)"
   ]
  },
  {
   "cell_type": "code",
   "execution_count": 46,
   "metadata": {
    "collapsed": false
   },
   "outputs": [
    {
     "name": "stdout",
     "output_type": "stream",
     "text": [
      "0.727068214556\n"
     ]
    },
    {
     "data": {
      "image/png": "[encoded data removed]",
      "text/plain": [
       "<matplotlib.figure.Figure at 0x7f01a32752d0>"
      ]
     },
     "metadata": {},
     "output_type": "display_data"
    }
   ],
   "source": [
    "# Fill any missing values with the mean rating\n",
    "# There are multiple things you could fill with, this is just one example\n",
    "predictions_df = predictions.toPandas().fillna(y_train['rating'].mean())\n",
    "\n",
    "predictions_df['squared_error'] = (predictions_df['rating'] - predictions_df['prediction'])**2\n",
    "\n",
    "# Calculate RMSE\n",
    "print np.sqrt(sum(predictions_df['squared_error']) / len(predictions_df))\n",
    "\n",
    "# Create array of predictions for violinplot\n",
    "data = [predictions_df['prediction'][predictions_df['rating'] == rating] for rating in range(1, 5)]\n",
    "\n",
    "fig, ax = plt.subplots(1, figsize=(12,12))\n",
    "ax.violinplot(data, range(1,5), showmeans=True)\n",
    "ax.set_xlabel('True Ratings')\n",
    "ax.set_ylabel('Predicted Ratings')\n",
    "ax.set_title('True vs. ALS Recommender Predicted Ratings')\n",
    "plt.show()"
   ]
  },
  {
   "cell_type": "code",
   "execution_count": 47,
   "metadata": {
    "collapsed": false
   },
   "outputs": [],
   "source": [
    "fig.savefig('../data/images/violin_ensemble1.jpg')"
   ]
  },
  {
   "cell_type": "code",
   "execution_count": null,
   "metadata": {
    "collapsed": true
   },
   "outputs": [],
   "source": []
  },
  {
   "cell_type": "markdown",
   "metadata": {},
   "source": [
    "### try weighted"
   ]
  },
  {
   "cell_type": "code",
   "execution_count": 50,
   "metadata": {
    "collapsed": true
   },
   "outputs": [],
   "source": [
    "predictions_df = predictions.toPandas()\n",
    "predictions_df = predictions.toPandas().fillna(y_train['rating'].mean())"
   ]
  },
  {
   "cell_type": "code",
   "execution_count": 51,
   "metadata": {
    "collapsed": false
   },
   "outputs": [],
   "source": [
    "predictions_df['weighted'] = (0.8 * predictions_df['prediction']) + (0.2 * pd.DataFrame(gb_predict)[0])"
   ]
  },
  {
   "cell_type": "code",
   "execution_count": 52,
   "metadata": {
    "collapsed": true
   },
   "outputs": [],
   "source": [
    "predictions_df['squared_error'] = (predictions_df['rating'] - predictions_df['weighted'])**2"
   ]
  },
  {
   "cell_type": "code",
   "execution_count": 53,
   "metadata": {
    "collapsed": false
   },
   "outputs": [
    {
     "data": {
      "text/plain": [
       "0.71354416368689366"
      ]
     },
     "execution_count": 53,
     "metadata": {},
     "output_type": "execute_result"
    }
   ],
   "source": [
    "# Calculate RMSE\n",
    "np.sqrt(sum(predictions_df['squared_error']) / len(predictions_df))"
   ]
  },
  {
   "cell_type": "code",
   "execution_count": 54,
   "metadata": {
    "collapsed": false
   },
   "outputs": [
    {
     "data": {
      "image/png": "[encoded data removed]",
      "text/plain": [
       "<matplotlib.figure.Figure at 0x7f01a49852d0>"
      ]
     },
     "metadata": {},
     "output_type": "display_data"
    }
   ],
   "source": [
    "fig, ax = plt.subplots(1, figsize=(12,12))\n",
    "ax.violinplot(data, range(1,5), showmeans=True)\n",
    "ax.set_xlabel('True Ratings')\n",
    "ax.set_ylabel('Predicted Ratings')\n",
    "ax.set_title('True vs. ALS Recommender Predicted Ratings')\n",
    "plt.show()"
   ]
  },
  {
   "cell_type": "code",
   "execution_count": 55,
   "metadata": {
    "collapsed": true
   },
   "outputs": [],
   "source": [
    "fig.savefig('../data/images/violin_ensemble2.jpg')"
   ]
  },
  {
   "cell_type": "code",
   "execution_count": 56,
   "metadata": {
    "collapsed": false
   },
   "outputs": [
    {
     "data": {
      "text/html": [
       "<div>\n",
       "<table border=\"1\" class=\"dataframe\">\n",
       "  <thead>\n",
       "    <tr style=\"text-align: right;\">\n",
       "      <th></th>\n",
       "      <th>route_id</th>\n",
       "      <th>user_id</th>\n",
       "      <th>rating</th>\n",
       "      <th>prediction</th>\n",
       "      <th>weighted</th>\n",
       "      <th>squared_error</th>\n",
       "    </tr>\n",
       "  </thead>\n",
       "  <tbody>\n",
       "    <tr>\n",
       "      <th>2343</th>\n",
       "      <td>3128</td>\n",
       "      <td>560</td>\n",
       "      <td>3</td>\n",
       "      <td>3.117631</td>\n",
       "      <td>3.120808</td>\n",
       "      <td>0.014595</td>\n",
       "    </tr>\n",
       "    <tr>\n",
       "      <th>2344</th>\n",
       "      <td>956</td>\n",
       "      <td>560</td>\n",
       "      <td>4</td>\n",
       "      <td>3.599636</td>\n",
       "      <td>3.330639</td>\n",
       "      <td>0.448044</td>\n",
       "    </tr>\n",
       "    <tr>\n",
       "      <th>2345</th>\n",
       "      <td>3351</td>\n",
       "      <td>560</td>\n",
       "      <td>2</td>\n",
       "      <td>2.655662</td>\n",
       "      <td>2.563832</td>\n",
       "      <td>0.317907</td>\n",
       "    </tr>\n",
       "    <tr>\n",
       "      <th>2346</th>\n",
       "      <td>199</td>\n",
       "      <td>560</td>\n",
       "      <td>3</td>\n",
       "      <td>2.617110</td>\n",
       "      <td>2.691866</td>\n",
       "      <td>0.094947</td>\n",
       "    </tr>\n",
       "    <tr>\n",
       "      <th>2347</th>\n",
       "      <td>2417</td>\n",
       "      <td>560</td>\n",
       "      <td>4</td>\n",
       "      <td>3.622202</td>\n",
       "      <td>3.410295</td>\n",
       "      <td>0.347752</td>\n",
       "    </tr>\n",
       "  </tbody>\n",
       "</table>\n",
       "</div>"
      ],
      "text/plain": [
       "      route_id  user_id  rating  prediction  weighted  squared_error\n",
       "2343      3128      560       3    3.117631  3.120808       0.014595\n",
       "2344       956      560       4    3.599636  3.330639       0.448044\n",
       "2345      3351      560       2    2.655662  2.563832       0.317907\n",
       "2346       199      560       3    2.617110  2.691866       0.094947\n",
       "2347      2417      560       4    3.622202  3.410295       0.347752"
      ]
     },
     "execution_count": 56,
     "metadata": {},
     "output_type": "execute_result"
    }
   ],
   "source": [
    "predictions_df[predictions_df['user_id'] == 560]"
   ]
  },
  {
   "cell_type": "markdown",
   "metadata": {},
   "source": [
    "### reweight based on num of reviews"
   ]
  },
  {
   "cell_type": "code",
   "execution_count": 91,
   "metadata": {
    "collapsed": false
   },
   "outputs": [
    {
     "name": "stdout",
     "output_type": "stream",
     "text": [
      "rmse: 0.713544163687, weight: 0.0\n",
      "rmse: 0.713438726837, weight: 0.010101010101\n",
      "rmse: 0.713340247456, weight: 0.020202020202\n",
      "rmse: 0.713248728427, weight: 0.030303030303\n",
      "rmse: 0.713164172428, weight: 0.040404040404\n",
      "rmse: 0.713086581938, weight: 0.0505050505051\n",
      "rmse: 0.713015959229, weight: 0.0606060606061\n",
      "rmse: 0.712952306373, weight: 0.0707070707071\n",
      "rmse: 0.712895625237, weight: 0.0808080808081\n",
      "rmse: 0.712845917483, weight: 0.0909090909091\n",
      "rmse: 0.712803184571, weight: 0.10101010101\n",
      "rmse: 0.712767427754, weight: 0.111111111111\n",
      "rmse: 0.712738648084, weight: 0.121212121212\n",
      "rmse: 0.712716846404, weight: 0.131313131313\n",
      "rmse: 0.712702023356, weight: 0.141414141414\n",
      "rmse: 0.712694179375, weight: 0.151515151515\n",
      "rmse: 0.712693314691, weight: 0.161616161616\n",
      "rmse: 0.71269942933, weight: 0.171717171717\n",
      "rmse: 0.712712523112, weight: 0.181818181818\n",
      "rmse: 0.712732595652, weight: 0.191919191919\n",
      "rmse: 0.712759646362, weight: 0.20202020202\n",
      "rmse: 0.712793674445, weight: 0.212121212121\n",
      "rmse: 0.712834678904, weight: 0.222222222222\n",
      "rmse: 0.712882658534, weight: 0.232323232323\n",
      "rmse: 0.712937611927, weight: 0.242424242424\n",
      "rmse: 0.712999537471, weight: 0.252525252525\n",
      "rmse: 0.713068433349, weight: 0.262626262626\n",
      "rmse: 0.713144297541, weight: 0.272727272727\n",
      "rmse: 0.713227127824, weight: 0.282828282828\n",
      "rmse: 0.71331692177, weight: 0.292929292929\n",
      "rmse: 0.71341367675, weight: 0.30303030303\n",
      "rmse: 0.713517389932, weight: 0.313131313131\n",
      "rmse: 0.713628058283, weight: 0.323232323232\n",
      "rmse: 0.713745678568, weight: 0.333333333333\n",
      "rmse: 0.71387024735, weight: 0.343434343434\n",
      "rmse: 0.714001760991, weight: 0.353535353535\n",
      "rmse: 0.714140215657, weight: 0.363636363636\n",
      "rmse: 0.714285607309, weight: 0.373737373737\n",
      "rmse: 0.714437931714, weight: 0.383838383838\n",
      "rmse: 0.714597184437, weight: 0.393939393939\n",
      "rmse: 0.714763360848, weight: 0.40404040404\n",
      "rmse: 0.714936456118, weight: 0.414141414141\n",
      "rmse: 0.715116465225, weight: 0.424242424242\n",
      "rmse: 0.715303382947, weight: 0.434343434343\n",
      "rmse: 0.71549720387, weight: 0.444444444444\n",
      "rmse: 0.715697922386, weight: 0.454545454545\n",
      "rmse: 0.715905532694, weight: 0.464646464646\n",
      "rmse: 0.716120028799, weight: 0.474747474747\n",
      "rmse: 0.716341404516, weight: 0.484848484848\n",
      "rmse: 0.716569653469, weight: 0.494949494949\n",
      "rmse: 0.716804769091, weight: 0.505050505051\n",
      "rmse: 0.717046744629, weight: 0.515151515152\n",
      "rmse: 0.71729557314, weight: 0.525252525253\n",
      "rmse: 0.717551247494, weight: 0.535353535354\n",
      "rmse: 0.717813760376, weight: 0.545454545455\n",
      "rmse: 0.718083104287, weight: 0.555555555556\n",
      "rmse: 0.718359271542, weight: 0.565656565657\n",
      "rmse: 0.718642254276, weight: 0.575757575758\n",
      "rmse: 0.71893204444, weight: 0.585858585859\n",
      "rmse: 0.719228633805, weight: 0.59595959596\n",
      "rmse: 0.719532013964, weight: 0.606060606061\n",
      "rmse: 0.719842176331, weight: 0.616161616162\n",
      "rmse: 0.720159112142, weight: 0.626262626263\n",
      "rmse: 0.72048281246, weight: 0.636363636364\n",
      "rmse: 0.72081326817, weight: 0.646464646465\n",
      "rmse: 0.721150469986, weight: 0.656565656566\n",
      "rmse: 0.72149440845, weight: 0.666666666667\n",
      "rmse: 0.721845073931, weight: 0.676767676768\n",
      "rmse: 0.722202456631, weight: 0.686868686869\n",
      "rmse: 0.722566546584, weight: 0.69696969697\n",
      "rmse: 0.722937333654, weight: 0.707070707071\n",
      "rmse: 0.723314807543, weight: 0.717171717172\n",
      "rmse: 0.723698957787, weight: 0.727272727273\n",
      "rmse: 0.724089773761, weight: 0.737373737374\n",
      "rmse: 0.724487244677, weight: 0.747474747475\n",
      "rmse: 0.724891359588, weight: 0.757575757576\n",
      "rmse: 0.725302107389, weight: 0.767676767677\n",
      "rmse: 0.725719476817, weight: 0.777777777778\n",
      "rmse: 0.726143456455, weight: 0.787878787879\n",
      "rmse: 0.72657403473, weight: 0.79797979798\n",
      "rmse: 0.727011199918, weight: 0.808080808081\n",
      "rmse: 0.727454940145, weight: 0.818181818182\n",
      "rmse: 0.727905243385, weight: 0.828282828283\n",
      "rmse: 0.728362097466, weight: 0.838383838384\n",
      "rmse: 0.728825490069, weight: 0.848484848485\n",
      "rmse: 0.72929540873, weight: 0.858585858586\n",
      "rmse: 0.729771840842, weight: 0.868686868687\n",
      "rmse: 0.730254773657, weight: 0.878787878788\n",
      "rmse: 0.730744194287, weight: 0.888888888889\n",
      "rmse: 0.731240089704, weight: 0.89898989899\n",
      "rmse: 0.731742446745, weight: 0.909090909091\n",
      "rmse: 0.73225125211, weight: 0.919191919192\n",
      "rmse: 0.732766492368, weight: 0.929292929293\n",
      "rmse: 0.733288153954, weight: 0.939393939394\n",
      "rmse: 0.733816223173, weight: 0.949494949495\n",
      "rmse: 0.734350686203, weight: 0.959595959596\n",
      "rmse: 0.734891529094, weight: 0.969696969697\n",
      "rmse: 0.735438737769, weight: 0.979797979798\n",
      "rmse: 0.735992298031, weight: 0.989898989899\n",
      "rmse: 0.736552195558, weight: 1.0\n"
     ]
    }
   ],
   "source": [
    "normalized_rating_count = X_test['num_reviews'] / float(X_test['num_reviews'].max())\n",
    "\n",
    "rmse_list = []\n",
    "for j in np.linspace(0.0, 1.0, num=100):\n",
    "    predictions_df['weighted2'] = predictions_df['weighted'] + (j * normalized_rating_count).tolist()\n",
    "    predictions_df['squared_error'] = (predictions_df['rating'] - predictions_df['weighted2'])**2\n",
    "    # Calculate RMSE\n",
    "    rmse = np.sqrt(sum(predictions_df['squared_error']) / len(predictions_df))\n",
    "    rmse_list.append(rmse)\n",
    "    print \"rmse: {}, weight: {}\".format(rmse, j)"
   ]
  },
  {
   "cell_type": "code",
   "execution_count": 73,
   "metadata": {
    "collapsed": false
   },
   "outputs": [
    {
     "data": {
      "text/plain": [
       "0.71269331469090236"
      ]
     },
     "execution_count": 73,
     "metadata": {},
     "output_type": "execute_result"
    }
   ],
   "source": [
    "min(rmse_list)"
   ]
  },
  {
   "cell_type": "code",
   "execution_count": 75,
   "metadata": {
    "collapsed": false
   },
   "outputs": [],
   "source": [
    "min_rmse_ind = rmse_list.index(min(rmse_list))"
   ]
  },
  {
   "cell_type": "code",
   "execution_count": 76,
   "metadata": {
    "collapsed": false
   },
   "outputs": [],
   "source": [
    "weight = np.linspace(0.0, 1.0, num=100)[min_rmse_ind]"
   ]
  },
  {
   "cell_type": "code",
   "execution_count": 77,
   "metadata": {
    "collapsed": false
   },
   "outputs": [
    {
     "data": {
      "text/plain": [
       "0.16161616161616163"
      ]
     },
     "execution_count": 77,
     "metadata": {},
     "output_type": "execute_result"
    }
   ],
   "source": [
    "weight"
   ]
  },
  {
   "cell_type": "code",
   "execution_count": 78,
   "metadata": {
    "collapsed": false
   },
   "outputs": [
    {
     "name": "stdout",
     "output_type": "stream",
     "text": [
      "RMSE: 0.712693314691\n"
     ]
    }
   ],
   "source": [
    "predictions_df['weighted2'] = predictions_df['weighted'] + (weight * normalized_rating_count).tolist()\n",
    "predictions_df['squared_error'] = (predictions_df['rating'] - predictions_df['weighted2'])**2\n",
    "print \"RMSE:\", np.sqrt(sum(predictions_df['squared_error']) / len(predictions_df))"
   ]
  },
  {
   "cell_type": "code",
   "execution_count": null,
   "metadata": {
    "collapsed": true
   },
   "outputs": [],
   "source": []
  },
  {
   "cell_type": "markdown",
   "metadata": {},
   "source": [
    "### find user predictions"
   ]
  },
  {
   "cell_type": "code",
   "execution_count": 79,
   "metadata": {
    "collapsed": false
   },
   "outputs": [
    {
     "name": "stdout",
     "output_type": "stream",
     "text": [
      "+--------+-------+----------+\n",
      "|route_id|user_id|prediction|\n",
      "+--------+-------+----------+\n",
      "|     148|    560| 0.7641963|\n",
      "|     463|    560| 0.8248104|\n",
      "|     463|    560| 0.8248104|\n",
      "|     463|    560| 0.8248104|\n",
      "|     463|    560| 0.8248104|\n",
      "|     463|    560| 0.8248104|\n",
      "|     463|    560| 0.8248104|\n",
      "|     471|    560| 1.1687702|\n",
      "|     471|    560| 1.1687702|\n",
      "|     471|    560| 1.1687702|\n",
      "|     471|    560| 1.1687702|\n",
      "|     471|    560| 1.1687702|\n",
      "|     471|    560| 1.1687702|\n",
      "|     471|    560| 1.1687702|\n",
      "|     471|    560| 1.1687702|\n",
      "|     471|    560| 1.1687702|\n",
      "|     471|    560| 1.1687702|\n",
      "|     471|    560| 1.1687702|\n",
      "|     471|    560| 1.1687702|\n",
      "|     471|    560| 1.1687702|\n",
      "+--------+-------+----------+\n",
      "only showing top 20 rows\n",
      "\n"
     ]
    }
   ],
   "source": [
    "data = pd.DataFrame(columns=['route_id', 'user_id'])\n",
    "data['user_id'] = (0 * y_data['route_id']) + 560 \n",
    "data['route_id'] = y_data['route_id']\n",
    "one_row_spark_df = spark.createDataFrame(data)\n",
    "# Get the recommender's prediction\n",
    "recs = recommender.transform(one_row_spark_df)\n",
    "recs.show()"
   ]
  },
  {
   "cell_type": "code",
   "execution_count": 80,
   "metadata": {
    "collapsed": false
   },
   "outputs": [
    {
     "data": {
      "text/html": [
       "<div>\n",
       "<table border=\"1\" class=\"dataframe\">\n",
       "  <thead>\n",
       "    <tr style=\"text-align: right;\">\n",
       "      <th></th>\n",
       "      <th>route_id</th>\n",
       "      <th>user_id</th>\n",
       "      <th>prediction</th>\n",
       "    </tr>\n",
       "  </thead>\n",
       "  <tbody>\n",
       "    <tr>\n",
       "      <th>3586</th>\n",
       "      <td>3370</td>\n",
       "      <td>560</td>\n",
       "      <td>4.404656</td>\n",
       "    </tr>\n",
       "    <tr>\n",
       "      <th>15816</th>\n",
       "      <td>1022</td>\n",
       "      <td>560</td>\n",
       "      <td>4.404656</td>\n",
       "    </tr>\n",
       "    <tr>\n",
       "      <th>20525</th>\n",
       "      <td>2539</td>\n",
       "      <td>560</td>\n",
       "      <td>4.404656</td>\n",
       "    </tr>\n",
       "    <tr>\n",
       "      <th>22188</th>\n",
       "      <td>595</td>\n",
       "      <td>560</td>\n",
       "      <td>4.404656</td>\n",
       "    </tr>\n",
       "    <tr>\n",
       "      <th>11072</th>\n",
       "      <td>1979</td>\n",
       "      <td>560</td>\n",
       "      <td>4.404656</td>\n",
       "    </tr>\n",
       "    <tr>\n",
       "      <th>9294</th>\n",
       "      <td>2651</td>\n",
       "      <td>560</td>\n",
       "      <td>4.011049</td>\n",
       "    </tr>\n",
       "  </tbody>\n",
       "</table>\n",
       "</div>"
      ],
      "text/plain": [
       "       route_id  user_id  prediction\n",
       "3586       3370      560    4.404656\n",
       "15816      1022      560    4.404656\n",
       "20525      2539      560    4.404656\n",
       "22188       595      560    4.404656\n",
       "11072      1979      560    4.404656\n",
       "9294       2651      560    4.011049"
      ]
     },
     "execution_count": 80,
     "metadata": {},
     "output_type": "execute_result"
    }
   ],
   "source": [
    "recs_df = recs.toPandas().drop_duplicates(subset='route_id')\n",
    "recs_df.sort_values('prediction', ascending=False).head(6)"
   ]
  },
  {
   "cell_type": "markdown",
   "metadata": {},
   "source": [
    "### Try reweighting"
   ]
  },
  {
   "cell_type": "code",
   "execution_count": 81,
   "metadata": {
    "collapsed": true
   },
   "outputs": [],
   "source": [
    "df = data_df.drop_duplicates(subset=['route_id'])"
   ]
  },
  {
   "cell_type": "code",
   "execution_count": 82,
   "metadata": {
    "collapsed": false
   },
   "outputs": [],
   "source": [
    "df = df.reset_index().drop('index', axis=1)"
   ]
  },
  {
   "cell_type": "code",
   "execution_count": 83,
   "metadata": {
    "collapsed": false
   },
   "outputs": [
    {
     "data": {
      "text/plain": [
       "False"
      ]
     },
     "execution_count": 83,
     "metadata": {},
     "output_type": "execute_result"
    }
   ],
   "source": [
    "df['route_id'].tolist() == recs_df['route_id'].tolist()"
   ]
  },
  {
   "cell_type": "code",
   "execution_count": 84,
   "metadata": {
    "collapsed": false
   },
   "outputs": [],
   "source": [
    "recs_df = recs_df.reset_index().drop('index', axis=1)"
   ]
  },
  {
   "cell_type": "code",
   "execution_count": 85,
   "metadata": {
    "collapsed": false
   },
   "outputs": [],
   "source": [
    "normalized_rating_count = df['num_reviews'] / float(df['num_reviews'].max())"
   ]
  },
  {
   "cell_type": "code",
   "execution_count": 86,
   "metadata": {
    "collapsed": true
   },
   "outputs": [],
   "source": [
    "recs_df['new_pred'] = recs_df['prediction'] + (normalized_rating_count * 0.5)"
   ]
  },
  {
   "cell_type": "code",
   "execution_count": 87,
   "metadata": {
    "collapsed": false
   },
   "outputs": [
    {
     "data": {
      "text/html": [
       "<div>\n",
       "<table border=\"1\" class=\"dataframe\">\n",
       "  <thead>\n",
       "    <tr style=\"text-align: right;\">\n",
       "      <th></th>\n",
       "      <th>route_id</th>\n",
       "      <th>user_id</th>\n",
       "      <th>prediction</th>\n",
       "      <th>new_pred</th>\n",
       "    </tr>\n",
       "  </thead>\n",
       "  <tbody>\n",
       "    <tr>\n",
       "      <th>1398</th>\n",
       "      <td>1979</td>\n",
       "      <td>560</td>\n",
       "      <td>4.404656</td>\n",
       "      <td>4.466748</td>\n",
       "    </tr>\n",
       "    <tr>\n",
       "      <th>1964</th>\n",
       "      <td>1022</td>\n",
       "      <td>560</td>\n",
       "      <td>4.404656</td>\n",
       "      <td>4.419362</td>\n",
       "    </tr>\n",
       "    <tr>\n",
       "      <th>2505</th>\n",
       "      <td>2539</td>\n",
       "      <td>560</td>\n",
       "      <td>4.404656</td>\n",
       "      <td>4.417728</td>\n",
       "    </tr>\n",
       "    <tr>\n",
       "      <th>2743</th>\n",
       "      <td>595</td>\n",
       "      <td>560</td>\n",
       "      <td>4.404656</td>\n",
       "      <td>4.406290</td>\n",
       "    </tr>\n",
       "    <tr>\n",
       "      <th>421</th>\n",
       "      <td>3370</td>\n",
       "      <td>560</td>\n",
       "      <td>4.404656</td>\n",
       "      <td>4.406290</td>\n",
       "    </tr>\n",
       "    <tr>\n",
       "      <th>1133</th>\n",
       "      <td>2651</td>\n",
       "      <td>560</td>\n",
       "      <td>4.011049</td>\n",
       "      <td>4.012683</td>\n",
       "    </tr>\n",
       "  </tbody>\n",
       "</table>\n",
       "</div>"
      ],
      "text/plain": [
       "      route_id  user_id  prediction  new_pred\n",
       "1398      1979      560    4.404656  4.466748\n",
       "1964      1022      560    4.404656  4.419362\n",
       "2505      2539      560    4.404656  4.417728\n",
       "2743       595      560    4.404656  4.406290\n",
       "421       3370      560    4.404656  4.406290\n",
       "1133      2651      560    4.011049  4.012683"
      ]
     },
     "execution_count": 87,
     "metadata": {},
     "output_type": "execute_result"
    }
   ],
   "source": [
    "recs_df.sort_values('new_pred', ascending=False).head(6)"
   ]
  },
  {
   "cell_type": "markdown",
   "metadata": {},
   "source": [
    "### Add item-by-item matrix"
   ]
  },
  {
   "cell_type": "code",
   "execution_count": 11,
   "metadata": {
    "collapsed": false
   },
   "outputs": [
    {
     "data": {
      "text/html": [
       "<div>\n",
       "<table border=\"1\" class=\"dataframe\">\n",
       "  <thead>\n",
       "    <tr style=\"text-align: right;\">\n",
       "      <th></th>\n",
       "      <th>id</th>\n",
       "      <th>Aid</th>\n",
       "      <th>Alpine</th>\n",
       "      <th>Boulder</th>\n",
       "      <th>Ice</th>\n",
       "      <th>Mixed</th>\n",
       "      <th>Sport</th>\n",
       "      <th>TR</th>\n",
       "      <th>Trad</th>\n",
       "      <th>height</th>\n",
       "      <th>...</th>\n",
       "      <th>area_World WallaAreas</th>\n",
       "      <th>area_Write-off RockaAreas</th>\n",
       "      <th>area_Wu Wei WallaAreas</th>\n",
       "      <th>area_Wu-Tang WallaAreas</th>\n",
       "      <th>area_XY Crag (Chromosome Cracks)aAreas</th>\n",
       "      <th>area_Zappa WallaAreas</th>\n",
       "      <th>area_Zeke's Trail BouldersaAreas</th>\n",
       "      <th>area_Zeke's WallaAreas</th>\n",
       "      <th>area_Zig Zag WallaAreas</th>\n",
       "      <th>num_reviews</th>\n",
       "    </tr>\n",
       "  </thead>\n",
       "  <tbody>\n",
       "    <tr>\n",
       "      <th>0</th>\n",
       "      <td>0</td>\n",
       "      <td>0</td>\n",
       "      <td>0</td>\n",
       "      <td>0</td>\n",
       "      <td>0</td>\n",
       "      <td>0</td>\n",
       "      <td>0</td>\n",
       "      <td>0</td>\n",
       "      <td>1</td>\n",
       "      <td>41.0</td>\n",
       "      <td>...</td>\n",
       "      <td>0</td>\n",
       "      <td>0</td>\n",
       "      <td>0</td>\n",
       "      <td>0</td>\n",
       "      <td>0</td>\n",
       "      <td>0</td>\n",
       "      <td>0</td>\n",
       "      <td>0</td>\n",
       "      <td>0</td>\n",
       "      <td>1</td>\n",
       "    </tr>\n",
       "    <tr>\n",
       "      <th>1</th>\n",
       "      <td>1</td>\n",
       "      <td>0</td>\n",
       "      <td>0</td>\n",
       "      <td>0</td>\n",
       "      <td>0</td>\n",
       "      <td>0</td>\n",
       "      <td>0</td>\n",
       "      <td>0</td>\n",
       "      <td>1</td>\n",
       "      <td>41.0</td>\n",
       "      <td>...</td>\n",
       "      <td>0</td>\n",
       "      <td>0</td>\n",
       "      <td>0</td>\n",
       "      <td>0</td>\n",
       "      <td>0</td>\n",
       "      <td>0</td>\n",
       "      <td>0</td>\n",
       "      <td>0</td>\n",
       "      <td>0</td>\n",
       "      <td>1</td>\n",
       "    </tr>\n",
       "    <tr>\n",
       "      <th>2</th>\n",
       "      <td>2</td>\n",
       "      <td>0</td>\n",
       "      <td>0</td>\n",
       "      <td>0</td>\n",
       "      <td>0</td>\n",
       "      <td>0</td>\n",
       "      <td>0</td>\n",
       "      <td>1</td>\n",
       "      <td>1</td>\n",
       "      <td>35.0</td>\n",
       "      <td>...</td>\n",
       "      <td>0</td>\n",
       "      <td>0</td>\n",
       "      <td>0</td>\n",
       "      <td>0</td>\n",
       "      <td>0</td>\n",
       "      <td>0</td>\n",
       "      <td>0</td>\n",
       "      <td>0</td>\n",
       "      <td>0</td>\n",
       "      <td>4</td>\n",
       "    </tr>\n",
       "    <tr>\n",
       "      <th>3</th>\n",
       "      <td>3</td>\n",
       "      <td>0</td>\n",
       "      <td>0</td>\n",
       "      <td>0</td>\n",
       "      <td>0</td>\n",
       "      <td>0</td>\n",
       "      <td>0</td>\n",
       "      <td>1</td>\n",
       "      <td>1</td>\n",
       "      <td>85.0</td>\n",
       "      <td>...</td>\n",
       "      <td>0</td>\n",
       "      <td>0</td>\n",
       "      <td>0</td>\n",
       "      <td>0</td>\n",
       "      <td>0</td>\n",
       "      <td>0</td>\n",
       "      <td>0</td>\n",
       "      <td>0</td>\n",
       "      <td>0</td>\n",
       "      <td>4</td>\n",
       "    </tr>\n",
       "    <tr>\n",
       "      <th>4</th>\n",
       "      <td>4</td>\n",
       "      <td>0</td>\n",
       "      <td>0</td>\n",
       "      <td>0</td>\n",
       "      <td>0</td>\n",
       "      <td>0</td>\n",
       "      <td>0</td>\n",
       "      <td>1</td>\n",
       "      <td>1</td>\n",
       "      <td>30.0</td>\n",
       "      <td>...</td>\n",
       "      <td>0</td>\n",
       "      <td>0</td>\n",
       "      <td>0</td>\n",
       "      <td>0</td>\n",
       "      <td>0</td>\n",
       "      <td>0</td>\n",
       "      <td>0</td>\n",
       "      <td>0</td>\n",
       "      <td>0</td>\n",
       "      <td>4</td>\n",
       "    </tr>\n",
       "  </tbody>\n",
       "</table>\n",
       "<p>5 rows × 702 columns</p>\n",
       "</div>"
      ],
      "text/plain": [
       "   id  Aid  Alpine  Boulder  Ice  Mixed  Sport  TR  Trad  height     ...       \\\n",
       "0   0    0       0        0    0      0      0   0     1    41.0     ...        \n",
       "1   1    0       0        0    0      0      0   0     1    41.0     ...        \n",
       "2   2    0       0        0    0      0      0   1     1    35.0     ...        \n",
       "3   3    0       0        0    0      0      0   1     1    85.0     ...        \n",
       "4   4    0       0        0    0      0      0   1     1    30.0     ...        \n",
       "\n",
       "   area_World WallaAreas  area_Write-off RockaAreas  area_Wu Wei WallaAreas  \\\n",
       "0                      0                          0                       0   \n",
       "1                      0                          0                       0   \n",
       "2                      0                          0                       0   \n",
       "3                      0                          0                       0   \n",
       "4                      0                          0                       0   \n",
       "\n",
       "   area_Wu-Tang WallaAreas  area_XY Crag (Chromosome Cracks)aAreas  \\\n",
       "0                        0                                       0   \n",
       "1                        0                                       0   \n",
       "2                        0                                       0   \n",
       "3                        0                                       0   \n",
       "4                        0                                       0   \n",
       "\n",
       "   area_Zappa WallaAreas  area_Zeke's Trail BouldersaAreas  \\\n",
       "0                      0                                 0   \n",
       "1                      0                                 0   \n",
       "2                      0                                 0   \n",
       "3                      0                                 0   \n",
       "4                      0                                 0   \n",
       "\n",
       "   area_Zeke's WallaAreas  area_Zig Zag WallaAreas  num_reviews  \n",
       "0                       0                        0            1  \n",
       "1                       0                        0            1  \n",
       "2                       0                        0            4  \n",
       "3                       0                        0            4  \n",
       "4                       0                        0            4  \n",
       "\n",
       "[5 rows x 702 columns]"
      ]
     },
     "execution_count": 11,
     "metadata": {},
     "output_type": "execute_result"
    }
   ],
   "source": [
    "from sklearn.preprocessing import normalize\n",
    "from sklearn.metrics import pairwise_distances\n",
    "from scipy.spatial.distance import cosine\n",
    "\n",
    "# load data frame from csv\n",
    "routes_df = pd.read_csv(\"routes_df.csv\", sep='\\t').drop('Unnamed: 0', axis=1)\n",
    "routes_df.head()"
   ]
  },
  {
   "cell_type": "code",
   "execution_count": 12,
   "metadata": {
    "collapsed": false
   },
   "outputs": [],
   "source": [
    "routes_id = routes_df['id']\n",
    "routes_df = routes_df.drop('id', axis=1)"
   ]
  },
  {
   "cell_type": "code",
   "execution_count": 13,
   "metadata": {
    "collapsed": true
   },
   "outputs": [],
   "source": [
    "items_mat = np.array(list(routes_df.values)).astype(float)"
   ]
  },
  {
   "cell_type": "code",
   "execution_count": 54,
   "metadata": {
    "collapsed": true
   },
   "outputs": [],
   "source": [
    "items_mat_norm = normalize(items_mat)\n",
    "cos_sim = 1-pairwise_distances(items_mat, metric=\"cosine\")"
   ]
  },
  {
   "cell_type": "markdown",
   "metadata": {},
   "source": [
    "### What is the RMSE for item-by-item?"
   ]
  },
  {
   "cell_type": "code",
   "execution_count": 84,
   "metadata": {
    "collapsed": false
   },
   "outputs": [],
   "source": [
    "item_by_item_pred = [] \n",
    "n = 5\n",
    "for _id in y_test['route_id']:\n",
    "    # find the similar routes\n",
    "    index = routes_id[routes_id == _id].index.tolist()[0]\n",
    "    arr = cos_sim[index]\n",
    "    similar_routes = np.asarray(routes_id)[arr.argsort()[-(n+1):][::-1][1:]]\n",
    "    # average the five routes together to get rating\n",
    "    pred = y_train[y_train['route_id'].isin(similar_routes)]['rating']\n",
    "    mean_rating = pred.mean()\n",
    "    item_by_item_pred.append(mean_rating) "
   ]
  },
  {
   "cell_type": "code",
   "execution_count": 85,
   "metadata": {
    "collapsed": false
   },
   "outputs": [
    {
     "data": {
      "text/plain": [
       "1.3966725260592467"
      ]
     },
     "execution_count": 85,
     "metadata": {},
     "output_type": "execute_result"
    }
   ],
   "source": [
    "predictions_df['item_by_item_pred'] = pd.Series(item_by_item_pred)\n",
    "predictions_df['squared_error'] = (predictions_df['rating'] - predictions_df['item_by_item_pred'])**2\n",
    "np.sqrt(sum(predictions_df['rating'] - predictions_df['squared_error']) / len(predictions_df))"
   ]
  },
  {
   "cell_type": "code",
   "execution_count": 86,
   "metadata": {
    "collapsed": false
   },
   "outputs": [
    {
     "data": {
      "image/png": "[encoded data removed]",
      "text/plain": [
       "<matplotlib.figure.Figure at 0x7f9b927d39d0>"
      ]
     },
     "metadata": {},
     "output_type": "display_data"
    }
   ],
   "source": [
    "# Create array of predictions for violinplot\n",
    "data = [predictions_df['item_by_item_pred'][predictions_df['rating'] == rating] for rating in range(1, 5)]\n",
    "\n",
    "fig, ax = plt.subplots(1, figsize=(12,12))\n",
    "ax.violinplot(data, range(1,5), showmeans=True)\n",
    "ax.set_xlabel('True Ratings')\n",
    "ax.set_ylabel('Predicted Ratings')\n",
    "ax.set_title('True vs. ALS Recommender Predicted Ratings')\n",
    "plt.show()"
   ]
  },
  {
   "cell_type": "code",
   "execution_count": 87,
   "metadata": {
    "collapsed": false
   },
   "outputs": [],
   "source": [
    "# fill nulls with item_by item value\n",
    "predictions_df = predictions.toPandas()\n",
    "null_ind = pd.isnull(predictions_df).any(1).nonzero()[0]\n",
    "predictions_df.ix[null_ind, 'prediction'] = np.array(item_by_item_pred)[null_ind]"
   ]
  },
  {
   "cell_type": "code",
   "execution_count": 88,
   "metadata": {
    "collapsed": false
   },
   "outputs": [
    {
     "name": "stdout",
     "output_type": "stream",
     "text": [
      "0.720091817062\n"
     ]
    },
    {
     "data": {
      "image/png": "[encoded data removed]",
      "text/plain": [
       "<matplotlib.figure.Figure at 0x7f9b938a6550>"
      ]
     },
     "metadata": {},
     "output_type": "display_data"
    }
   ],
   "source": [
    "predictions_df['squared_error'] = (predictions_df['rating'] - predictions_df['prediction'])**2\n",
    "\n",
    "# Calculate RMSE\n",
    "print np.sqrt(sum(predictions_df['squared_error']) / len(predictions_df))\n",
    "\n",
    "# Create array of predictions for violinplot\n",
    "data = [predictions_df['prediction'][predictions_df['rating'] == rating] for rating in range(1, 5)]\n",
    "\n",
    "fig, ax = plt.subplots(1, figsize=(12,12))\n",
    "ax.violinplot(data, range(1,5), showmeans=True)\n",
    "ax.set_xlabel('True Ratings')\n",
    "ax.set_ylabel('Predicted Ratings')\n",
    "ax.set_title('True vs. ALS Recommender Predicted Ratings')\n",
    "plt.show()"
   ]
  },
  {
   "cell_type": "code",
   "execution_count": 111,
   "metadata": {
    "collapsed": true
   },
   "outputs": [],
   "source": [
    "fig.savefig('../data/images/violin_item_by_item_ensemble.jpg')"
   ]
  },
  {
   "cell_type": "markdown",
   "metadata": {},
   "source": [
    "### add weighted values to item-by-item matrix"
   ]
  },
  {
   "cell_type": "code",
   "execution_count": 89,
   "metadata": {
    "collapsed": true
   },
   "outputs": [],
   "source": [
    "normalized_rating_count = X_test['num_reviews'] / float(X_test['num_reviews'].max())"
   ]
  },
  {
   "cell_type": "code",
   "execution_count": 90,
   "metadata": {
    "collapsed": false
   },
   "outputs": [],
   "source": [
    "rmse_list = []\n",
    "for c in np.linspace(100.0,110.0, 100):\n",
    "    alpha = np.array((2.0 / (1 + np.exp(-c * normalized_rating_count))) - 1)\n",
    "    predictions_df['weighted'] = alpha *  predictions_df['prediction'] + (1 - alpha) * item_by_item_pred\n",
    "    predictions_df['squared_error'] = (predictions_df['rating'] - predictions_df['weighted'])**2\n",
    "    # Calculate RMSE\n",
    "    rmse = np.sqrt(sum(predictions_df['squared_error']) / len(predictions_df))\n",
    "    rmse_list.append(rmse)"
   ]
  },
  {
   "cell_type": "code",
   "execution_count": 91,
   "metadata": {
    "collapsed": false
   },
   "outputs": [],
   "source": [
    "c = np.linspace(100.0,110.0, 100)[rmse_list.index(min(rmse_list))]"
   ]
  },
  {
   "cell_type": "code",
   "execution_count": 92,
   "metadata": {
    "collapsed": false
   },
   "outputs": [
    {
     "name": "stdout",
     "output_type": "stream",
     "text": [
      "0.702557129615\n"
     ]
    }
   ],
   "source": [
    "alpha = np.array((2.0 / (1 + np.exp(-c * normalized_rating_count))) - 1)\n",
    "predictions_df['weighted'] = alpha *  predictions_df['prediction'] + (1 - alpha) * item_by_item_pred\n",
    "predictions_df['squared_error'] = (predictions_df['rating'] - predictions_df['weighted'])**2\n",
    "# Calculate RMSE\n",
    "print np.sqrt(sum(predictions_df['squared_error']) / len(predictions_df))"
   ]
  },
  {
   "cell_type": "markdown",
   "metadata": {},
   "source": [
    "### let's try all three methods"
   ]
  },
  {
   "cell_type": "code",
   "execution_count": 96,
   "metadata": {
    "collapsed": false
   },
   "outputs": [],
   "source": [
    "# fill nulls with item_by item value\n",
    "rmse_list = []\n",
    "for beta in np.linspace(0.0, 1.0, 100):\n",
    "    predictions_df = predictions.toPandas()\n",
    "    null_ind = pd.isnull(predictions_df).any(1).nonzero()[0]\n",
    "    predictions_df.ix[null_ind, 'prediction'] = np.array(item_by_item_pred)[null_ind]\n",
    "    predictions_df['weighted'] = alpha *  predictions_df['prediction'] + (1 - alpha) * item_by_item_pred\n",
    "    predictions_df['weighted2'] = (beta * predictions_df['weighted']) + ((1 - beta) * pd.DataFrame(gb_predict)[0])\n",
    "    predictions_df['squared_error'] = (predictions_df['rating'] - predictions_df['weighted2'])**2\n",
    "    rmse = np.sqrt(sum(predictions_df['squared_error']) / len(predictions_df))\n",
    "    rmse_list.append(rmse)\n"
   ]
  },
  {
   "cell_type": "code",
   "execution_count": 97,
   "metadata": {
    "collapsed": false
   },
   "outputs": [
    {
     "data": {
      "text/plain": [
       "0.66790338120078507"
      ]
     },
     "execution_count": 97,
     "metadata": {},
     "output_type": "execute_result"
    }
   ],
   "source": [
    "min(rmse_list)"
   ]
  },
  {
   "cell_type": "code",
   "execution_count": null,
   "metadata": {
    "collapsed": true
   },
   "outputs": [],
   "source": []
  }
 ],
 "metadata": {
  "anaconda-cloud": {},
  "kernelspec": {
   "display_name": "Python [default]",
   "language": "python",
   "name": "python2"
  },
  "language_info": {
   "codemirror_mode": {
    "name": "ipython",
    "version": 2
   },
   "file_extension": ".py",
   "mimetype": "text/x-python",
   "name": "python",
   "nbconvert_exporter": "python",
   "pygments_lexer": "ipython2",
   "version": "2.7.12"
  }
 },
 "nbformat": 4,
 "nbformat_minor": 2
}
