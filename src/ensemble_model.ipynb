{
 "cells": [
  {
   "cell_type": "code",
   "execution_count": 1,
   "metadata": {
    "collapsed": false
   },
   "outputs": [],
   "source": [
    "from pymongo import MongoClient\n",
    "import pandas as pd\n",
    "from sklearn.ensemble import GradientBoostingRegressor\n",
    "from sklearn.model_selection import train_test_split\n",
    "from sklearn.metrics import mean_squared_error\n",
    "import numpy as np\n",
    "import matplotlib.pyplot as plt\n",
    "%matplotlib inline\n",
    "from ggplot import *"
   ]
  },
  {
   "cell_type": "code",
   "execution_count": 2,
   "metadata": {
    "collapsed": true
   },
   "outputs": [],
   "source": [
    "import pyspark\n",
    "from pyspark.sql.types import *\n",
    "from pyspark.ml.tuning import TrainValidationSplit\n",
    "from pyspark.ml.recommendation import ALS, ALSModel\n",
    "from pyspark.ml.evaluation import RegressionEvaluator"
   ]
  },
  {
   "cell_type": "code",
   "execution_count": 3,
   "metadata": {
    "collapsed": false
   },
   "outputs": [
    {
     "data": {
      "text/plain": [
       "(<pyspark.sql.session.SparkSession at 0x7f1f1400a950>,\n",
       " <pyspark.context.SparkContext at 0x7f1ef4d36910>)"
      ]
     },
     "execution_count": 3,
     "metadata": {},
     "output_type": "execute_result"
    }
   ],
   "source": [
    "# Build our Spark Session and Context\n",
    "spark = pyspark.sql.SparkSession.builder.getOrCreate()\n",
    "sc = spark.sparkContext\n",
    "spark, sc"
   ]
  },
  {
   "cell_type": "markdown",
   "metadata": {},
   "source": [
    "### load utility matrix"
   ]
  },
  {
   "cell_type": "code",
   "execution_count": 4,
   "metadata": {
    "collapsed": false
   },
   "outputs": [],
   "source": [
    "# load data frame from csv\n",
    "data_df = pd.read_csv(\"../data/model_df.csv\", sep='\\t')\n",
    "\n",
    "# drop duplicates\n",
    "data_df = data_df.drop_duplicates(subset=['route_id', 'user_id'])\n",
    "\n",
    "y_data = data_df[['route_id', 'user_id','rating']]\n",
    "x_data = data_df.drop(['rating', 'route_id', 'user_id', 'member_since', 'Unnamed: 0'], axis=1)\n",
    "\n",
    "X_train, X_test, y_train, y_test = train_test_split(x_data, y_data, random_state=42)"
   ]
  },
  {
   "cell_type": "code",
   "execution_count": 5,
   "metadata": {
    "collapsed": false
   },
   "outputs": [],
   "source": [
    "# Convert to a Spark DataFrame\n",
    "y_train_spark = spark.createDataFrame(y_train)\n",
    "y_test_spark = spark.createDataFrame(y_test)"
   ]
  },
  {
   "cell_type": "code",
   "execution_count": 6,
   "metadata": {
    "collapsed": false
   },
   "outputs": [
    {
     "name": "stdout",
     "output_type": "stream",
     "text": [
      "+--------+-------+------+\n",
      "|route_id|user_id|rating|\n",
      "+--------+-------+------+\n",
      "|     370|    932|     3|\n",
      "|     988|   1289|     2|\n",
      "|    1519|    973|     3|\n",
      "|    2014|   1669|     3|\n",
      "|    1455|   1923|     4|\n",
      "|     684|   1094|     2|\n",
      "|    3609|    399|     2|\n",
      "|    1497|   1647|     3|\n",
      "|     982|    658|     3|\n",
      "|    2091|   1660|     3|\n",
      "|    3060|   1849|     3|\n",
      "|    3245|   1017|     3|\n",
      "|     798|   1148|     2|\n",
      "|    1512|    917|     3|\n",
      "|    1519|    641|     3|\n",
      "|      26|   1134|     3|\n",
      "|    1280|    472|     2|\n",
      "|    2014|    614|     2|\n",
      "|    1688|    218|     2|\n",
      "|    1200|    925|     4|\n",
      "+--------+-------+------+\n",
      "only showing top 20 rows\n",
      "\n"
     ]
    }
   ],
   "source": [
    "y_train_spark.show()"
   ]
  },
  {
   "cell_type": "code",
   "execution_count": 6,
   "metadata": {
    "collapsed": true
   },
   "outputs": [],
   "source": [
    "path = '../data/alsmodel_val'"
   ]
  },
  {
   "cell_type": "markdown",
   "metadata": {},
   "source": [
    "### save model"
   ]
  },
  {
   "cell_type": "code",
   "execution_count": null,
   "metadata": {
    "collapsed": false
   },
   "outputs": [],
   "source": [
    "als_model = ALS(userCol='user_id',\n",
    "                itemCol='route_id',\n",
    "                ratingCol='rating',\n",
    "                nonnegative=True,\n",
    "                regParam=0.1,\n",
    "                rank=10\n",
    "               )\n",
    "recommender = als_model.fit(y_train_spark)"
   ]
  },
  {
   "cell_type": "code",
   "execution_count": null,
   "metadata": {
    "collapsed": false
   },
   "outputs": [],
   "source": [
    "recommender.save(path)"
   ]
  },
  {
   "cell_type": "markdown",
   "metadata": {
    "collapsed": true
   },
   "source": [
    "### load als model"
   ]
  },
  {
   "cell_type": "code",
   "execution_count": 7,
   "metadata": {
    "collapsed": false
   },
   "outputs": [],
   "source": [
    "recommender = ALSModel.load(path)"
   ]
  },
  {
   "cell_type": "code",
   "execution_count": 8,
   "metadata": {
    "collapsed": false
   },
   "outputs": [],
   "source": [
    "# Make predictions for the whole test set\n",
    "predictions = recommender.transform(y_test_spark)"
   ]
  },
  {
   "cell_type": "code",
   "execution_count": 9,
   "metadata": {
    "collapsed": true
   },
   "outputs": [],
   "source": [
    "# Dump the predictions to Pandas DataFrames to make our final calculations easier\n",
    "predictions_df = predictions.toPandas()"
   ]
  },
  {
   "cell_type": "code",
   "execution_count": 18,
   "metadata": {
    "collapsed": false
   },
   "outputs": [
    {
     "name": "stdout",
     "output_type": "stream",
     "text": [
      "0.728331695323\n"
     ]
    }
   ],
   "source": [
    "# Fill any missing values with the mean rating\n",
    "# There are multiple things you could fill with, this is just one example\n",
    "predictions_df = predictions.toPandas().fillna(y_train['rating'].mean())\n",
    "\n",
    "predictions_df['squared_error'] = (predictions_df['rating'] - predictions_df['prediction'])**2\n",
    "\n",
    "# Calculate RMSE\n",
    "print np.sqrt(sum(predictions_df['squared_error']) / len(predictions_df))"
   ]
  },
  {
   "cell_type": "code",
   "execution_count": 27,
   "metadata": {
    "collapsed": false
   },
   "outputs": [
    {
     "data": {
      "image/png": "[encoded data removed]",
      "text/plain": [
       "<matplotlib.figure.Figure at 0x7f1ecf7aec10>"
      ]
     },
     "metadata": {},
     "output_type": "display_data"
    }
   ],
   "source": [
    "# Create array of predictions for violinplot\n",
    "data = [predictions_df['prediction'][predictions_df['rating'] == rating] for rating in range(1, 5)]\n",
    "\n",
    "fig, ax = plt.subplots(1, figsize=(8,8))\n",
    "ax.violinplot(data, range(1,5), showmeans=True)\n",
    "ax.set_xlabel('True Ratings', {'fontsize':18})\n",
    "ax.set_ylabel('Predicted Ratings', {'fontsize':18})\n",
    "ax.set_title('True vs. ALS Recommender Predicted Ratings', {'fontsize':18})\n",
    "ax.set_xticks([0.5, 1, 2, 3, 4, 4.5])\n",
    "ax.set_yticks([0, 1, 2, 3, 4, 5])\n",
    "plt.show()\n",
    "\n",
    "fig.savefig('../data/images/violin_als.jpg')"
   ]
  },
  {
   "cell_type": "markdown",
   "metadata": {},
   "source": [
    "### grab gradient boosting pickle model"
   ]
  },
  {
   "cell_type": "code",
   "execution_count": 10,
   "metadata": {
    "collapsed": false
   },
   "outputs": [],
   "source": [
    "from sklearn.externals import joblib\n",
    "gb = joblib.load('../pickle/gb_model.pkl') \n",
    "gb_predict = gb.predict(X_test)"
   ]
  },
  {
   "cell_type": "code",
   "execution_count": 11,
   "metadata": {
    "collapsed": false
   },
   "outputs": [],
   "source": [
    "feat_imp = gb.feature_importances_\n",
    "feat_scores = pd.DataFrame({'Fraction of Samples Affected' : gb.feature_importances_},\n",
    "                           index=X_test.columns)"
   ]
  },
  {
   "cell_type": "code",
   "execution_count": 27,
   "metadata": {
    "collapsed": false
   },
   "outputs": [],
   "source": [
    "feat_scores_lim = feat_scores.sort_values(by='Fraction of Samples Affected', ascending=False).head(10)"
   ]
  },
  {
   "cell_type": "code",
   "execution_count": 37,
   "metadata": {
    "collapsed": false
   },
   "outputs": [
    {
     "data": {
      "image/png": "[encoded data removed]",
      "text/plain": [
       "<matplotlib.figure.Figure at 0x7f6bce96b210>"
      ]
     },
     "metadata": {},
     "output_type": "display_data"
    }
   ],
   "source": [
    "feat_scores_lim.plot(kind='barh', color='red', title= 'Feature Importance', fontsize=18)\n",
    "plt.savefig('../data/images/gb_features.jpg')"
   ]
  },
  {
   "cell_type": "code",
   "execution_count": 29,
   "metadata": {
    "collapsed": false
   },
   "outputs": [],
   "source": [
    "predictions_df['gb_pred'] = gb_predict"
   ]
  },
  {
   "cell_type": "code",
   "execution_count": 30,
   "metadata": {
    "collapsed": false
   },
   "outputs": [
    {
     "name": "stdout",
     "output_type": "stream",
     "text": [
      "0.724112522803\n"
     ]
    }
   ],
   "source": [
    "predictions_df['squared_error'] = (predictions_df['rating'] - predictions_df['gb_pred'])**2\n",
    "\n",
    "# Calculate RMSE\n",
    "print np.sqrt(sum(predictions_df['squared_error']) / len(predictions_df))"
   ]
  },
  {
   "cell_type": "code",
   "execution_count": 31,
   "metadata": {
    "collapsed": false
   },
   "outputs": [
    {
     "data": {
      "image/png": "[encoded data removed]",
      "text/plain": [
       "<matplotlib.figure.Figure at 0x7f1ed00309d0>"
      ]
     },
     "metadata": {},
     "output_type": "display_data"
    }
   ],
   "source": [
    "data = [predictions_df['gb_pred'][predictions_df['rating'] == rating] for rating in range(1, 5)]\n",
    "fig, ax = plt.subplots(1, figsize=(8,8))\n",
    "ax.violinplot(data, range(1,5), showmeans=True)\n",
    "ax.set_xlabel('True Ratings', {'fontsize':18})\n",
    "ax.set_ylabel('Predicted Ratings', {'fontsize':18})\n",
    "ax.set_title('True vs. Gradient Boosting Predicted Ratings', {'fontsize':18})\n",
    "ax.set_xticks([0.5, 1, 2, 3, 4, 4.5])\n",
    "ax.set_yticks([0, 1, 2, 3, 4, 5])\n",
    "plt.show()\n",
    "\n",
    "fig.savefig('../data/images/violin_gb.jpg')"
   ]
  },
  {
   "cell_type": "markdown",
   "metadata": {},
   "source": [
    "### fill nulls with gb model prediction"
   ]
  },
  {
   "cell_type": "code",
   "execution_count": 41,
   "metadata": {
    "collapsed": false
   },
   "outputs": [],
   "source": [
    "predictions_df = predictions.toPandas()"
   ]
  },
  {
   "cell_type": "code",
   "execution_count": null,
   "metadata": {
    "collapsed": false
   },
   "outputs": [],
   "source": [
    "null_ind = pd.isnull(predictions_df).any(1).nonzero()[0]"
   ]
  },
  {
   "cell_type": "code",
   "execution_count": null,
   "metadata": {
    "collapsed": false
   },
   "outputs": [],
   "source": [
    "predictions_df.ix[null_ind, 'prediction'] = gb_predict[null_ind]"
   ]
  },
  {
   "cell_type": "code",
   "execution_count": null,
   "metadata": {
    "collapsed": false
   },
   "outputs": [],
   "source": [
    "predictions_df.head(18)"
   ]
  },
  {
   "cell_type": "code",
   "execution_count": null,
   "metadata": {
    "collapsed": false
   },
   "outputs": [],
   "source": [
    "# Fill any missing values with the mean rating\n",
    "# There are multiple things you could fill with, this is just one example\n",
    "predictions_df = predictions.toPandas().fillna(y_train['rating'].mean())\n",
    "\n",
    "predictions_df['squared_error'] = (predictions_df['rating'] - predictions_df['prediction'])**2\n",
    "\n",
    "# Calculate RMSE\n",
    "print np.sqrt(sum(predictions_df['squared_error']) / len(predictions_df))\n",
    "\n",
    "# Create array of predictions for violinplot\n",
    "data = [predictions_df['prediction'][predictions_df['rating'] == rating] for rating in range(1, 5)]\n",
    "\n",
    "fig, ax = plt.subplots(1, figsize=(12,12))\n",
    "ax.violinplot(data, range(1,5), showmeans=True)\n",
    "ax.set_xlabel('True Ratings')\n",
    "ax.set_ylabel('Predicted Ratings')\n",
    "ax.set_title('True vs. ALS Recommender Predicted Ratings')\n",
    "plt.show()"
   ]
  },
  {
   "cell_type": "code",
   "execution_count": null,
   "metadata": {
    "collapsed": false
   },
   "outputs": [],
   "source": [
    "fig.savefig('../data/images/violin_ensemble1.jpg')"
   ]
  },
  {
   "cell_type": "code",
   "execution_count": null,
   "metadata": {
    "collapsed": true
   },
   "outputs": [],
   "source": []
  },
  {
   "cell_type": "markdown",
   "metadata": {},
   "source": [
    "### try weighted"
   ]
  },
  {
   "cell_type": "code",
   "execution_count": 42,
   "metadata": {
    "collapsed": true
   },
   "outputs": [],
   "source": [
    "predictions_df = predictions.toPandas()\n",
    "predictions_df = predictions.toPandas().fillna(y_train['rating'].mean())"
   ]
  },
  {
   "cell_type": "code",
   "execution_count": 43,
   "metadata": {
    "collapsed": false
   },
   "outputs": [],
   "source": [
    "predictions_df['weighted'] = (0.8 * predictions_df['prediction']) + (0.2 * pd.DataFrame(gb_predict)[0])"
   ]
  },
  {
   "cell_type": "code",
   "execution_count": 44,
   "metadata": {
    "collapsed": true
   },
   "outputs": [],
   "source": [
    "predictions_df['squared_error'] = (predictions_df['rating'] - predictions_df['weighted'])**2"
   ]
  },
  {
   "cell_type": "code",
   "execution_count": 45,
   "metadata": {
    "collapsed": false
   },
   "outputs": [
    {
     "data": {
      "text/plain": [
       "0.69306253581846633"
      ]
     },
     "execution_count": 45,
     "metadata": {},
     "output_type": "execute_result"
    }
   ],
   "source": [
    "# Calculate RMSE\n",
    "np.sqrt(sum(predictions_df['squared_error']) / len(predictions_df))"
   ]
  },
  {
   "cell_type": "code",
   "execution_count": 47,
   "metadata": {
    "collapsed": false
   },
   "outputs": [
    {
     "data": {
      "image/png": "[encoded data removed]",
      "text/plain": [
       "<matplotlib.figure.Figure at 0x7f6bbc3e3c50>"
      ]
     },
     "metadata": {},
     "output_type": "display_data"
    }
   ],
   "source": [
    "fig, ax = plt.subplots(1, figsize=(8,8))\n",
    "ax.violinplot(data, range(1,5), showmeans=True)\n",
    "ax.set_xlabel('True Ratings', {'fontsize':18})\n",
    "ax.set_ylabel('Predicted Ratings', {'fontsize':18})\n",
    "ax.set_title('True vs. ALS Recommender Predicted Ratings', {'fontsize':18})\n",
    "plt.show()"
   ]
  },
  {
   "cell_type": "code",
   "execution_count": null,
   "metadata": {
    "collapsed": true
   },
   "outputs": [],
   "source": [
    "fig.savefig('../data/images/violin_ensemble2.jpg')"
   ]
  },
  {
   "cell_type": "code",
   "execution_count": null,
   "metadata": {
    "collapsed": false
   },
   "outputs": [],
   "source": [
    "predictions_df[predictions_df['user_id'] == 560]"
   ]
  },
  {
   "cell_type": "markdown",
   "metadata": {},
   "source": [
    "### reweight based on num of reviews"
   ]
  },
  {
   "cell_type": "code",
   "execution_count": 51,
   "metadata": {
    "collapsed": false
   },
   "outputs": [
    {
     "name": "stdout",
     "output_type": "stream",
     "text": [
      "rmse: 0.693062535818, weight: 0.0\n",
      "rmse: 0.692846113736, weight: 0.010101010101\n",
      "rmse: 0.69263348288, weight: 0.020202020202\n",
      "rmse: 0.692424646742, weight: 0.030303030303\n",
      "rmse: 0.692219608758, weight: 0.040404040404\n",
      "rmse: 0.692018372302, weight: 0.0505050505051\n",
      "rmse: 0.691820940693, weight: 0.0606060606061\n",
      "rmse: 0.691627317189, weight: 0.0707070707071\n",
      "rmse: 0.691437504988, weight: 0.0808080808081\n",
      "rmse: 0.691251507232, weight: 0.0909090909091\n",
      "rmse: 0.691069326999, weight: 0.10101010101\n",
      "rmse: 0.690890967309, weight: 0.111111111111\n",
      "rmse: 0.690716431123, weight: 0.121212121212\n",
      "rmse: 0.690545721339, weight: 0.131313131313\n",
      "rmse: 0.690378840796, weight: 0.141414141414\n",
      "rmse: 0.690215792271, weight: 0.151515151515\n",
      "rmse: 0.69005657848, weight: 0.161616161616\n",
      "rmse: 0.68990120208, weight: 0.171717171717\n",
      "rmse: 0.689749665662, weight: 0.181818181818\n",
      "rmse: 0.689601971758, weight: 0.191919191919\n",
      "rmse: 0.689458122838, weight: 0.20202020202\n",
      "rmse: 0.689318121309, weight: 0.212121212121\n",
      "rmse: 0.689181969516, weight: 0.222222222222\n",
      "rmse: 0.68904966974, weight: 0.232323232323\n",
      "rmse: 0.688921224201, weight: 0.242424242424\n",
      "rmse: 0.688796635054, weight: 0.252525252525\n",
      "rmse: 0.688675904394, weight: 0.262626262626\n",
      "rmse: 0.68855903425, weight: 0.272727272727\n",
      "rmse: 0.688446026587, weight: 0.282828282828\n",
      "rmse: 0.688336883308, weight: 0.292929292929\n",
      "rmse: 0.688231606251, weight: 0.30303030303\n",
      "rmse: 0.688130197192, weight: 0.313131313131\n",
      "rmse: 0.68803265784, weight: 0.323232323232\n",
      "rmse: 0.687938989841, weight: 0.333333333333\n",
      "rmse: 0.687849194778, weight: 0.343434343434\n",
      "rmse: 0.687763274166, weight: 0.353535353535\n",
      "rmse: 0.687681229458, weight: 0.363636363636\n",
      "rmse: 0.687603062041, weight: 0.373737373737\n",
      "rmse: 0.687528773239, weight: 0.383838383838\n",
      "rmse: 0.687458364308, weight: 0.393939393939\n",
      "rmse: 0.687391836441, weight: 0.40404040404\n",
      "rmse: 0.687329190764, weight: 0.414141414141\n",
      "rmse: 0.687270428339, weight: 0.424242424242\n",
      "rmse: 0.687215550163, weight: 0.434343434343\n",
      "rmse: 0.687164557165, weight: 0.444444444444\n",
      "rmse: 0.687117450212, weight: 0.454545454545\n",
      "rmse: 0.687074230102, weight: 0.464646464646\n",
      "rmse: 0.687034897568, weight: 0.474747474747\n",
      "rmse: 0.686999453279, weight: 0.484848484848\n",
      "rmse: 0.686967897837, weight: 0.494949494949\n",
      "rmse: 0.686940231776, weight: 0.505050505051\n",
      "rmse: 0.686916455568, weight: 0.515151515152\n",
      "rmse: 0.686896569616, weight: 0.525252525253\n",
      "rmse: 0.686880574258, weight: 0.535353535354\n",
      "rmse: 0.686868469766, weight: 0.545454545455\n",
      "rmse: 0.686860256345, weight: 0.555555555556\n",
      "rmse: 0.686855934136, weight: 0.565656565657\n",
      "rmse: 0.686855503211, weight: 0.575757575758\n",
      "rmse: 0.686858963578, weight: 0.585858585859\n",
      "rmse: 0.686866315178, weight: 0.59595959596\n",
      "rmse: 0.686877557886, weight: 0.606060606061\n",
      "rmse: 0.686892691511, weight: 0.616161616162\n",
      "rmse: 0.686911715796, weight: 0.626262626263\n",
      "rmse: 0.686934630418, weight: 0.636363636364\n",
      "rmse: 0.686961434987, weight: 0.646464646465\n",
      "rmse: 0.686992129048, weight: 0.656565656566\n",
      "rmse: 0.68702671208, weight: 0.666666666667\n",
      "rmse: 0.687065183495, weight: 0.676767676768\n",
      "rmse: 0.687107542641, weight: 0.686868686869\n",
      "rmse: 0.687153788798, weight: 0.69696969697\n",
      "rmse: 0.687203921182, weight: 0.707070707071\n",
      "rmse: 0.687257938941, weight: 0.717171717172\n",
      "rmse: 0.687315841161, weight: 0.727272727273\n",
      "rmse: 0.68737762686, weight: 0.737373737374\n",
      "rmse: 0.687443294989, weight: 0.747474747475\n",
      "rmse: 0.687512844438, weight: 0.757575757576\n",
      "rmse: 0.687586274028, weight: 0.767676767677\n",
      "rmse: 0.687663582515, weight: 0.777777777778\n",
      "rmse: 0.687744768593, weight: 0.787878787879\n",
      "rmse: 0.687829830888, weight: 0.79797979798\n",
      "rmse: 0.687918767962, weight: 0.808080808081\n",
      "rmse: 0.688011578312, weight: 0.818181818182\n",
      "rmse: 0.688108260371, weight: 0.828282828283\n",
      "rmse: 0.688208812508, weight: 0.838383838384\n",
      "rmse: 0.688313233026, weight: 0.848484848485\n",
      "rmse: 0.688421520165, weight: 0.858585858586\n",
      "rmse: 0.688533672101, weight: 0.868686868687\n",
      "rmse: 0.688649686946, weight: 0.878787878788\n",
      "rmse: 0.688769562747, weight: 0.888888888889\n",
      "rmse: 0.688893297489, weight: 0.89898989899\n",
      "rmse: 0.689020889093, weight: 0.909090909091\n",
      "rmse: 0.689152335417, weight: 0.919191919192\n",
      "rmse: 0.689287634255, weight: 0.929292929293\n",
      "rmse: 0.689426783339, weight: 0.939393939394\n",
      "rmse: 0.68956978034, weight: 0.949494949495\n",
      "rmse: 0.689716622862, weight: 0.959595959596\n",
      "rmse: 0.689867308451, weight: 0.969696969697\n",
      "rmse: 0.690021834589, weight: 0.979797979798\n",
      "rmse: 0.690180198696, weight: 0.989898989899\n",
      "rmse: 0.690342398131, weight: 1.0\n"
     ]
    }
   ],
   "source": [
    "#normalized_rating_count = X_test['num_reviews'] / float(X_test['num_reviews'].max())\n",
    "normalized_rating_count = X_test['page_views'] / float(X_test['page_views'].max())\n",
    "\n",
    "rmse_list = []\n",
    "for j in np.linspace(0.0, 1.0, num=100):\n",
    "    predictions_df['weighted2'] = predictions_df['weighted'] + (j * normalized_rating_count).tolist()\n",
    "    predictions_df['squared_error'] = (predictions_df['rating'] - predictions_df['weighted2'])**2\n",
    "    # Calculate RMSE\n",
    "    rmse = np.sqrt(sum(predictions_df['squared_error']) / len(predictions_df))\n",
    "    rmse_list.append(rmse)\n",
    "    print \"rmse: {}, weight: {}\".format(rmse, j)"
   ]
  },
  {
   "cell_type": "code",
   "execution_count": null,
   "metadata": {
    "collapsed": true
   },
   "outputs": [],
   "source": [
    "min(rmse_list)"
   ]
  },
  {
   "cell_type": "code",
   "execution_count": 50,
   "metadata": {
    "collapsed": false
   },
   "outputs": [
    {
     "data": {
      "text/plain": [
       "0.68522207561345672"
      ]
     },
     "execution_count": 50,
     "metadata": {},
     "output_type": "execute_result"
    }
   ],
   "source": [
    "min(rmse_list)"
   ]
  },
  {
   "cell_type": "code",
   "execution_count": null,
   "metadata": {
    "collapsed": false
   },
   "outputs": [],
   "source": [
    "min_rmse_ind = rmse_list.index(min(rmse_list))"
   ]
  },
  {
   "cell_type": "code",
   "execution_count": null,
   "metadata": {
    "collapsed": false
   },
   "outputs": [],
   "source": [
    "weight = np.linspace(0.0, 1.0, num=100)[min_rmse_ind]"
   ]
  },
  {
   "cell_type": "code",
   "execution_count": null,
   "metadata": {
    "collapsed": false
   },
   "outputs": [],
   "source": [
    "weight"
   ]
  },
  {
   "cell_type": "code",
   "execution_count": null,
   "metadata": {
    "collapsed": false
   },
   "outputs": [],
   "source": [
    "predictions_df['weighted2'] = predictions_df['weighted'] + (weight * normalized_rating_count).tolist()\n",
    "predictions_df['squared_error'] = (predictions_df['rating'] - predictions_df['weighted2'])**2\n",
    "print \"RMSE:\", np.sqrt(sum(predictions_df['squared_error']) / len(predictions_df))"
   ]
  },
  {
   "cell_type": "code",
   "execution_count": null,
   "metadata": {
    "collapsed": true
   },
   "outputs": [],
   "source": []
  },
  {
   "cell_type": "markdown",
   "metadata": {},
   "source": [
    "### find user predictions"
   ]
  },
  {
   "cell_type": "code",
   "execution_count": null,
   "metadata": {
    "collapsed": false
   },
   "outputs": [],
   "source": [
    "data = pd.DataFrame(columns=['route_id', 'user_id'])\n",
    "data['user_id'] = (0 * y_data['route_id']) + 560 \n",
    "data['route_id'] = y_data['route_id']\n",
    "one_row_spark_df = spark.createDataFrame(data)\n",
    "# Get the recommender's prediction\n",
    "recs = recommender.transform(one_row_spark_df)\n",
    "recs.show()"
   ]
  },
  {
   "cell_type": "code",
   "execution_count": null,
   "metadata": {
    "collapsed": false
   },
   "outputs": [],
   "source": [
    "recs_df = recs.toPandas().drop_duplicates(subset='route_id')\n",
    "recs_df.sort_values('prediction', ascending=False).head(6)"
   ]
  },
  {
   "cell_type": "markdown",
   "metadata": {},
   "source": [
    "### Try reweighting"
   ]
  },
  {
   "cell_type": "code",
   "execution_count": null,
   "metadata": {
    "collapsed": true
   },
   "outputs": [],
   "source": [
    "df = data_df.drop_duplicates(subset=['route_id'])"
   ]
  },
  {
   "cell_type": "code",
   "execution_count": null,
   "metadata": {
    "collapsed": false
   },
   "outputs": [],
   "source": [
    "df = df.reset_index().drop('index', axis=1)"
   ]
  },
  {
   "cell_type": "code",
   "execution_count": null,
   "metadata": {
    "collapsed": false
   },
   "outputs": [],
   "source": [
    "df['route_id'].tolist() == recs_df['route_id'].tolist()"
   ]
  },
  {
   "cell_type": "code",
   "execution_count": null,
   "metadata": {
    "collapsed": false
   },
   "outputs": [],
   "source": [
    "recs_df = recs_df.reset_index().drop('index', axis=1)"
   ]
  },
  {
   "cell_type": "code",
   "execution_count": null,
   "metadata": {
    "collapsed": false
   },
   "outputs": [],
   "source": [
    "normalized_rating_count = df['num_reviews'] / float(df['num_reviews'].max())"
   ]
  },
  {
   "cell_type": "code",
   "execution_count": null,
   "metadata": {
    "collapsed": true
   },
   "outputs": [],
   "source": [
    "recs_df['new_pred'] = recs_df['prediction'] + (normalized_rating_count * 0.5)"
   ]
  },
  {
   "cell_type": "code",
   "execution_count": null,
   "metadata": {
    "collapsed": false
   },
   "outputs": [],
   "source": [
    "recs_df.sort_values('new_pred', ascending=False).head(6)"
   ]
  },
  {
   "cell_type": "markdown",
   "metadata": {},
   "source": [
    "### Add item-by-item matrix"
   ]
  },
  {
   "cell_type": "code",
   "execution_count": 33,
   "metadata": {
    "collapsed": false
   },
   "outputs": [
    {
     "data": {
      "text/html": [
       "<div>\n",
       "<table border=\"1\" class=\"dataframe\">\n",
       "  <thead>\n",
       "    <tr style=\"text-align: right;\">\n",
       "      <th></th>\n",
       "      <th>id</th>\n",
       "      <th>Aid</th>\n",
       "      <th>Alpine</th>\n",
       "      <th>Boulder</th>\n",
       "      <th>Ice</th>\n",
       "      <th>Mixed</th>\n",
       "      <th>Sport</th>\n",
       "      <th>TR</th>\n",
       "      <th>Trad</th>\n",
       "      <th>height</th>\n",
       "      <th>...</th>\n",
       "      <th>area_World WallaAreas</th>\n",
       "      <th>area_Write-off RockaAreas</th>\n",
       "      <th>area_Wu Wei WallaAreas</th>\n",
       "      <th>area_Wu-Tang WallaAreas</th>\n",
       "      <th>area_XY Crag (Chromosome Cracks)aAreas</th>\n",
       "      <th>area_Zappa WallaAreas</th>\n",
       "      <th>area_Zeke's Trail BouldersaAreas</th>\n",
       "      <th>area_Zeke's WallaAreas</th>\n",
       "      <th>area_Zig Zag WallaAreas</th>\n",
       "      <th>num_reviews</th>\n",
       "    </tr>\n",
       "  </thead>\n",
       "  <tbody>\n",
       "    <tr>\n",
       "      <th>0</th>\n",
       "      <td>0</td>\n",
       "      <td>0</td>\n",
       "      <td>0</td>\n",
       "      <td>0</td>\n",
       "      <td>0</td>\n",
       "      <td>0</td>\n",
       "      <td>0</td>\n",
       "      <td>0</td>\n",
       "      <td>1</td>\n",
       "      <td>41.0</td>\n",
       "      <td>...</td>\n",
       "      <td>0</td>\n",
       "      <td>0</td>\n",
       "      <td>0</td>\n",
       "      <td>0</td>\n",
       "      <td>0</td>\n",
       "      <td>0</td>\n",
       "      <td>0</td>\n",
       "      <td>0</td>\n",
       "      <td>0</td>\n",
       "      <td>1</td>\n",
       "    </tr>\n",
       "    <tr>\n",
       "      <th>1</th>\n",
       "      <td>1</td>\n",
       "      <td>0</td>\n",
       "      <td>0</td>\n",
       "      <td>0</td>\n",
       "      <td>0</td>\n",
       "      <td>0</td>\n",
       "      <td>0</td>\n",
       "      <td>0</td>\n",
       "      <td>1</td>\n",
       "      <td>41.0</td>\n",
       "      <td>...</td>\n",
       "      <td>0</td>\n",
       "      <td>0</td>\n",
       "      <td>0</td>\n",
       "      <td>0</td>\n",
       "      <td>0</td>\n",
       "      <td>0</td>\n",
       "      <td>0</td>\n",
       "      <td>0</td>\n",
       "      <td>0</td>\n",
       "      <td>1</td>\n",
       "    </tr>\n",
       "    <tr>\n",
       "      <th>2</th>\n",
       "      <td>2</td>\n",
       "      <td>0</td>\n",
       "      <td>0</td>\n",
       "      <td>0</td>\n",
       "      <td>0</td>\n",
       "      <td>0</td>\n",
       "      <td>0</td>\n",
       "      <td>1</td>\n",
       "      <td>1</td>\n",
       "      <td>35.0</td>\n",
       "      <td>...</td>\n",
       "      <td>0</td>\n",
       "      <td>0</td>\n",
       "      <td>0</td>\n",
       "      <td>0</td>\n",
       "      <td>0</td>\n",
       "      <td>0</td>\n",
       "      <td>0</td>\n",
       "      <td>0</td>\n",
       "      <td>0</td>\n",
       "      <td>4</td>\n",
       "    </tr>\n",
       "    <tr>\n",
       "      <th>3</th>\n",
       "      <td>3</td>\n",
       "      <td>0</td>\n",
       "      <td>0</td>\n",
       "      <td>0</td>\n",
       "      <td>0</td>\n",
       "      <td>0</td>\n",
       "      <td>0</td>\n",
       "      <td>1</td>\n",
       "      <td>1</td>\n",
       "      <td>85.0</td>\n",
       "      <td>...</td>\n",
       "      <td>0</td>\n",
       "      <td>0</td>\n",
       "      <td>0</td>\n",
       "      <td>0</td>\n",
       "      <td>0</td>\n",
       "      <td>0</td>\n",
       "      <td>0</td>\n",
       "      <td>0</td>\n",
       "      <td>0</td>\n",
       "      <td>4</td>\n",
       "    </tr>\n",
       "    <tr>\n",
       "      <th>4</th>\n",
       "      <td>4</td>\n",
       "      <td>0</td>\n",
       "      <td>0</td>\n",
       "      <td>0</td>\n",
       "      <td>0</td>\n",
       "      <td>0</td>\n",
       "      <td>0</td>\n",
       "      <td>1</td>\n",
       "      <td>1</td>\n",
       "      <td>30.0</td>\n",
       "      <td>...</td>\n",
       "      <td>0</td>\n",
       "      <td>0</td>\n",
       "      <td>0</td>\n",
       "      <td>0</td>\n",
       "      <td>0</td>\n",
       "      <td>0</td>\n",
       "      <td>0</td>\n",
       "      <td>0</td>\n",
       "      <td>0</td>\n",
       "      <td>4</td>\n",
       "    </tr>\n",
       "  </tbody>\n",
       "</table>\n",
       "<p>5 rows × 702 columns</p>\n",
       "</div>"
      ],
      "text/plain": [
       "   id  Aid  Alpine  Boulder  Ice  Mixed  Sport  TR  Trad  height     ...       \\\n",
       "0   0    0       0        0    0      0      0   0     1    41.0     ...        \n",
       "1   1    0       0        0    0      0      0   0     1    41.0     ...        \n",
       "2   2    0       0        0    0      0      0   1     1    35.0     ...        \n",
       "3   3    0       0        0    0      0      0   1     1    85.0     ...        \n",
       "4   4    0       0        0    0      0      0   1     1    30.0     ...        \n",
       "\n",
       "   area_World WallaAreas  area_Write-off RockaAreas  area_Wu Wei WallaAreas  \\\n",
       "0                      0                          0                       0   \n",
       "1                      0                          0                       0   \n",
       "2                      0                          0                       0   \n",
       "3                      0                          0                       0   \n",
       "4                      0                          0                       0   \n",
       "\n",
       "   area_Wu-Tang WallaAreas  area_XY Crag (Chromosome Cracks)aAreas  \\\n",
       "0                        0                                       0   \n",
       "1                        0                                       0   \n",
       "2                        0                                       0   \n",
       "3                        0                                       0   \n",
       "4                        0                                       0   \n",
       "\n",
       "   area_Zappa WallaAreas  area_Zeke's Trail BouldersaAreas  \\\n",
       "0                      0                                 0   \n",
       "1                      0                                 0   \n",
       "2                      0                                 0   \n",
       "3                      0                                 0   \n",
       "4                      0                                 0   \n",
       "\n",
       "   area_Zeke's WallaAreas  area_Zig Zag WallaAreas  num_reviews  \n",
       "0                       0                        0            1  \n",
       "1                       0                        0            1  \n",
       "2                       0                        0            4  \n",
       "3                       0                        0            4  \n",
       "4                       0                        0            4  \n",
       "\n",
       "[5 rows x 702 columns]"
      ]
     },
     "execution_count": 33,
     "metadata": {},
     "output_type": "execute_result"
    }
   ],
   "source": [
    "from sklearn.preprocessing import normalize\n",
    "from sklearn.metrics import pairwise_distances\n",
    "from scipy.spatial.distance import cosine\n",
    "\n",
    "# load data frame from csv\n",
    "routes_df = pd.read_csv(\"../data/routes_df.csv\", sep='\\t').drop('Unnamed: 0', axis=1)\n",
    "routes_df.head()"
   ]
  },
  {
   "cell_type": "code",
   "execution_count": 34,
   "metadata": {
    "collapsed": false
   },
   "outputs": [],
   "source": [
    "routes_id = routes_df['id']\n",
    "routes_df = routes_df.drop('id', axis=1)"
   ]
  },
  {
   "cell_type": "code",
   "execution_count": 35,
   "metadata": {
    "collapsed": true
   },
   "outputs": [],
   "source": [
    "items_mat = np.array(list(routes_df.values)).astype(float)"
   ]
  },
  {
   "cell_type": "code",
   "execution_count": 36,
   "metadata": {
    "collapsed": true
   },
   "outputs": [],
   "source": [
    "items_mat_norm = normalize(items_mat)\n",
    "cos_sim = 1-pairwise_distances(items_mat, metric=\"cosine\")"
   ]
  },
  {
   "cell_type": "markdown",
   "metadata": {},
   "source": [
    "### What is the RMSE for item-by-item?"
   ]
  },
  {
   "cell_type": "code",
   "execution_count": 37,
   "metadata": {
    "collapsed": false
   },
   "outputs": [],
   "source": [
    "item_by_item_pred = [] \n",
    "n = 5\n",
    "for _id in y_test['route_id']:\n",
    "    # find the similar routes\n",
    "    index = routes_id[routes_id == _id].index.tolist()[0]\n",
    "    arr = cos_sim[index]\n",
    "    similar_routes = np.asarray(routes_id)[arr.argsort()[-(n+1):][::-1][1:]]\n",
    "    # average the five routes together to get rating\n",
    "    pred = y_train[y_train['route_id'].isin(similar_routes)]['rating']\n",
    "    mean_rating = pred.mean()\n",
    "    item_by_item_pred.append(mean_rating) "
   ]
  },
  {
   "cell_type": "code",
   "execution_count": 38,
   "metadata": {
    "collapsed": false
   },
   "outputs": [
    {
     "data": {
      "text/plain": [
       "1.3966725260592467"
      ]
     },
     "execution_count": 38,
     "metadata": {},
     "output_type": "execute_result"
    }
   ],
   "source": [
    "predictions_df['item_by_item_pred'] = pd.Series(item_by_item_pred)\n",
    "predictions_df['squared_error'] = (predictions_df['rating'] - predictions_df['item_by_item_pred'])**2\n",
    "np.sqrt(sum(predictions_df['rating'] - predictions_df['squared_error']) / len(predictions_df))"
   ]
  },
  {
   "cell_type": "code",
   "execution_count": 39,
   "metadata": {
    "collapsed": false
   },
   "outputs": [
    {
     "data": {
      "image/png": "[encoded data removed]",
      "text/plain": [
       "<matplotlib.figure.Figure at 0x7f1ecf538f50>"
      ]
     },
     "metadata": {},
     "output_type": "display_data"
    }
   ],
   "source": [
    "# Create array of predictions for violinplot\n",
    "data = [predictions_df['item_by_item_pred'][predictions_df['rating'] == rating] for rating in range(1, 5)]\n",
    "\n",
    "fig, ax = plt.subplots(1, figsize=(8,8))\n",
    "ax.violinplot(data, range(1,5), showmeans=True)\n",
    "ax.set_xlabel('True Ratings', {'fontsize':18})\n",
    "ax.set_ylabel('Predicted Ratings', {'fontsize':18})\n",
    "ax.set_title('True vs. Item-By-Item Predicted Ratings', {'fontsize':18})\n",
    "ax.set_xticks([0.5, 1, 2, 3, 4, 4.5])\n",
    "ax.set_yticks([0, 1, 2, 3, 4, 5])\n",
    "plt.show()\n",
    "\n",
    "fig.savefig('../data/images/violin_item_by_item.jpg')"
   ]
  },
  {
   "cell_type": "code",
   "execution_count": 20,
   "metadata": {
    "collapsed": false
   },
   "outputs": [],
   "source": [
    "# fill nulls with item_by item value\n",
    "predictions_df = predictions.toPandas()\n",
    "null_ind = pd.isnull(predictions_df).any(1).nonzero()[0]\n",
    "predictions_df.ix[null_ind, 'prediction'] = np.array(item_by_item_pred)[null_ind]"
   ]
  },
  {
   "cell_type": "code",
   "execution_count": 21,
   "metadata": {
    "collapsed": false
   },
   "outputs": [
    {
     "name": "stdout",
     "output_type": "stream",
     "text": [
      "0.721367517146\n"
     ]
    },
    {
     "data": {
      "image/png": "[encoded data removed]",
      "text/plain": [
       "<matplotlib.figure.Figure at 0x7fdf561e3e90>"
      ]
     },
     "metadata": {},
     "output_type": "display_data"
    }
   ],
   "source": [
    "predictions_df['squared_error'] = (predictions_df['rating'] - predictions_df['prediction'])**2\n",
    "\n",
    "# Calculate RMSE\n",
    "print np.sqrt(sum(predictions_df['squared_error']) / len(predictions_df))\n",
    "\n",
    "# Create array of predictions for violinplot\n",
    "data = [predictions_df['prediction'][predictions_df['rating'] == rating] for rating in range(1, 5)]\n",
    "\n",
    "fig, ax = plt.subplots(1, figsize=(12,12))\n",
    "ax.violinplot(data, range(1,5), showmeans=True)\n",
    "ax.set_xlabel('True Ratings')\n",
    "ax.set_ylabel('Predicted Ratings')\n",
    "ax.set_title('True vs. ALS Recommender Predicted Ratings')\n",
    "plt.show()"
   ]
  },
  {
   "cell_type": "code",
   "execution_count": null,
   "metadata": {
    "collapsed": true
   },
   "outputs": [],
   "source": [
    "fig.savefig('../data/images/violin_item_by_item_ensemble.jpg')"
   ]
  },
  {
   "cell_type": "markdown",
   "metadata": {},
   "source": [
    "### add weighted values to item-by-item matrix"
   ]
  },
  {
   "cell_type": "code",
   "execution_count": 41,
   "metadata": {
    "collapsed": true
   },
   "outputs": [],
   "source": [
    "normalized_rating_count = X_test['num_reviews'] / float(X_test['num_reviews'].max())"
   ]
  },
  {
   "cell_type": "code",
   "execution_count": 42,
   "metadata": {
    "collapsed": false
   },
   "outputs": [],
   "source": [
    "rmse_list = []\n",
    "for c in np.linspace(100.0,110.0, 100):\n",
    "    alpha = np.array((2.0 / (1 + np.exp(-c * normalized_rating_count))) - 1)\n",
    "    predictions_df['weighted'] = alpha *  predictions_df['prediction'] + (1 - alpha) * item_by_item_pred\n",
    "    predictions_df['squared_error'] = (predictions_df['rating'] - predictions_df['weighted'])**2\n",
    "    # Calculate RMSE\n",
    "    rmse = np.sqrt(sum(predictions_df['squared_error']) / len(predictions_df))\n",
    "    rmse_list.append(rmse)"
   ]
  },
  {
   "cell_type": "code",
   "execution_count": 43,
   "metadata": {
    "collapsed": false
   },
   "outputs": [],
   "source": [
    "c = np.linspace(100.0,110.0, 100)[rmse_list.index(min(rmse_list))]"
   ]
  },
  {
   "cell_type": "code",
   "execution_count": 44,
   "metadata": {
    "collapsed": false
   },
   "outputs": [
    {
     "name": "stdout",
     "output_type": "stream",
     "text": [
      "0.705084354077\n"
     ]
    }
   ],
   "source": [
    "alpha = np.array((2.0 / (1 + np.exp(-c * normalized_rating_count))) - 1)\n",
    "predictions_df['weighted'] = alpha *  predictions_df['prediction'] + (1 - alpha) * item_by_item_pred\n",
    "predictions_df['squared_error'] = (predictions_df['rating'] - predictions_df['weighted'])**2\n",
    "# Calculate RMSE\n",
    "print np.sqrt(sum(predictions_df['squared_error']) / len(predictions_df))"
   ]
  },
  {
   "cell_type": "markdown",
   "metadata": {},
   "source": [
    "### let's try all three methods"
   ]
  },
  {
   "cell_type": "code",
   "execution_count": 45,
   "metadata": {
    "collapsed": false
   },
   "outputs": [],
   "source": [
    "# fill nulls with item_by item value\n",
    "rmse_list = []\n",
    "for beta in np.linspace(0.0, 1.0, 100):\n",
    "    predictions_df = predictions.toPandas()\n",
    "    null_ind = pd.isnull(predictions_df).any(1).nonzero()[0]\n",
    "    predictions_df.ix[null_ind, 'prediction'] = np.array(item_by_item_pred)[null_ind]\n",
    "    predictions_df['weighted'] = alpha *  predictions_df['prediction'] + (1 - alpha) * item_by_item_pred\n",
    "    predictions_df['weighted2'] = (beta * predictions_df['weighted']) + ((1 - beta) * pd.DataFrame(gb_predict)[0])\n",
    "    predictions_df['squared_error'] = (predictions_df['rating'] - predictions_df['weighted2'])**2\n",
    "    rmse = np.sqrt(sum(predictions_df['squared_error']) / len(predictions_df))\n",
    "    rmse_list.append(rmse)\n"
   ]
  },
  {
   "cell_type": "code",
   "execution_count": 27,
   "metadata": {
    "collapsed": false
   },
   "outputs": [
    {
     "data": {
      "text/plain": [
       "0.67029441222649877"
      ]
     },
     "execution_count": 27,
     "metadata": {},
     "output_type": "execute_result"
    }
   ],
   "source": [
    "min(rmse_list)"
   ]
  },
  {
   "cell_type": "code",
   "execution_count": 47,
   "metadata": {
    "collapsed": false
   },
   "outputs": [
    {
     "data": {
      "image/png": "[encoded data removed]",
      "text/plain": [
       "<matplotlib.figure.Figure at 0x7f1ecf338c10>"
      ]
     },
     "metadata": {},
     "output_type": "display_data"
    }
   ],
   "source": [
    "data = [predictions_df['weighted2'][predictions_df['rating'] == rating] for rating in range(1, 5)]\n",
    "\n",
    "fig, ax = plt.subplots(1, figsize=(8,8))\n",
    "ax.violinplot(data, range(1,5), showmeans=True)\n",
    "ax.set_xlabel('True Ratings', {'fontsize':18})\n",
    "ax.set_ylabel('Predicted Ratings', {'fontsize':18})\n",
    "ax.set_title('True vs. Ensemble Recommender Predicted Ratings', {'fontsize':18})\n",
    "ax.set_xticks([0.5, 1, 2, 3, 4, 4.5])\n",
    "ax.set_yticks([0, 1, 2, 3, 4, 5])\n",
    "plt.show()\n",
    "\n",
    "fig.savefig('../data/images/violin_ensemble.jpg')"
   ]
  },
  {
   "cell_type": "code",
   "execution_count": null,
   "metadata": {
    "collapsed": true
   },
   "outputs": [],
   "source": []
  }
 ],
 "metadata": {
  "anaconda-cloud": {},
  "kernelspec": {
   "display_name": "Python 2",
   "language": "python",
   "name": "python2"
  },
  "language_info": {
   "codemirror_mode": {
    "name": "ipython",
    "version": 2
   },
   "file_extension": ".py",
   "mimetype": "text/x-python",
   "name": "python",
   "nbconvert_exporter": "python",
   "pygments_lexer": "ipython2",
   "version": "2.7.13"
  }
 },
 "nbformat": 4,
 "nbformat_minor": 2
}
