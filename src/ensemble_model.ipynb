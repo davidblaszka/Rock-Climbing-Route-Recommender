{
 "cells": [
  {
   "cell_type": "code",
   "execution_count": 1,
   "metadata": {
    "collapsed": false
   },
   "outputs": [],
   "source": [
    "from pymongo import MongoClient\n",
    "import pandas as pd\n",
    "from sklearn.ensemble import GradientBoostingRegressor\n",
    "from sklearn.model_selection import train_test_split\n",
    "from sklearn.metrics import mean_squared_error\n",
    "import numpy as np\n",
    "import matplotlib.pyplot as plt\n",
    "%matplotlib inline\n",
    "from ggplot import *"
   ]
  },
  {
   "cell_type": "code",
   "execution_count": 2,
   "metadata": {
    "collapsed": true
   },
   "outputs": [],
   "source": [
    "import pyspark\n",
    "from pyspark.sql.types import *\n",
    "from pyspark.ml.tuning import TrainValidationSplit\n",
    "from pyspark.ml.recommendation import ALS, ALSModel\n",
    "from pyspark.ml.evaluation import RegressionEvaluator"
   ]
  },
  {
   "cell_type": "code",
   "execution_count": 3,
   "metadata": {
    "collapsed": false
   },
   "outputs": [
    {
     "data": {
      "text/plain": [
       "(<pyspark.sql.session.SparkSession at 0x7f1bb40907d0>,\n",
       " <pyspark.context.SparkContext at 0x7f1bc29f38d0>)"
      ]
     },
     "execution_count": 3,
     "metadata": {},
     "output_type": "execute_result"
    }
   ],
   "source": [
    "# Build our Spark Session and Context\n",
    "spark = pyspark.sql.SparkSession.builder.getOrCreate()\n",
    "sc = spark.sparkContext\n",
    "spark, sc"
   ]
  },
  {
   "cell_type": "markdown",
   "metadata": {},
   "source": [
    "### load utility matrix"
   ]
  },
  {
   "cell_type": "code",
   "execution_count": 9,
   "metadata": {
    "collapsed": false
   },
   "outputs": [],
   "source": [
    "# load data frame from csv\n",
    "data_df = pd.read_csv(\"model_df.csv\", sep='\\t')\n",
    "\n",
    "# drop duplicates\n",
    "data_df = data_df.drop_duplicates(subset=['route_id', 'user_id'])\n",
    "\n",
    "y_data = data_df[['route_id', 'user_id','rating']]\n",
    "x_data = data_df.drop(['rating', 'route_id', 'user_id', 'member_since', 'Unnamed: 0'], axis=1)\n",
    "\n",
    "X_train, X_test, y_train, y_test = train_test_split(x_data, y_data, random_state=42)"
   ]
  },
  {
   "cell_type": "code",
   "execution_count": 43,
   "metadata": {
    "collapsed": false
   },
   "outputs": [
    {
     "data": {
      "text/html": [
       "<div>\n",
       "<table border=\"1\" class=\"dataframe\">\n",
       "  <thead>\n",
       "    <tr style=\"text-align: right;\">\n",
       "      <th></th>\n",
       "      <th>route_id</th>\n",
       "      <th>user_id</th>\n",
       "      <th>rating</th>\n",
       "    </tr>\n",
       "  </thead>\n",
       "  <tbody>\n",
       "    <tr>\n",
       "      <th>2825</th>\n",
       "      <td>370</td>\n",
       "      <td>560</td>\n",
       "      <td>4</td>\n",
       "    </tr>\n",
       "    <tr>\n",
       "      <th>5765</th>\n",
       "      <td>684</td>\n",
       "      <td>560</td>\n",
       "      <td>3</td>\n",
       "    </tr>\n",
       "    <tr>\n",
       "      <th>11226</th>\n",
       "      <td>1199</td>\n",
       "      <td>560</td>\n",
       "      <td>4</td>\n",
       "    </tr>\n",
       "    <tr>\n",
       "      <th>21128</th>\n",
       "      <td>2236</td>\n",
       "      <td>560</td>\n",
       "      <td>3</td>\n",
       "    </tr>\n",
       "    <tr>\n",
       "      <th>16397</th>\n",
       "      <td>1704</td>\n",
       "      <td>560</td>\n",
       "      <td>3</td>\n",
       "    </tr>\n",
       "    <tr>\n",
       "      <th>29000</th>\n",
       "      <td>3473</td>\n",
       "      <td>560</td>\n",
       "      <td>3</td>\n",
       "    </tr>\n",
       "    <tr>\n",
       "      <th>19840</th>\n",
       "      <td>2085</td>\n",
       "      <td>560</td>\n",
       "      <td>3</td>\n",
       "    </tr>\n",
       "    <tr>\n",
       "      <th>13621</th>\n",
       "      <td>1394</td>\n",
       "      <td>560</td>\n",
       "      <td>3</td>\n",
       "    </tr>\n",
       "    <tr>\n",
       "      <th>24016</th>\n",
       "      <td>2662</td>\n",
       "      <td>560</td>\n",
       "      <td>3</td>\n",
       "    </tr>\n",
       "    <tr>\n",
       "      <th>11924</th>\n",
       "      <td>1243</td>\n",
       "      <td>560</td>\n",
       "      <td>4</td>\n",
       "    </tr>\n",
       "  </tbody>\n",
       "</table>\n",
       "</div>"
      ],
      "text/plain": [
       "       route_id  user_id  rating\n",
       "2825        370      560       4\n",
       "5765        684      560       3\n",
       "11226      1199      560       4\n",
       "21128      2236      560       3\n",
       "16397      1704      560       3\n",
       "29000      3473      560       3\n",
       "19840      2085      560       3\n",
       "13621      1394      560       3\n",
       "24016      2662      560       3\n",
       "11924      1243      560       4"
      ]
     },
     "execution_count": 43,
     "metadata": {},
     "output_type": "execute_result"
    }
   ],
   "source": [
    "y_train[y_train['user_id'] == 560]"
   ]
  },
  {
   "cell_type": "code",
   "execution_count": 10,
   "metadata": {
    "collapsed": true
   },
   "outputs": [],
   "source": [
    "# Convert to a Spark DataFrame\n",
    "y_train_spark = spark.createDataFrame(y_train)\n",
    "y_test_spark = spark.createDataFrame(y_test)"
   ]
  },
  {
   "cell_type": "code",
   "execution_count": 11,
   "metadata": {
    "collapsed": false
   },
   "outputs": [
    {
     "name": "stdout",
     "output_type": "stream",
     "text": [
      "+--------+-------+------+\n",
      "|route_id|user_id|rating|\n",
      "+--------+-------+------+\n",
      "|     370|    932|     3|\n",
      "|     987|   1289|     2|\n",
      "|    1518|    973|     3|\n",
      "|    2013|   1669|     3|\n",
      "|    1454|   1923|     4|\n",
      "|     684|   1094|     2|\n",
      "|    3608|    399|     2|\n",
      "|    1496|   1647|     3|\n",
      "|     981|    658|     3|\n",
      "|    2090|   1660|     3|\n",
      "|    3059|   1849|     3|\n",
      "|    3244|   1017|     3|\n",
      "|     798|   1148|     2|\n",
      "|    1511|    917|     3|\n",
      "|    1518|    641|     3|\n",
      "|      26|   1134|     3|\n",
      "|    1279|    472|     2|\n",
      "|    2013|    614|     2|\n",
      "|    1687|    218|     2|\n",
      "|    1199|    925|     4|\n",
      "+--------+-------+------+\n",
      "only showing top 20 rows\n",
      "\n"
     ]
    }
   ],
   "source": [
    "y_train_spark.show()"
   ]
  },
  {
   "cell_type": "code",
   "execution_count": 6,
   "metadata": {
    "collapsed": true
   },
   "outputs": [],
   "source": [
    "path = '/home/david/work/project/Rock-Climbing-Route-Recommender/src/alsmodel2'"
   ]
  },
  {
   "cell_type": "markdown",
   "metadata": {},
   "source": [
    "### save model"
   ]
  },
  {
   "cell_type": "code",
   "execution_count": 12,
   "metadata": {
    "collapsed": false
   },
   "outputs": [],
   "source": [
    "als_model = ALS(userCol='route_id',\n",
    "                itemCol='user_id',\n",
    "                ratingCol='rating',\n",
    "                nonnegative=True,\n",
    "                regParam=0.1,\n",
    "                rank=10\n",
    "               )\n",
    "recommender = als_model.fit(y_train_spark)"
   ]
  },
  {
   "cell_type": "code",
   "execution_count": 9,
   "metadata": {
    "collapsed": false
   },
   "outputs": [],
   "source": [
    "recommender.save(path)"
   ]
  },
  {
   "cell_type": "markdown",
   "metadata": {
    "collapsed": true
   },
   "source": [
    "### load als model"
   ]
  },
  {
   "cell_type": "code",
   "execution_count": 7,
   "metadata": {
    "collapsed": false
   },
   "outputs": [],
   "source": [
    "recommender = ALSModel.load(path)"
   ]
  },
  {
   "cell_type": "code",
   "execution_count": 37,
   "metadata": {
    "collapsed": true
   },
   "outputs": [],
   "source": [
    "# Make predictions for the whole test set\n",
    "predictions = recommender.transform(y_test_spark)"
   ]
  },
  {
   "cell_type": "code",
   "execution_count": 38,
   "metadata": {
    "collapsed": true
   },
   "outputs": [],
   "source": [
    "# Dump the predictions to Pandas DataFrames to make our final calculations easier\n",
    "predictions_df = predictions.toPandas()"
   ]
  },
  {
   "cell_type": "markdown",
   "metadata": {},
   "source": [
    "### grab gradient boosting pickle model"
   ]
  },
  {
   "cell_type": "code",
   "execution_count": 15,
   "metadata": {
    "collapsed": false
   },
   "outputs": [],
   "source": [
    "from sklearn.externals import joblib\n",
    "gb = joblib.load('../pickle/gb_model.pkl') \n",
    "gb_predict = gb.predict(X_test)"
   ]
  },
  {
   "cell_type": "code",
   "execution_count": 16,
   "metadata": {
    "collapsed": false
   },
   "outputs": [],
   "source": [
    "feat_imp = gb.feature_importances_\n",
    "feat_scores = pd.DataFrame({'Fraction of Samples Affected' : gb.feature_importances_},\n",
    "                           index=X_test.columns)"
   ]
  },
  {
   "cell_type": "code",
   "execution_count": 17,
   "metadata": {
    "collapsed": false
   },
   "outputs": [],
   "source": [
    "feat_scores_lim = feat_scores.sort_values(by='Fraction of Samples Affected', ascending=False).head(10)"
   ]
  },
  {
   "cell_type": "code",
   "execution_count": 57,
   "metadata": {
    "collapsed": false
   },
   "outputs": [
    {
     "data": {
      "image/png": "[encoded data removed]",
      "text/plain": [
       "<matplotlib.figure.Figure at 0x7f106444ba90>"
      ]
     },
     "metadata": {},
     "output_type": "display_data"
    }
   ],
   "source": [
    "feat_scores_lim.plot(kind='barh', color='red', title= 'Feature Importance')\n",
    "plt.savefig('../data/images/gb_features.jpg')"
   ]
  },
  {
   "cell_type": "markdown",
   "metadata": {},
   "source": [
    "### fill nulls with gb model prediction"
   ]
  },
  {
   "cell_type": "code",
   "execution_count": 11,
   "metadata": {
    "collapsed": false
   },
   "outputs": [],
   "source": [
    "null_ind = pd.isnull(predictions_df).any(1).nonzero()[0]"
   ]
  },
  {
   "cell_type": "code",
   "execution_count": 26,
   "metadata": {
    "collapsed": false
   },
   "outputs": [],
   "source": [
    "predictions_df.ix[null_ind, 'prediction'] = gb_predict[null_ind]"
   ]
  },
  {
   "cell_type": "code",
   "execution_count": 27,
   "metadata": {
    "collapsed": false
   },
   "outputs": [
    {
     "data": {
      "text/html": [
       "<div>\n",
       "<table border=\"1\" class=\"dataframe\">\n",
       "  <thead>\n",
       "    <tr style=\"text-align: right;\">\n",
       "      <th></th>\n",
       "      <th>rating</th>\n",
       "      <th>route_id</th>\n",
       "      <th>user_id</th>\n",
       "      <th>prediction</th>\n",
       "    </tr>\n",
       "  </thead>\n",
       "  <tbody>\n",
       "    <tr>\n",
       "      <th>0</th>\n",
       "      <td>3</td>\n",
       "      <td>1614</td>\n",
       "      <td>213</td>\n",
       "      <td>2.328690</td>\n",
       "    </tr>\n",
       "    <tr>\n",
       "      <th>1</th>\n",
       "      <td>3</td>\n",
       "      <td>1530</td>\n",
       "      <td>1329</td>\n",
       "      <td>2.045483</td>\n",
       "    </tr>\n",
       "    <tr>\n",
       "      <th>2</th>\n",
       "      <td>2</td>\n",
       "      <td>2606</td>\n",
       "      <td>1038</td>\n",
       "      <td>1.797803</td>\n",
       "    </tr>\n",
       "    <tr>\n",
       "      <th>3</th>\n",
       "      <td>1</td>\n",
       "      <td>1986</td>\n",
       "      <td>2006</td>\n",
       "      <td>0.876302</td>\n",
       "    </tr>\n",
       "    <tr>\n",
       "      <th>4</th>\n",
       "      <td>3</td>\n",
       "      <td>2001</td>\n",
       "      <td>604</td>\n",
       "      <td>2.306329</td>\n",
       "    </tr>\n",
       "    <tr>\n",
       "      <th>5</th>\n",
       "      <td>4</td>\n",
       "      <td>1319</td>\n",
       "      <td>1742</td>\n",
       "      <td>2.749723</td>\n",
       "    </tr>\n",
       "    <tr>\n",
       "      <th>6</th>\n",
       "      <td>3</td>\n",
       "      <td>1865</td>\n",
       "      <td>404</td>\n",
       "      <td>2.691462</td>\n",
       "    </tr>\n",
       "    <tr>\n",
       "      <th>7</th>\n",
       "      <td>4</td>\n",
       "      <td>3059</td>\n",
       "      <td>472</td>\n",
       "      <td>3.665307</td>\n",
       "    </tr>\n",
       "    <tr>\n",
       "      <th>8</th>\n",
       "      <td>3</td>\n",
       "      <td>1199</td>\n",
       "      <td>1943</td>\n",
       "      <td>3.082814</td>\n",
       "    </tr>\n",
       "    <tr>\n",
       "      <th>9</th>\n",
       "      <td>2</td>\n",
       "      <td>287</td>\n",
       "      <td>248</td>\n",
       "      <td>2.379909</td>\n",
       "    </tr>\n",
       "    <tr>\n",
       "      <th>10</th>\n",
       "      <td>3</td>\n",
       "      <td>2888</td>\n",
       "      <td>404</td>\n",
       "      <td>2.697516</td>\n",
       "    </tr>\n",
       "    <tr>\n",
       "      <th>11</th>\n",
       "      <td>3</td>\n",
       "      <td>2167</td>\n",
       "      <td>1955</td>\n",
       "      <td>3.255326</td>\n",
       "    </tr>\n",
       "    <tr>\n",
       "      <th>12</th>\n",
       "      <td>3</td>\n",
       "      <td>1628</td>\n",
       "      <td>578</td>\n",
       "      <td>2.843013</td>\n",
       "    </tr>\n",
       "    <tr>\n",
       "      <th>13</th>\n",
       "      <td>1</td>\n",
       "      <td>293</td>\n",
       "      <td>1498</td>\n",
       "      <td>1.320305</td>\n",
       "    </tr>\n",
       "    <tr>\n",
       "      <th>14</th>\n",
       "      <td>4</td>\n",
       "      <td>3391</td>\n",
       "      <td>819</td>\n",
       "      <td>3.570118</td>\n",
       "    </tr>\n",
       "    <tr>\n",
       "      <th>15</th>\n",
       "      <td>3</td>\n",
       "      <td>1343</td>\n",
       "      <td>437</td>\n",
       "      <td>1.976403</td>\n",
       "    </tr>\n",
       "    <tr>\n",
       "      <th>16</th>\n",
       "      <td>2</td>\n",
       "      <td>44</td>\n",
       "      <td>2029</td>\n",
       "      <td>2.306198</td>\n",
       "    </tr>\n",
       "    <tr>\n",
       "      <th>17</th>\n",
       "      <td>4</td>\n",
       "      <td>3059</td>\n",
       "      <td>192</td>\n",
       "      <td>3.522499</td>\n",
       "    </tr>\n",
       "  </tbody>\n",
       "</table>\n",
       "</div>"
      ],
      "text/plain": [
       "    rating  route_id  user_id  prediction\n",
       "0        3      1614      213    2.328690\n",
       "1        3      1530     1329    2.045483\n",
       "2        2      2606     1038    1.797803\n",
       "3        1      1986     2006    0.876302\n",
       "4        3      2001      604    2.306329\n",
       "5        4      1319     1742    2.749723\n",
       "6        3      1865      404    2.691462\n",
       "7        4      3059      472    3.665307\n",
       "8        3      1199     1943    3.082814\n",
       "9        2       287      248    2.379909\n",
       "10       3      2888      404    2.697516\n",
       "11       3      2167     1955    3.255326\n",
       "12       3      1628      578    2.843013\n",
       "13       1       293     1498    1.320305\n",
       "14       4      3391      819    3.570118\n",
       "15       3      1343      437    1.976403\n",
       "16       2        44     2029    2.306198\n",
       "17       4      3059      192    3.522499"
      ]
     },
     "execution_count": 27,
     "metadata": {},
     "output_type": "execute_result"
    }
   ],
   "source": [
    "predictions_df.head(18)"
   ]
  },
  {
   "cell_type": "code",
   "execution_count": 42,
   "metadata": {
    "collapsed": false
   },
   "outputs": [
    {
     "data": {
      "text/html": [
       "<div>\n",
       "<table border=\"1\" class=\"dataframe\">\n",
       "  <thead>\n",
       "    <tr style=\"text-align: right;\">\n",
       "      <th></th>\n",
       "      <th>route_id</th>\n",
       "      <th>user_id</th>\n",
       "      <th>rating</th>\n",
       "      <th>prediction</th>\n",
       "    </tr>\n",
       "  </thead>\n",
       "  <tbody>\n",
       "    <tr>\n",
       "      <th>2343</th>\n",
       "      <td>3127</td>\n",
       "      <td>560</td>\n",
       "      <td>3</td>\n",
       "      <td>3.001509</td>\n",
       "    </tr>\n",
       "    <tr>\n",
       "      <th>2344</th>\n",
       "      <td>955</td>\n",
       "      <td>560</td>\n",
       "      <td>4</td>\n",
       "      <td>3.543416</td>\n",
       "    </tr>\n",
       "    <tr>\n",
       "      <th>2345</th>\n",
       "      <td>3350</td>\n",
       "      <td>560</td>\n",
       "      <td>2</td>\n",
       "      <td>2.690138</td>\n",
       "    </tr>\n",
       "    <tr>\n",
       "      <th>2346</th>\n",
       "      <td>199</td>\n",
       "      <td>560</td>\n",
       "      <td>3</td>\n",
       "      <td>2.512575</td>\n",
       "    </tr>\n",
       "    <tr>\n",
       "      <th>2347</th>\n",
       "      <td>2416</td>\n",
       "      <td>560</td>\n",
       "      <td>4</td>\n",
       "      <td>3.634678</td>\n",
       "    </tr>\n",
       "  </tbody>\n",
       "</table>\n",
       "</div>"
      ],
      "text/plain": [
       "      route_id  user_id  rating  prediction\n",
       "2343      3127      560       3    3.001509\n",
       "2344       955      560       4    3.543416\n",
       "2345      3350      560       2    2.690138\n",
       "2346       199      560       3    2.512575\n",
       "2347      2416      560       4    3.634678"
      ]
     },
     "execution_count": 42,
     "metadata": {},
     "output_type": "execute_result"
    }
   ],
   "source": [
    "predictions_df[predictions_df['user_id'] == 560]"
   ]
  },
  {
   "cell_type": "code",
   "execution_count": 41,
   "metadata": {
    "collapsed": false
   },
   "outputs": [],
   "source": [
    "# Fill any missing values with the mean rating\n",
    "# There are multiple things you could fill with, this is just one example\n",
    "predictions_df = predictions.toPandas().fillna(y_train['rating'].mean())"
   ]
  },
  {
   "cell_type": "code",
   "execution_count": 19,
   "metadata": {
    "collapsed": false
   },
   "outputs": [],
   "source": [
    "predictions_df['squared_error'] = (predictions_df['rating'] - predictions_df['prediction'])**2"
   ]
  },
  {
   "cell_type": "code",
   "execution_count": 20,
   "metadata": {
    "collapsed": false
   },
   "outputs": [
    {
     "data": {
      "text/plain": [
       "0.72874976034046512"
      ]
     },
     "execution_count": 20,
     "metadata": {},
     "output_type": "execute_result"
    }
   ],
   "source": [
    "# Calculate RMSE\n",
    "np.sqrt(sum(predictions_df['squared_error']) / len(predictions_df))"
   ]
  },
  {
   "cell_type": "code",
   "execution_count": 59,
   "metadata": {
    "collapsed": false
   },
   "outputs": [
    {
     "data": {
      "image/png": "[encoded data removed]",
      "text/plain": [
       "<matplotlib.figure.Figure at 0x7f1064375fd0>"
      ]
     },
     "metadata": {},
     "output_type": "display_data"
    }
   ],
   "source": [
    "# Create array of predictions for violinplot\n",
    "data = [predictions_df['prediction'][predictions_df['rating'] == rating] for rating in range(1, 5)]\n",
    "\n",
    "fig, ax = plt.subplots(1, figsize=(12,12))\n",
    "ax.violinplot(data, range(1,5), showmeans=True)\n",
    "ax.set_xlabel('True Ratings')\n",
    "ax.set_ylabel('Predicted Ratings')\n",
    "ax.set_title('True vs. ALS Recommender Predicted Ratings')\n",
    "plt.show()"
   ]
  },
  {
   "cell_type": "code",
   "execution_count": 60,
   "metadata": {
    "collapsed": true
   },
   "outputs": [],
   "source": [
    "fig.savefig('../data/images/violin_updated.jpg')"
   ]
  },
  {
   "cell_type": "code",
   "execution_count": null,
   "metadata": {
    "collapsed": true
   },
   "outputs": [],
   "source": []
  },
  {
   "cell_type": "markdown",
   "metadata": {},
   "source": [
    "### try weighted"
   ]
  },
  {
   "cell_type": "code",
   "execution_count": 17,
   "metadata": {
    "collapsed": false
   },
   "outputs": [],
   "source": [
    "predictions_df['weighted'] = (0.8 * predictions_df['prediction']) + (0.2 * pd.DataFrame(gb_predict)[0])"
   ]
  },
  {
   "cell_type": "code",
   "execution_count": 18,
   "metadata": {
    "collapsed": true
   },
   "outputs": [],
   "source": [
    "predictions_df['squared_error'] = (predictions_df['rating'] - predictions_df['weighted'])**2"
   ]
  },
  {
   "cell_type": "code",
   "execution_count": 19,
   "metadata": {
    "collapsed": false
   },
   "outputs": [
    {
     "data": {
      "text/plain": [
       "0.69795460784827068"
      ]
     },
     "execution_count": 19,
     "metadata": {},
     "output_type": "execute_result"
    }
   ],
   "source": [
    "# Calculate RMSE\n",
    "np.sqrt(sum(predictions_df['squared_error']) / len(predictions_df))"
   ]
  },
  {
   "cell_type": "markdown",
   "metadata": {},
   "source": [
    "### reweight based on num of reviews"
   ]
  },
  {
   "cell_type": "code",
   "execution_count": 20,
   "metadata": {
    "collapsed": false
   },
   "outputs": [
    {
     "name": "stdout",
     "output_type": "stream",
     "text": [
      "rmse: 0.689407293508, weight: 0.4\n",
      "rmse: 0.689392573554, weight: 0.40202020202\n",
      "rmse: 0.689378141901, weight: 0.40404040404\n",
      "rmse: 0.689363998568, weight: 0.406060606061\n",
      "rmse: 0.689350143573, weight: 0.408080808081\n",
      "rmse: 0.689336576932, weight: 0.410101010101\n",
      "rmse: 0.689323298663, weight: 0.412121212121\n",
      "rmse: 0.689310308783, weight: 0.414141414141\n",
      "rmse: 0.689297607307, weight: 0.416161616162\n",
      "rmse: 0.689285194252, weight: 0.418181818182\n",
      "rmse: 0.689273069633, weight: 0.420202020202\n",
      "rmse: 0.689261233466, weight: 0.422222222222\n",
      "rmse: 0.689249685766, weight: 0.424242424242\n",
      "rmse: 0.689238426546, weight: 0.426262626263\n",
      "rmse: 0.689227455821, weight: 0.428282828283\n",
      "rmse: 0.689216773605, weight: 0.430303030303\n",
      "rmse: 0.689206379911, weight: 0.432323232323\n",
      "rmse: 0.689196274753, weight: 0.434343434343\n",
      "rmse: 0.689186458142, weight: 0.436363636364\n",
      "rmse: 0.689176930092, weight: 0.438383838384\n",
      "rmse: 0.689167690614, weight: 0.440404040404\n",
      "rmse: 0.68915873972, weight: 0.442424242424\n",
      "rmse: 0.689150077422, weight: 0.444444444444\n",
      "rmse: 0.689141703729, weight: 0.446464646465\n",
      "rmse: 0.689133618652, weight: 0.448484848485\n",
      "rmse: 0.689125822203, weight: 0.450505050505\n",
      "rmse: 0.68911831439, weight: 0.452525252525\n",
      "rmse: 0.689111095222, weight: 0.454545454545\n",
      "rmse: 0.68910416471, weight: 0.456565656566\n",
      "rmse: 0.689097522862, weight: 0.458585858586\n",
      "rmse: 0.689091169685, weight: 0.460606060606\n",
      "rmse: 0.689085105189, weight: 0.462626262626\n",
      "rmse: 0.68907932938, weight: 0.464646464646\n",
      "rmse: 0.689073842266, weight: 0.466666666667\n",
      "rmse: 0.689068643854, weight: 0.468686868687\n",
      "rmse: 0.68906373415, weight: 0.470707070707\n",
      "rmse: 0.689059113161, weight: 0.472727272727\n",
      "rmse: 0.689054780892, weight: 0.474747474747\n",
      "rmse: 0.689050737348, weight: 0.476767676768\n",
      "rmse: 0.689046982536, weight: 0.478787878788\n",
      "rmse: 0.689043516459, weight: 0.480808080808\n",
      "rmse: 0.689040339123, weight: 0.482828282828\n",
      "rmse: 0.68903745053, weight: 0.484848484848\n",
      "rmse: 0.689034850684, weight: 0.486868686869\n",
      "rmse: 0.68903253959, weight: 0.488888888889\n",
      "rmse: 0.689030517249, weight: 0.490909090909\n",
      "rmse: 0.689028783664, weight: 0.492929292929\n",
      "rmse: 0.689027338838, weight: 0.494949494949\n",
      "rmse: 0.689026182772, weight: 0.49696969697\n",
      "rmse: 0.689025315468, weight: 0.49898989899\n",
      "rmse: 0.689024736927, weight: 0.50101010101\n",
      "rmse: 0.689024447149, weight: 0.50303030303\n",
      "rmse: 0.689024446135, weight: 0.505050505051\n",
      "rmse: 0.689024733885, weight: 0.507070707071\n",
      "rmse: 0.689025310399, weight: 0.509090909091\n",
      "rmse: 0.689026175675, weight: 0.511111111111\n",
      "rmse: 0.689027329713, weight: 0.513131313131\n",
      "rmse: 0.689028772512, weight: 0.515151515152\n",
      "rmse: 0.689030504069, weight: 0.517171717172\n",
      "rmse: 0.689032524382, weight: 0.519191919192\n",
      "rmse: 0.689034833449, weight: 0.521212121212\n",
      "rmse: 0.689037431266, weight: 0.523232323232\n",
      "rmse: 0.689040317832, weight: 0.525252525253\n",
      "rmse: 0.689043493141, weight: 0.527272727273\n",
      "rmse: 0.68904695719, weight: 0.529292929293\n",
      "rmse: 0.689050709975, weight: 0.531313131313\n",
      "rmse: 0.689054751491, weight: 0.533333333333\n",
      "rmse: 0.689059081732, weight: 0.535353535354\n",
      "rmse: 0.689063700694, weight: 0.537373737374\n",
      "rmse: 0.68906860837, weight: 0.539393939394\n",
      "rmse: 0.689073804755, weight: 0.541414141414\n",
      "rmse: 0.689079289842, weight: 0.543434343434\n",
      "rmse: 0.689085063623, weight: 0.545454545455\n",
      "rmse: 0.689091126093, weight: 0.547474747475\n",
      "rmse: 0.689097477242, weight: 0.549494949495\n",
      "rmse: 0.689104117064, weight: 0.551515151515\n",
      "rmse: 0.689111045549, weight: 0.553535353535\n",
      "rmse: 0.689118262689, weight: 0.555555555556\n",
      "rmse: 0.689125768475, weight: 0.557575757576\n",
      "rmse: 0.689133562898, weight: 0.559595959596\n",
      "rmse: 0.689141645948, weight: 0.561616161616\n",
      "rmse: 0.689150017614, weight: 0.563636363636\n",
      "rmse: 0.689158677886, weight: 0.565656565657\n",
      "rmse: 0.689167626754, weight: 0.567676767677\n",
      "rmse: 0.689176864205, weight: 0.569696969697\n",
      "rmse: 0.689186390229, weight: 0.571717171717\n",
      "rmse: 0.689196204813, weight: 0.573737373737\n",
      "rmse: 0.689206307945, weight: 0.575757575758\n",
      "rmse: 0.689216699613, weight: 0.577777777778\n",
      "rmse: 0.689227379803, weight: 0.579797979798\n",
      "rmse: 0.689238348502, weight: 0.581818181818\n",
      "rmse: 0.689249605696, weight: 0.583838383838\n",
      "rmse: 0.689261151371, weight: 0.585858585859\n",
      "rmse: 0.689272985512, weight: 0.587878787879\n",
      "rmse: 0.689285108105, weight: 0.589898989899\n",
      "rmse: 0.689297519135, weight: 0.591919191919\n",
      "rmse: 0.689310218585, weight: 0.593939393939\n",
      "rmse: 0.689323206441, weight: 0.59595959596\n",
      "rmse: 0.689336482685, weight: 0.59797979798\n",
      "rmse: 0.6893500473, weight: 0.6\n"
     ]
    }
   ],
   "source": [
    "normalized_rating_count = X_test['num_reviews'] / float(X_test['num_reviews'].max())\n",
    "\n",
    "for j in np.linspace(0.4, 0.6, num=100):\n",
    "    predictions_df['weighted2'] = predictions_df['weighted'] + (j * normalized_rating_count).tolist()\n",
    "    predictions_df['squared_error'] = (predictions_df['rating'] - predictions_df['weighted2'])**2\n",
    "    # Calculate RMSE\n",
    "    rmse = np.sqrt(sum(predictions_df['squared_error']) / len(predictions_df))\n",
    "    print \"rmse: {}, weight: {}\".format(rmse, j)"
   ]
  },
  {
   "cell_type": "code",
   "execution_count": 21,
   "metadata": {
    "collapsed": false
   },
   "outputs": [
    {
     "name": "stdout",
     "output_type": "stream",
     "text": [
      "RMSE: 0.689024446135\n"
     ]
    }
   ],
   "source": [
    "weight1 = 0.505050505051\n",
    "predictions_df['weighted2'] = predictions_df['weighted'] + (weight1 * normalized_rating_count).tolist()\n",
    "predictions_df['squared_error'] = (predictions_df['rating'] - predictions_df['weighted2'])**2\n",
    "print \"RMSE:\", np.sqrt(sum(predictions_df['squared_error']) / len(predictions_df))"
   ]
  },
  {
   "cell_type": "code",
   "execution_count": null,
   "metadata": {
    "collapsed": true
   },
   "outputs": [],
   "source": []
  },
  {
   "cell_type": "markdown",
   "metadata": {},
   "source": [
    "### find user predictions"
   ]
  },
  {
   "cell_type": "code",
   "execution_count": 21,
   "metadata": {
    "collapsed": false
   },
   "outputs": [
    {
     "name": "stdout",
     "output_type": "stream",
     "text": [
      "+--------+-------+----------+\n",
      "|route_id|user_id|prediction|\n",
      "+--------+-------+----------+\n",
      "|     148|    560| 0.7688358|\n",
      "|     463|    560| 0.9369185|\n",
      "|     463|    560| 0.9369185|\n",
      "|     463|    560| 0.9369185|\n",
      "|     463|    560| 0.9369185|\n",
      "|     463|    560| 0.9369185|\n",
      "|     463|    560| 0.9369185|\n",
      "|     471|    560| 0.9086337|\n",
      "|     471|    560| 0.9086337|\n",
      "|     471|    560| 0.9086337|\n",
      "|     471|    560| 0.9086337|\n",
      "|     471|    560| 0.9086337|\n",
      "|     471|    560| 0.9086337|\n",
      "|     471|    560| 0.9086337|\n",
      "|     471|    560| 0.9086337|\n",
      "|     471|    560| 0.9086337|\n",
      "|     471|    560| 0.9086337|\n",
      "|     471|    560| 0.9086337|\n",
      "|     471|    560| 0.9086337|\n",
      "|     471|    560| 0.9086337|\n",
      "+--------+-------+----------+\n",
      "only showing top 20 rows\n",
      "\n"
     ]
    }
   ],
   "source": [
    "data = pd.DataFrame(columns=['route_id', 'user_id'])\n",
    "data['user_id'] = (0 * y_data['route_id']) + 560 \n",
    "data['route_id'] = y_data['route_id']\n",
    "one_row_spark_df = spark.createDataFrame(data)\n",
    "# Get the recommender's prediction\n",
    "recs = recommender.transform(one_row_spark_df)\n",
    "recs.show()"
   ]
  },
  {
   "cell_type": "code",
   "execution_count": 22,
   "metadata": {
    "collapsed": false
   },
   "outputs": [
    {
     "data": {
      "text/html": [
       "<div>\n",
       "<table border=\"1\" class=\"dataframe\">\n",
       "  <thead>\n",
       "    <tr style=\"text-align: right;\">\n",
       "      <th></th>\n",
       "      <th>route_id</th>\n",
       "      <th>user_id</th>\n",
       "      <th>prediction</th>\n",
       "    </tr>\n",
       "  </thead>\n",
       "  <tbody>\n",
       "    <tr>\n",
       "      <th>4911</th>\n",
       "      <td>1978</td>\n",
       "      <td>560</td>\n",
       "      <td>4.296441</td>\n",
       "    </tr>\n",
       "    <tr>\n",
       "      <th>26332</th>\n",
       "      <td>2538</td>\n",
       "      <td>560</td>\n",
       "      <td>4.296441</td>\n",
       "    </tr>\n",
       "    <tr>\n",
       "      <th>22557</th>\n",
       "      <td>595</td>\n",
       "      <td>560</td>\n",
       "      <td>4.296441</td>\n",
       "    </tr>\n",
       "    <tr>\n",
       "      <th>9066</th>\n",
       "      <td>1021</td>\n",
       "      <td>560</td>\n",
       "      <td>4.296441</td>\n",
       "    </tr>\n",
       "    <tr>\n",
       "      <th>10792</th>\n",
       "      <td>3369</td>\n",
       "      <td>560</td>\n",
       "      <td>4.296441</td>\n",
       "    </tr>\n",
       "    <tr>\n",
       "      <th>14885</th>\n",
       "      <td>1384</td>\n",
       "      <td>560</td>\n",
       "      <td>4.146386</td>\n",
       "    </tr>\n",
       "  </tbody>\n",
       "</table>\n",
       "</div>"
      ],
      "text/plain": [
       "       route_id  user_id  prediction\n",
       "4911       1978      560    4.296441\n",
       "26332      2538      560    4.296441\n",
       "22557       595      560    4.296441\n",
       "9066       1021      560    4.296441\n",
       "10792      3369      560    4.296441\n",
       "14885      1384      560    4.146386"
      ]
     },
     "execution_count": 22,
     "metadata": {},
     "output_type": "execute_result"
    }
   ],
   "source": [
    "recs_df = recs.toPandas().drop_duplicates(subset='route_id')\n",
    "recs_df.sort_values('prediction', ascending=False).head(6)"
   ]
  },
  {
   "cell_type": "code",
   "execution_count": null,
   "metadata": {
    "collapsed": true
   },
   "outputs": [],
   "source": [
    "df = data_df.drop_duplicates(subset=['route_id'])"
   ]
  },
  {
   "cell_type": "code",
   "execution_count": 34,
   "metadata": {
    "collapsed": false
   },
   "outputs": [],
   "source": [
    "df = df.reset_index().drop('index', axis=1)"
   ]
  },
  {
   "cell_type": "code",
   "execution_count": 35,
   "metadata": {
    "collapsed": false
   },
   "outputs": [
    {
     "data": {
      "text/plain": [
       "True"
      ]
     },
     "execution_count": 35,
     "metadata": {},
     "output_type": "execute_result"
    }
   ],
   "source": [
    "df['route_id'].tolist() == recs_df['route_id'].tolist()"
   ]
  },
  {
   "cell_type": "code",
   "execution_count": 37,
   "metadata": {
    "collapsed": false
   },
   "outputs": [],
   "source": [
    "recs_df = recs_df.reset_index().drop('index', axis=1)"
   ]
  },
  {
   "cell_type": "code",
   "execution_count": 38,
   "metadata": {
    "collapsed": false
   },
   "outputs": [],
   "source": [
    "normalized_rating_count = df['num_reviews'] / float(df['num_reviews'].max())"
   ]
  },
  {
   "cell_type": "code",
   "execution_count": 39,
   "metadata": {
    "collapsed": true
   },
   "outputs": [],
   "source": [
    "recs_df['new_pred'] = recs_df['prediction'] + (normalized_rating_count * 0.5)"
   ]
  },
  {
   "cell_type": "code",
   "execution_count": 40,
   "metadata": {
    "collapsed": false
   },
   "outputs": [
    {
     "data": {
      "text/html": [
       "<div>\n",
       "<table border=\"1\" class=\"dataframe\">\n",
       "  <thead>\n",
       "    <tr style=\"text-align: right;\">\n",
       "      <th></th>\n",
       "      <th>route_id</th>\n",
       "      <th>user_id</th>\n",
       "      <th>prediction</th>\n",
       "      <th>new_pred</th>\n",
       "    </tr>\n",
       "  </thead>\n",
       "  <tbody>\n",
       "    <tr>\n",
       "      <th>3332</th>\n",
       "      <td>3369</td>\n",
       "      <td>560</td>\n",
       "      <td>4.296441</td>\n",
       "      <td>4.298075</td>\n",
       "    </tr>\n",
       "    <tr>\n",
       "      <th>1978</th>\n",
       "      <td>1978</td>\n",
       "      <td>560</td>\n",
       "      <td>4.296441</td>\n",
       "      <td>4.298075</td>\n",
       "    </tr>\n",
       "    <tr>\n",
       "      <th>595</th>\n",
       "      <td>595</td>\n",
       "      <td>560</td>\n",
       "      <td>4.296441</td>\n",
       "      <td>4.298075</td>\n",
       "    </tr>\n",
       "    <tr>\n",
       "      <th>1021</th>\n",
       "      <td>1021</td>\n",
       "      <td>560</td>\n",
       "      <td>4.296441</td>\n",
       "      <td>4.298075</td>\n",
       "    </tr>\n",
       "    <tr>\n",
       "      <th>2521</th>\n",
       "      <td>2538</td>\n",
       "      <td>560</td>\n",
       "      <td>4.296441</td>\n",
       "      <td>4.298075</td>\n",
       "    </tr>\n",
       "    <tr>\n",
       "      <th>1199</th>\n",
       "      <td>1199</td>\n",
       "      <td>560</td>\n",
       "      <td>3.658501</td>\n",
       "      <td>4.158501</td>\n",
       "    </tr>\n",
       "  </tbody>\n",
       "</table>\n",
       "</div>"
      ],
      "text/plain": [
       "      route_id  user_id  prediction  new_pred\n",
       "3332      3369      560    4.296441  4.298075\n",
       "1978      1978      560    4.296441  4.298075\n",
       "595        595      560    4.296441  4.298075\n",
       "1021      1021      560    4.296441  4.298075\n",
       "2521      2538      560    4.296441  4.298075\n",
       "1199      1199      560    3.658501  4.158501"
      ]
     },
     "execution_count": 40,
     "metadata": {},
     "output_type": "execute_result"
    }
   ],
   "source": [
    "recs_df.sort_values('new_pred', ascending=False).head(6)"
   ]
  },
  {
   "cell_type": "code",
   "execution_count": 29,
   "metadata": {
    "collapsed": false
   },
   "outputs": [
    {
     "data": {
      "text/html": [
       "<div>\n",
       "<table border=\"1\" class=\"dataframe\">\n",
       "  <thead>\n",
       "    <tr style=\"text-align: right;\">\n",
       "      <th></th>\n",
       "      <th>route_id</th>\n",
       "      <th>user_id</th>\n",
       "      <th>prediction</th>\n",
       "    </tr>\n",
       "  </thead>\n",
       "  <tbody>\n",
       "    <tr>\n",
       "      <th>4911</th>\n",
       "      <td>1978</td>\n",
       "      <td>560</td>\n",
       "      <td>4.296441</td>\n",
       "    </tr>\n",
       "    <tr>\n",
       "      <th>26332</th>\n",
       "      <td>2538</td>\n",
       "      <td>560</td>\n",
       "      <td>4.296441</td>\n",
       "    </tr>\n",
       "    <tr>\n",
       "      <th>22557</th>\n",
       "      <td>595</td>\n",
       "      <td>560</td>\n",
       "      <td>4.296441</td>\n",
       "    </tr>\n",
       "    <tr>\n",
       "      <th>9066</th>\n",
       "      <td>1021</td>\n",
       "      <td>560</td>\n",
       "      <td>4.296441</td>\n",
       "    </tr>\n",
       "    <tr>\n",
       "      <th>10792</th>\n",
       "      <td>3369</td>\n",
       "      <td>560</td>\n",
       "      <td>4.296441</td>\n",
       "    </tr>\n",
       "    <tr>\n",
       "      <th>14885</th>\n",
       "      <td>1384</td>\n",
       "      <td>560</td>\n",
       "      <td>4.146386</td>\n",
       "    </tr>\n",
       "  </tbody>\n",
       "</table>\n",
       "</div>"
      ],
      "text/plain": [
       "       route_id  user_id  prediction\n",
       "4911       1978      560    4.296441\n",
       "26332      2538      560    4.296441\n",
       "22557       595      560    4.296441\n",
       "9066       1021      560    4.296441\n",
       "10792      3369      560    4.296441\n",
       "14885      1384      560    4.146386"
      ]
     },
     "execution_count": 29,
     "metadata": {},
     "output_type": "execute_result"
    }
   ],
   "source": [
    "recs_df.sort_values('prediction', ascending=False).head(6)"
   ]
  }
 ],
 "metadata": {
  "kernelspec": {
   "display_name": "Python 2",
   "language": "python",
   "name": "python2"
  },
  "language_info": {
   "codemirror_mode": {
    "name": "ipython",
    "version": 2
   },
   "file_extension": ".py",
   "mimetype": "text/x-python",
   "name": "python",
   "nbconvert_exporter": "python",
   "pygments_lexer": "ipython2",
   "version": "2.7.13"
  }
 },
 "nbformat": 4,
 "nbformat_minor": 2
}
