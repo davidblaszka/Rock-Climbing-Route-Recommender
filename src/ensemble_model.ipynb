{
 "cells": [
  {
   "cell_type": "code",
   "execution_count": 1,
   "metadata": {
    "collapsed": false
   },
   "outputs": [],
   "source": [
    "from pymongo import MongoClient\n",
    "import pandas as pd\n",
    "from sklearn.ensemble import GradientBoostingRegressor\n",
    "from sklearn.model_selection import train_test_split\n",
    "from sklearn.metrics import mean_squared_error\n",
    "import numpy as np\n",
    "import matplotlib.pyplot as plt\n",
    "%matplotlib inline\n",
    "from ggplot import *"
   ]
  },
  {
   "cell_type": "code",
   "execution_count": 2,
   "metadata": {
    "collapsed": true
   },
   "outputs": [],
   "source": [
    "import pyspark\n",
    "from pyspark.sql.types import *\n",
    "from pyspark.ml.tuning import TrainValidationSplit\n",
    "from pyspark.ml.recommendation import ALS, ALSModel\n",
    "from pyspark.ml.evaluation import RegressionEvaluator"
   ]
  },
  {
   "cell_type": "code",
   "execution_count": 3,
   "metadata": {
    "collapsed": false
   },
   "outputs": [
    {
     "data": {
      "text/plain": [
       "(<pyspark.sql.session.SparkSession at 0x7f04dc00dd90>,\n",
       " <pyspark.context.SparkContext at 0x7f04e8a838d0>)"
      ]
     },
     "execution_count": 3,
     "metadata": {},
     "output_type": "execute_result"
    }
   ],
   "source": [
    "# Build our Spark Session and Context\n",
    "spark = pyspark.sql.SparkSession.builder.getOrCreate()\n",
    "sc = spark.sparkContext\n",
    "spark, sc"
   ]
  },
  {
   "cell_type": "markdown",
   "metadata": {},
   "source": [
    "### load utility matrix"
   ]
  },
  {
   "cell_type": "code",
   "execution_count": 4,
   "metadata": {
    "collapsed": false
   },
   "outputs": [],
   "source": [
    "# load data frame from csv\n",
    "data_df = pd.read_csv(\"model_df.csv\", sep='\\t')\n",
    "\n",
    "# drop duplicates\n",
    "data_df = data_df.drop_duplicates(subset=['route_id', 'user_id'])\n",
    "\n",
    "y_data = data_df[['rating', 'route_id', 'user_id']]\n",
    "x_data = data_df.drop(['rating', 'route_id', 'user_id', 'member_since'], axis=1)\n",
    "\n",
    "X_train, X_test, y_train, y_test = train_test_split(x_data, y_data, random_state=42)"
   ]
  },
  {
   "cell_type": "code",
   "execution_count": 5,
   "metadata": {
    "collapsed": true
   },
   "outputs": [],
   "source": [
    "# Convert to a Spark DataFrame\n",
    "y_train_spark = spark.createDataFrame(y_train)\n",
    "y_test_spark = spark.createDataFrame(y_test)"
   ]
  },
  {
   "cell_type": "markdown",
   "metadata": {
    "collapsed": true
   },
   "source": [
    "### load als model"
   ]
  },
  {
   "cell_type": "code",
   "execution_count": 20,
   "metadata": {
    "collapsed": false
   },
   "outputs": [],
   "source": [
    "als_model = ALS(userCol='route_id',\n",
    "                itemCol='user_id',\n",
    "                ratingCol='rating',\n",
    "                nonnegative=True,\n",
    "                regParam=0.1,\n",
    "                rank=10\n",
    "               )\n",
    "recommender = als_model.fit(y_train_spark)"
   ]
  },
  {
   "cell_type": "code",
   "execution_count": 21,
   "metadata": {
    "collapsed": false
   },
   "outputs": [],
   "source": [
    "path = '/home/david/work/project/Rock-Climbing-Route-Recommender/src/alsmodel2'\n",
    "recommender.save(path)\n",
    "recommender = ALSModel.load(path)"
   ]
  },
  {
   "cell_type": "code",
   "execution_count": 22,
   "metadata": {
    "collapsed": true
   },
   "outputs": [],
   "source": [
    "# Make predictions for the whole test set\n",
    "predictions = recommender.transform(y_test_spark)"
   ]
  },
  {
   "cell_type": "code",
   "execution_count": 23,
   "metadata": {
    "collapsed": true
   },
   "outputs": [],
   "source": [
    "# Dump the predictions to Pandas DataFrames to make our final calculations easier\n",
    "predictions_df = predictions.toPandas()"
   ]
  },
  {
   "cell_type": "markdown",
   "metadata": {},
   "source": [
    "### grab gradient boosting pickle model"
   ]
  },
  {
   "cell_type": "code",
   "execution_count": 24,
   "metadata": {
    "collapsed": false
   },
   "outputs": [],
   "source": [
    "from sklearn.externals import joblib\n",
    "gb = joblib.load('../pickle/gb_model.pkl') \n",
    "gb_predict = gb.predict(X_test)"
   ]
  },
  {
   "cell_type": "markdown",
   "metadata": {},
   "source": [
    "### fill nulls with gb model prediction"
   ]
  },
  {
   "cell_type": "code",
   "execution_count": 25,
   "metadata": {
    "collapsed": false
   },
   "outputs": [],
   "source": [
    "null_ind = pd.isnull(predictions_df).any(1).nonzero()[0]"
   ]
  },
  {
   "cell_type": "code",
   "execution_count": 26,
   "metadata": {
    "collapsed": false
   },
   "outputs": [],
   "source": [
    "predictions_df.ix[null_ind, 'prediction'] = gb_predict[null_ind]"
   ]
  },
  {
   "cell_type": "code",
   "execution_count": 27,
   "metadata": {
    "collapsed": false
   },
   "outputs": [
    {
     "data": {
      "text/html": [
       "<div>\n",
       "<table border=\"1\" class=\"dataframe\">\n",
       "  <thead>\n",
       "    <tr style=\"text-align: right;\">\n",
       "      <th></th>\n",
       "      <th>rating</th>\n",
       "      <th>route_id</th>\n",
       "      <th>user_id</th>\n",
       "      <th>prediction</th>\n",
       "    </tr>\n",
       "  </thead>\n",
       "  <tbody>\n",
       "    <tr>\n",
       "      <th>0</th>\n",
       "      <td>3</td>\n",
       "      <td>1614</td>\n",
       "      <td>213</td>\n",
       "      <td>2.328690</td>\n",
       "    </tr>\n",
       "    <tr>\n",
       "      <th>1</th>\n",
       "      <td>3</td>\n",
       "      <td>1530</td>\n",
       "      <td>1329</td>\n",
       "      <td>2.045483</td>\n",
       "    </tr>\n",
       "    <tr>\n",
       "      <th>2</th>\n",
       "      <td>2</td>\n",
       "      <td>2606</td>\n",
       "      <td>1038</td>\n",
       "      <td>1.797803</td>\n",
       "    </tr>\n",
       "    <tr>\n",
       "      <th>3</th>\n",
       "      <td>1</td>\n",
       "      <td>1986</td>\n",
       "      <td>2006</td>\n",
       "      <td>0.876302</td>\n",
       "    </tr>\n",
       "    <tr>\n",
       "      <th>4</th>\n",
       "      <td>3</td>\n",
       "      <td>2001</td>\n",
       "      <td>604</td>\n",
       "      <td>2.306329</td>\n",
       "    </tr>\n",
       "    <tr>\n",
       "      <th>5</th>\n",
       "      <td>4</td>\n",
       "      <td>1319</td>\n",
       "      <td>1742</td>\n",
       "      <td>2.749723</td>\n",
       "    </tr>\n",
       "    <tr>\n",
       "      <th>6</th>\n",
       "      <td>3</td>\n",
       "      <td>1865</td>\n",
       "      <td>404</td>\n",
       "      <td>2.691462</td>\n",
       "    </tr>\n",
       "    <tr>\n",
       "      <th>7</th>\n",
       "      <td>4</td>\n",
       "      <td>3059</td>\n",
       "      <td>472</td>\n",
       "      <td>3.665307</td>\n",
       "    </tr>\n",
       "    <tr>\n",
       "      <th>8</th>\n",
       "      <td>3</td>\n",
       "      <td>1199</td>\n",
       "      <td>1943</td>\n",
       "      <td>3.082814</td>\n",
       "    </tr>\n",
       "    <tr>\n",
       "      <th>9</th>\n",
       "      <td>2</td>\n",
       "      <td>287</td>\n",
       "      <td>248</td>\n",
       "      <td>2.379909</td>\n",
       "    </tr>\n",
       "    <tr>\n",
       "      <th>10</th>\n",
       "      <td>3</td>\n",
       "      <td>2888</td>\n",
       "      <td>404</td>\n",
       "      <td>2.697516</td>\n",
       "    </tr>\n",
       "    <tr>\n",
       "      <th>11</th>\n",
       "      <td>3</td>\n",
       "      <td>2167</td>\n",
       "      <td>1955</td>\n",
       "      <td>3.255326</td>\n",
       "    </tr>\n",
       "    <tr>\n",
       "      <th>12</th>\n",
       "      <td>3</td>\n",
       "      <td>1628</td>\n",
       "      <td>578</td>\n",
       "      <td>2.843013</td>\n",
       "    </tr>\n",
       "    <tr>\n",
       "      <th>13</th>\n",
       "      <td>1</td>\n",
       "      <td>293</td>\n",
       "      <td>1498</td>\n",
       "      <td>1.320305</td>\n",
       "    </tr>\n",
       "    <tr>\n",
       "      <th>14</th>\n",
       "      <td>4</td>\n",
       "      <td>3391</td>\n",
       "      <td>819</td>\n",
       "      <td>3.570118</td>\n",
       "    </tr>\n",
       "    <tr>\n",
       "      <th>15</th>\n",
       "      <td>3</td>\n",
       "      <td>1343</td>\n",
       "      <td>437</td>\n",
       "      <td>1.976403</td>\n",
       "    </tr>\n",
       "    <tr>\n",
       "      <th>16</th>\n",
       "      <td>2</td>\n",
       "      <td>44</td>\n",
       "      <td>2029</td>\n",
       "      <td>2.306198</td>\n",
       "    </tr>\n",
       "    <tr>\n",
       "      <th>17</th>\n",
       "      <td>4</td>\n",
       "      <td>3059</td>\n",
       "      <td>192</td>\n",
       "      <td>3.522499</td>\n",
       "    </tr>\n",
       "  </tbody>\n",
       "</table>\n",
       "</div>"
      ],
      "text/plain": [
       "    rating  route_id  user_id  prediction\n",
       "0        3      1614      213    2.328690\n",
       "1        3      1530     1329    2.045483\n",
       "2        2      2606     1038    1.797803\n",
       "3        1      1986     2006    0.876302\n",
       "4        3      2001      604    2.306329\n",
       "5        4      1319     1742    2.749723\n",
       "6        3      1865      404    2.691462\n",
       "7        4      3059      472    3.665307\n",
       "8        3      1199     1943    3.082814\n",
       "9        2       287      248    2.379909\n",
       "10       3      2888      404    2.697516\n",
       "11       3      2167     1955    3.255326\n",
       "12       3      1628      578    2.843013\n",
       "13       1       293     1498    1.320305\n",
       "14       4      3391      819    3.570118\n",
       "15       3      1343      437    1.976403\n",
       "16       2        44     2029    2.306198\n",
       "17       4      3059      192    3.522499"
      ]
     },
     "execution_count": 27,
     "metadata": {},
     "output_type": "execute_result"
    }
   ],
   "source": [
    "predictions_df.head(18)"
   ]
  },
  {
   "cell_type": "code",
   "execution_count": 28,
   "metadata": {
    "collapsed": false
   },
   "outputs": [],
   "source": [
    "# Fill any missing values with the mean rating\n",
    "# There are multiple things you could fill with, this is just one example\n",
    "predictions_df = predictions.toPandas().fillna(y_train['rating'].mean())"
   ]
  },
  {
   "cell_type": "code",
   "execution_count": 29,
   "metadata": {
    "collapsed": false
   },
   "outputs": [],
   "source": [
    "predictions_df['squared_error'] = (predictions_df['rating'] - predictions_df['prediction'])**2"
   ]
  },
  {
   "cell_type": "code",
   "execution_count": 30,
   "metadata": {
    "collapsed": false
   },
   "outputs": [
    {
     "data": {
      "text/plain": [
       "0.72874976034046413"
      ]
     },
     "execution_count": 30,
     "metadata": {},
     "output_type": "execute_result"
    }
   ],
   "source": [
    "# Calculate RMSE\n",
    "np.sqrt(sum(predictions_df['squared_error']) / len(predictions_df))"
   ]
  },
  {
   "cell_type": "code",
   "execution_count": 31,
   "metadata": {
    "collapsed": false
   },
   "outputs": [
    {
     "data": {
      "image/png": "[encoded data removed]",
      "text/plain": [
       "<matplotlib.figure.Figure at 0x7f04966c6a50>"
      ]
     },
     "metadata": {},
     "output_type": "display_data"
    }
   ],
   "source": [
    "# Create array of predictions for violinplot\n",
    "data = [predictions_df['prediction'][predictions_df['rating'] == rating] for rating in range(1, 5)]\n",
    "\n",
    "fig, ax = plt.subplots(1, figsize=(12,12))\n",
    "ax.violinplot(data, range(1,5), showmeans=True)\n",
    "ax.set_xlabel('True Ratings')\n",
    "ax.set_ylabel('Predicted Ratings')\n",
    "ax.set_title('True vs. ALS Recommender Predicted Ratings')\n",
    "plt.show()"
   ]
  },
  {
   "cell_type": "markdown",
   "metadata": {},
   "source": [
    "### try weighted"
   ]
  },
  {
   "cell_type": "code",
   "execution_count": 32,
   "metadata": {
    "collapsed": false
   },
   "outputs": [],
   "source": [
    "predictions_df['weighted'] = (0.8 * predictions_df['prediction']) + (0.2 * pd.DataFrame(gb_predict)[0])"
   ]
  },
  {
   "cell_type": "code",
   "execution_count": 33,
   "metadata": {
    "collapsed": true
   },
   "outputs": [],
   "source": [
    "predictions_df['squared_error'] = (predictions_df['rating'] - predictions_df['weighted'])**2"
   ]
  },
  {
   "cell_type": "code",
   "execution_count": 34,
   "metadata": {
    "collapsed": false
   },
   "outputs": [
    {
     "data": {
      "text/plain": [
       "0.69502988167305002"
      ]
     },
     "execution_count": 34,
     "metadata": {},
     "output_type": "execute_result"
    }
   ],
   "source": [
    "# Calculate RMSE\n",
    "np.sqrt(sum(predictions_df['squared_error']) / len(predictions_df))"
   ]
  },
  {
   "cell_type": "code",
   "execution_count": null,
   "metadata": {
    "collapsed": true
   },
   "outputs": [],
   "source": []
  }
 ],
 "metadata": {
  "kernelspec": {
   "display_name": "Python 2",
   "language": "python",
   "name": "python2"
  },
  "language_info": {
   "codemirror_mode": {
    "name": "ipython",
    "version": 2
   },
   "file_extension": ".py",
   "mimetype": "text/x-python",
   "name": "python",
   "nbconvert_exporter": "python",
   "pygments_lexer": "ipython2",
   "version": "2.7.13"
  }
 },
 "nbformat": 4,
 "nbformat_minor": 2
}
